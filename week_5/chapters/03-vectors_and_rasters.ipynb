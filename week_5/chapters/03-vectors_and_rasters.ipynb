{
 "cells": [
  {
   "cell_type": "markdown",
   "id": "01eb97db-d589-4add-b580-3cad0856bcc1",
   "metadata": {},
   "source": [
    "# Geographical vector and raster data"
   ]
  },
  {
   "cell_type": "markdown",
   "id": "7b84e822-e468-4630-a336-635db8bdf792",
   "metadata": {},
   "source": [
    "![](../assets/vector-raster.png) \n",
    "\n",
    "image credit: https://101gis.com/vector-data-vs-raster-data/"
   ]
  },
  {
   "cell_type": "markdown",
   "id": "7d5e87ec-ec37-486a-b08c-3315cddb3261",
   "metadata": {},
   "source": [
    "You will come across two fundamentally different data types when you work with spatial data, i.e., information about locations on the Earth's surface:\n",
    "- vector data: geographic data represented as points, lines, or polygons made of vertices and paths (e.g., country borders, roads, rivers, ...)\n",
    "- raster data: grids of pixel data where each cell represents specific information (e.g. satellite images, population density, elevation data, ... )"
   ]
  },
  {
   "cell_type": "markdown",
   "id": "d9053d1d-0cd3-43e2-812c-12f1937557cd",
   "metadata": {},
   "source": [
    "## Vector data in GeoPandas "
   ]
  },
  {
   "cell_type": "markdown",
   "id": "19e6e15d-ebf5-4685-a453-acbcd83f374b",
   "metadata": {},
   "source": [
    "Vector data structures are composed of points of discrete geographic locations (x, y, z), also called vertices, that form the shape of an object. Depending on the type of information, we use different vector types like points (e.g., cities), lines (e.g., rivers) and polygons (e.g., countries)."
   ]
  },
  {
   "cell_type": "markdown",
   "id": "daa51408-621d-4df9-bd9b-d2702e2e00b7",
   "metadata": {},
   "source": [
    "![](../assets/pnt_line_poly.png) \n",
    "\n",
    "image credit: National Ecological Observatory Network (NEON)"
   ]
  },
  {
   "cell_type": "markdown",
   "id": "de88358e-45cc-42f8-85aa-b5220b5c7446",
   "metadata": {},
   "source": [
    "In practice, we will normally not work with individual geometries, but rather with collections of geometries (e.g., the shapes of all countries, locations of capitals, ...). We can read, modify and visualise these vector layers very easily with the [GeoPandas package](https://geopandas.org/en/stable/). The main data type in GeoPandas is the `GeoDataFrame`. You can best think of a `GeoDataFrame` as a table of geographical vector data like in the schematic below."
   ]
  },
  {
   "cell_type": "markdown",
   "id": "12c8f19d-cf9a-4853-ac16-20b8a9a53cf0",
   "metadata": {},
   "source": [
    "![](../assets/dataframe.svg) \n",
    "\n",
    "image credit: https://geopandas.org/en/stable/getting_started/introduction.html"
   ]
  },
  {
   "cell_type": "markdown",
   "id": "068954c5-243f-4e73-a7f5-426c999c9d57",
   "metadata": {},
   "source": [
    "You can store as many geometries as you like in the table in a special 'geometry' column, index them by their row and attach non-spatial attributes (numerical, boolean, strings etc.) to them. \n",
    "\n",
    "Note: `GeoPandas` is using this 'table' approach because it is primarily build upon the `pandas` package, the premier Python tool to work with tabular data, i.e. everything that looks similar to an Excel spreadsheet. As a result, most of the syntax is actually very similar between `pandas` and `GeoPandas`. We don't cover `pandas` in this course, but if you ever encounter the need to work with this kind of data, there is a great free course developed by the University of Bristol ACRC that you can access [here](https://milliams.com/courses/data_analysis_python/). "
   ]
  },
  {
   "cell_type": "code",
   "execution_count": null,
   "id": "3ad52928-fcf9-4b67-bfb1-983215648331",
   "metadata": {},
   "outputs": [],
   "source": []
  },
  {
   "cell_type": "code",
   "execution_count": null,
   "id": "1dc66741-6317-4ee9-8e25-5ba6215b3457",
   "metadata": {},
   "outputs": [],
   "source": []
  },
  {
   "cell_type": "code",
   "execution_count": null,
   "id": "a044550b-290f-47b6-8e6a-40ce02e02f50",
   "metadata": {},
   "outputs": [],
   "source": []
  },
  {
   "cell_type": "code",
   "execution_count": null,
   "id": "b3b8cf7c-16e3-41ff-9019-20ef862e1509",
   "metadata": {},
   "outputs": [],
   "source": []
  },
  {
   "cell_type": "markdown",
   "id": "648af12a-1b69-4067-b963-22e7a708de97",
   "metadata": {},
   "source": [
    "## [[Previous: Darts homework](./01-darts_homework.ipynb)] | [[Next: Geographical vector and raster data¶](./03-vectors_and_rasters.ipynb)]"
   ]
  }
 ],
 "metadata": {
  "kernelspec": {
   "display_name": "Python 3 (ipykernel)",
   "language": "python",
   "name": "python3"
  },
  "language_info": {
   "codemirror_mode": {
    "name": "ipython",
    "version": 3
   },
   "file_extension": ".py",
   "mimetype": "text/x-python",
   "name": "python",
   "nbconvert_exporter": "python",
   "pygments_lexer": "ipython3",
   "version": "3.10.6"
  }
 },
 "nbformat": 4,
 "nbformat_minor": 5
}
