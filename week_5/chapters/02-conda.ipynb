{
 "cells": [
  {
   "cell_type": "markdown",
   "id": "01eb97db-d589-4add-b580-3cad0856bcc1",
   "metadata": {},
   "source": [
    "# Conda environments"
   ]
  },
  {
   "cell_type": "markdown",
   "id": "7d5e87ec-ec37-486a-b08c-3315cddb3261",
   "metadata": {},
   "source": [
    "Let's use the power of NumPy to work on a very long-standing problem: finding a numerical approximatopn for the numper $\\pi$. Pi is the ratio of a circle's circumference to its diameter and people have tried for [thousands of years](https://en.wikipedia.org/wiki/Approximations_of_%CF%80#:~:text=Zu%20Chongzhi%20is%20known%20to,accurate%20as%20his%20decimal%20result.) to compoute its value to the highest accuracy possible. We are going to try to find our own numerical solution to estimate $\\pi$ now and we are doing this by simply playing darts!"
   ]
  },
  {
   "cell_type": "markdown",
   "id": "648af12a-1b69-4067-b963-22e7a708de97",
   "metadata": {},
   "source": [
    "## [[Previous: Overview](../week_05_geospatial_data.ipynb)] | [[Next: Conda environments](./02-conda.ipynb)]"
   ]
  }
 ],
 "metadata": {
  "kernelspec": {
   "display_name": "Python 3 (ipykernel)",
   "language": "python",
   "name": "python3"
  },
  "language_info": {
   "codemirror_mode": {
    "name": "ipython",
    "version": 3
   },
   "file_extension": ".py",
   "mimetype": "text/x-python",
   "name": "python",
   "nbconvert_exporter": "python",
   "pygments_lexer": "ipython3",
   "version": "3.10.6"
  }
 },
 "nbformat": 4,
 "nbformat_minor": 5
}
