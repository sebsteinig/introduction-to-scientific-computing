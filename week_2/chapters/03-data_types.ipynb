{
 "cells": [
  {
   "cell_type": "markdown",
   "id": "e057e088-de06-4266-9959-eb42894dbbb4",
   "metadata": {
    "slideshow": {
     "slide_type": "skip"
    }
   },
   "source": [
    "#### [[back to main](../week_02_workbook_python-basics.ipynb)]"
   ]
  },
  {
   "cell_type": "markdown",
   "id": "c59e112d",
   "metadata": {
    "slideshow": {
     "slide_type": "slide"
    },
    "tags": []
   },
   "source": [
    "# Data types\n",
    "\n",
    "## Strings\n",
    "In the last chapter we introduced the idea of \"strings\". They are a way of representing normal human words inside a Python script. Strings start and end with double quotes (`\"`) e.g.,\n",
    "\n",
    "```python\n",
    "\"Hello from Python!\"\n",
    "```\n",
    "\n",
    "is a string with three words and an exclamation mark as content."
   ]
  },
  {
   "cell_type": "markdown",
   "id": "573d70e6",
   "metadata": {
    "slideshow": {
     "slide_type": "subslide"
    },
    "tags": []
   },
   "source": [
    "Strings can contain numbers as well:\n",
    "\n",
    "```python\n",
    "\"There are only 10 different kinds of people in the world: those who know binary and those who don't.\"\n",
    "```\n",
    "\n",
    "and they can even be empty:\n",
    "\n",
    "```python\n",
    "\"\"\n",
    "```"
   ]
  },
  {
   "cell_type": "markdown",
   "id": "5aaad0cc",
   "metadata": {
    "slideshow": {
     "slide_type": "skip"
    },
    "tags": []
   },
   "source": [
    "\n",
    "It is possible in Python to also use single quotes (`'`) to make strings, as long as the string starts and ends with the same type of quote, but it is convention to |prefer double quotes. But no matter what option you prefer, just try to be consistent throughout your code!"
   ]
  },
  {
   "cell_type": "markdown",
   "id": "31d4252f-28a4-4698-9155-5a52fd468cf1",
   "metadata": {
    "slideshow": {
     "slide_type": "slide"
    }
   },
   "source": [
    "## Numbers\n",
    "\n",
    "The other most common type of data that you'll find in Python scripts are numbers. There are two main types of numbers in Python:\n",
    "\n",
    "- **Floats** (or *floating point* numbers) are a way of representing numbers with decimal places\n",
    "- **Integers** are for representing whole numbers\n",
    "\n",
    "When creating numbers in Python, you do not use quotes, you write the number directly. So:\n",
    "\n",
    "```python\n",
    "3.14159\n",
    "```\n",
    "\n",
    "is a float and\n",
    "\n",
    "```python\n",
    "42\n",
    "```\n",
    "\n",
    "is an integer."
   ]
  },
  {
   "cell_type": "markdown",
   "id": "992aa0f9",
   "metadata": {
    "slideshow": {
     "slide_type": "slide"
    }
   },
   "source": [
    "## Variables\n",
    "\n",
    "Of course, it is not much use to have numbers and strings floating around with no connection to each other. We want to be able to give them names and combine them together. We assign names to data using the `=` sign. For example if we want to make some data and give it a name we can do it like:\n",
    "\n",
    "```python\n",
    "pi = 3.14159\n",
    "```\n",
    "\n",
    "This has created a number `3.14159` and given it a name, `pi`. We can now use this name in other parts of the program to refer to that piece of data:\n",
    "\n",
    "```python\n",
    "print(pi)\n",
    "```"
   ]
  },
  {
   "cell_type": "markdown",
   "id": "4f46ebf5-1066-4623-a8c4-163e680d02a8",
   "metadata": {
    "slideshow": {
     "slide_type": "skip"
    }
   },
   "source": [
    "Names in Python can contain upper and lower case letters, numbers and underscores (but can't start with a number). Chosing the correct name for a particular variable is an important task as a non-descriptive name (or worse, an incorrect name) will be very confusing for you and anyone reading your code. It is common in Python to name your variables with all lower case letters and use underscores to separate words.\n",
    "\n",
    "So, for a variable which contains a number representing a distance in miles, avoid shortened names like `dm`, `distm` or `d` and instead use a name like `distance_in_miles`. Remember, code will be written once but read many times so make it easy to read."
   ]
  },
  {
   "cell_type": "markdown",
   "id": "1432d0b9-5c5b-4188-9aa2-adf2a618ee9f",
   "metadata": {
    "slideshow": {
     "slide_type": "slide"
    }
   },
   "source": [
    "### Exercise 2\n",
    "        \n",
    ">Combine variables, numbers and strings in a simple Pyhton code below. The first line should create a string and give it a variable name and the second line should use that name to print it. Add two more lines to also assign a variable name to a number and to print it. \n",
    "        "
   ]
  },
  {
   "cell_type": "code",
   "execution_count": null,
   "id": "a1cc4370-ebca-43a7-a753-735488203080",
   "metadata": {
    "slideshow": {
     "slide_type": "fragment"
    }
   },
   "outputs": [],
   "source": [
    "# Write your exercise code here.\n"
   ]
  },
  {
   "cell_type": "markdown",
   "id": "70834d7c-c263-4069-9148-97555d9407dd",
   "metadata": {
    "slideshow": {
     "slide_type": "fragment"
    },
    "tags": []
   },
   "source": [
    "[<small>answer</small>](../solutions/print_quote.ipynb)"
   ]
  },
  {
   "cell_type": "markdown",
   "id": "a1accb1e-d996-4d77-bf52-5105d86ac8b0",
   "metadata": {
    "slideshow": {
     "slide_type": "skip"
    }
   },
   "source": [
    "## Combining variables\n",
    "\n",
    "Variables are more than just a way of labelling data, they also make it easier to *do* things with your data. If you have some numbers you can add, subtract, multiply and divide them as you would expect. The symbol for multiplication is `*` and the symbol for division is `/`."
   ]
  },
  {
   "cell_type": "code",
   "execution_count": null,
   "id": "d53094a4-afbe-4acb-bc0c-246e3cf3f0e2",
   "metadata": {
    "slideshow": {
     "slide_type": "skip"
    }
   },
   "outputs": [],
   "source": [
    "distance_in_miles = 30\n",
    "distance_in_km = distance_in_miles * 1.60934\n",
    "\n",
    "print(distance_in_km)"
   ]
  },
  {
   "cell_type": "markdown",
   "id": "999526e6-c010-4c92-ac29-d89837aca4aa",
   "metadata": {
    "slideshow": {
     "slide_type": "skip"
    }
   },
   "source": [
    "Here we created a variable `distance_in_miles` with the value of `30`. Then we used that variable in line two and multiplied it by a number (`distance_in_miles * 1.60934`) and assigned the result of that calculation to a new variable called `distance_in_km`. Finally, we printed out the new variable."
   ]
  },
  {
   "cell_type": "markdown",
   "id": "aaa809aa-b6d3-49d5-a1dc-12b2a38e3659",
   "metadata": {
    "slideshow": {
     "slide_type": "skip"
    }
   },
   "source": [
    "We can use some of the operations on strings as well. For examples, you can add together two strings to combine them:"
   ]
  },
  {
   "cell_type": "code",
   "execution_count": null,
   "id": "bd8a7fa3-f832-4856-9ba2-746b4a1dca4c",
   "metadata": {
    "slideshow": {
     "slide_type": "skip"
    }
   },
   "outputs": [],
   "source": [
    "greeting = \"Hello \"\n",
    "name = \"Python\"\n",
    "\n",
    "message = greeting + name\n",
    "\n",
    "print(message)"
   ]
  },
  {
   "cell_type": "markdown",
   "id": "44e9d4a5-1a54-4f32-9946-6acfaab1a14c",
   "metadata": {
    "slideshow": {
     "slide_type": "skip"
    }
   },
   "source": [
    "### Exercise 3\n",
    "\n",
    "> - Define a variable and assign it a temperature of your choice in Kelvin. Now, convert this temperature to degres Celsius (i.e. subtract 273.15) and assign the result to a new variable that you finally print to the screen.    \n",
    "> - Afterwards, also have a look at the provided answer below. Are both results exactly what you expected? If not, have a look at [this link](https://floating-point-gui.de/basic/) and try to understand why a computer struggles with such a seemingly simple task. "
   ]
  },
  {
   "cell_type": "code",
   "execution_count": null,
   "id": "fca67782-5db2-464a-a465-48da0f1afcd3",
   "metadata": {
    "slideshow": {
     "slide_type": "skip"
    }
   },
   "outputs": [],
   "source": [
    "# Write your exercise code here.\n"
   ]
  },
  {
   "cell_type": "markdown",
   "id": "a755b097-8c29-4adb-a8e5-e3562871fe7d",
   "metadata": {
    "slideshow": {
     "slide_type": "skip"
    }
   },
   "source": [
    "[<small>answer</small>](../solutions/temperature_conversion.ipynb)"
   ]
  },
  {
   "cell_type": "markdown",
   "id": "6b3fa36e-d4c0-4cd7-baa9-c46927965abc",
   "metadata": {
    "slideshow": {
     "slide_type": "skip"
    }
   },
   "source": [
    "## Printing multiple things\n",
    "\n",
    "So far we've been giving the `print` function a single argument to print a single thing but we can print many things at once if we give it multiple arguments. Arguments to functions in Python are separated by commas. The `print` function is designed so that it will print each of the arguments it was provided with, one after another on the same line, separated by spaces."
   ]
  },
  {
   "cell_type": "code",
   "execution_count": null,
   "id": "8807c93b-c76c-495e-92a7-e2c89e4cc959",
   "metadata": {
    "slideshow": {
     "slide_type": "skip"
    }
   },
   "outputs": [],
   "source": [
    "print(\"Hello\", \"Python\")"
   ]
  },
  {
   "cell_type": "markdown",
   "id": "85c78787-3491-407e-8992-9ec251edc4d4",
   "metadata": {
    "slideshow": {
     "slide_type": "slide"
    }
   },
   "source": [
    "## [[Previous: Running Python](./02-running_python.ipynb)] | [[Next: Lists](./04-lists.ipynb)]"
   ]
  }
 ],
 "metadata": {
  "celltoolbar": "Slideshow",
  "kernelspec": {
   "display_name": "Python 3 (ipykernel)",
   "language": "python",
   "name": "python3"
  },
  "language_info": {
   "codemirror_mode": {
    "name": "ipython",
    "version": 3
   },
   "file_extension": ".py",
   "mimetype": "text/x-python",
   "name": "python",
   "nbconvert_exporter": "python",
   "pygments_lexer": "ipython3",
   "version": "3.9.12"
  }
 },
 "nbformat": 4,
 "nbformat_minor": 5
}
