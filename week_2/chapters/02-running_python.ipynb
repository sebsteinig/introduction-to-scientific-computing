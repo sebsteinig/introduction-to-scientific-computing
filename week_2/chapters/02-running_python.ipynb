{
 "cells": [
  {
   "cell_type": "markdown",
   "id": "e057e088-de06-4266-9959-eb42894dbbb4",
   "metadata": {
    "slideshow": {
     "slide_type": "skip"
    }
   },
   "source": [
    "#### [[back to main](../week_02_workbook_python-basics.ipynb)]"
   ]
  },
  {
   "cell_type": "markdown",
   "id": "dca78399-6a51-4f14-aedd-b670aa4d3098",
   "metadata": {
    "slideshow": {
     "slide_type": "slide"
    },
    "tags": []
   },
   "source": [
    "# Writing your first code\n",
    "You can run Python code in many different ways, each with their own advantages and disadvantages. In this course we will learn about and try the two most common ways:\n",
    "\n",
    "1. Write a dedicated script file (\\*.py) and run it on the command line\n",
    "2. Work in interactive Jupyter Notebooks \n",
    "\n",
    "Let's start with the most straightforward and traditional way:\n"
   ]
  },
  {
   "cell_type": "markdown",
   "id": "605a0364-f2f3-4bdd-ac76-c76955ee67d6",
   "metadata": {
    "slideshow": {
     "slide_type": "slide"
    },
    "tags": []
   },
   "source": [
    "## Option #1: Python script\n",
    "A Python script is a simple text file containing a set of instructions. As long as these instructions are written in the \"Python Programming Language\" then the computer will be able to understand them and perform the tasks we've asked.\n"
   ]
  },
  {
   "cell_type": "markdown",
   "id": "ccba8d65-fb36-427f-b7a8-805a0bd4f617",
   "metadata": {
    "slideshow": {
     "slide_type": "skip"
    }
   },
   "source": [
    "#### Writing your script\n",
    "Let's write and run our very first Python script now!\n",
    "\n",
    "Start by creating a new text file and a terminal window from the 'Launcher', i.e. by clicking on the blue button with the white cross in the top left of your browser window.\n",
    "\n",
    "You should have created two new tabs (a text editor and a terminal pane) and it is very easy to rearrange them for an easier workflow. Just click and hold on the terminal tab and drag it to the right side of the browser window to to see both tabs side-by-side. Your window should now look similar to the one below: \n"
   ]
  },
  {
   "cell_type": "markdown",
   "id": "1171a052",
   "metadata": {
    "slideshow": {
     "slide_type": "slide"
    }
   },
   "source": [
    "![Terminal UI](../assets/terminal-ui.jpg \"Terminal UI\")"
   ]
  },
  {
   "cell_type": "markdown",
   "id": "2de2cc84-cb27-4026-9b2b-9d25b325a03e",
   "metadata": {
    "slideshow": {
     "slide_type": "skip"
    }
   },
   "source": [
    "To create our script, go to the text editor pane and type into it:\n",
    "\n",
    "```python\n",
    "print(\"Hello Bristol!\")\n",
    "```\n",
    "\n",
    "then go to *File → Save File* and you'll see the small black circle next to the words \"untitled.txt\" in the tab change to a cross.\n",
    "\n",
    "We've just saved our Python script with the name \"untitled.txt\" but we should give it a more descriptive name. In the far left pane you might see a list of files. Right click on \"untitled.txt\" and select *Rename*. Python files end in the extension \".py\" so change its name to \"script.py\".\n",
    "\n",
    "You should now see that the name of the text editor tab reads `script.py`."
   ]
  },
  {
   "cell_type": "markdown",
   "id": "c8f474bc-c974-4300-a3ca-1e94cf5e5af2",
   "metadata": {
    "slideshow": {
     "slide_type": "skip"
    }
   },
   "source": [
    "#### Running your script\n",
    "To run the script that we've just written and saved, we move to the pane on the right with the label \"Terminal 1\". This pane gives us access to a command line interface to our computer. This is the same interface that you have in a Command Prompt in Windows or a Terminal on MacOS or Linux. We type commands in here and the computer runs the programmes we ask it to. We will cover the command line in much greater detail later in one of the later lectures.\n",
    "\n",
    "The only command we need to know about for the moment is `python` which we run by typing `python` in that window, followed by a space, followed by the name of our script file (including the file path and the \".py\" extension). Depending on your file path, the command could look like this:\n",
    "\n",
    "```bash\n",
    "python \"OneDrive - University of Bristol/Introduction to Scientific Computing/script.py\"\n",
    "```"
   ]
  },
  {
   "cell_type": "markdown",
   "id": "9ddd604f-378c-460c-a2ee-ece23efad984",
   "metadata": {
    "slideshow": {
     "slide_type": "skip"
    }
   },
   "source": [
    "The quotes around the file path are not allways necessary, but you will need them if you have special characters in your file path (e.g. spaces like in the example above)."
   ]
  },
  {
   "cell_type": "markdown",
   "id": "8e2ccf0c-2277-4c6a-847c-47ecef33d9c8",
   "metadata": {
    "slideshow": {
     "slide_type": "skip"
    }
   },
   "source": [
    "You can easily find your file path by right-clicking on `script.py` in the file brwoser on the left and selecting '*Copy Path*'. You can paste this into your Terminal window and encapsulate it with quotation marks. An example could look like this:"
   ]
  },
  {
   "cell_type": "markdown",
   "id": "358e19d0-b009-46ec-b2fc-0f862a10ce98",
   "metadata": {
    "slideshow": {
     "slide_type": "slide"
    }
   },
   "source": [
    "![Terminal UI](../assets/windows_script_path.png \"Terminal Path\")"
   ]
  },
  {
   "cell_type": "markdown",
   "id": "c779f0c7-88f3-49c8-a192-c9aee41f0bc1",
   "metadata": {
    "slideshow": {
     "slide_type": "skip"
    }
   },
   "source": [
    "Press enter and you should see the following output printed to the terminal:\n",
    "\n",
    "```\n",
    "Hello Bristol!\n",
    "```\n",
    "\n",
    "Congratulations, you've just written and executed your very first Python script!"
   ]
  },
  {
   "cell_type": "markdown",
   "id": "dcfef142",
   "metadata": {
    "slideshow": {
     "slide_type": "skip"
    }
   },
   "source": [
    "#### Explanation\n",
    "This was a simple script. Python is a language designed to help you write everything from small and simple scripts to large complete programs."
   ]
  },
  {
   "cell_type": "markdown",
   "id": "22ac9f8a",
   "metadata": {
    "slideshow": {
     "slide_type": "subslide"
    }
   },
   "source": [
    "This script has introduced three of the basic building blocks of Python;\n",
    "\n",
    "- A function `print`. Functions are instructions that tell Python to do something, in this case `print` tells Python to print the following string to the screen. Functions are \"called\" by following them with a pair of parentheses `()`. Whatever we put between those parentheses are called \"arguments\" and specify exactly what the function should do.\n",
    "- A string `\"Hello Bristol!\"`. A string is just a piece of text, which can contain multiple lines. Strings are enclosed in double quotes.\n",
    "- A line of code `print(\"Hello Bristol!\")`. A line of code forms a complete instruction which can be executed by Python. Python executes each line of code, one at a time in order, moving from the top of the file downwards until it reaches the end of the file."
   ]
  },
  {
   "cell_type": "markdown",
   "id": "7666ab29-3368-485b-8748-4b9ac437e88d",
   "metadata": {
    "slideshow": {
     "slide_type": "skip"
    }
   },
   "source": [
    "Important things to remember for this section are:\n",
    "\n",
    "- Always save your Python scripts after making a change (the black circle means there are unsaved changes)\n",
    "- Always give your Python scripts a \".py\" extension\n",
    "- Python *code* goes in the text editor window while you *run* the script from the terminal window"
   ]
  },
  {
   "cell_type": "markdown",
   "id": "83e6c4b3-427d-43fe-bffb-d013324de7fa",
   "metadata": {
    "slideshow": {
     "slide_type": "slide"
    }
   },
   "source": [
    "## Option #2: Working with Notebooks\n",
    "\n",
    "You can also interactively run Python code within this notebook! \n",
    "\n",
    "Notebooks are documents that can contain live code, graphics, equations and documentation all side-by-side. They have become a very popular tool in Data Science and are a great way for us to start learning programming and scientific computing."
   ]
  },
  {
   "cell_type": "markdown",
   "id": "6404e4f6-35c6-40b9-9b44-b28532fa0e29",
   "metadata": {
    "slideshow": {
     "slide_type": "subslide"
    }
   },
   "source": [
    "#### Notebook cells\n",
    "Notebooks are made up of one or multiple 'cells'. You can assign a cell type to each of them. The two most important ones are `Code` for executing the actual live code and `Markdown` for Text/Documentation (like this cell). [Markdown](https://www.markdownguide.org/getting-started/) is a popular markup language that you can use to add formatting information to plaintext documents.\n",
    "\n",
    "Let's try to run the `print` statement from before in the code cell below:"
   ]
  },
  {
   "cell_type": "code",
   "execution_count": null,
   "id": "646fba67-5e27-400b-bf3b-70e25ecdb7f7",
   "metadata": {
    "slideshow": {
     "slide_type": "subslide"
    },
    "tags": []
   },
   "outputs": [],
   "source": [
    "# This is a code cell. You can click to edit it. \n",
    "# The '#' symbol indicates a comment that will not be interpreted by Python. \n",
    "# Enter you code below and press Shift+Enter to run it!\n",
    "\n",
    "print(\"Hello Bristol!\")"
   ]
  },
  {
   "cell_type": "markdown",
   "id": "6f241a0c-afbb-44ed-b13e-60b2f7ced239",
   "metadata": {
    "slideshow": {
     "slide_type": "skip"
    }
   },
   "source": [
    "You just learned how to execute (i.e. run) Python code in a Jupyter notebook!"
   ]
  },
  {
   "cell_type": "markdown",
   "id": "3c78bfee-9422-4106-bd31-ad9b69f3fcde",
   "metadata": {
    "slideshow": {
     "slide_type": "subslide"
    }
   },
   "source": [
    "### Exercise 1\n",
    "> - Try to change the cell type of the above cell from `Code` to `Markdown` and execute it again. What is happening?\n",
    "> - Double-click on any other cell in this notebook to see the 'raw' content of the cells. Can you already identify some Markdown syntax rules? \n",
    "> - Add a new Markdown cell below (click the plus at the top toolbar) and write down some of the observations from the above questions. You can find an overview of the Markdown syntax to do this [here](https://jupyter-notebook.readthedocs.io/en/stable/examples/Notebook/Working%20With%20Markdown%20Cells.html)."
   ]
  },
  {
   "cell_type": "markdown",
   "id": "342d2b25-446e-4c65-8e72-1af2708d2cef",
   "metadata": {
    "slideshow": {
     "slide_type": "skip"
    }
   },
   "source": [
    "JupyterLab provides many more commands and options for a relatively intuitive approach to programming and data analysis. It is worth to explore the user interface a bit more. Start a new notebook via the 'Launcher' for this, try to reproduce the print statement from above and test what the icons at the top can do. Feel free to ask any questions about the notebook environment during the course and/or have a look at the [official documentation](https://jupyter-notebook.readthedocs.io/en/stable/notebook.html)."
   ]
  },
  {
   "cell_type": "markdown",
   "id": "660b3f86-b810-486f-a896-f20124f9d298",
   "metadata": {
    "slideshow": {
     "slide_type": "slide"
    }
   },
   "source": [
    "## Scripts vs. Notebooks\n",
    "We will continue to use Jupyter notebooks for all excersices in the first part of this unit. This will allow us to keep all our code samples, documentation and Python output in one single document. It can therefore already be a good first step towards creating reproducible workflows for our scientific computing needs."
   ]
  },
  {
   "cell_type": "markdown",
   "id": "9db96e91-323d-470c-a75b-7da9cb728d1c",
   "metadata": {
    "slideshow": {
     "slide_type": "skip"
    }
   },
   "source": [
    "Of course, you can also solve all of the following excersises by writing individual Python scripts and run them in the terminal. In fact, it could be a good exercise to try to reproduce the first couple of exercises both in a Jupyter notebook and a dedicated Python script. This will give you some experience in interacting with Python and show you that there are always multiple ways of implementing a specific task. \n",
    "\n",
    "Can you think of pros and cons of the two different approaches we covered here? You might want to revisit this page and add your thoughts and experiences to the below table throughout the course."
   ]
  },
  {
   "cell_type": "markdown",
   "id": "ad7f8d9d-4c32-4271-a963-f49b1af586c9",
   "metadata": {
    "slideshow": {
     "slide_type": "skip"
    }
   },
   "source": [
    "|  | Dedicated scripts | Interactive notebooks |\n",
    "| --- | --- | --- |\n",
    "| ease of use |  |  |\n",
    "| reproducability |  |  |\n",
    "| scalability |  |  |\n",
    "| ... |  |  |"
   ]
  },
  {
   "cell_type": "markdown",
   "id": "85c78787-3491-407e-8992-9ec251edc4d4",
   "metadata": {
    "slideshow": {
     "slide_type": "slide"
    }
   },
   "source": [
    "## [[Previous: Installing Python](./01-installing_python.ipynb)] | [[Next: Data types](./03-data_types.ipynb)]"
   ]
  }
 ],
 "metadata": {
  "celltoolbar": "Slideshow",
  "kernelspec": {
   "display_name": "Python 3 (ipykernel)",
   "language": "python",
   "name": "python3"
  },
  "language_info": {
   "codemirror_mode": {
    "name": "ipython",
    "version": 3
   },
   "file_extension": ".py",
   "mimetype": "text/x-python",
   "name": "python",
   "nbconvert_exporter": "python",
   "pygments_lexer": "ipython3",
   "version": "3.9.12"
  }
 },
 "nbformat": 4,
 "nbformat_minor": 5
}
