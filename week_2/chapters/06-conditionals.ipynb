{
 "cells": [
  {
   "cell_type": "markdown",
   "id": "e057e088-de06-4266-9959-eb42894dbbb4",
   "metadata": {
    "slideshow": {
     "slide_type": "skip"
    }
   },
   "source": [
    "#### [[back to main](../week_02_workbook_python-basics.ipynb)]"
   ]
  },
  {
   "cell_type": "markdown",
   "id": "d7612884",
   "metadata": {
    "slideshow": {
     "slide_type": "slide"
    },
    "tags": []
   },
   "source": [
    "# Conditionals\n",
    "\n",
    "We've seen loops are one way of changing the default \"top to bottom\" reading of Python scripts. Loops are an example of *control flow* statements. Another very useful tool in Python is the *conditional*. This, rather than allowing you to *repeat* parts of the program, gives you the ability to *skip* parts depending on certain conditions.\n",
    "\n",
    "The simplest place to start is the `if` statement. This lets you only run a block of code if a certain condition is true. Ane xample would be:"
   ]
  },
  {
   "cell_type": "code",
   "execution_count": null,
   "id": "9410efd3-ccb9-4ce2-b766-45314839a4e3",
   "metadata": {
    "slideshow": {
     "slide_type": "slide"
    }
   },
   "outputs": [],
   "source": [
    "my_number = 28\n",
    "\n",
    "if my_number > 100:\n",
    "    print(my_number, \"is large\") "
   ]
  },
  {
   "cell_type": "markdown",
   "id": "b2a9db16",
   "metadata": {
    "slideshow": {
     "slide_type": "subslide"
    }
   },
   "source": [
    "## `if` statement syntax\n",
    "\n",
    "An `if` statement has a similar sort of structure to a `for` loop in that it has scaffolding as well as user-supplied parts. The scafolding is the word `if` and the colon again:\n",
    "\n",
    "<pre>\n",
    " ↓                ↓\n",
    "<b style=\"color:darkred\">if</b> my_number > 100<b style=\"color:darkred\">:</b>\n",
    "    print(my_number, \"is large\")\n",
    "</pre>"
   ]
  },
  {
   "cell_type": "markdown",
   "id": "a5ec0d08",
   "metadata": {
    "slideshow": {
     "slide_type": "subslide"
    }
   },
   "source": [
    "and the user-supplied part is the conditional:\n",
    "\n",
    "<pre>\n",
    "          ↓\n",
    "if <b style=\"color:darkred\">my_number > 100</b>:\n",
    "    print(my_number, \"is large\")\n",
    "</pre>"
   ]
  },
  {
   "cell_type": "markdown",
   "id": "0e94c18e-3e1b-4778-828c-9343dc2dfca1",
   "metadata": {
    "slideshow": {
     "slide_type": "subslide"
    }
   },
   "source": [
    "As before, the body must be indented by four spaces:\n",
    "\n",
    "<pre>\n",
    "                <i>colon</i>\n",
    "                  ↓\n",
    "if my_number > 100<b style=\"color:darkred\">:</b>\n",
    "    print(my_number, \"is large\")\n",
    "  ↑\n",
    "<i>indentation</i>\n",
    "</pre>"
   ]
  },
  {
   "cell_type": "markdown",
   "id": "3f149205",
   "metadata": {
    "slideshow": {
     "slide_type": "slide"
    }
   },
   "source": [
    "## Booleans\n",
    "\n",
    "If we take a closer look at that user-supplied conditional we'll see it's made up of three parts, some data on either side of a greater-than sign (`>`). In Python this means \"is `my_number` more than `100`?\" It's asking a question and in Python the answer to a question like this can be either `True` or `False`.\n",
    "\n",
    "```python\n",
    "print(128 > 100)\n",
    "```"
   ]
  },
  {
   "cell_type": "markdown",
   "id": "7167f218",
   "metadata": {
    "slideshow": {
     "slide_type": "skip"
    }
   },
   "source": [
    "The above line should print `True`. These are booleans and the question `128 > 100` is a boolean statement. `True` and `False` are values in the same way that `12` and `\"Hello\"` are values but belong to their own data type."
   ]
  },
  {
   "cell_type": "markdown",
   "id": "fc57bd20",
   "metadata": {
    "slideshow": {
     "slide_type": "subslide"
    }
   },
   "source": [
    "Other comparison operations we can perform are:\n",
    "\n",
    "```python\n",
    "334 < 98  # Less than\n",
    "76 == 70 + 6  # Are they equal to each other?\n",
    "3.14159 != 3  # Are they *not* equal to each other\n",
    "4 <= 43  # Less than or equal to\n",
    "45 >= 17  # Greater than or equal to\n",
    "```"
   ]
  },
  {
   "cell_type": "markdown",
   "id": "0fe8213a-3166-456f-a205-35bccca6c6c0",
   "metadata": {
    "slideshow": {
     "slide_type": "skip"
    }
   },
   "source": [
    "Notice that when *comparing* two values, we use a double equals sign (`==`), wheras we used a single equals sign (`=`) to create a variable."
   ]
  },
  {
   "cell_type": "markdown",
   "id": "1432d0b9-5c5b-4188-9aa2-adf2a618ee9f",
   "metadata": {
    "slideshow": {
     "slide_type": "slide"
    }
   },
   "source": [
    "### Exercise 9      \n",
    "> Estimate whether the boolean statements below will return `True` or `False`. \n",
    "> - Think about it first and then test each line by uncommenting the individual line (i.e. removing the `#` sign) and running the cell.\n",
    "> - How could you change the boolean operators to make all statements `True`?"
   ]
  },
  {
   "cell_type": "code",
   "execution_count": null,
   "id": "a1cc4370-ebca-43a7-a753-735488203080",
   "metadata": {
    "slideshow": {
     "slide_type": "skip"
    }
   },
   "outputs": [],
   "source": [
    "# Write your exercise code here.\n",
    "\n",
    "# print(20 > 10)\n",
    "# print(10 > 20)\n",
    "# print(20 <= 5 + 5)\n",
    "# print(10 >= 10)\n",
    "# print(10 < 20 / 2)\n",
    "# print(10 < 10)\n",
    "# print(10 <= 10)\n",
    "# print(10 == 10)\n",
    "# print(10 != 10)"
   ]
  },
  {
   "cell_type": "markdown",
   "id": "9d88846d-b001-435f-a77b-ad836307dc88",
   "metadata": {
    "slideshow": {
     "slide_type": "skip"
    }
   },
   "source": [
    "[<small>answer</small>](../solutions/booleans.ipynb)"
   ]
  },
  {
   "cell_type": "markdown",
   "id": "40651e06-e378-46e9-9d7c-811be24b1e26",
   "metadata": {
    "slideshow": {
     "slide_type": "skip"
    }
   },
   "source": [
    "## `else`\n",
    "\n",
    "The body of an `if` statement will only run if the conditional is `True`. But what if we want to do one thing if it's true, but another if it's false? We can do this by attaching an `else` statement to the `if` statement:"
   ]
  },
  {
   "cell_type": "markdown",
   "id": "b7728ac0-2ca0-4865-854b-a56ee3717266",
   "metadata": {
    "slideshow": {
     "slide_type": "skip"
    }
   },
   "source": [
    "my_number = 128\n",
    "\n",
    "if my_number > 100:\n",
    "    print(my_number, \"is large\")\n",
    "else:\n",
    "    print(my_number, \"is not large\")"
   ]
  },
  {
   "cell_type": "markdown",
   "id": "c9b76edb-006f-4601-9570-06e40ca13df3",
   "metadata": {
    "slideshow": {
     "slide_type": "skip"
    }
   },
   "source": [
    "The `else` statement must be at the same level of indentation as the `if` keyword and does not have any option for the user to provide a boolean statement to it. In this case, you can guarantee that *one* and *only one* of the two bodies will run.\n",
    "\n",
    "## `elif`\n",
    "\n",
    "If you *do* want to provide a boolean statement to an `else` then you can use an `elif` instead. It stands for \"else, if ...\" and it allows you to refine the questions you are asking:"
   ]
  },
  {
   "cell_type": "code",
   "execution_count": null,
   "id": "cfdd7904-d721-46a4-bba7-ea6fa2d01d0c",
   "metadata": {
    "slideshow": {
     "slide_type": "skip"
    }
   },
   "outputs": [],
   "source": [
    "my_number = 128\n",
    "\n",
    "if my_number > 100:\n",
    "    print(my_number, \"is large\")\n",
    "elif my_number < 0:\n",
    "    print(my_number, \"is negative\")\n",
    "else:\n",
    "    print(my_number, \"is not large\")"
   ]
  },
  {
   "cell_type": "markdown",
   "id": "25466efe-70e6-48d3-ab72-0cc5b0723655",
   "metadata": {
    "slideshow": {
     "slide_type": "skip"
    }
   },
   "source": [
    "You can again rely on at most one of the branches being run."
   ]
  },
  {
   "cell_type": "markdown",
   "id": "5a86216f-cd75-4a47-8a3c-cd20b5ad15e5",
   "metadata": {
    "slideshow": {
     "slide_type": "skip"
    }
   },
   "source": [
    "## Ordering your options\n",
    "\n",
    "When working out which lines of code will be run, Python will work down the list of `if`, `elif`s and `else` and will run the *first one* that matches. Once it's matched one, it will not bother checking to see if any of those later on would have matched. This means that you should order your questions from most-specific to least-specific.\n",
    "\n",
    "For example, if you want to do one thing for positive numbers, but something special instead for numbers greater than 100, then you should put the more specific check first:"
   ]
  },
  {
   "cell_type": "code",
   "execution_count": null,
   "id": "74da9c55-e38e-4127-a5b5-f9086b74d255",
   "metadata": {
    "slideshow": {
     "slide_type": "skip"
    }
   },
   "outputs": [],
   "source": [
    "my_number = 128\n",
    "\n",
    "if my_number > 100:\n",
    "    print(my_number, \"is large\")\n",
    "elif my_number > 1:\n",
    "    print(my_number, \"is positive\")\n",
    "else:\n",
    "    print(my_number, \"negative\")"
   ]
  },
  {
   "cell_type": "markdown",
   "id": "67f80751-8eab-4c09-a3fd-2257f6806ca4",
   "metadata": {
    "slideshow": {
     "slide_type": "slide"
    }
   },
   "source": [
    "### Exercise 10      \n",
    "> Write a code that loops over the numbers from `0` to `9` and prints a message for each. It should print one messsage if the number is greater than `5`, another message if it is less than `5` and otherwise should print that the number is equal to `5`.\n",
    "> - *Hint: Use the `range()` function to help loop over the numbers*\n",
    "> - *Hint: You can do it using only one `if`, one `elif` and one `else`*"
   ]
  },
  {
   "cell_type": "code",
   "execution_count": null,
   "id": "a54ec80f-6231-4abe-8ea7-f3f87b2fad52",
   "metadata": {
    "slideshow": {
     "slide_type": "skip"
    }
   },
   "outputs": [],
   "source": [
    "# Write your exercise code here.\n"
   ]
  },
  {
   "cell_type": "markdown",
   "id": "33feb6cc-4e2e-47c5-8142-2337fb0eb4ac",
   "metadata": {
    "slideshow": {
     "slide_type": "skip"
    }
   },
   "source": [
    "[<small>answer</small>](../solutions/loop_conditionals.ipynb)"
   ]
  },
  {
   "cell_type": "markdown",
   "id": "85c78787-3491-407e-8992-9ec251edc4d4",
   "metadata": {
    "slideshow": {
     "slide_type": "slide"
    }
   },
   "source": [
    "## [[Previous: Loops](./05-loops.ipynb)] | [[Next: Dictionaries](./07-dictionaries.ipynb)]"
   ]
  }
 ],
 "metadata": {
  "celltoolbar": "Slideshow",
  "kernelspec": {
   "display_name": "Python 3 (ipykernel)",
   "language": "python",
   "name": "python3"
  },
  "language_info": {
   "codemirror_mode": {
    "name": "ipython",
    "version": 3
   },
   "file_extension": ".py",
   "mimetype": "text/x-python",
   "name": "python",
   "nbconvert_exporter": "python",
   "pygments_lexer": "ipython3",
   "version": "3.9.12"
  }
 },
 "nbformat": 4,
 "nbformat_minor": 5
}
