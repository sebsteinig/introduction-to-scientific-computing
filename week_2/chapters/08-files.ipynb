{
 "cells": [
  {
   "cell_type": "markdown",
   "id": "e057e088-de06-4266-9959-eb42894dbbb4",
   "metadata": {
    "slideshow": {
     "slide_type": "skip"
    }
   },
   "source": [
    "#### [[back to main](../week_02_workbook_python-basics.ipynb)]"
   ]
  },
  {
   "cell_type": "markdown",
   "id": "5caf8e12-8dab-4f1c-8f79-6981247eb3a6",
   "metadata": {
    "slideshow": {
     "slide_type": "slide"
    }
   },
   "source": [
    "# Files\n",
    "\n",
    "Everything we've done so far has been completely self-contained in the script and every time we run any of them we will get exactly the same output. The power of programming is to be able to take the same piece of code and apply it to different data to get different results. One common way in which this is done is by writing a notebook (or a script) which can analyse a data file. To do that we need to learn how to open files.\n",
    "\n",
    "The simplest thing we can do with files is read a file in and print it to the screen. Let's have a look at an example file:"
   ]
  },
  {
   "cell_type": "code",
   "execution_count": null,
   "id": "26c7caea-1b0a-4d34-8da1-607f4b2c7605",
   "metadata": {
    "slideshow": {
     "slide_type": "subslide"
    }
   },
   "outputs": [],
   "source": [
    "with open(\"../assets/unit_structure.txt\") as f:\n",
    "    for line in f:\n",
    "        print(line, end=\"\")"
   ]
  },
  {
   "cell_type": "markdown",
   "id": "fcde79fe-4944-4384-a738-6ce59adccaa2",
   "metadata": {
    "slideshow": {
     "slide_type": "skip"
    }
   },
   "source": [
    "When we execute above cell it prints the contents of the file `unit_structure.txt`.\n",
    "\n",
    "There are a few new things here so let's go through them in turn. The first thing is to open the file. You open files using the `open` function. The part `open(\"../assets/unit_structure.txt\")` says to open the file `unit_structure.txt` and additionally indicates the file path where it is stored. This returns a *file handle* which is assigned to the variable `f`. If the file does not exist, or is not readable then the script will exit with an error (have a try and see what the error looks like!). The use of a `with` statement means that when the code inside the `with` block has finished running the file will be closed automatically.\n",
    "\n",
    "In the next line (`for line in f:`) we are looping over the lines of the file. This loop looks just like those we used when looping over lists a few chapters previously. When looping over a list you get each of the *elements* in turn but when looping over an open file you get each of the *lines* in turn. We assign the string containing the line from the file to the variable `line`.\n",
    "\n",
    "Finally, we print the string `line`. Each line in the file already ends with a \"new-line\" character so when it is printed, it will print the new-line too. By default the `print` function will also add its own new-line so we disable that by using `end=\"\"` (but you can try it without as well)."
   ]
  },
  {
   "cell_type": "markdown",
   "id": "c6572992",
   "metadata": {
    "slideshow": {
     "slide_type": "slide"
    }
   },
   "source": [
    "## Data type conversion\n",
    "Simply reading text and printing it isn't very useful. \n",
    "\n",
    "Let's take a first step towards some data analysis and pretend that the task we're trying to do is to read in some data from a file and add 17 to each value. "
   ]
  },
  {
   "cell_type": "markdown",
   "id": "f4020b08-d38e-42f4-b791-64c576109f7e",
   "metadata": {
    "slideshow": {
     "slide_type": "fragment"
    }
   },
   "source": [
    "Let's first read in the raw data:"
   ]
  },
  {
   "cell_type": "code",
   "execution_count": null,
   "id": "52af0d05-3bb1-404d-b355-1a263d20fd61",
   "metadata": {
    "slideshow": {
     "slide_type": "fragment"
    }
   },
   "outputs": [],
   "source": [
    "with open(\"../assets/data.txt\") as f:\n",
    "    for line in f:\n",
    "        print(line, end=\"\") "
   ]
  },
  {
   "cell_type": "markdown",
   "id": "3eb9db47-ff30-47cc-94bd-2863281601f3",
   "metadata": {
    "slideshow": {
     "slide_type": "skip"
    }
   },
   "source": [
    "and now let's add 17 to each line:"
   ]
  },
  {
   "cell_type": "code",
   "execution_count": null,
   "id": "1f5ecc45-b541-4a0f-95d8-48deeaa15f4a",
   "metadata": {
    "slideshow": {
     "slide_type": "skip"
    }
   },
   "outputs": [],
   "source": [
    "with open(\"../assets/data.txt\") as f:\n",
    "    for line in f:\n",
    "        new_number = line + 17  # Here is where we do our \"data analysis\"\n",
    "        print(new_number, end=\"\")"
   ]
  },
  {
   "cell_type": "markdown",
   "id": "adb1a029-ea74-41f1-aa3f-f46dda031724",
   "metadata": {
    "slideshow": {
     "slide_type": "skip"
    }
   },
   "source": [
    "What happened? \n",
    "\n",
    "We are getting an error message when we try to add 17 to the data read in from the line in the file. The *type* of the error is `TypeError` which tells us the problem is likely due to incorrect data types (i.e. string, float, int, list etc.). The error message says `can only concatenate str (not \"int\") to str` which implies that the computer believes that we're trying to concatenate (join together) something with a string. The only two things involved in this operation are `line` and `17`. We know that `17` is an integer so `line` must be a string!\n",
    "\n",
    "When reading from a file like this, everything it gives you will *always* be a string, even if the string only contains digits like `\"12\"`. If we know that the file only contains integers then we can convert each number as it comes in using [the `int` function](https://docs.python.org/3/library/functions.html#int). Also, since we're now printing integers, we no longer need the `end=\"\"` tweak:"
   ]
  },
  {
   "cell_type": "code",
   "execution_count": null,
   "id": "bbbb2bd5-2792-495e-99de-881eed75fe1b",
   "metadata": {
    "slideshow": {
     "slide_type": "skip"
    }
   },
   "outputs": [],
   "source": [
    "with open(\"../assets/data.txt\") as f:\n",
    "    for line in f:\n",
    "        number = int(line)  # Here we do the type conversion\n",
    "        new_number = number + 17  # Here is where we do our \"data analysis\"\n",
    "        print(new_number)"
   ]
  },
  {
   "cell_type": "markdown",
   "id": "0ce7af55-196f-48a0-af46-dfac7e0f41a5",
   "metadata": {
    "slideshow": {
     "slide_type": "slide"
    }
   },
   "source": [
    "### Exercise 14       \n",
    "> - Write your own code below to read in `data.txt`, but multiply the data by 10 instead of adding 17 [<small>answer</small>](../solutions/multiply_data.ipynb)\n",
    "> - After looping though the data, print out the sum of all the data values seen.\n",
    ">   - hint: Define an integer before the loop, initially set to zero and add to it each time around the loop\n",
    ">   - hint: You can increase an integer by an amount using `+=` like:\n",
    ">     ```\n",
    ">     num = 3\n",
    ">     num += 4\n",
    ">     print(num)  # `num` will now be 7\n",
    ">     ```\n",
    ">   - [<small>answer</small>](../solutions/data_sum.ipynb)\n",
    "> - Print out the count of the number of data points seen as well. [<small>answer</small>](../solutions/data_sum_count.ipynb)\n",
    "> - Print out the mean average of the data in the file. [<small>answer</small>](../solutions/data_sum_count_mean.ipynb)\n",
    "> - What happens when change one of the values in `data.txt` to a floating point number?\n",
    "> - Create an empty data file `empty_data.txt` and process it with your code. What happens? Add an `if` statement to fix it. [<small>answer</small>](../solutions/divide_zero.ipynb)\n",
    "> - Finally, collect the statistics over '`data.txt`' into a summary dictionary with keys `\"sum\"`, `\"count\"` and `\"mean\"`. [<small>answer</small>](../solutions/data_summary_dict.ipynb)"
   ]
  },
  {
   "cell_type": "code",
   "execution_count": null,
   "id": "dfe7853f-75e3-4fbd-88d6-b33efc35f388",
   "metadata": {
    "slideshow": {
     "slide_type": "skip"
    }
   },
   "outputs": [],
   "source": [
    "# Write your exercise code here.\n",
    "# With each question, you can extend your previous code to gradually make it more complex.\n"
   ]
  },
  {
   "cell_type": "markdown",
   "id": "85c78787-3491-407e-8992-9ec251edc4d4",
   "metadata": {
    "slideshow": {
     "slide_type": "slide"
    }
   },
   "source": [
    "## [[Previous: Dictionaries](./07-dictionaries.ipynb)] | [[Next: Summary](./09-summary.ipynb)]"
   ]
  }
 ],
 "metadata": {
  "celltoolbar": "Slideshow",
  "kernelspec": {
   "display_name": "Python 3 (ipykernel)",
   "language": "python",
   "name": "python3"
  },
  "language_info": {
   "codemirror_mode": {
    "name": "ipython",
    "version": 3
   },
   "file_extension": ".py",
   "mimetype": "text/x-python",
   "name": "python",
   "nbconvert_exporter": "python",
   "pygments_lexer": "ipython3",
   "version": "3.9.12"
  }
 },
 "nbformat": 4,
 "nbformat_minor": 5
}
