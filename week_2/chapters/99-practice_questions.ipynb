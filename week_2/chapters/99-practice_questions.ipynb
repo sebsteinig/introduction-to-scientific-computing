{
 "cells": [
  {
   "cell_type": "markdown",
   "id": "c6177306",
   "metadata": {
    "slideshow": {
     "slide_type": "skip"
    },
    "tags": []
   },
   "source": [
    "#### [[back to main](../week_02_workbook_python-basics.ipynb)]"
   ]
  },
  {
   "cell_type": "markdown",
   "id": "82c5b006-0699-4703-95ec-7781abf83a5f",
   "metadata": {
    "slideshow": {
     "slide_type": "slide"
    },
    "tags": []
   },
   "source": [
    "# Practice questions\n",
    "\n",
    "This page contains a number of questions and exercises to give you a chance to practise what you have learned in week 2.\n",
    "\n",
    "You will find a link to the answers at the bottom of this page."
   ]
  },
  {
   "cell_type": "markdown",
   "id": "2cd28802-5b19-4d59-b2f0-860d929dc64c",
   "metadata": {
    "slideshow": {
     "slide_type": "slide"
    },
    "tags": [
     "exercise"
    ]
   },
   "source": [
    "### Exercise 1\n",
    "\n",
    "Create a list containing 5 different animal types, for example:\n",
    "- cat\n",
    "- dog\n",
    "- elephant\n",
    "- minnow\n",
    "- beaver\n",
    "\n",
    "Print out the list to the screen."
   ]
  },
  {
   "cell_type": "code",
   "execution_count": 2,
   "id": "c1449378-119e-49bc-9bf5-fdcf0ba3085b",
   "metadata": {
    "slideshow": {
     "slide_type": "skip"
    }
   },
   "outputs": [],
   "source": [
    "# Write your exercise code here.\n"
   ]
  },
  {
   "cell_type": "markdown",
   "id": "d33cd401-bc3c-4afb-a4de-f31e38e6d59b",
   "metadata": {
    "slideshow": {
     "slide_type": "slide"
    },
    "tags": [
     "exercise"
    ]
   },
   "source": [
    "### Exercise 2\n",
    "\n",
    "Start by copying the code that you used to create the list of animals in the last exercise. Write a loop which will print out each of the animals, prefixed with `Species: `. For example the output could look like:\n",
    "```\n",
    "Species: cat\n",
    "Species: dog\n",
    "Species: elephant\n",
    "Species: minnow\n",
    "Species: beaver\n",
    "```"
   ]
  },
  {
   "cell_type": "code",
   "execution_count": 2,
   "id": "08556aaf-0e3b-4ad7-b75b-29e114819e89",
   "metadata": {
    "slideshow": {
     "slide_type": "skip"
    }
   },
   "outputs": [],
   "source": [
    "# Write your exercise code here.\n"
   ]
  },
  {
   "cell_type": "markdown",
   "id": "1b2f68ba-372f-4781-834d-be9c2e997513",
   "metadata": {
    "slideshow": {
     "slide_type": "slide"
    },
    "tags": [
     "exercise"
    ]
   },
   "source": [
    "### Exercise 3\n",
    "\n",
    "Create a list containing 10 different numbers, ranging from 0 to 100. For example: $65, 54, 17, 78, 66, 24, 32, 80, 79, 95$.\n",
    "\n",
    "Write a loop which will print out only those numbers which are larger than 50."
   ]
  },
  {
   "cell_type": "code",
   "execution_count": 3,
   "id": "5ae6cf00-7477-4791-b5fb-30412d840180",
   "metadata": {
    "slideshow": {
     "slide_type": "skip"
    }
   },
   "outputs": [],
   "source": [
    "# Write your exercise code here.\n"
   ]
  },
  {
   "cell_type": "markdown",
   "id": "70f20139-abde-4b6f-86a3-1b57673347e3",
   "metadata": {
    "slideshow": {
     "slide_type": "slide"
    },
    "tags": [
     "exercise"
    ]
   },
   "source": [
    "### Exercise 4\n",
    "\n",
    "Create a loop which iterates over the numbers from 1 to 20 (inclusive). Inside the loop:\n",
    "- if the number is divisible by three then print \"ook\",\n",
    "- if the number is divisible by both three and five then print \"foo\",\n",
    "- and if the number is not divisible by either then just print the number.\n",
    "\n",
    "Some Hints:\n",
    "- *You can use the `%` operator to [find the remainder from a division](https://docs.python.org/3/reference/expressions.html#index-68).*\n",
    "- *Take care in the order that you do your `if`/`elif`.*\n",
    "- *You can use a [logical operator (`and`/`or`/`not`)](https://docs.python.org/3/library/stdtypes.html) to combine multiple conditions in the same if statement.*"
   ]
  },
  {
   "cell_type": "code",
   "execution_count": 4,
   "id": "2a7c405c-1196-47ea-b339-4da5ba8857e9",
   "metadata": {
    "slideshow": {
     "slide_type": "skip"
    }
   },
   "outputs": [],
   "source": [
    "# Write your exercise code here.\n"
   ]
  },
  {
   "cell_type": "markdown",
   "id": "b1d96f05-1456-4d9b-b222-463d46b44398",
   "metadata": {
    "slideshow": {
     "slide_type": "slide"
    },
    "tags": [
     "exercise"
    ]
   },
   "source": [
    "### Exercise 5\n",
    "\n",
    "Make a dictionary from the following table of data. The keys of the dictionary should be the names of the paintings and the values should be name of the artist.\n",
    "\n",
    "| Painting            | Artist    |\n",
    "| ------------------- | --------- |\n",
    "| Sunflowers          | van Gogh  |\n",
    "| The Starry Night    | van Gogh  |\n",
    "| The Night Watch     | Rembrandt |\n",
    "| The Two Fridas      | Kahlo     |\n",
    "| Balloon Girl        | Banksy    |\n",
    "| Devolved Parliament | Banksy    |\n",
    "| Going to Work       | Lowry     |\n",
    "\n",
    "Write some code which will print out the work of art and the name of the artist if:\n",
    "1. the artist's name has an \"h\" in it,\n",
    "2. or the name of the artwork is longer than 13 letters.\n",
    "\n",
    "*Hint: There is an [`in` operator](https://docs.python.org/3/reference/expressions.html#membership-test-details) for searching inside strings and a [`len` function](https://docs.python.org/3/library/functions.html#len) for seeing how long something is.*"
   ]
  },
  {
   "cell_type": "code",
   "execution_count": 5,
   "id": "aa7ffaf4-83ba-462f-93a7-d5bed2067f59",
   "metadata": {
    "slideshow": {
     "slide_type": "skip"
    }
   },
   "outputs": [],
   "source": [
    "# Write your exercise code here.\n"
   ]
  },
  {
   "cell_type": "markdown",
   "id": "6f998061-ec8b-473b-b648-f6bf0c0d58ef",
   "metadata": {
    "slideshow": {
     "slide_type": "slide"
    },
    "tags": [
     "exercise"
    ]
   },
   "source": [
    "### Exercise 6\n",
    "\n",
    "Make a dictionary of the same information as the last question, but the other way around this time. The key in the dictionary should be the name of the artist, and the value should be a list of names of their paintings.\n",
    "\n",
    "Write some code which will check *every painting* in the data set. Print out the work of art and the name of the artist if:\n",
    "1. the artist has more than one painting\n",
    "2. and the name of the painting has more than one word.\n"
   ]
  },
  {
   "cell_type": "code",
   "execution_count": 6,
   "id": "8f2b95ee-ca20-46df-ae5d-c3342c849dd7",
   "metadata": {
    "slideshow": {
     "slide_type": "skip"
    }
   },
   "outputs": [],
   "source": [
    "# Write your exercise code here.\n"
   ]
  },
  {
   "cell_type": "markdown",
   "id": "6c824dd1-0dd4-4d8d-9481-9282e1ea4901",
   "metadata": {
    "slideshow": {
     "slide_type": "slide"
    },
    "tags": [
     "exercise"
    ]
   },
   "source": [
    "### Exercise 7\n",
    "\n",
    "Create a list with some words in it, making sure some words are repeated.\n",
    "\n",
    "The task is to fill up a dictionary so that it contains the count of the number of times each word appears in the list.\n",
    "\n",
    "So, for example if your word list looks like:\n",
    "```python\n",
    "word_list = [\"to\", \"be\", \"or\", \"not\", \"to\", \"be\"]\n",
    "```\n",
    "then the output dictionary would look like:\n",
    "```python\n",
    "{\"to\": 2, \"be\": 2, \"or\": 1. \"not\": 1}\n",
    "```\n",
    "\n",
    "*Hint: You can check whether a dictionary already has a particular key in it using the `in` operator.*"
   ]
  },
  {
   "cell_type": "code",
   "execution_count": 7,
   "id": "6fe8d1d2-24d6-4f2e-8083-ebfc61d23c3d",
   "metadata": {
    "slideshow": {
     "slide_type": "skip"
    }
   },
   "outputs": [],
   "source": [
    "# Write your exercise code here.\n"
   ]
  },
  {
   "cell_type": "markdown",
   "id": "e0e4459d-35ab-40c0-9987-36b8cec0ee4b",
   "metadata": {
    "slideshow": {
     "slide_type": "slide"
    },
    "tags": [
     "exercise"
    ]
   },
   "source": [
    "### Exercise 8\n",
    "\n",
    "Take your answer from the last exercise but adapt it to read the list of words from a file. To make this work you will need to first create a file containing all the words. For example a file called `words.txt`:\n",
    "\n",
    "```\n",
    "to\n",
    "be\n",
    "or\n",
    "not\n",
    "to\n",
    "be\n",
    "```"
   ]
  },
  {
   "cell_type": "code",
   "execution_count": 8,
   "id": "0b3b7f0f-93c5-45fd-9947-0a105739269c",
   "metadata": {
    "slideshow": {
     "slide_type": "skip"
    }
   },
   "outputs": [],
   "source": [
    "# Write your exercise code here.\n"
   ]
  },
  {
   "cell_type": "markdown",
   "id": "940a0ac0-8946-403b-838a-b800639c995b",
   "metadata": {
    "slideshow": {
     "slide_type": "skip"
    }
   },
   "source": [
    "[<big>Answers to all Practice Questions</big>](../solutions/practice_questions.ipynb)"
   ]
  }
 ],
 "metadata": {
  "celltoolbar": "Slideshow",
  "kernelspec": {
   "display_name": "Python 3 (ipykernel)",
   "language": "python",
   "name": "python3"
  },
  "language_info": {
   "codemirror_mode": {
    "name": "ipython",
    "version": 3
   },
   "file_extension": ".py",
   "mimetype": "text/x-python",
   "name": "python",
   "nbconvert_exporter": "python",
   "pygments_lexer": "ipython3",
   "version": "3.9.12"
  }
 },
 "nbformat": 4,
 "nbformat_minor": 5
}
