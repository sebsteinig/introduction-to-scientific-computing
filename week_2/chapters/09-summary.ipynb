{
 "cells": [
  {
   "cell_type": "markdown",
   "id": "e057e088-de06-4266-9959-eb42894dbbb4",
   "metadata": {
    "slideshow": {
     "slide_type": "skip"
    }
   },
   "source": [
    "#### [[back to main](../week_02_workbook_python-basics.ipynb)]"
   ]
  },
  {
   "cell_type": "markdown",
   "id": "f7fbdd2a",
   "metadata": {
    "slideshow": {
     "slide_type": "slide"
    }
   },
   "source": [
    "# Summary\n",
    "\n",
    "Well done for getting this far! We've covered a lot in this course:\n",
    "\n",
    "- JupyterLab\n",
    "- Scripts vs. Notebooks\n",
    "- The `print()` function\n",
    "- Basic data types: strings, floats and integers\n",
    "- Indexing, slicing and appending to lists\n",
    "- Reading Python errors\n",
    "- Branching logic using `if` and `else` statements\n",
    "- Looping over different data structures such as lists, ranges, dictionaries and files\n",
    "- Using `range()` and `enumerate()` to loop in different ways\n",
    "- Creating, modifying and accessing dictionaries\n",
    "- Reading files using `open()` and the `with` keyword"
   ]
  },
  {
   "cell_type": "markdown",
   "id": "5caf8e12-8dab-4f1c-8f79-6981247eb3a6",
   "metadata": {
    "slideshow": {
     "slide_type": "slide"
    }
   },
   "source": [
    "You're not expected to have comitted all of this to memory already, learning any programming language takes more than a couple of hours. \n",
    "\n",
    "It is only by continuing to use Python and practise that you will become more confident. "
   ]
  },
  {
   "cell_type": "markdown",
   "id": "5967ea29-e728-4620-9c6b-20c2e6b68e9f",
   "metadata": {
    "slideshow": {
     "slide_type": "slide"
    }
   },
   "source": [
    "## Worksheet\n",
    "\n",
    "To give you something to take away with you to practise with, there is a [worksheet with questions](99-practice_questions.ipynb). If you get to this point in the practical then feel free to start now, otherwise work on them between this and the next week."
   ]
  },
  {
   "cell_type": "markdown",
   "id": "ae3701e8-7756-4d8f-805c-9f8cb76c63e8",
   "metadata": {
    "slideshow": {
     "slide_type": "slide"
    }
   },
   "source": [
    "### One last challenge\n",
    "\n",
    "Let's end this session with a more difficult challenge. We're going to make a calculator which can read numerical operations from a file and print the answers to the screen.\n",
    "\n",
    "Start by making a file called `calc.txt` with the following contents:\n",
    "\n",
    "```\n",
    "4 * 6\n",
    "5 + 6\n",
    "457 - 75\n",
    "54 / 3\n",
    "4 + 6\n",
    "```\n",
    "\n",
    "Make sure that you have the spaces between each number and the operator.\n",
    "\n",
    "- Write a program which reads in that file and performs the mathematical operations listed. It should output something like:\n",
    "  ```\n",
    "  4 * 6 is 24\n",
    "  5 + 6 is 11\n",
    "  457 - 75 is 382\n",
    "  54 / 3 is 18.0\n",
    "  4 + 6 is 10\n",
    "  ```\n",
    "  - There are some extra functions you will need to do this. Firstly, [the `split` function](https://docs.python.org/3/library/stdtypes.html#str.split) which takes a string and returns a list containing the string, split by spaces. Secondly, you may need [the `strip` function](https://docs.python.org/3/library/stdtypes.html#str.strip) which removes any whitespace from the beginning and end of a string, including removing newlines.\n",
    "- The example file only has integers in it, can you adjust your program so that it can accept floating point numbers as well?\n",
    "- Can you adapt your program so that it can support code with or without spaces either side of the operator? This is a more challenging exercise so feel free to ask for some some help and be sure to show one of the instructors your answer once you've got it working.\n",
    "\n",
    "[<small>answer</small>](../solutions/calculator.ipynb)"
   ]
  },
  {
   "cell_type": "markdown",
   "id": "d1ae6a72-ae65-418c-8d45-20fee4b76caf",
   "metadata": {
    "slideshow": {
     "slide_type": "skip"
    }
   },
   "source": [
    "## Credits\n",
    "\n",
    "Most of this course was originally written by Christopher Woods and Matt Williams and published at https://milliams.com/courses/beginning_python/. It was modified and adapted by Sebastian Steinig.\n",
    "\n",
    "All text is published under a [Creative Commons Attribution 4.0 International\n",
    "License](https://creativecommons.org/licenses/by/4.0/) with all code snippets licensed as MIT."
   ]
  },
  {
   "cell_type": "markdown",
   "id": "85c78787-3491-407e-8992-9ec251edc4d4",
   "metadata": {
    "slideshow": {
     "slide_type": "skip"
    }
   },
   "source": [
    "## [[Previous](./08-files.ipynb)] | [[Next](./99-practice_questions.ipynb)]"
   ]
  }
 ],
 "metadata": {
  "celltoolbar": "Slideshow",
  "kernelspec": {
   "display_name": "Python 3 (ipykernel)",
   "language": "python",
   "name": "python3"
  },
  "language_info": {
   "codemirror_mode": {
    "name": "ipython",
    "version": 3
   },
   "file_extension": ".py",
   "mimetype": "text/x-python",
   "name": "python",
   "nbconvert_exporter": "python",
   "pygments_lexer": "ipython3",
   "version": "3.9.12"
  }
 },
 "nbformat": 4,
 "nbformat_minor": 5
}
