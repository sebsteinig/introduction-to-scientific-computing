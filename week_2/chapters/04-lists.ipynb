{
 "cells": [
  {
   "cell_type": "markdown",
   "id": "e057e088-de06-4266-9959-eb42894dbbb4",
   "metadata": {
    "slideshow": {
     "slide_type": "skip"
    }
   },
   "source": [
    "#### [[back to main](../week_02_workbook_python-basics.ipynb)]"
   ]
  },
  {
   "cell_type": "markdown",
   "id": "dca78399-6a51-4f14-aedd-b670aa4d3098",
   "metadata": {
    "slideshow": {
     "slide_type": "slide"
    },
    "tags": []
   },
   "source": [
    "# Lists\n",
    "\n",
    "Until now all the variables we have used have contained a single piece of information, for example, `a = 4` makes a variable a containing a single number, `4`. It’s very common in programming (and in fact real life) to want to refer to collections of this. For example a shopping list contains a list of items you want to buy, or a car park contains a set of cars.\n"
   ]
  },
  {
   "cell_type": "code",
   "execution_count": null,
   "id": "67be4fa8-3a26-4084-b7b1-ff5f88b46dff",
   "metadata": {
    "slideshow": {
     "slide_type": "fragment"
    }
   },
   "outputs": [],
   "source": [
    "my_list = [\"cat\", \"dog\", 261]\n",
    "\n",
    "print(my_list)"
   ]
  },
  {
   "cell_type": "markdown",
   "id": "b12baaff-7e1d-451e-bc6b-d25274531dad",
   "metadata": {
    "slideshow": {
     "slide_type": "skip"
    }
   },
   "source": [
    "This will create a Python `list` with three elements and assign it to the variable `my_list`. The square brackets `[` and `]` in this case mean \"create a list\" and the elements of the list are then separated by commas. As with previous variable types, you can print lists by passing their name to the `print()` function."
   ]
  },
  {
   "cell_type": "markdown",
   "id": "a63c7824-34e1-4eb9-94a0-a58522d84ace",
   "metadata": {
    "slideshow": {
     "slide_type": "skip"
    }
   },
   "source": [
    "You can have as many items in a list as you like, even zero items. An empty list could look like:\n",
    "\n",
    "```python\n",
    "my_list = []\n",
    "```\n",
    "\n",
    "And a list with six different numbers could look like:\n",
    "\n",
    "```python\n",
    "my_list = [32, 65, 3, 867, 3, -5]\n",
    "```"
   ]
  },
  {
   "cell_type": "markdown",
   "id": "1c6c7885-77cd-4271-b8ad-e8973365dcc7",
   "metadata": {
    "slideshow": {
     "slide_type": "skip"
    }
   },
   "source": [
    "## Indexing\n",
    "\n",
    "The power of Python's lists comes not simply from being able to hold many pieces of data but from being able to get specific pieces of data out. The primary method of this is called *indexing*. Indexing a list in Python is done using the square brackets `[]`. This is a different use of the square brackets to that which we saw above for *making* a list.\n",
    "\n",
    "To get a single element out of a list you write the name of the variable followed by a pair of square brackets with a single number between them:"
   ]
  },
  {
   "cell_type": "code",
   "execution_count": null,
   "id": "370d6c19-95ae-4fc6-97c5-93a1343c5208",
   "metadata": {
    "slideshow": {
     "slide_type": "skip"
    }
   },
   "outputs": [],
   "source": [
    "my_list = [\"cat\", \"dog\", 261]\n",
    "\n",
    "my_element = my_list[1]\n"
   ]
  },
  {
   "cell_type": "markdown",
   "id": "7eade3db-325d-4c28-a02d-033ab292a287",
   "metadata": {
    "slideshow": {
     "slide_type": "skip"
    }
   },
   "source": [
    "The code `my_list[1]` means \"give me the number one element of the list `my_list`\"."
   ]
  },
  {
   "cell_type": "markdown",
   "id": "1432d0b9-5c5b-4188-9aa2-adf2a618ee9f",
   "metadata": {
    "slideshow": {
     "slide_type": "slide"
    }
   },
   "source": [
    "### Exercise 4        \n",
    ">- Duplicate and run above code to get the number one element of the list `my_list`. Did you expect this result?\n",
    ">- Create some more lists. Try adding different data types, rearrange the lists and print single items from the lists.\n",
    "        \n",
    "<div>"
   ]
  },
  {
   "cell_type": "code",
   "execution_count": null,
   "id": "a1cc4370-ebca-43a7-a753-735488203080",
   "metadata": {
    "slideshow": {
     "slide_type": "skip"
    }
   },
   "outputs": [],
   "source": [
    "# Write your exercise code here.\n"
   ]
  },
  {
   "cell_type": "markdown",
   "id": "9d88846d-b001-435f-a77b-ad836307dc88",
   "metadata": {
    "slideshow": {
     "slide_type": "skip"
    }
   },
   "source": [
    "[<small>answer</small>](../solutions/list_indexing.ipynb)"
   ]
  },
  {
   "cell_type": "markdown",
   "id": "5f86c3ad-cbaa-48e7-8a90-c4942ca68ad1",
   "metadata": {
    "slideshow": {
     "slide_type": "skip"
    }
   },
   "source": [
    "You'll probably notice that it prints `dog` whereas you may have expected it to print `cat`. This is because in Python you count from zero when indexing lists and so index `1` refers to the second item in the list. To get the first item you must use the index `0`. This [\"zero-indexing\"](https://en.wikipedia.org/wiki/Zero-based_numbering) is very common and is used by most programming languages."
   ]
  },
  {
   "cell_type": "markdown",
   "id": "9ae8f437-dbd3-4713-8eee-21f08d2f09a1",
   "metadata": {
    "slideshow": {
     "slide_type": "skip"
    }
   },
   "source": [
    "## Reverse indexing\n",
    "\n",
    "Putting a single positive number in the square brackets gives us back the element which is that distance from the start of the list, but what if we wanted the *last* element? If we know the length of the list (in our case here, 3 elements) then we can use that to know the index of the last element (in this case, `2`), but perhaps we don't know (or don't want to have to check) how long the list is.\n",
    "\n",
    "In this case we can use Python's reverse indexing by placing a negative integer in the square brackets:"
   ]
  },
  {
   "cell_type": "code",
   "execution_count": null,
   "id": "aa4f143d-75d1-4ac3-80b3-a0c87440beec",
   "metadata": {
    "slideshow": {
     "slide_type": "skip"
    }
   },
   "outputs": [],
   "source": [
    "my_list = [\"cat\", \"dog\", 261]\n",
    "\n",
    "my_element = my_list[-1]\n",
    "\n",
    "print(my_element)"
   ]
  },
  {
   "cell_type": "markdown",
   "id": "03765302-a2da-4aaf-b7fc-c8526a990731",
   "metadata": {
    "slideshow": {
     "slide_type": "skip"
    }
   },
   "source": [
    "If you run this code then you will see that it prints `261` which is the last item in the list. Using negative numbers allows you to count backwards from the end of the list so that `-1` is the last item, `-2` is the second-last item etc."
   ]
  },
  {
   "cell_type": "markdown",
   "id": "192327fd",
   "metadata": {
    "slideshow": {
     "slide_type": "slide"
    }
   },
   "source": [
    "## Python errors"
   ]
  },
  {
   "cell_type": "markdown",
   "id": "9a34440a-399d-4de8-8df8-f726a0bc12dc",
   "metadata": {
    "slideshow": {
     "slide_type": "skip"
    }
   },
   "source": [
    "Indexing lists is likely the first time you will see a Python error. Seing Python errors (also sometimes called *exceptions*) is not a sign that you're a bad programmer or that you're doing something terrible. All Python programmers, even those that have been using it for 20 years will still see Python errors on their screen.\n",
    "\n",
    "They are in fact a very useful feedback mechanism from the computer to the programmer but that can be a bit daunting when you first see them. Let's look at an example and learn how to read them. Let's start by creating an error.\n",
    "\n",
    "A Python list with three elements will not have an element at index `6` (the highest index in that case would be `2`) so let's have a look at what happens if we ask for it anyway:"
   ]
  },
  {
   "cell_type": "code",
   "execution_count": null,
   "id": "7844a3fb-e6f6-4816-8abd-913fe0e7dc2a",
   "metadata": {
    "slideshow": {
     "slide_type": "fragment"
    }
   },
   "outputs": [],
   "source": [
    "my_list = [\"cat\", \"dog\", 261]\n",
    "\n",
    "my_element = my_list[6]\n",
    "\n",
    "print(my_element)"
   ]
  },
  {
   "cell_type": "markdown",
   "id": "0eeaa553-d8ed-43c1-832b-31f81d3d5dd0",
   "metadata": {
    "slideshow": {
     "slide_type": "skip"
    }
   },
   "source": [
    "Take your time to read the error messages when they are printied to the screen, they will most likely help you solve the issue. It is always good to start reading the last line of an error as that is usually where the most useful information is.\n",
    "\n",
    "The last line is IndexError: list index out of range which has two parts to it. The first is the word before the colon which tells you the type of the exception is an IndexError, i.e. an error when indexing. The second part of that line is usually a slightly more descriptive message, in this case telling us that the specific problem was that the index was \"out of range\", i.e. too high or too low.\n",
    "\n",
    "Moving to the lines above that, we see printed the lines of code, copied from our script, at which the exception occured. The line number, indicated by the green arrow, becomes an essential piece of information in larger scripts to track down where the problem came from."
   ]
  },
  {
   "cell_type": "markdown",
   "id": "79c8b9c9-bc83-4aa5-b427-ae11add35456",
   "metadata": {
    "slideshow": {
     "slide_type": "skip"
    }
   },
   "source": [
    "### Exercise 5\n",
    ">- Duplicate and run above code to reproduce the error message, then try to fix the error.\n",
    ">- You can also try to produce different errors by making some small changes to the code. How many different error messages can you produce? Collect some of them in the table template below.\n",
    "        \n",
    "<div>"
   ]
  },
  {
   "cell_type": "code",
   "execution_count": null,
   "id": "64234dad-e091-422d-903f-da172b89b74d",
   "metadata": {
    "slideshow": {
     "slide_type": "skip"
    }
   },
   "outputs": [],
   "source": [
    "# Write your exercise code here.\n"
   ]
  },
  {
   "cell_type": "markdown",
   "id": "58540875-a35b-44de-a02c-59fb9f8b1f7f",
   "metadata": {
    "slideshow": {
     "slide_type": "skip"
    }
   },
   "source": [
    "[<small>answer</small>](../solutions/list_errors.ipynb)"
   ]
  },
  {
   "cell_type": "markdown",
   "id": "f3a46008-0ead-4b6d-9bb3-5aa2d7725a85",
   "metadata": {
    "slideshow": {
     "slide_type": "skip"
    }
   },
   "source": [
    "| Error message | How to fix |\n",
    "| --- | --- |\n",
    "| `IndexError: list index out of range` | highest index for list with three elements is `2` |\n"
   ]
  },
  {
   "cell_type": "markdown",
   "id": "65cd3642-f11a-44da-a90e-61b746d65af2",
   "metadata": {
    "slideshow": {
     "slide_type": "skip"
    }
   },
   "source": [
    "## Slicing\n",
    "\n",
    "As well as being able to select individual elements from a list, you can also grab sections of it at once. This process of asking for subsections of a list is called *slicing*. Slicing starts out the same way as standard indexing (i.e. with square brackets) but instead of putting a single number between them, you put multiple numbers separated by colons.\n",
    "\n",
    "Between the square brackets you put two numbers, the starting index and the ending index. So, to get the elements from index `2` to index `4`, you do:"
   ]
  },
  {
   "cell_type": "code",
   "execution_count": null,
   "id": "beb28d0e-f828-4067-9711-40db042c6236",
   "metadata": {
    "slideshow": {
     "slide_type": "skip"
    }
   },
   "outputs": [],
   "source": [
    "my_list = [3, 5, \"green\", 5.3, \"house\", 100, 1]\n",
    "\n",
    "my_slice = my_list[2:5]\n"
   ]
  },
  {
   "cell_type": "markdown",
   "id": "222a6ea4-fb40-4a7c-9786-ff68ee0db8db",
   "metadata": {
    "slideshow": {
     "slide_type": "skip"
    }
   },
   "source": [
    "You will see we createtd the new list `my_slice = ['green', 5.3, 'house']` which is index `2` (`'green'`), index `3` (`5.3`) and index `4` (`'house'`). Notice that it did not give us the element at index `5` and that is because with slicing, Python will give you the elements from the starting index up to, *but not including*, the end index.\n",
    "\n",
    "This can be confusing at first, but a trick to keep it straight is to count the commas in the list and treat the indexes as referring to those. So from the example here:\n",
    "\n",
    "```python\n",
    "[3, 5, \"green\", 5.3, \"house\", 100, 1]\n",
    "```\n",
    "```\n",
    "  ↑  ↑        ↑    ↑        ↑    ↑\n",
    "  1  2        3    4        5    6\n",
    "```\n",
    "\n",
    "so `my_list[2:5]` will make a cut at index `2` and index `5`:\n",
    "\n",
    "\n",
    "```python\n",
    "[3, 5, \"green\", 5.3, \"house\", 100, 1]\n",
    "```\n",
    "```\n",
    "     ↑                      ↑\n",
    "     2                      5\n",
    "```\n",
    "\n",
    "and only give you the things between them:\n",
    "\n",
    "```python\n",
    "[    , \"green\", 5.3, \"house\",       ]\n",
    "```\n",
    "```\n",
    "     ↑                      ↑\n",
    "     2                      5\n",
    "```\n",
    "\n",
    "so we end up with:\n",
    "\n",
    "```python\n",
    "['green', 5.3, 'house']\n",
    "```"
   ]
  },
  {
   "cell_type": "markdown",
   "id": "d3a7c286-8c70-46b1-b256-b026fea08220",
   "metadata": {
    "slideshow": {
     "slide_type": "skip"
    }
   },
   "source": [
    "### Exercise 6     \n",
    ">Create your own list and print various slices of your list. \n",
    ">- What happens when you specify a negative start or end index?\n",
    ">- Try to add an optional stride (also called step) using an additional `:` and a third index\n",
    ">- What happens when you remove the start or end index?"
   ]
  },
  {
   "cell_type": "code",
   "execution_count": null,
   "id": "308a8166-3b3d-449a-ad86-04af1be6f05e",
   "metadata": {
    "slideshow": {
     "slide_type": "skip"
    }
   },
   "outputs": [],
   "source": [
    "# Write your exercise code here.\n"
   ]
  },
  {
   "cell_type": "markdown",
   "id": "b05474ed-1c3b-4cb8-9a1c-ef62108c70a4",
   "metadata": {
    "slideshow": {
     "slide_type": "skip"
    }
   },
   "source": [
    "[<small>answer</small>](../solutions/first_slicing.ipynb)"
   ]
  },
  {
   "cell_type": "markdown",
   "id": "92cdc019-5bca-4683-8a8a-1ef1ced89e5c",
   "metadata": {
    "slideshow": {
     "slide_type": "skip"
    }
   },
   "source": [
    "## Adding things to lists\n",
    "\n",
    "Lists in Python are *dynamic*, meaning that they can change size during your script. You can add items to the end of your list by using the `append` function. The `append` function is a little different to other functions that we've used so far (like `print`) in that it is a part of the `list` data type so we use it like:"
   ]
  },
  {
   "cell_type": "code",
   "execution_count": null,
   "id": "6cb5c5b5-608f-4ac3-a315-3668f10addef",
   "metadata": {
    "slideshow": {
     "slide_type": "skip"
    }
   },
   "outputs": [],
   "source": [
    "my_list = [\"cat\", \"dog\"]\n",
    "\n",
    "my_list.append(\"horse\")\n",
    "\n",
    "print(my_list)"
   ]
  },
  {
   "cell_type": "markdown",
   "id": "93ae28ad-b010-4b03-bb7b-b0061b08ca88",
   "metadata": {
    "slideshow": {
     "slide_type": "skip"
    }
   },
   "source": [
    "Here you see we gave the name of our list (`my_list`) followed it by a dot (`.`) and then the name of the function that we wanted to call (`append`). Functions which are part of data types like this are sometimes called *methods*.\n",
    "\n",
    "We might describe the middle line here as \"calling the `append` method on the object `my_list`\"."
   ]
  },
  {
   "cell_type": "markdown",
   "id": "85c78787-3491-407e-8992-9ec251edc4d4",
   "metadata": {
    "slideshow": {
     "slide_type": "slide"
    }
   },
   "source": [
    "## [[Previous: Data types](./03-data_types.ipynb)] | [[Next: Loops](./05-loops.ipynb)]"
   ]
  }
 ],
 "metadata": {
  "celltoolbar": "Slideshow",
  "kernelspec": {
   "display_name": "Python 3 (ipykernel)",
   "language": "python",
   "name": "python3"
  },
  "language_info": {
   "codemirror_mode": {
    "name": "ipython",
    "version": 3
   },
   "file_extension": ".py",
   "mimetype": "text/x-python",
   "name": "python",
   "nbconvert_exporter": "python",
   "pygments_lexer": "ipython3",
   "version": "3.9.12"
  }
 },
 "nbformat": 4,
 "nbformat_minor": 5
}
