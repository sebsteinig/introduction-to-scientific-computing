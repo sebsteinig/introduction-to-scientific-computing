{
 "cells": [
  {
   "cell_type": "markdown",
   "id": "e057e088-de06-4266-9959-eb42894dbbb4",
   "metadata": {
    "slideshow": {
     "slide_type": "skip"
    }
   },
   "source": [
    "#### [[back to main](../week_02_workbook_python-basics.ipynb)]"
   ]
  },
  {
   "cell_type": "markdown",
   "id": "f798f3f1",
   "metadata": {
    "slideshow": {
     "slide_type": "slide"
    },
    "tags": []
   },
   "source": [
    "# Loops\n",
    "\n",
    "In the introduction you were told that Python will read your code cell (or script), starting at the top and running each line of code until it reaches the bottom. While largely true, it is possible to make Python repeat certain lines of code using *loops*.\n",
    "\n",
    "The ability to run a line of code multiple times is the first large step on your road to making your code *reusable*."
   ]
  },
  {
   "cell_type": "markdown",
   "id": "dca78399-6a51-4f14-aedd-b670aa4d3098",
   "metadata": {
    "slideshow": {
     "slide_type": "subslide"
    },
    "tags": []
   },
   "source": [
    "Imagine we have two strings that we want to print. We could start by making a variable containing one of the words and then printing it:\n",
    "\n",
    "```python\n",
    "word = \"Scientific\"\n",
    "\n",
    "print(word)\n",
    "```\n",
    "\n",
    "To print our second word, we could copy and paste those two lines to create a program which can print both words:"
   ]
  },
  {
   "cell_type": "code",
   "execution_count": null,
   "id": "8028bbcc-5180-41e7-acec-d1168bf63187",
   "metadata": {
    "slideshow": {
     "slide_type": "subslide"
    }
   },
   "outputs": [],
   "source": [
    "word = \"Scientific\"\n",
    "\n",
    "print(word)\n",
    "\n",
    "word = \"Computing\"\n",
    "\n",
    "print(word)"
   ]
  },
  {
   "cell_type": "markdown",
   "id": "da640274-b2e8-4b66-b4fd-949000b30cec",
   "metadata": {
    "slideshow": {
     "slide_type": "skip"
    }
   },
   "source": [
    "This printed the output we want. But we can see that this code is wasteful as the two `print` lines are identical to each other. They both print whatever the variable `word` is pointing at. If we can manage to write that line only once then we could save ourselves some typing!\n",
    "\n",
    "Let's start by making a container for our words. A Python `list` makes sense:\n",
    "\n",
    "```python\n",
    "my_words = [\"Scientific\", \"Computing\"]\n",
    "```\n",
    "\n",
    "we can now write a loop which will perform a task once for each word in our list:"
   ]
  },
  {
   "cell_type": "code",
   "execution_count": null,
   "id": "3019d884-3cde-4eda-9d98-9878c66d693b",
   "metadata": {
    "slideshow": {
     "slide_type": "skip"
    }
   },
   "outputs": [],
   "source": [
    "my_words = [\"Scientific\", \"Computing\"]\n",
    "\n",
    "for word in my_words:\n",
    "    print(word)"
   ]
  },
  {
   "cell_type": "markdown",
   "id": "58df7902",
   "metadata": {
    "slideshow": {
     "slide_type": "skip"
    }
   },
   "source": [
    "We've taken a script that was four lines of code and have reduced it to three lines. That might not seem like much of a reduction but the loop we wrote will work no matter how many items there are in the list `my_words`."
   ]
  },
  {
   "cell_type": "markdown",
   "id": "0c5869f4-755a-4584-9ec6-7040dc06e983",
   "metadata": {
    "slideshow": {
     "slide_type": "skip"
    }
   },
   "source": [
    "Most loops in Python work by doing some set of actions for each item in the list. For this reason, this sort of loop is sometimes called a *for-each* loop.\n",
    "\n",
    "This maps to real life where you may want, for example, to buy each item on your shopping list. Another way of saying that could be \"for each item on my shopping list, buy the item\", or as you would write that in Python:\n",
    "\n",
    "```python\n",
    "for item in shopping_list:\n",
    "    buy(item)\n",
    "```"
   ]
  },
  {
   "cell_type": "markdown",
   "id": "6b1770ca-ca30-4a99-8319-21ec8d52a86a",
   "metadata": {
    "slideshow": {
     "slide_type": "skip"
    }
   },
   "source": [
    "### Exercise 7\n",
    "> - Duplicate `my_words` and change the number number of words in the list. \n",
    "> - Does it work if you put integers or floats in there as well?\n",
    "> - What happens if the list `my_words` is emtpy?\n",
    ">   - *hint: empty lists look like `[]`*"
   ]
  },
  {
   "cell_type": "code",
   "execution_count": null,
   "id": "36add793-62d0-4d84-8685-97c29a082691",
   "metadata": {
    "slideshow": {
     "slide_type": "skip"
    }
   },
   "outputs": [],
   "source": [
    "# Write your exercise code here.\n"
   ]
  },
  {
   "cell_type": "markdown",
   "id": "195b9d73-5917-4aee-a39b-2dd587c6e7e3",
   "metadata": {
    "slideshow": {
     "slide_type": "skip"
    }
   },
   "source": [
    "[<small>answer</small>](../solutions/first_loop.ipynb)"
   ]
  },
  {
   "cell_type": "markdown",
   "id": "80ca0f8c",
   "metadata": {
    "slideshow": {
     "slide_type": "slide"
    }
   },
   "source": [
    "## Loop syntax breakdown\n",
    "\n",
    "Before we move on to other things we can do with loops, let's first make sure that we understand what's happening on those two lines of Python code that make up the loop."
   ]
  },
  {
   "cell_type": "markdown",
   "id": "3fc4044d",
   "metadata": {
    "slideshow": {
     "slide_type": "subslide"
    }
   },
   "source": [
    "The first line is where most of the magic is hapenning and we can break it down into five sections, three of fixed scaffolding and two where you as a programmer can have input.\n",
    "\n",
    "The scaffolding is the parts of the line which must always be the same and which Python uses to know that you're trying to make a loop. They're pointed out here as the word `for`, the word `in` and the colon (`:`) at the end of the line. These must always be there and in that order:\n",
    "\n",
    "<pre>\n",
    " ↓        ↓         ↓\n",
    "<b style=\"color:darkred\">for</b> word <b style=\"color:darkred\">in</b> my_words<b style=\"color:darkred\">:</b>\n",
    "    print(word)\n",
    "</pre>"
   ]
  },
  {
   "cell_type": "markdown",
   "id": "aa6c4e2a",
   "metadata": {
    "slideshow": {
     "slide_type": "subslide"
    }
   },
   "source": [
    "Once the scaffolding is in place, you can place between it the things that *you* care about. the first thing to think about is the object that you want to loop over. In our case we want to loop over the list `my_words` because we want to perform some action on every item in that list (we want to print the item):\n",
    "\n",
    "<pre>\n",
    "                ↓\n",
    "for word in <b style=\"color:darkred\">my_words</b>:\n",
    "    print(word)\n",
    "</pre>"
   ]
  },
  {
   "cell_type": "markdown",
   "id": "0d0bb22b",
   "metadata": {
    "slideshow": {
     "slide_type": "subslide"
    }
   },
   "source": [
    "Now we have decided what object we are looping over, we need to decide what name we want to give temporarily to each item as we get to it. "
   ]
  },
  {
   "cell_type": "markdown",
   "id": "159da449",
   "metadata": {
    "slideshow": {
     "slide_type": "skip"
    }
   },
   "source": [
    "As with any variable naming, it is important that we choose a good name which describe a single object from the list. For example, if we're looping over all students in a class then we could call the variable `student` or if we're looping over a list of ages then we could call the variable `age`. The actual choice of variable name here does not affect how the code runs. We could use the name `sausage` and the code would run identically."
   ]
  },
  {
   "cell_type": "markdown",
   "id": "cfd18ddc",
   "metadata": {
    "slideshow": {
     "slide_type": "-"
    }
   },
   "source": [
    "Here, since we're looping over a list of generic *words*, we name our variable `word`:\n",
    "\n",
    "<pre>\n",
    "      ↓\n",
    "for <b style=\"color:darkred\">word</b> in my_words:\n",
    "    print(word)\n",
    "</pre>"
   ]
  },
  {
   "cell_type": "markdown",
   "id": "55f560fe",
   "metadata": {
    "slideshow": {
     "slide_type": "subslide"
    }
   },
   "source": [
    "That's all that's required to tell Python that we're making a loop! But if we want the loop to actually *do* something then we need to give the loop a *body*. The body is the lines of code that are going to be repeated. They can be any Python code but it is only within the body of the loop that we can refer to the loop variable `word`:\n",
    "\n",
    "<pre>\n",
    "for word in my_words:\n",
    "    <b style=\"color:darkred\">print(word)</b>       ← body of loop\n",
    "</pre>"
   ]
  },
  {
   "cell_type": "markdown",
   "id": "8a299158",
   "metadata": {
    "slideshow": {
     "slide_type": "skip"
    }
   },
   "source": [
    "Finally, we get to a peculiarity of Python in that it uses indentation to decide what is in the body of the loop and what is not. Remember that it will only repeat the code in the body. All code in the body must be indented relative to the word `for` by four spaces. A trick to help remember this is that every time you see a colon in Python you should start a new line and indent:\n",
    "\n",
    "<pre>\n",
    "                  <i>colon</i>\n",
    "                    ↓\n",
    "for word in my_words<b style=\"color:darkred\">:</b>\n",
    "    print(word)\n",
    "  ↑\n",
    "<i>indentation</i>\n",
    "</pre>"
   ]
  },
  {
   "cell_type": "markdown",
   "id": "1b1a5c45-d3b5-4623-b0cd-913d14c75a9e",
   "metadata": {
    "slideshow": {
     "slide_type": "skip"
    }
   },
   "source": [
    "If we want to write code after the end of a loop, we have to make sure that it is *not* indented. \n",
    "\n",
    "So the output of this code:"
   ]
  },
  {
   "cell_type": "code",
   "execution_count": null,
   "id": "34aa043e-5a4b-478d-aff2-db0f828e855a",
   "metadata": {
    "slideshow": {
     "slide_type": "skip"
    }
   },
   "outputs": [],
   "source": [
    "my_words = [\"Hello\", \"Python\"]\n",
    "\n",
    "for word in my_words:\n",
    "    print(word)\n",
    "\n",
    "print(\"...Goodbye\")"
   ]
  },
  {
   "cell_type": "markdown",
   "id": "f326d355-ea86-478b-ac32-eff4ee106d23",
   "metadata": {
    "slideshow": {
     "slide_type": "skip"
    }
   },
   "source": [
    "is different than the output of this code:"
   ]
  },
  {
   "cell_type": "code",
   "execution_count": null,
   "id": "17686965-f002-41a6-a871-edc4ddd7abc9",
   "metadata": {
    "slideshow": {
     "slide_type": "skip"
    }
   },
   "outputs": [],
   "source": [
    "my_words = [\"Hello\", \"Python\"]\n",
    "\n",
    "for word in my_words:\n",
    "    print(word)\n",
    "\n",
    "    print(\"...Goodbye\")"
   ]
  },
  {
   "cell_type": "markdown",
   "id": "b0b4f19c-51bc-4d50-93ba-8c33d5c9bfd5",
   "metadata": {
    "slideshow": {
     "slide_type": "skip"
    }
   },
   "source": [
    "## What can we loop over\n",
    "\n",
    "A lot of the power of loops comes from being able to put a lot of different things in the place of `my_words`.\n",
    "\n",
    "Most simply, instead of putting a variable name there, you can put a list directly:"
   ]
  },
  {
   "cell_type": "code",
   "execution_count": null,
   "id": "0e18f429-0fed-486f-9be4-f6e7e8a08f19",
   "metadata": {
    "slideshow": {
     "slide_type": "skip"
    }
   },
   "outputs": [],
   "source": [
    "for word in [\"Hello\", \"Python\"]:\n",
    "    print(word)"
   ]
  },
  {
   "cell_type": "markdown",
   "id": "de8c7a85-e952-4fd4-8214-3b39f5647174",
   "metadata": {
    "slideshow": {
     "slide_type": "skip"
    }
   },
   "source": [
    "As well as lists we can put anything which Python considers *iterable*. For now we haven't come across many of those but as we keep learning we'll discover many more. One that we have already come across is strings:"
   ]
  },
  {
   "cell_type": "code",
   "execution_count": null,
   "id": "ded289e0-568b-4b7f-86b9-69824980cceb",
   "metadata": {
    "slideshow": {
     "slide_type": "skip"
    }
   },
   "outputs": [],
   "source": [
    "phrase = \"Hello Python\"\n",
    "\n",
    "for letter in phrase:\n",
    "    print(letter)"
   ]
  },
  {
   "cell_type": "markdown",
   "id": "b275fdc6-cd02-4d12-b870-7e0d6d1cc410",
   "metadata": {
    "slideshow": {
     "slide_type": "skip"
    }
   },
   "source": [
    "## Ranges of numbers\n",
    "\n",
    "There's a built in function in Python called `range` which provides you with numbers in a range. If given one number as an argument it will give you integers, starting from zero and going up to, *but not including*, the number you gave as an agument. We can put this call to the `range` function directly into our loop as the object to loop over:"
   ]
  },
  {
   "cell_type": "code",
   "execution_count": null,
   "id": "e298aaf3-b863-489c-8b9b-9c6ec810c302",
   "metadata": {
    "slideshow": {
     "slide_type": "skip"
    }
   },
   "outputs": [],
   "source": [
    "for number in range(5):\n",
    "    print(number)"
   ]
  },
  {
   "cell_type": "markdown",
   "id": "8745818f-70a5-4d0c-81bd-28f4183dbc90",
   "metadata": {
    "slideshow": {
     "slide_type": "skip"
    }
   },
   "source": [
    "The `range` function can also be given two arguments, in which case, the first argument is the number to start counting from and the second argument is used as above:"
   ]
  },
  {
   "cell_type": "code",
   "execution_count": null,
   "id": "ebd59913-8ff0-4663-b2eb-969af543c5db",
   "metadata": {
    "slideshow": {
     "slide_type": "skip"
    }
   },
   "outputs": [],
   "source": [
    "for number in range(10, 13):\n",
    "    print(number)"
   ]
  },
  {
   "cell_type": "markdown",
   "id": "9d26603c-bdf4-4ce4-9878-02b5cacaf5e4",
   "metadata": {
    "slideshow": {
     "slide_type": "skip"
    }
   },
   "source": [
    "## Enumerating\n",
    "\n",
    "When looping over a list we are provided with one element at a time which we give a name (`word` in our example earlier) to be used inside the loop body. However, we don't have any context about, for example, what the index of the item is from the list.\n",
    "\n",
    "To be able to loop over a list and keep track of both the index of the item and the item itself we can use the `enumerate` function. This function, if given a list, can give to the loop both pieces of information at once.\n",
    "\n",
    "<pre>\n",
    "                          ↓\n",
    "for index, word in <b style=\"color:darkred\">enumerate(my_words)</b>:\n",
    "    print(word, \"is at index\", index)\n",
    "</pre>\n",
    "\n",
    "Since each time through the loop we are being given not just one piece of information (the element) but two (the index *and* the element) we need to provide two loop variable names. We do this by giving both names separated by commas in the usual place:\n",
    "\n",
    "<pre>\n",
    "      ↓     ↓\n",
    "for <b style=\"color:darkred\">index, word</b> in enumerate(my_words):\n",
    "    print(word, \"is at index\", index)\n",
    "</pre>"
   ]
  },
  {
   "cell_type": "markdown",
   "id": "e064efb3-a61b-44e2-b867-563d24fd7652",
   "metadata": {
    "slideshow": {
     "slide_type": "slide"
    }
   },
   "source": [
    "### Exercise 8  \n",
    "> - Create a list of floats and loop over them, printing the index of the element as well as the value of the float.\n",
    "> - Try to use the loop to calculate the cumulative sum of all the elements of the list so far. Print the results at each iteration of the loop.\n",
    ">     - *Hint: Make an integer before the loop, initially set to zero and add to it each time around the loop*\n",
    "> - Can you skip every second element of your list in the calculation of the cumulative sum?\n",
    ">     - *Hint: Remember what you learned about slicing and the optional stride parameter in a previous exercise*"
   ]
  },
  {
   "cell_type": "code",
   "execution_count": null,
   "id": "b953d11b-d6e7-4cc5-814f-7f35ba2a33a5",
   "metadata": {
    "slideshow": {
     "slide_type": "skip"
    }
   },
   "outputs": [],
   "source": [
    "# Write your exercise code here.\n"
   ]
  },
  {
   "cell_type": "markdown",
   "id": "f017edfd-e717-4139-98e0-82eda85e5386",
   "metadata": {
    "slideshow": {
     "slide_type": "skip"
    }
   },
   "source": [
    "[<small>answer</small>](../solutions/loop_floats_enumerate.ipynb)"
   ]
  },
  {
   "cell_type": "markdown",
   "id": "85c78787-3491-407e-8992-9ec251edc4d4",
   "metadata": {
    "slideshow": {
     "slide_type": "slide"
    }
   },
   "source": [
    "## [[Previous: Lists](./04-lists.ipynb)] | [[Next: Conditionals](./06-conditionals.ipynb)]"
   ]
  }
 ],
 "metadata": {
  "celltoolbar": "Slideshow",
  "kernelspec": {
   "display_name": "Python 3 (ipykernel)",
   "language": "python",
   "name": "python3"
  },
  "language_info": {
   "codemirror_mode": {
    "name": "ipython",
    "version": 3
   },
   "file_extension": ".py",
   "mimetype": "text/x-python",
   "name": "python",
   "nbconvert_exporter": "python",
   "pygments_lexer": "ipython3",
   "version": "3.9.12"
  }
 },
 "nbformat": 4,
 "nbformat_minor": 5
}
