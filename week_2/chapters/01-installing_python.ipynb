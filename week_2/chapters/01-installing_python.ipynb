{
 "cells": [
  {
   "cell_type": "markdown",
   "id": "1e8f87e0-5544-424a-87be-226096412f89",
   "metadata": {
    "rise": {
     "autolaunch": true
    },
    "slideshow": {
     "slide_type": "skip"
    }
   },
   "source": [
    "#### [[back to main](../week_02_workbook_python-basics.ipynb)]"
   ]
  },
  {
   "cell_type": "markdown",
   "id": "8ea191d1",
   "metadata": {
    "slideshow": {
     "slide_type": "skip"
    }
   },
   "source": [
    "# Setting up your workspace\n",
    "\n",
    "We already wrote and ran our very first lines of Python code during our first lecture. For this, we used a free tool called JupyterLab which provides you with a local editor in your web browser where you can write and run Python code. We will continue to use JupyterLab for the next couple of weeks, so let's go over the necessary steps to set up your workspace again. **If you are viewing this notebook already within JupyterLab you can directly jump to step 5 below, otherwise you can use the following guideline to get started:**\n",
    "\n",
    "1. The easiest way to get access to JupyterLab is to [install Anaconda](https://www.anaconda.com/products/individual#Downloads) which is a piece of software which includes Python along with lots of other tools. It is freely available for Windows, MacOS and Linux. Anaconda should be pre-installed on all the computers in the teaching labs and you should be ready to start coding just by signing in with your UoB credentials (make sure to click on the shortcut for Anaconda3, which will use Python 3). You can also install it on your personal laptop and follow the course on it. If you are working on a loan laptop, Anaconda can be installed into your home area, so you will not need any special permissions.\n",
    "\n",
    "2. Once Anaconda is installed, start the \"Anaconda Navigator\" and press the JupyterLab button on the main screen:"
   ]
  },
  {
   "cell_type": "markdown",
   "id": "7bd394ef-9ae3-447b-a1d7-ea0048ca9a2c",
   "metadata": {
    "slideshow": {
     "slide_type": "slide"
    }
   },
   "source": [
    "![Anaconda Navigator](../assets/anaconda-navigator.jpg \"Anaconda Navigator\")"
   ]
  },
  {
   "cell_type": "markdown",
   "id": "767ab684-159e-4d15-9757-15453ba7230c",
   "metadata": {
    "slideshow": {
     "slide_type": "slide"
    }
   },
   "source": [
    "3. If you are working on a UoB Windows computer in the teaching lab, the MSc study space or the Haggett Lab, you will probably see the error below when you try to launch JupyterLab. **To fix this, launch the Notebook application instead of JupyterLab from the Anaconda Navigator. Once the Notebook browser window has started, change the URL in the address bar from '*/tree' to '*/lab'**"
   ]
  },
  {
   "cell_type": "markdown",
   "id": "ab6e3ca8-27fa-45f7-93ec-809cd9e361c3",
   "metadata": {},
   "source": [
    "![JupyterLab](../assets/jupyterlab-error.png \"JupyterLab Error\")"
   ]
  },
  {
   "cell_type": "markdown",
   "id": "57318b61-d568-48a9-b997-3b83320f0a6f",
   "metadata": {
    "slideshow": {
     "slide_type": "skip"
    }
   },
   "source": [
    "4. JupyterLab in your should now be open in your default web browser and will look something like this:\n",
    "\n",
    "![JupyterLab](../assets/jupyterlab.jpg \"JupyterLab\")"
   ]
  },
  {
   "cell_type": "markdown",
   "id": "5b2665cd-13dd-4780-baf5-9b8ab4d2eedd",
   "metadata": {
    "slideshow": {
     "slide_type": "slide"
    }
   },
   "source": [
    "5. The exact contents of the window, especially the list of files in the file browser on the left, might look different than in the screenshot above. Remember to navigate to the (or create a new) working directory that we can use for the rest of the course. This should ideally be on your Microsoft OneDrive to automatically back up your files. If you have started this notebook from a different directory (e.g. your Downloads folder), make sure to copy it to your permanent working directory. **All files in your 'home' directory on the UoB Windows computers will be deleted after you signed out of your account.**"
   ]
  },
  {
   "cell_type": "markdown",
   "id": "b82c8065-84c9-4f3d-9e65-bfb0e31f7b17",
   "metadata": {
    "slideshow": {
     "slide_type": "slide"
    }
   },
   "source": [
    "## [[Previous: Overview](../week_02_workbook_python-basics.ipynb)] | [[Next: Running Python](./02-running_python.ipynb)]"
   ]
  }
 ],
 "metadata": {
  "celltoolbar": "Slideshow",
  "kernelspec": {
   "display_name": "Python 3 (ipykernel)",
   "language": "python",
   "name": "python3"
  },
  "language_info": {
   "codemirror_mode": {
    "name": "ipython",
    "version": 3
   },
   "file_extension": ".py",
   "mimetype": "text/x-python",
   "name": "python",
   "nbconvert_exporter": "python",
   "pygments_lexer": "ipython3",
   "version": "3.9.12"
  }
 },
 "nbformat": 4,
 "nbformat_minor": 5
}
