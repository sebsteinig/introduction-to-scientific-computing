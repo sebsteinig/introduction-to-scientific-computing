{
 "cells": [
  {
   "cell_type": "markdown",
   "id": "e057e088-de06-4266-9959-eb42894dbbb4",
   "metadata": {
    "slideshow": {
     "slide_type": "skip"
    }
   },
   "source": [
    "#### [[back to main](../week_02_workbook_python-basics.ipynb)]"
   ]
  },
  {
   "cell_type": "markdown",
   "id": "3ca76ad9",
   "metadata": {
    "slideshow": {
     "slide_type": "slide"
    }
   },
   "source": [
    "# Dictionaries\n",
    "\n",
    "Lists let you store lots of variables and you can access them by their location in the list. However, there are times when you want to store lots of variables, but access them using more complex relationships. \n",
    "\n",
    "One example is a *dictionary*, which lets you store variables and access them using a *key*."
   ]
  },
  {
   "cell_type": "markdown",
   "id": "214f4e92-7b49-4df2-8297-af244dd45a0f",
   "metadata": {
    "slideshow": {
     "slide_type": "subslide"
    }
   },
   "source": [
    "Dictionaries in Python are created using curly brackets. As an example:"
   ]
  },
  {
   "cell_type": "code",
   "execution_count": 15,
   "id": "bd9a6480-b935-476a-bf70-a54c452e2be0",
   "metadata": {},
   "outputs": [],
   "source": [
    "sounds = {\"cat\": \"meow\", \"dog\": \"woof\", \"horse\": \"neigh\"}\n",
    "\n",
    "cat_sound = sounds[\"cat\"]\n",
    "\n",
    "print(cat_sound)"
   ]
  },
  {
   "cell_type": "markdown",
   "id": "86f3322f-75f3-46b7-b3a7-5459be0f522b",
   "metadata": {
    "slideshow": {
     "slide_type": "skip"
    }
   },
   "source": [
    "What we did here was create a dictionary on the first line. A dictionary is created using curly brackets (`{}`), in much the same way as square brackets are used for creating lists. The dictionary we created here has three items in it where each item comprises a *key* and a *value*. The *value* is the real data that we want to keep hold of and the *key* is how we can get at the data we want. The key and value are separated by a colon and each key-value pair is separated by a comma.\n",
    "\n",
    "On the next line we access the data in the dictionary `sounds`. Again, like lists we use the square brackets to ask questions of our data. In this case we're asking the dictionary to give us the value associated with the key `\"cat\"` and so it will return to us `\"meow\"`.\n",
    "\n",
    "Since dictionaries can be quite large and it can sometimes be hard to see which parts are keys and which are values, it is possible to write dictionaries over multiple lines, one line per key-value item:"
   ]
  },
  {
   "cell_type": "code",
   "execution_count": null,
   "id": "b0044d6f-b72b-4fbb-b6ec-8c899fbf897f",
   "metadata": {
    "slideshow": {
     "slide_type": "skip"
    }
   },
   "outputs": [],
   "source": [
    "sounds = {\n",
    "    \"cat\": \"meow\",\n",
    "    \"dog\": \"woof\",\n",
    "    \"horse\": \"neigh\"\n",
    "}\n",
    "\n",
    "cat_sound = sounds[\"cat\"]\n",
    "\n",
    "print(cat_sound)"
   ]
  },
  {
   "cell_type": "markdown",
   "id": "67f80751-8eab-4c09-a3fd-2257f6806ca4",
   "metadata": {
    "slideshow": {
     "slide_type": "slide"
    }
   },
   "source": [
    "### Exercise 11      \n",
    "> - Duplicate the dictionary above and ask for the sound of the dog and the horse.\n",
    "> - What happens if you ask for an animal that is not in the dictionary?"
   ]
  },
  {
   "cell_type": "code",
   "execution_count": null,
   "id": "a54ec80f-6231-4abe-8ea7-f3f87b2fad52",
   "metadata": {
    "slideshow": {
     "slide_type": "skip"
    }
   },
   "outputs": [],
   "source": [
    "# Write your exercise code here\n"
   ]
  },
  {
   "cell_type": "markdown",
   "id": "33feb6cc-4e2e-47c5-8142-2337fb0eb4ac",
   "metadata": {
    "slideshow": {
     "slide_type": "skip"
    }
   },
   "source": [
    "[<small>answer</small>](../solutions/first_dictionary.ipynb)"
   ]
  },
  {
   "cell_type": "markdown",
   "id": "3e809383-aadf-4107-a7f5-2339c2138991",
   "metadata": {
    "slideshow": {
     "slide_type": "skip"
    }
   },
   "source": [
    "## Adding new data to dictionaries\n",
    "\n",
    "As with lists, dictionaries are dynamic so we can add entries into a dictionary.\n",
    "\n",
    "Let's say that we want to add in a new sound for a cow into our `sounds` dictionary. The key that the data will have will be `\"cow\"` and the value will be `\"moo\"`. To do so we put `sounds[\"cow\"]` on the left-hand side of a variable assignment expression, as if we're making a new variable. On the right goes the data that we want to put into the dictionary:"
   ]
  },
  {
   "cell_type": "code",
   "execution_count": null,
   "id": "ad6045af-c0d2-4fa7-bead-b139e2af4501",
   "metadata": {
    "slideshow": {
     "slide_type": "skip"
    }
   },
   "outputs": [],
   "source": [
    "sounds = {\n",
    "    \"cat\": \"meow\",\n",
    "    \"dog\": \"woof\",\n",
    "    \"horse\": \"neigh\"\n",
    "}\n",
    "\n",
    "sounds[\"cow\"] = \"moo\"\n",
    "\n",
    "print(sounds)"
   ]
  },
  {
   "cell_type": "markdown",
   "id": "a7b70492-0e16-49a4-87f3-fbbd407ba21d",
   "metadata": {
    "slideshow": {
     "slide_type": "skip"
    }
   },
   "source": [
    "This is saying that we want the value `\"moo\"` associated with the key `\"cow\"` in the dictionary `sounds`."
   ]
  },
  {
   "cell_type": "markdown",
   "id": "3ded79e9-65c1-4a36-a09c-74da4f63fef2",
   "metadata": {
    "slideshow": {
     "slide_type": "skip"
    }
   },
   "source": [
    "### Exercise 12     \n",
    "> - Start with the dictionary below and assign some additional animal names (e.g., horse and cow) to a list. Assign their respective sounds to a seperate list. Now loop over the animal list and add their sounds to the dictionary dynamically.\n",
    "> - What happens when you add a `key` that already exists in the dictionary?\n",
    "> - What kind of data types (i.e., string, integer, boolean, list) can you add as values to your dictionary?\n"
   ]
  },
  {
   "cell_type": "code",
   "execution_count": null,
   "id": "7ccd705c-7a20-41dd-864f-ea5697e77798",
   "metadata": {
    "slideshow": {
     "slide_type": "skip"
    }
   },
   "outputs": [],
   "source": [
    "# Write your exercise code here.\n",
    "\n",
    "sounds = {\n",
    "    \"cat\": \"meow\",\n",
    "    \"dog\": \"woof\",\n",
    "}\n"
   ]
  },
  {
   "cell_type": "markdown",
   "id": "9b979994-a627-47ab-a820-14dec4658cef",
   "metadata": {
    "slideshow": {
     "slide_type": "skip"
    }
   },
   "source": [
    "[<small>answer</small>](../solutions/add_to_dictionary.ipynb)"
   ]
  },
  {
   "cell_type": "markdown",
   "id": "9fac3654-f4f2-4045-bd88-5aad2829af87",
   "metadata": {
    "slideshow": {
     "slide_type": "skip"
    }
   },
   "source": [
    "## Looping over dictionaries\n",
    "\n",
    "When discussing `for` loops you were told that Python allows you to loop over lots of different types of data such as lists, strings and `range`s. We can add dictionaries to that set.\n",
    "\n",
    "To discover how it works, let's do the naïve thing first and just see what happens when we loop over a dictionary:"
   ]
  },
  {
   "cell_type": "code",
   "execution_count": null,
   "id": "c0a6b046-f2a3-47c9-b934-5b61244828f8",
   "metadata": {
    "slideshow": {
     "slide_type": "skip"
    }
   },
   "outputs": [],
   "source": [
    "sounds = {\n",
    "    \"cat\": \"meow\",\n",
    "    \"dog\": \"woof\",\n",
    "    \"horse\": \"neigh\"\n",
    "}\n",
    "\n",
    "for thing in sounds:\n",
    "    print(thing)"
   ]
  },
  {
   "cell_type": "markdown",
   "id": "2d53c6d6-f7bd-4a7b-8b80-f2853b139754",
   "metadata": {
    "slideshow": {
     "slide_type": "skip"
    }
   },
   "source": [
    "Hopefully, you recognise those as the keys from the dictionary. So, it seems that when looping over a dictionary we will be given the *keys*.\n",
    "\n",
    "What if, for example, you wanted to loop over the *values* instead. Well, there is a method on dictionaries called `values` which gives you just those so that you can loop over them:"
   ]
  },
  {
   "cell_type": "code",
   "execution_count": null,
   "id": "0463734a-2880-4e0f-8db9-bcd96c4b63c1",
   "metadata": {
    "slideshow": {
     "slide_type": "skip"
    }
   },
   "outputs": [],
   "source": [
    "sounds = {\n",
    "    \"cat\": \"meow\",\n",
    "    \"dog\": \"woof\",\n",
    "    \"horse\": \"neigh\"\n",
    "}\n",
    "\n",
    "for sound in sounds.values():\n",
    "    print(sound)"
   ]
  },
  {
   "cell_type": "markdown",
   "id": "866326e0-81e4-4d13-8136-c3e107f65ae7",
   "metadata": {
    "slideshow": {
     "slide_type": "skip"
    }
   },
   "source": [
    "If we want to loop over the dictionary and get both the keys *and* the values, there is a method called `items`. Since it will be giving us two things each loop iteration, we'll have to use the same trick as we did with `enumerate` and give two variable names in the `for` loop declaration:"
   ]
  },
  {
   "cell_type": "code",
   "execution_count": null,
   "id": "65163ed2-2e97-4292-86f0-4ffbe3496452",
   "metadata": {
    "slideshow": {
     "slide_type": "skip"
    }
   },
   "outputs": [],
   "source": [
    "sounds = {\n",
    "    \"cat\": \"meow\",\n",
    "    \"dog\": \"woof\",\n",
    "    \"horse\": \"neigh\"\n",
    "}\n",
    "\n",
    "for animal, sound in sounds.items():\n",
    "    print(animal, \"goes\", sound)"
   ]
  },
  {
   "cell_type": "markdown",
   "id": "8483e177-2080-4149-a06e-51fe33f44bed",
   "metadata": {
    "slideshow": {
     "slide_type": "skip"
    }
   },
   "source": [
    "The `items` method gives us two pieces of data where the first is always the key and the second if always the value. We give the keys the name `animal` and the values the name `sound`. We can then use both those variables in the loop body."
   ]
  },
  {
   "cell_type": "markdown",
   "id": "0ce7af55-196f-48a0-af46-dfac7e0f41a5",
   "metadata": {
    "slideshow": {
     "slide_type": "skip"
    }
   },
   "source": [
    "### Exercise 13       \n",
    "> Make a dictionary with the keys being the names of countries and the value being the country's capital city. Loop over the dictionary and print something like `\"The capital of France is Paris\"` for each item."
   ]
  },
  {
   "cell_type": "code",
   "execution_count": null,
   "id": "dfe7853f-75e3-4fbd-88d6-b33efc35f388",
   "metadata": {
    "slideshow": {
     "slide_type": "skip"
    }
   },
   "outputs": [],
   "source": [
    "# Write your exercise code here.\n"
   ]
  },
  {
   "cell_type": "markdown",
   "id": "0727841b-814d-48ac-aa4c-65ee15116443",
   "metadata": {
    "slideshow": {
     "slide_type": "skip"
    }
   },
   "source": [
    "[<small>answer</small>](../solutions/country_dictionary.ipynb)"
   ]
  },
  {
   "cell_type": "markdown",
   "id": "382f3275-69b5-4785-b612-b388de3b5107",
   "metadata": {
    "slideshow": {
     "slide_type": "slide"
    }
   },
   "source": [
    "To summarise the different things we can pass to loops and the data that we get given each iteration:\n",
    "\n",
    "- `list`: the items in the list\n",
    "- `str`: the characters in the string\n",
    "- `enumerate()`: a pair of the index of the item and the item itself\n",
    "- `dict`: the *keys* of the dictionary\n",
    "- `dict.keys()`: the keys from the dictionary\n",
    "- `dict.values()`: the values from the dictionary\n",
    "- `dict.items()`: the key-value pairs from the dictionary"
   ]
  },
  {
   "cell_type": "markdown",
   "id": "12621fb0",
   "metadata": {
    "slideshow": {
     "slide_type": "slide"
    }
   },
   "source": [
    "## The power of dictionaries\n",
    "\n",
    "You might ask why you should bother learning about dictionaries when you could also use lists to solve the simple exercises above. \n",
    "\n",
    "Dictionaries are very flexibe and powerful data structures in Python. "
   ]
  },
  {
   "cell_type": "markdown",
   "id": "0764a266",
   "metadata": {
    "slideshow": {
     "slide_type": "skip"
    }
   },
   "source": [
    "I want to demonstrate this with an actual example from my own data analysis. \n",
    "\n",
    "I needed to pass climate model data to a given toolbox. I used nested dictionaries (i.e. dictionaries in another dictionary) to represent the metadata associated with each climate model (i.e. name, version number, available simulations, ...). I could then use this metadata to dynamically create the long list of input file rquired for the analysis tool that I wanted to use. \n",
    "\n",
    "The explicit use of the key-value pairs improves the documentation of your code and makes it relatively easily adjustable and expandable in the future (e.g. add new model simulations or experiments, or change file names).\n",
    "\n",
    "No worries, there is no exercise related to this example, but if you want you can test some of your skills you learned so far to analyse how the code works."
   ]
  },
  {
   "cell_type": "code",
   "execution_count": 1,
   "id": "c0e15e40",
   "metadata": {
    "slideshow": {
     "slide_type": "subslide"
    }
   },
   "outputs": [],
   "source": [
    "my_dict    = dict()\n",
    "\n",
    "# for each model we can put a whole dictionary inside the original dictionary, called 'nested dictionaries'\n",
    "my_dict['CESM1.2_CAM5']    = { \\\n",
    "        'ncase' : 5,\n",
    "        'versn' : 'v1.0',\n",
    "        'group' : 'CESM',\n",
    "        'contr' : ['piControl', 'deepmip_sens_1xCO2', 'deepmip_stand_3xCO2', 'deepmip_stand_6xCO2'],\n",
    "        'sensi' : ['deepmip_sens_1xCO2', 'deepmip_stand_3xCO2', 'deepmip_stand_6xCO2', 'deepmip_sens_9xCO2'],\n",
    "        'pcolor': 'red',\n",
    "        }\n",
    "\n",
    "my_dict['GFDL_CM2.1']      = { \\\n",
    "        'ncase' : 6,\n",
    "        'versn' : 'v1.0',\n",
    "        'group' : 'GFDL',\n",
    "        'contr' : ['piControl', 'deepmip_sens_1xCO2', 'deepmip_sens_2xCO2', 'deepmip_stand_3xCO2', 'deepmip_sens_4xCO2'],\n",
    "        'sensi' : ['deepmip_sens_1xCO2', 'deepmip_sens_2xCO2', 'deepmip_sens_4xCO2', 'deepmip_stand_6xCO2', 'deepmip_stand_6xCO2'],\n",
    "        'pcolor': 'orange',\n",
    "        } \n",
    "\n",
    "# ... I reduced the number of models here for simplicity, but you can add as many keys as you want "
   ]
  },
  {
   "cell_type": "code",
   "execution_count": 4,
   "id": "c297c6e0",
   "metadata": {
    "slideshow": {
     "slide_type": "subslide"
    }
   },
   "outputs": [],
   "source": [
    "# now we can loop over each key, i.e. over each model\n",
    "for model in my_dict.keys():\n",
    "    # and use the information from the nested dictionary to loop over all available simulations \n",
    "    # for the particular model\n",
    "    for i in range(my_dict[model]['ncase']-1):\n",
    "        prefix      = my_dict[model]['group'] + '/' + model + '/' + my_dict[model]['contr'][i] + '/'\n",
    "        posfix      = '-' + my_dict[model]['versn'] + '.mean.nc'\n",
    "        # create a dictionary of all the required input files for the analysis\n",
    "        in_files    = {'clt'    : prefix + 'clt'   + posfix,\n",
    "                       'tas'    : prefix + 'tas'   + posfix,\n",
    "                       'rsds'   : prefix + 'rsds'  + posfix,\n",
    "                       'rsdscs' : prefix + 'rsdscs'+ posfix,\n",
    "                       'rsdt'   : prefix + 'rsdt'  + posfix,\n",
    "                       'rsus'   : prefix + 'rsus'  + posfix,\n",
    "                       'rsuscs' : prefix + 'rsuscs'+ posfix,\n",
    "                       'rsut'   : prefix + 'rsut'  + posfix,\n",
    "                       'rsutcs' : prefix + 'rsutcs'+ posfix}\n",
    "        out_file    = model + '.' + my_dict[model]['contr'][i] + '.aprp.nc'\n",
    "        # run the actual analysis\n",
    "        # actual_data_analysis_function(in_files, out_file)\n",
    "        "
   ]
  },
  {
   "cell_type": "markdown",
   "id": "85c78787-3491-407e-8992-9ec251edc4d4",
   "metadata": {
    "slideshow": {
     "slide_type": "slide"
    }
   },
   "source": [
    "## [[Previous: Conditionals](./06-conditionals.ipynb)] | [[Next: Files](./08-files.ipynb)]"
   ]
  }
 ],
 "metadata": {
  "celltoolbar": "Slideshow",
  "kernelspec": {
   "display_name": "Python 3 (ipykernel)",
   "language": "python",
   "name": "python3"
  },
  "language_info": {
   "codemirror_mode": {
    "name": "ipython",
    "version": 3
   },
   "file_extension": ".py",
   "mimetype": "text/x-python",
   "name": "python",
   "nbconvert_exporter": "python",
   "pygments_lexer": "ipython3",
   "version": "3.9.12"
  }
 },
 "nbformat": 4,
 "nbformat_minor": 5
}
