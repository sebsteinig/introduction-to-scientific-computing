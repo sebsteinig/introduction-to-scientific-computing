{
 "cells": [
  {
   "cell_type": "code",
   "execution_count": 1,
   "metadata": {
    "tags": [
     "nbval-ignore-output"
    ]
   },
   "outputs": [
    {
     "name": "stdout",
     "output_type": "stream",
     "text": [
      "The capital of France is Paris\n",
      "The capital of United Kingdom is London\n",
      "The capital of USA is Washington DC\n",
      "The capital of Kenya is Nairobi\n"
     ]
    }
   ],
   "source": [
    "capitals = {\n",
    "    \"France\": \"Paris\",\n",
    "    \"United Kingdom\": \"London\",\n",
    "    \"USA\": \"Washington DC\",\n",
    "    \"Kenya\": \"Nairobi\"\n",
    "}\n",
    "\n",
    "for country, capital in capitals.items():\n",
    "    print(\"The capital of\", country, \"is\", capital)"
   ]
  }
 ],
 "metadata": {
  "celltoolbar": "Tags",
  "kernelspec": {
   "display_name": "Python 3 (ipykernel)",
   "language": "python",
   "name": "python3"
  },
  "language_info": {
   "codemirror_mode": {
    "name": "ipython",
    "version": 3
   },
   "file_extension": ".py",
   "mimetype": "text/x-python",
   "name": "python",
   "nbconvert_exporter": "python",
   "pygments_lexer": "ipython3",
   "version": "3.9.12"
  }
 },
 "nbformat": 4,
 "nbformat_minor": 4
}
