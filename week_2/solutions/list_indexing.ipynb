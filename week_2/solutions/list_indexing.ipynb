{
 "cells": [
  {
   "cell_type": "markdown",
   "id": "7cd777f3-ec9d-43bd-9cb2-c076d3b7828d",
   "metadata": {},
   "source": [
    "`[1]` does not access the first element of the list"
   ]
  },
  {
   "cell_type": "code",
   "execution_count": 1,
   "id": "b35bbf3b-e3b8-4d85-89f8-4ff66287e4dd",
   "metadata": {},
   "outputs": [
    {
     "name": "stdout",
     "output_type": "stream",
     "text": [
      "dog\n"
     ]
    }
   ],
   "source": [
    "my_list = [\"cat\", \"dog\", 261]\n",
    "\n",
    "my_element = my_list[1]\n",
    "\n",
    "print(my_element)"
   ]
  },
  {
   "cell_type": "markdown",
   "id": "b0ad358c-5b9f-4b35-b01b-460c8ac19de5",
   "metadata": {},
   "source": [
    "list indexing starts at `0`"
   ]
  },
  {
   "cell_type": "code",
   "execution_count": 3,
   "id": "5b41d6d4-ec7b-4ecb-883a-dd2f164699eb",
   "metadata": {},
   "outputs": [
    {
     "name": "stdout",
     "output_type": "stream",
     "text": [
      "cat\n"
     ]
    }
   ],
   "source": [
    "my_list = [\"cat\", \"dog\", 261]\n",
    "\n",
    "my_element = my_list[0]\n",
    "\n",
    "print(my_element)"
   ]
  }
 ],
 "metadata": {
  "kernelspec": {
   "display_name": "Python 3 (ipykernel)",
   "language": "python",
   "name": "python3"
  },
  "language_info": {
   "codemirror_mode": {
    "name": "ipython",
    "version": 3
   },
   "file_extension": ".py",
   "mimetype": "text/x-python",
   "name": "python",
   "nbconvert_exporter": "python",
   "pygments_lexer": "ipython3",
   "version": "3.9.12"
  }
 },
 "nbformat": 4,
 "nbformat_minor": 5
}
