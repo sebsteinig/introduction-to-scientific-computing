{
 "cells": [
  {
   "cell_type": "code",
   "execution_count": 8,
   "metadata": {},
   "outputs": [
    {
     "name": "stdout",
     "output_type": "stream",
     "text": [
      "0 is less than 5.\n",
      "1 is less than 5.\n",
      "2 is less than 5.\n",
      "3 is less than 5.\n",
      "4 is less than 5.\n",
      "5 is equal to 5.\n",
      "6 is greater than 5.\n",
      "7 is greater than 5.\n",
      "8 is greater than 5.\n",
      "9 is greater than 5.\n"
     ]
    }
   ],
   "source": [
    "for i in range(10):\n",
    "    if i < 5:\n",
    "        print(i, \"is less than 5.\")\n",
    "\n",
    "    elif i > 5:\n",
    "        print(i, \"is greater than 5.\")\n",
    "\n",
    "    else:\n",
    "        print(i, \"is equal to 5.\")"
   ]
  }
 ],
 "metadata": {
  "kernelspec": {
   "display_name": "Python 3 (ipykernel)",
   "language": "python",
   "name": "python3"
  },
  "language_info": {
   "codemirror_mode": {
    "name": "ipython",
    "version": 3
   },
   "file_extension": ".py",
   "mimetype": "text/x-python",
   "name": "python",
   "nbconvert_exporter": "python",
   "pygments_lexer": "ipython3",
   "version": "3.9.12"
  }
 },
 "nbformat": 4,
 "nbformat_minor": 4
}
