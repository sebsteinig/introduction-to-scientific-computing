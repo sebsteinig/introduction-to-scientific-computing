{
 "cells": [
  {
   "cell_type": "code",
   "execution_count": 9,
   "metadata": {
    "tags": [
     "nbval-ignore-output"
    ]
   },
   "outputs": [
    {
     "name": "stdout",
     "output_type": "stream",
     "text": [
      "{'cat': 'meow', 'dog': 'woof', 'horse': 'neigh', 'cow': 'moo'}\n"
     ]
    }
   ],
   "source": [
    "sounds = {\"cat\": \"meow\", \"dog\": \"woof\"}\n",
    "\n",
    "animal_names = [\"horse\", \"cow\"]\n",
    "animal_sounds = [\"neigh\", \"moo\"]\n",
    "\n",
    "# use enumerate() to get access to animal name and index in loop\n",
    "for index, animal in enumerate(animal_names):\n",
    "    sounds[animal] = animal_sounds[index]\n",
    "\n",
    "print(sounds)"
   ]
  },
  {
   "cell_type": "markdown",
   "metadata": {},
   "source": [
    "Dictionaries do not allow duplicate keys"
   ]
  },
  {
   "cell_type": "code",
   "execution_count": 2,
   "metadata": {},
   "outputs": [
    {
     "name": "stdout",
     "output_type": "stream",
     "text": [
      "{'cat': 'meow', 'dog': 'woof'}\n"
     ]
    }
   ],
   "source": [
    "sounds = {\"cat\": \"meow\", \"dog\": \"woof\"}\n",
    "\n",
    "animal_names = [\"cat\", \"dog\"]\n",
    "animal_sounds = [\"meow\", \"woof\"]\n",
    "\n",
    "# use enumerate() to get access to animal name and index in loop\n",
    "for index, animal in enumerate(animal_names):\n",
    "    sounds[animal] = animal_sounds[index]\n",
    "\n",
    "print(sounds)"
   ]
  },
  {
   "cell_type": "markdown",
   "metadata": {},
   "source": [
    "The values in dictionary items can be of any data type (string, integer, boolean, and lists):"
   ]
  },
  {
   "cell_type": "code",
   "execution_count": 1,
   "metadata": {},
   "outputs": [
    {
     "name": "stdout",
     "output_type": "stream",
     "text": [
      "{'brand': 'Pinarello', 'bike': True, 'year': 1995, 'colors': ['white', 'yellow', 'black']}\n"
     ]
    }
   ],
   "source": [
    "my_dict = {\n",
    "  \"brand\": \"Pinarello\",\n",
    "  \"bike\": True,\n",
    "  \"year\": 1995,\n",
    "  \"colors\": [\"white\", \"yellow\", \"black\"]\n",
    "}\n",
    "\n",
    "print(my_dict)"
   ]
  }
 ],
 "metadata": {
  "kernelspec": {
   "display_name": "Python 3 (ipykernel)",
   "language": "python",
   "name": "python3"
  },
  "language_info": {
   "codemirror_mode": {
    "name": "ipython",
    "version": 3
   },
   "file_extension": ".py",
   "mimetype": "text/x-python",
   "name": "python",
   "nbconvert_exporter": "python",
   "pygments_lexer": "ipython3",
   "version": "3.9.12"
  }
 },
 "nbformat": 4,
 "nbformat_minor": 4
}
