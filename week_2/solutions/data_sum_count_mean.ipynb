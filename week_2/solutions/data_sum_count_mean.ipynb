{
 "cells": [
  {
   "cell_type": "markdown",
   "metadata": {},
   "source": [
    "Here the loop itself has not changed, we've just created a new variable afterwards, `mean` which is calculated from `total` and `count`: "
   ]
  },
  {
   "cell_type": "code",
   "execution_count": 1,
   "metadata": {
    "tags": [
     "nbval-ignore-output"
    ]
   },
   "outputs": [
    {
     "name": "stdout",
     "output_type": "stream",
     "text": [
      "Sum of all 7 values is: 460\n",
      "The mean is 65.71428571428571\n"
     ]
    }
   ],
   "source": [
    "total = 0\n",
    "count = 0\n",
    "\n",
    "with open(\"../assets/data.txt\") as f:\n",
    "    for line in f:\n",
    "        number = int(line)\n",
    "        total += number\n",
    "        count += 1\n",
    "        \n",
    "mean = total / count\n",
    "\n",
    "print(\"Sum of all\", count, \"values is:\", total)\n",
    "print(\"The mean is\", mean)"
   ]
  },
  {
   "cell_type": "code",
   "execution_count": null,
   "metadata": {},
   "outputs": [],
   "source": []
  }
 ],
 "metadata": {
  "celltoolbar": "Tags",
  "kernelspec": {
   "display_name": "Python 3 (ipykernel)",
   "language": "python",
   "name": "python3"
  },
  "language_info": {
   "codemirror_mode": {
    "name": "ipython",
    "version": 3
   },
   "file_extension": ".py",
   "mimetype": "text/x-python",
   "name": "python",
   "nbconvert_exporter": "python",
   "pygments_lexer": "ipython3",
   "version": "3.9.12"
  }
 },
 "nbformat": 4,
 "nbformat_minor": 4
}
