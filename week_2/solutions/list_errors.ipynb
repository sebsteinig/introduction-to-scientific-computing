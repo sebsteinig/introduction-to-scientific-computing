{
 "cells": [
  {
   "cell_type": "markdown",
   "id": "7cd777f3-ec9d-43bd-9cb2-c076d3b7828d",
   "metadata": {},
   "source": [
    "index `[6]` is out of range of the length of `my_list`"
   ]
  },
  {
   "cell_type": "code",
   "execution_count": 1,
   "id": "b35bbf3b-e3b8-4d85-89f8-4ff66287e4dd",
   "metadata": {},
   "outputs": [
    {
     "ename": "IndexError",
     "evalue": "list index out of range",
     "output_type": "error",
     "traceback": [
      "\u001b[0;31m---------------------------------------------------------------------------\u001b[0m",
      "\u001b[0;31mIndexError\u001b[0m                                Traceback (most recent call last)",
      "Input \u001b[0;32mIn [1]\u001b[0m, in \u001b[0;36m<cell line: 3>\u001b[0;34m()\u001b[0m\n\u001b[1;32m      1\u001b[0m my_list \u001b[38;5;241m=\u001b[39m [\u001b[38;5;124m\"\u001b[39m\u001b[38;5;124mcat\u001b[39m\u001b[38;5;124m\"\u001b[39m, \u001b[38;5;124m\"\u001b[39m\u001b[38;5;124mdog\u001b[39m\u001b[38;5;124m\"\u001b[39m, \u001b[38;5;241m261\u001b[39m]\n\u001b[0;32m----> 3\u001b[0m my_element \u001b[38;5;241m=\u001b[39m \u001b[43mmy_list\u001b[49m\u001b[43m[\u001b[49m\u001b[38;5;241;43m6\u001b[39;49m\u001b[43m]\u001b[49m\n\u001b[1;32m      5\u001b[0m \u001b[38;5;28mprint\u001b[39m(my_element)\n",
      "\u001b[0;31mIndexError\u001b[0m: list index out of range"
     ]
    }
   ],
   "source": [
    "my_list = [\"cat\", \"dog\", 261]\n",
    "\n",
    "my_element = my_list[6]\n",
    "\n",
    "print(my_element)"
   ]
  },
  {
   "cell_type": "markdown",
   "id": "b0ad358c-5b9f-4b35-b01b-460c8ac19de5",
   "metadata": {},
   "source": [
    "We can fix this easily:"
   ]
  },
  {
   "cell_type": "code",
   "execution_count": 2,
   "id": "5b41d6d4-ec7b-4ecb-883a-dd2f164699eb",
   "metadata": {},
   "outputs": [
    {
     "name": "stdout",
     "output_type": "stream",
     "text": [
      "261\n"
     ]
    }
   ],
   "source": [
    "my_list = [\"cat\", \"dog\", 261]\n",
    "\n",
    "my_element = my_list[2]\n",
    "\n",
    "print(my_element)"
   ]
  },
  {
   "cell_type": "markdown",
   "id": "5d360c72-4845-4814-a8fc-f1cdf708a32b",
   "metadata": {},
   "source": [
    "Or try to produce some other errors:"
   ]
  },
  {
   "cell_type": "code",
   "execution_count": 3,
   "id": "cbe9781e-ed5d-4aa3-964c-1717387dbc64",
   "metadata": {},
   "outputs": [
    {
     "ename": "TypeError",
     "evalue": "list indices must be integers or slices, not float",
     "output_type": "error",
     "traceback": [
      "\u001b[0;31m---------------------------------------------------------------------------\u001b[0m",
      "\u001b[0;31mTypeError\u001b[0m                                 Traceback (most recent call last)",
      "Input \u001b[0;32mIn [3]\u001b[0m, in \u001b[0;36m<cell line: 3>\u001b[0;34m()\u001b[0m\n\u001b[1;32m      1\u001b[0m my_list \u001b[38;5;241m=\u001b[39m [\u001b[38;5;124m\"\u001b[39m\u001b[38;5;124mcat\u001b[39m\u001b[38;5;124m\"\u001b[39m, \u001b[38;5;124m\"\u001b[39m\u001b[38;5;124mdog\u001b[39m\u001b[38;5;124m\"\u001b[39m, \u001b[38;5;241m261\u001b[39m]\n\u001b[0;32m----> 3\u001b[0m my_element \u001b[38;5;241m=\u001b[39m \u001b[43mmy_list\u001b[49m\u001b[43m[\u001b[49m\u001b[38;5;241;43m6.0\u001b[39;49m\u001b[43m]\u001b[49m\n\u001b[1;32m      5\u001b[0m \u001b[38;5;28mprint\u001b[39m(my_element)\n",
      "\u001b[0;31mTypeError\u001b[0m: list indices must be integers or slices, not float"
     ]
    }
   ],
   "source": [
    "my_list = [\"cat\", \"dog\", 261]\n",
    "\n",
    "my_element = my_list[6.0]\n",
    "\n",
    "print(my_element)"
   ]
  },
  {
   "cell_type": "code",
   "execution_count": 4,
   "id": "f92ae616-44f1-42bf-a46e-af4f22833760",
   "metadata": {},
   "outputs": [
    {
     "ename": "NameError",
     "evalue": "name 'index' is not defined",
     "output_type": "error",
     "traceback": [
      "\u001b[0;31m---------------------------------------------------------------------------\u001b[0m",
      "\u001b[0;31mNameError\u001b[0m                                 Traceback (most recent call last)",
      "Input \u001b[0;32mIn [4]\u001b[0m, in \u001b[0;36m<cell line: 3>\u001b[0;34m()\u001b[0m\n\u001b[1;32m      1\u001b[0m my_list \u001b[38;5;241m=\u001b[39m [\u001b[38;5;124m\"\u001b[39m\u001b[38;5;124mcat\u001b[39m\u001b[38;5;124m\"\u001b[39m, \u001b[38;5;124m\"\u001b[39m\u001b[38;5;124mdog\u001b[39m\u001b[38;5;124m\"\u001b[39m, \u001b[38;5;241m261\u001b[39m]\n\u001b[0;32m----> 3\u001b[0m my_element \u001b[38;5;241m=\u001b[39m my_list[\u001b[43mindex\u001b[49m]\n\u001b[1;32m      5\u001b[0m \u001b[38;5;28mprint\u001b[39m(my_element)\n",
      "\u001b[0;31mNameError\u001b[0m: name 'index' is not defined"
     ]
    }
   ],
   "source": [
    "my_list = [\"cat\", \"dog\", 261]\n",
    "\n",
    "my_element = my_list[index]\n",
    "\n",
    "print(my_element)"
   ]
  },
  {
   "cell_type": "code",
   "execution_count": 5,
   "id": "fa76208b-7e25-404f-8c95-b72e1b227fbe",
   "metadata": {},
   "outputs": [
    {
     "ename": "SyntaxError",
     "evalue": "unmatched ']' (3703790491.py, line 3)",
     "output_type": "error",
     "traceback": [
      "\u001b[0;36m  Input \u001b[0;32mIn [5]\u001b[0;36m\u001b[0m\n\u001b[0;31m    my_element = my_list2]\u001b[0m\n\u001b[0m                         ^\u001b[0m\n\u001b[0;31mSyntaxError\u001b[0m\u001b[0;31m:\u001b[0m unmatched ']'\n"
     ]
    }
   ],
   "source": [
    "my_list = [\"cat\", \"dog\", 261]\n",
    "\n",
    "my_element = my_list2]\n",
    "\n",
    "print(my_element)"
   ]
  },
  {
   "cell_type": "code",
   "execution_count": 6,
   "id": "e5cb95a2-d221-4dfe-a894-a2236eab9d40",
   "metadata": {},
   "outputs": [
    {
     "ename": "SyntaxError",
     "evalue": "invalid syntax (905999322.py, line 1)",
     "output_type": "error",
     "traceback": [
      "\u001b[0;36m  Input \u001b[0;32mIn [6]\u001b[0;36m\u001b[0m\n\u001b[0;31m    my_list = [\"cat\", \"dog\", 261,,]\u001b[0m\n\u001b[0m                                 ^\u001b[0m\n\u001b[0;31mSyntaxError\u001b[0m\u001b[0;31m:\u001b[0m invalid syntax\n"
     ]
    }
   ],
   "source": [
    "my_list = [\"cat\", \"dog\", 261,,]\n",
    "\n",
    "my_element = my_list[2]\n",
    "\n",
    "print(my_element)"
   ]
  }
 ],
 "metadata": {
  "kernelspec": {
   "display_name": "Python 3 (ipykernel)",
   "language": "python",
   "name": "python3"
  },
  "language_info": {
   "codemirror_mode": {
    "name": "ipython",
    "version": 3
   },
   "file_extension": ".py",
   "mimetype": "text/x-python",
   "name": "python",
   "nbconvert_exporter": "python",
   "pygments_lexer": "ipython3",
   "version": "3.9.12"
  }
 },
 "nbformat": 4,
 "nbformat_minor": 5
}
