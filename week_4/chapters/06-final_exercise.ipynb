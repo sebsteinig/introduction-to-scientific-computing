{
 "cells": [
  {
   "cell_type": "markdown",
   "id": "1ac352a4-c460-4554-b5e1-373afb376868",
   "metadata": {
    "tags": [
     "exercise"
    ]
   },
   "source": [
    "# Final weather exercise\n",
    "\n",
    "Before we come to the summary of this week, let's get some more practice with NumPy and plotting of multi-dimensional data. The final data in the weather data file is information about wind velocity, specifically [`\"wind_u\"`](https://apps.ecmwf.int/codes/grib/param-db/?id=165) which is the wind speed in $ms^{-1}$ towards the East and [`\"wind_v\"`](https://apps.ecmwf.int/codes/grib/param-db/?id=166) which is the same towards the North.\n",
    "\n",
    "```python\n",
    "with np.load(\"weather_data.npz\") as weather:\n",
    "    wind_u = weather[\"wind_u\"]\n",
    "    wind_v = weather[\"wind_v\"]\n",
    "    temperature = weather[\"temperature\"]\n",
    "    rain = weather[\"rain\"]\n",
    "    \n",
    "    uk_mask = weather[\"uk\"]\n",
    "    irl_mask = weather[\"ireland\"]\n",
    "    spain_mask = weather[\"spain\"]\n",
    "```\n",
    "\n",
    "- Plot the U and the V components of the wind [side-by-side](https://matplotlib.org/stable/gallery/subplots_axes_and_figures/subplots_demo.html) (also think about an appropriate [colour map](https://matplotlib.org/stable/tutorials/colors/colormaps.html) and any useful arguments from [`plt.imshow`](https://matplotlib.org/stable/api/_as_gen/matplotlib.pyplot.imshow.html))\n",
    "- Calculate the total wind speed, which is given by $s = \\sqrt{u^2+v^2}$\n",
    "- Calculate the direction of the wind, which is given by $\\theta = \\mathrm{arctan2}(u, v)$\n",
    "  - you will need to find the appropriate function in the NumPy docs\n",
    "- Plot the two new arrays. Consider approprate colour maps for them and add the UK and Spain country outlines as well for orientation\n",
    "- Try to show the same information (wind direction and speed) in a [quiver plot](https://matplotlib.org/stable/api/_as_gen/matplotlib.pyplot.quiver.html)\n",
    "    - Hint: You can try to color the arrows with an optional third argument and scale them with the `scale` argument\n",
    "\n",
    "Using these arrays, calculate the following:\n",
    "\n",
    "- the average wind direction and speed in the UK?\n",
    "- the average wind direction and speed in Spain?\n"
   ]
  },
  {
   "cell_type": "code",
   "execution_count": null,
   "id": "5d251a6d-2d6b-46ae-acac-e38c2c13cddf",
   "metadata": {},
   "outputs": [],
   "source": [
    "# Write your exercise code here.\n"
   ]
  },
  {
   "cell_type": "markdown",
   "id": "ae348b7c-78ed-4f3d-a7d2-27fa6d4fc500",
   "metadata": {},
   "source": [
    "[<small>answer</small>](../solutions/final_weather.ipynb)"
   ]
  },
  {
   "cell_type": "markdown",
   "id": "46b33df6-f3a8-4d90-8bf8-57c26863d7d8",
   "metadata": {},
   "source": [
    "## [[Previous: Combining arrays](./05-combining_arrays.ipynb)] | [[Next: Summary](./07-summary.ipynb)]"
   ]
  }
 ],
 "metadata": {
  "kernelspec": {
   "display_name": "Python 3 (ipykernel)",
   "language": "python",
   "name": "python3"
  },
  "language_info": {
   "codemirror_mode": {
    "name": "ipython",
    "version": 3
   },
   "file_extension": ".py",
   "mimetype": "text/x-python",
   "name": "python",
   "nbconvert_exporter": "python",
   "pygments_lexer": "ipython3",
   "version": "3.9.12"
  }
 },
 "nbformat": 4,
 "nbformat_minor": 5
}
