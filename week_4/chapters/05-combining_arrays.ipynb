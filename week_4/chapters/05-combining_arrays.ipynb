{
 "cells": [
  {
   "cell_type": "markdown",
   "id": "ca42ee75-2967-4e8a-9faa-c723ba5c86ef",
   "metadata": {
    "slideshow": {
     "slide_type": "slide"
    }
   },
   "source": [
    "# Combining arrays"
   ]
  },
  {
   "cell_type": "code",
   "execution_count": 1,
   "id": "12935fa0-9929-44d7-b8f4-10731e8e2ad1",
   "metadata": {
    "slideshow": {
     "slide_type": "skip"
    }
   },
   "outputs": [],
   "source": [
    "import numpy as np"
   ]
  },
  {
   "cell_type": "markdown",
   "id": "351ea05f-da9a-4fa8-a5b5-ef605e651026",
   "metadata": {
    "slideshow": {
     "slide_type": "subslide"
    }
   },
   "source": [
    "## Matching shape\n",
    "\n",
    "If you have two arrays which exactly match each other in shape then you can directly combine them. So, if we have one `(2, 3)` array, `grid_a`:"
   ]
  },
  {
   "cell_type": "code",
   "execution_count": 2,
   "id": "b9dc486e-55b2-42f4-9067-19217e2bde83",
   "metadata": {},
   "outputs": [
    {
     "data": {
      "text/plain": [
       "array([[1, 2, 3],\n",
       "       [4, 5, 6]])"
      ]
     },
     "execution_count": 2,
     "metadata": {},
     "output_type": "execute_result"
    }
   ],
   "source": [
    "grid_a = np.array([[1, 2, 3], [4, 5, 6]])\n",
    "grid_a"
   ]
  },
  {
   "cell_type": "markdown",
   "id": "115c7529-981f-4598-989a-17d1d5de0741",
   "metadata": {
    "slideshow": {
     "slide_type": "fragment"
    }
   },
   "source": [
    "And another, `grid_b` which is also `(2, 3)`:"
   ]
  },
  {
   "cell_type": "code",
   "execution_count": 3,
   "id": "08ba59f9-5c82-4ec9-bb2b-4b15bc999825",
   "metadata": {},
   "outputs": [
    {
     "data": {
      "text/plain": [
       "array([[9, 8, 7],\n",
       "       [6, 5, 4]])"
      ]
     },
     "execution_count": 3,
     "metadata": {},
     "output_type": "execute_result"
    }
   ],
   "source": [
    "grid_b = np.array([[9, 8, 7], [6, 5, 4]])\n",
    "grid_b"
   ]
  },
  {
   "cell_type": "markdown",
   "id": "d8882b84-4f52-490b-b7de-cff8247fdc7e",
   "metadata": {
    "slideshow": {
     "slide_type": "skip"
    }
   },
   "source": [
    "Then we can do any numerical or logical operation between them, just as we did with an array and a single number. For example, a multiplication will multiply the values element-by-element ($1\\times9=9$, $2\\times8=16$, $3\\times7=21$ etc.):"
   ]
  },
  {
   "cell_type": "code",
   "execution_count": 4,
   "id": "38034e47-d95f-4b44-b0f0-210775c8f183",
   "metadata": {
    "slideshow": {
     "slide_type": "fragment"
    }
   },
   "outputs": [
    {
     "data": {
      "text/plain": [
       "array([[ 9, 16, 21],\n",
       "       [24, 25, 24]])"
      ]
     },
     "execution_count": 4,
     "metadata": {},
     "output_type": "execute_result"
    }
   ],
   "source": [
    "grid_a * grid_b"
   ]
  },
  {
   "cell_type": "markdown",
   "id": "0d6393d2-a211-4b43-b4fd-84afeca355c6",
   "metadata": {
    "slideshow": {
     "slide_type": "subslide"
    }
   },
   "source": [
    "If we define a different array with a different size, for example `(3, 2)`:"
   ]
  },
  {
   "cell_type": "code",
   "execution_count": 5,
   "id": "b4d7af1c-3f57-45f6-b495-f2b1438c4f14",
   "metadata": {},
   "outputs": [
    {
     "data": {
      "text/plain": [
       "array([[5, 4],\n",
       "       [6, 3],\n",
       "       [7, 2]])"
      ]
     },
     "execution_count": 5,
     "metadata": {},
     "output_type": "execute_result"
    }
   ],
   "source": [
    "grid_c = np.array([[5, 4], [6, 3], [7, 2]])\n",
    "grid_c"
   ]
  },
  {
   "cell_type": "markdown",
   "id": "30dd01b1-1872-4bd8-bd73-9e3494effbeb",
   "metadata": {
    "slideshow": {
     "slide_type": "fragment"
    }
   },
   "source": [
    "Then the multiplication will not work as the shapes don't exactly match:"
   ]
  },
  {
   "cell_type": "code",
   "execution_count": 6,
   "id": "71dc4d10-b89c-4e3e-b8e7-ba921b467990",
   "metadata": {
    "tags": [
     "raises-exception"
    ]
   },
   "outputs": [
    {
     "ename": "ValueError",
     "evalue": "operands could not be broadcast together with shapes (2,3) (3,2) ",
     "output_type": "error",
     "traceback": [
      "\u001b[0;31m---------------------------------------------------------------------------\u001b[0m",
      "\u001b[0;31mValueError\u001b[0m                                Traceback (most recent call last)",
      "Input \u001b[0;32mIn [6]\u001b[0m, in \u001b[0;36m<cell line: 1>\u001b[0;34m()\u001b[0m\n\u001b[0;32m----> 1\u001b[0m \u001b[43mgrid_a\u001b[49m\u001b[43m \u001b[49m\u001b[38;5;241;43m*\u001b[39;49m\u001b[43m \u001b[49m\u001b[43mgrid_c\u001b[49m\n",
      "\u001b[0;31mValueError\u001b[0m: operands could not be broadcast together with shapes (2,3) (3,2) "
     ]
    }
   ],
   "source": [
    "grid_a * grid_c"
   ]
  },
  {
   "cell_type": "markdown",
   "id": "2153b281-3df3-497c-9760-61595209faa9",
   "metadata": {
    "slideshow": {
     "slide_type": "skip"
    }
   },
   "source": [
    "In a way, this makes sense. Exactly what did we expect to be the result of `grid_a * grid_c`?\n",
    "\n",
    "We see the term \"*broadcast*\" in that error message. We'll get back to that in a minute."
   ]
  },
  {
   "cell_type": "markdown",
   "id": "2de99c9e-416e-42e2-b534-e1100189032f",
   "metadata": {
    "slideshow": {
     "slide_type": "subslide"
    }
   },
   "source": [
    "## Mismatched dimensions\n",
    "\n",
    "This doesn't seem very useful, if we can only ever work with exactly matching array shapes. Luckily, there are many situations where NumPy is able to combine arrays, even if they don't match. For example, we can take an array:"
   ]
  },
  {
   "cell_type": "code",
   "execution_count": 11,
   "id": "7f3f656a-0954-41d4-8a59-71f7d207fa43",
   "metadata": {
    "slideshow": {
     "slide_type": "subslide"
    }
   },
   "outputs": [],
   "source": [
    "a = np.array([6.0, 2.1, 8.2])"
   ]
  },
  {
   "cell_type": "code",
   "execution_count": 12,
   "id": "090364fd-d297-4bf9-af73-ec570df5dc4b",
   "metadata": {},
   "outputs": [
    {
     "data": {
      "text/plain": [
       "(3,)"
      ]
     },
     "execution_count": 12,
     "metadata": {},
     "output_type": "execute_result"
    }
   ],
   "source": [
    "a.shape"
   ]
  },
  {
   "cell_type": "markdown",
   "id": "9fff85b1-2d24-4782-8b2c-e5ebf3989fba",
   "metadata": {
    "slideshow": {
     "slide_type": "fragment"
    }
   },
   "source": [
    "and multiply it with `grid_a` of size `(2, 3)`:"
   ]
  },
  {
   "cell_type": "code",
   "execution_count": 13,
   "id": "c20962c5-e1a9-4b4c-be02-4b3710ba2f16",
   "metadata": {
    "slideshow": {
     "slide_type": "fragment"
    }
   },
   "outputs": [
    {
     "data": {
      "text/plain": [
       "array([[ 6. ,  4.2, 24.6],\n",
       "       [24. , 10.5, 49.2]])"
      ]
     },
     "execution_count": 13,
     "metadata": {},
     "output_type": "execute_result"
    }
   ],
   "source": [
    "grid_a * a"
   ]
  },
  {
   "cell_type": "markdown",
   "id": "966a6523-7600-4fa3-b5f8-07d2f2202dfa",
   "metadata": {
    "slideshow": {
     "slide_type": "skip"
    }
   },
   "source": [
    "This works because it's combining an array `grid_a` with shape `(2,3)` with another array `a` with shape `(3)`. It's able to match them together by stretching `a` so that its dimensions match `grid_a`:"
   ]
  },
  {
   "cell_type": "markdown",
   "id": "676d830b-bdbc-47c3-9c98-181b3ce94f99",
   "metadata": {
    "slideshow": {
     "slide_type": "subslide"
    }
   },
   "source": [
    "![](../assets/diag_05-1.png) "
   ]
  },
  {
   "cell_type": "markdown",
   "id": "98cdb62f-2d98-4d18-9218-88a632dc6c12",
   "metadata": {
    "slideshow": {
     "slide_type": "skip"
    }
   },
   "source": [
    "Note here we have switched to the row-format of one-dimensional arrays as it makes it easier to understand how they are combined."
   ]
  },
  {
   "cell_type": "markdown",
   "id": "883ad8f5",
   "metadata": {
    "slideshow": {
     "slide_type": "fragment"
    }
   },
   "source": [
    "This stretching operations is known as \"*broadcasting*\" in NumPy. There are a set of rules which govern what shape arrays can be combined with others which is detailed in [the official broadcasting documentation](https://numpy.org/devdocs/user/basics.broadcasting.html)."
   ]
  },
  {
   "cell_type": "markdown",
   "id": "fbb91ce4-4f17-47d7-b8be-469ec5436600",
   "metadata": {
    "slideshow": {
     "slide_type": "skip"
    }
   },
   "source": [
    "So, if we try to combine `grid_a` with an array of shape `(2)`:"
   ]
  },
  {
   "cell_type": "code",
   "execution_count": 10,
   "id": "83ac5587-0b94-446a-b413-718ad56a7d55",
   "metadata": {
    "slideshow": {
     "slide_type": "skip"
    },
    "tags": [
     "raises-exception"
    ]
   },
   "outputs": [
    {
     "ename": "ValueError",
     "evalue": "operands could not be broadcast together with shapes (2,3) (2,) ",
     "output_type": "error",
     "traceback": [
      "\u001b[0;31m---------------------------------------------------------------------------\u001b[0m",
      "\u001b[0;31mValueError\u001b[0m                                Traceback (most recent call last)",
      "Input \u001b[0;32mIn [10]\u001b[0m, in \u001b[0;36m<cell line: 2>\u001b[0;34m()\u001b[0m\n\u001b[1;32m      1\u001b[0m b \u001b[38;5;241m=\u001b[39m np\u001b[38;5;241m.\u001b[39marray([\u001b[38;5;241m10\u001b[39m, \u001b[38;5;241m10\u001b[39m])\n\u001b[0;32m----> 2\u001b[0m \u001b[43mgrid_a\u001b[49m\u001b[43m \u001b[49m\u001b[38;5;241;43m*\u001b[39;49m\u001b[43m \u001b[49m\u001b[43mb\u001b[49m\n",
      "\u001b[0;31mValueError\u001b[0m: operands could not be broadcast together with shapes (2,3) (2,) "
     ]
    }
   ],
   "source": [
    "b = np.array([10, 10])\n",
    "grid_a * b"
   ]
  },
  {
   "cell_type": "markdown",
   "id": "b86bce75-fdfe-4340-91c1-d1d1010003ee",
   "metadata": {
    "slideshow": {
     "slide_type": "skip"
    }
   },
   "source": [
    "Then it fails since it was unable to *broadcast* a `(2)` to a `(2,3)`.\n",
    "\n",
    "There are ways to manipulate the arrays to make this work which are all covered in the documentation linked above. You might hope that it would see that it's combining a `(2,3)` with a `(2)` and stretch in the other dimension but the rules are designed to be predictable and simple so you can always reason about them without them being too clever and magic."
   ]
  },
  {
   "cell_type": "markdown",
   "id": "dd366944-f498-415f-afb7-ca76baa98b2b",
   "metadata": {
    "slideshow": {
     "slide_type": "subslide"
    }
   },
   "source": [
    "As a final example, when you do `a * 5` NumPy is effectively behind the scenes automatically doing this stretching:"
   ]
  },
  {
   "cell_type": "markdown",
   "id": "5d11becd-0d30-4670-8cf1-dcd4323e0652",
   "metadata": {
    "slideshow": {
     "slide_type": "-"
    }
   },
   "source": [
    "![](../assets/diag_05-2.png) "
   ]
  },
  {
   "cell_type": "markdown",
   "id": "17e942a0-eae1-48ff-b03a-a7a4e87118ab",
   "metadata": {
    "slideshow": {
     "slide_type": "subslide"
    },
    "tags": [
     "exercise"
    ]
   },
   "source": [
    "### Exercise 11\n",
    "\n",
    "> Once again, grab the `\"temperature\"` array from the ECMWF weather data. Remember, this is in units of Kelvin and is three-dimensional with axes of altitude, latitude and longitude. The altitude axis is layered such that the 0<sup>th</sup> layer is ground-level and each layer beyond that increases in altitude.\n",
    ">\n",
    ">```python\n",
    ">with np.load(\"../assets/weather_data.npz\") as weather:\n",
    "    temperature = weather[\"temperature\"]\n",
    "    # masks\n",
    "    uk_mask = weather[\"uk\"]\n",
    "    irl_mask = weather[\"ireland\"]\n",
    "    spain_mask = weather[\"spain\"]\n",
    ">```\n",
    ">\n",
    "> - Convert the data to °C and calculate the maximum of the entire 3D `temperature` data set\n",
    "> - How can we use a 2D mask on a 3D data set to calculate a regional maximum?\n",
    "    - First, try the solution of the weather exercise in the last chapter to filter the data set with `uk_temp = temperature[uk_mask]`. Does this work?\n",
    "    - Now try to use array broadcasting to apply the 2D mask to the 3D data (i.e., you multiply both fields) to extract only those values from within the UK\n",
    "    - Calculate the maximum of the UK data\n",
    "    - Do the same with Ireland and Spain and compare the numbers\n"
   ]
  },
  {
   "cell_type": "code",
   "execution_count": 14,
   "id": "a6732ba4-4f57-467a-a885-41466c330270",
   "metadata": {
    "slideshow": {
     "slide_type": "skip"
    }
   },
   "outputs": [],
   "source": [
    "# Write your exercise code here\n"
   ]
  },
  {
   "cell_type": "markdown",
   "id": "8f52914d-180e-4cd9-a3b7-3423c2f90626",
   "metadata": {
    "slideshow": {
     "slide_type": "skip"
    }
   },
   "source": [
    "[<small>answer</small>](../solutions/combining_weather.ipynb)"
   ]
  },
  {
   "cell_type": "markdown",
   "id": "4a5ba89a-3ee3-4bdb-ada5-39cb9cea0cbc",
   "metadata": {
    "slideshow": {
     "slide_type": "subslide"
    }
   },
   "source": [
    "## [[Previous: Filtering data](./04-filtering_data.ipynb)] | [[Next: Final weather exercise](./06-final_exercise.ipynb)]"
   ]
  }
 ],
 "metadata": {
  "celltoolbar": "Slideshow",
  "kernelspec": {
   "display_name": "Python 3 (ipykernel)",
   "language": "python",
   "name": "python3"
  },
  "language_info": {
   "codemirror_mode": {
    "name": "ipython",
    "version": 3
   },
   "file_extension": ".py",
   "mimetype": "text/x-python",
   "name": "python",
   "nbconvert_exporter": "python",
   "pygments_lexer": "ipython3",
   "version": "3.10.6"
  }
 },
 "nbformat": 4,
 "nbformat_minor": 5
}
