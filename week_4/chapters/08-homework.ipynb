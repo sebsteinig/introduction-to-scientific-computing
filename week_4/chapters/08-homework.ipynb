{
 "cells": [
  {
   "cell_type": "markdown",
   "id": "01eb97db-d589-4add-b580-3cad0856bcc1",
   "metadata": {},
   "source": [
    "# Exercise: Estimating $\\pi$ by playing Darts"
   ]
  },
  {
   "cell_type": "markdown",
   "id": "7d5e87ec-ec37-486a-b08c-3315cddb3261",
   "metadata": {},
   "source": [
    "Let's use the power of NumPy to work on a very long-standing problem: finding a numerical approximatopn for the numper $\\pi$. Pi is the ratio of a circle's circumference to its diameter and people have tried for [thousands of years](https://en.wikipedia.org/wiki/Approximations_of_%CF%80#:~:text=Zu%20Chongzhi%20is%20known%20to,accurate%20as%20his%20decimal%20result.) to compoute its value to the highest accuracy possible. We are going to try to find our own numerical solution to estimate $\\pi$ now and we are doing this by simply playing darts!"
   ]
  },
  {
   "cell_type": "markdown",
   "id": "4b6ece20-45bb-4565-8aa8-2d70f1840037",
   "metadata": {},
   "source": [
    "![](../assets/dartboard_schematic.png) "
   ]
  },
  {
   "cell_type": "markdown",
   "id": "e33aa588-dc48-468a-b822-b9f7f0cd9c35",
   "metadata": {},
   "source": [
    "## Mathematical background\n",
    "We are going to make use of the fact that we are actually not very good at playing darts! We start by putting a blue square behind and around our green dartboard to protect our wall like in the above schematic. We are really bad at this, so every dart we throw will allways land at some random point within the square above. Sometimes we will even hit the actual green dartboard. Hooray! After some (very long) time we notice that the overall probability at which our darts land within the green area is actually not random but seems to converge to a fixed number. The math guy in the group points out that we can actually use our pathetic display to estimate $\\pi$. But whow?"
   ]
  },
  {
   "cell_type": "markdown",
   "id": "ce58846b-09d3-405f-b32d-48dbc10f84a7",
   "metadata": {},
   "source": [
    "Since our throws are totally random, the probability of a single dart landing in the green circle is actually given by the ratio of the circle's area compared to that of the surrounding square, or:"
   ]
  },
  {
   "cell_type": "markdown",
   "id": "d6866707-a430-4cc0-a26a-f394b679ed11",
   "metadata": {},
   "source": [
    "$$ p_{circle} = \\frac{A_{circle}}{A_{square}} = \\frac{\\pi*r^2}{(2*r)^2}$$"
   ]
  },
  {
   "cell_type": "markdown",
   "id": "fd7c9ccc-01e6-4bf9-905a-e46a3d546079",
   "metadata": {},
   "source": [
    "We can actually measure $p_{circle}$ by just keeping track of how many darts of our total land within the green circle. So we can write:"
   ]
  },
  {
   "cell_type": "markdown",
   "id": "8053098c-808a-4b0f-910e-40ff082c7cf3",
   "metadata": {},
   "source": [
    "$$ \\frac{N_{circle}}{N_{total}} \\approx \\frac{\\pi*r^2}{(2*r)^2} = \\frac{\\pi}{4}$$"
   ]
  },
  {
   "cell_type": "markdown",
   "id": "d1419c5d-8d29-4988-9c51-91d59551d0f0",
   "metadata": {},
   "source": [
    "with $N_{circle}$ being the number of darts landing in the green circle and $N_{total}$ the total number of darts thrown and landing anywhere within the square. So along our game of Darts we can simply keep counting the number of darts that land in the circle and estimate $\\pi$ by:"
   ]
  },
  {
   "cell_type": "markdown",
   "id": "9cc58914-37f7-4e10-8e0a-5a2ec13d129f",
   "metadata": {},
   "source": [
    "$$ \\pi \\approx \\frac{N_{circle}}{N_{total}} * 4$$"
   ]
  },
  {
   "cell_type": "markdown",
   "id": "38ea7be2-795b-4ece-9da3-ba1534b9604e",
   "metadata": {},
   "source": [
    "## Exercise 1\n",
    "Write some code that simulates throwing $N_{total}$ = 100,000 darts that land randomly within the square. For each throw, check whether the dart lands within the green circle and use the ratio of this count to the total number of thrown darts to calculate an estimate of $\\pi$. For simplicity, start by implementing the simulation with a loop over each of the 100,000 throws. Keep track of your current estimate of $\\pi$ after each throw and plot the results. "
   ]
  },
  {
   "cell_type": "markdown",
   "id": "eb982310-21b1-4aad-8451-c546d745746a",
   "metadata": {},
   "source": [
    "Hints:\n",
    "- you can use the `np.random.rand(N, 2)` to simulate the random dart positions on the square\n",
    "- assume that the (x, y) coordinates of the centre of the circle are (0, 0) and each dart's x and y coordinate should fall between [-1,1], respectively (you can modify the output of `np.random.rand(N, 2)` to achieve this)\n",
    "- you can then loop over the dart positions and check whether a dart lands within the circle with $\\sqrt{x^2 + y^2} < 1$\n",
    "- use a matplotlib line plot to visualise the result with the umber of throws on the x-axis and the running estimate of $\\pi$ on the y-axis\n",
    "- add a horizontal line for your target value of $\\pi$"
   ]
  },
  {
   "cell_type": "code",
   "execution_count": 1,
   "id": "7d23f4be-c0bf-432b-817f-cdf50673454f",
   "metadata": {},
   "outputs": [],
   "source": [
    "# Write your exercise code here.\n"
   ]
  },
  {
   "cell_type": "markdown",
   "id": "af48bf1a-a4b0-40ae-b4b5-f64b509374bd",
   "metadata": {},
   "source": [
    "# Exercise 2\n",
    "The solution above works fine, but let's try to use NumPy to vectorise our code and therefore make it quicker and more easily extensible for the future. So the task is quite simple: Modify your code from above to get the same output, but without using any loop at all!"
   ]
  },
  {
   "cell_type": "markdown",
   "id": "4b36d4ec-f621-4f24-a83d-358e3e4ccc60",
   "metadata": {},
   "source": [
    "Hints:\n",
    "- use NumPy to calculate the distance from the center for all dart positions with a single command\n",
    "- you can apply arithmetics like powers or square roots to whole arrays and need to sum along an axis to reduce the dart positions array from shape (N, 2) to (N,)\n",
    "- similarly, you can use boolean indexing on an array to find those distances that are < 1\n",
    "- if you make use of the fact that `True` behaves like `1` and `False` behaves like `0`, you can calculate the cumulative sum with the [np.cumsum function](https://numpy.org/doc/stable/reference/generated/numpy.cumsum.html)\n",
    "- again, check the results by plotting them"
   ]
  },
  {
   "cell_type": "code",
   "execution_count": 2,
   "id": "b3308e44-43f7-4eb3-99b0-b23aedbf4a4b",
   "metadata": {},
   "outputs": [],
   "source": [
    "# Write your exercise code here.\n"
   ]
  },
  {
   "cell_type": "markdown",
   "id": "ac292741-bfec-4d35-9c0d-6b335d96bfe5",
   "metadata": {},
   "source": [
    "# Exercise 3\n",
    "If you re-run your solutions from above you will notice that you will get a different shape of your curve each time. This is expected, but it would be nice to actually account for this random behaviour by attaching an uncertainty to each of our $\\pi$ estimates along our simulation. You could manually re-run your code 10, 100 or 1000 times and calculate the mean and standard deviation across your results. But you would probably agree, that this is a quite tedious process. Instead, your task is to adjust your code from above to simply add another dimension to your array of dart positions that represents the individual trials (or realisations) of your experiments. Implement M = 100 trials of your simulation and finally plot the mean and uncertainty envelope of your $\\pi$ estimate."
   ]
  },
  {
   "cell_type": "markdown",
   "id": "21b9ab65-056c-4c42-9a04-6840db64f4c8",
   "metadata": {},
   "source": [
    "Hints:\n",
    "- you can easily add a dimension M to your array of dart positions, so instead of generating (N, 2) dart positions, you will create (M, N, 2) positions now\n",
    "- slightly adjust your code so that you now calculate (M,N) instead of (N,) estimates of $\\pi$\n",
    "- you can now calculate the mean and standard deviation along the M dimension\n",
    "- plot the results and use the [fill_between](https://matplotlib.org/stable/api/_as_gen/matplotlib.pyplot.fill_between.html) command to add an uncertanty shading around your mean\n",
    "- try to estimate the time (e.g. via the [timeit magic command](https://ipython.readthedocs.io/en/stable/interactive/magics.html#magic-timeit)) it would take to run your code from exercise 1 for 100 times compared to the execution time of your fully vectorised solution in exercise 3"
   ]
  },
  {
   "cell_type": "code",
   "execution_count": 3,
   "id": "d782343d-fdb3-4aac-97c7-025f8772ae36",
   "metadata": {},
   "outputs": [],
   "source": [
    "# Write your exercise code here.\n"
   ]
  },
  {
   "cell_type": "markdown",
   "id": "fa6ac796-488b-46e3-836b-e09d5028fb34",
   "metadata": {},
   "source": [
    "I hope you had some fun putting the things you learned about NumPy into practice. Don't hesitate to contact me via email or in the office hours if you run into any problems with this homework. We will also discuss the results together in next week's lecture."
   ]
  }
 ],
 "metadata": {
  "kernelspec": {
   "display_name": "Python 3 (ipykernel)",
   "language": "python",
   "name": "python3"
  },
  "language_info": {
   "codemirror_mode": {
    "name": "ipython",
    "version": 3
   },
   "file_extension": ".py",
   "mimetype": "text/x-python",
   "name": "python",
   "nbconvert_exporter": "python",
   "pygments_lexer": "ipython3",
   "version": "3.9.12"
  }
 },
 "nbformat": 4,
 "nbformat_minor": 5
}
