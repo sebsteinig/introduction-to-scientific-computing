{
 "cells": [
  {
   "cell_type": "markdown",
   "id": "01eb97db-d589-4add-b580-3cad0856bcc1",
   "metadata": {},
   "source": [
    "# Exercise: Estimating Pi by playing Darts"
   ]
  }
 ],
 "metadata": {
  "kernelspec": {
   "display_name": "Python 3 (ipykernel)",
   "language": "python",
   "name": "python3"
  },
  "language_info": {
   "codemirror_mode": {
    "name": "ipython",
    "version": 3
   },
   "file_extension": ".py",
   "mimetype": "text/x-python",
   "name": "python",
   "nbconvert_exporter": "python",
   "pygments_lexer": "ipython3",
   "version": "3.9.12"
  }
 },
 "nbformat": 4,
 "nbformat_minor": 5
}
