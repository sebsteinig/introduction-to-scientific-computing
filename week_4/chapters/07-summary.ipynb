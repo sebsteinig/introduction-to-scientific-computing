{
 "cells": [
  {
   "cell_type": "markdown",
   "id": "1028a660-98e6-4ac9-af93-fd72ad2bd3ee",
   "metadata": {},
   "source": [
    "# Summary\n",
    "\n",
    "This week we have covered:\n",
    "\n",
    "- NumPy arrays and how to select and manipulate them\n",
    "- Creating NumPy arrays with built-in functions\n",
    "- Performing mathematical and logical operations on NumPy arrays\n",
    "- Dealing with multiple dimensions\n",
    "- Combining arrays when they are not exactly the same shape\n",
    "- Plotting data from NumPy arrays in one and two dimensions\n",
    "\n",
    "## Further reading\n",
    "\n",
    "If you want more details on NumPy then have a look at [the official absolute beginner's guide](https://numpy.org/devdocs/user/absolute_beginners.html) or, in more depth, the [quickstart](https://numpy.org/devdocs/user/quickstart.html).\n",
    "\n",
    "For a course which details how you can use NumPy to perform simulations, have a look at the free [Numpy and Simulations course](https://milliams.com/courses/numpy_simulation/) from the University of Bristol ACRC."
   ]
  },
  {
   "cell_type": "markdown",
   "id": "7d1cbad4-8422-4cfe-949f-69c02555a4a7",
   "metadata": {},
   "source": [
    "## Practice at home\n",
    "\n",
    "In the last weeks, we had some practice sheets at this place to work through some short exercises covering the week's material. This week, we will just have one, slightly more difficult exercise to put everything you learned about NumPy and plotting into practice. You can find the instructions to work through the exercise on your own [here](08-homework) and we will discuss the results in next week's lecture together. Remember, that my office hours are on Friday 11am-noon in BS12 (room S1) or on Teams in case you have any problems with the homework. Good luck!"
   ]
  },
  {
   "cell_type": "markdown",
   "id": "d5919ef5-0321-40f4-b791-e56b657a98e6",
   "metadata": {},
   "source": [
    "## Credits\n",
    "\n",
    "This course was written by Matt Williams and and published at https://milliams.com/courses/intro_numpy/. It was modified and adapted by Sebastian Steinig.\n",
    "\n",
    "All text is published under a [Creative Commons Attribution 4.0 International\n",
    "License](https://creativecommons.org/licenses/by/4.0/) with all code snippets licensed as MIT.\n",
    "\n",
    "All multi-dimensional weather data is © European Centre for Medium-Range Weather Forecasts (ECMWF) Source: www.ecmwf.int Licence: CC-BY-4.0 and ECMWF Terms of Use (https://apps.ecmwf.int/datasets/licences/general/).\n",
    "\n",
    "Historic rainfall data for Bristol has been obtained from [https://www.bristolweather.org/](https://www.bristolweather.org/)."
   ]
  },
  {
   "cell_type": "markdown",
   "id": "d0f42eb6-b294-4986-b3c8-727a23db14cc",
   "metadata": {},
   "source": [
    "## [[Previous: Final exercise](./06-final_exercise.ipynb)] | [[Next: Homework](./08-homework.ipynb)]"
   ]
  }
 ],
 "metadata": {
  "kernelspec": {
   "display_name": "Python 3 (ipykernel)",
   "language": "python",
   "name": "python3"
  },
  "language_info": {
   "codemirror_mode": {
    "name": "ipython",
    "version": 3
   },
   "file_extension": ".py",
   "mimetype": "text/x-python",
   "name": "python",
   "nbconvert_exporter": "python",
   "pygments_lexer": "ipython3",
   "version": "3.9.12"
  }
 },
 "nbformat": 4,
 "nbformat_minor": 5
}
