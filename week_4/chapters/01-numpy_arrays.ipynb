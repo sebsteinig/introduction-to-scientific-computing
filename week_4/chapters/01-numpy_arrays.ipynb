{
 "cells": [
  {
   "cell_type": "markdown",
   "id": "62a9c75e-1dcf-4a02-8084-fbb2e71acbbf",
   "metadata": {
    "slideshow": {
     "slide_type": "slide"
    }
   },
   "source": [
    "# NumPy arrays\n",
    "\n",
    "The core object of NumPy is the *array*. NumPy arrays are an efficient way to store numerical data, provide operations to manipulate them, and can be combined together in lots of ways."
   ]
  },
  {
   "cell_type": "markdown",
   "id": "355e1244",
   "metadata": {
    "slideshow": {
     "slide_type": "fragment"
    }
   },
   "source": [
    "At their most simple, a NumPy array is similar to a Python list: it contains a collection of data, it has a length, it can be indexed using square brackets and it can be looped over. "
   ]
  },
  {
   "cell_type": "markdown",
   "id": "c649c632",
   "metadata": {
    "slideshow": {
     "slide_type": "skip"
    }
   },
   "source": [
    "However they have a number of features that distinguish them from Python lists. We'll discover these as we go through the course today but some will feel like a restriction while others will feel more powerful."
   ]
  },
  {
   "cell_type": "markdown",
   "id": "35199868",
   "metadata": {
    "slideshow": {
     "slide_type": "skip"
    }
   },
   "source": [
    "The restrictions and advantages of using a NumPy array over a Python list mean that they are very suited to some situations, while not appropriate to others. Part of your job while programming is knowing what tool to use in which situation."
   ]
  },
  {
   "cell_type": "markdown",
   "id": "972a64e5-1a51-4069-8bac-3c110dab1601",
   "metadata": {
    "slideshow": {
     "slide_type": "skip"
    }
   },
   "source": [
    "We'll start by importing the `numpy` module. This module is not a core part of Python, but is generally available or easily installed. If you are using the Anaconda Python distribution then it will come as a standard part of the base environment.\n",
    "\n",
    "It is commonly aliased to `np`:"
   ]
  },
  {
   "cell_type": "code",
   "execution_count": 27,
   "id": "b2a6434f-94bc-4d44-a7b9-156b1a90da6e",
   "metadata": {
    "slideshow": {
     "slide_type": "slide"
    }
   },
   "outputs": [],
   "source": [
    "import numpy as np"
   ]
  },
  {
   "cell_type": "markdown",
   "id": "35ce2712-cf19-4f06-b3aa-2fc69fc528fa",
   "metadata": {
    "slideshow": {
     "slide_type": "skip"
    }
   },
   "source": [
    "There are lots of ways of creating arrays, but the simplest is to pass in an existing Python list to the [`np.array`](https://numpy.org/doc/stable/reference/generated/numpy.array.html) function:"
   ]
  },
  {
   "cell_type": "code",
   "execution_count": 38,
   "id": "e023f83d-c6ed-4211-9143-20d85edafbc5",
   "metadata": {
    "slideshow": {
     "slide_type": "fragment"
    }
   },
   "outputs": [],
   "source": [
    "my_list = [1, 2, 3, 4, 5]\n",
    "my_array = np.array(my_list)"
   ]
  },
  {
   "cell_type": "markdown",
   "id": "6e8f75d4-4994-40b2-a142-bbcfeec159b0",
   "metadata": {
    "slideshow": {
     "slide_type": "skip"
    }
   },
   "source": [
    "or you can pass it in directly:"
   ]
  },
  {
   "cell_type": "code",
   "execution_count": 3,
   "id": "9454cf06-4f02-4566-939e-2d4e15386bf8",
   "metadata": {
    "slideshow": {
     "slide_type": "skip"
    }
   },
   "outputs": [],
   "source": [
    "my_array = np.array([1, 2, 3, 4, 5])"
   ]
  },
  {
   "cell_type": "markdown",
   "id": "b2e78dfa-4019-4053-ada3-757d70f9c7b8",
   "metadata": {
    "slideshow": {
     "slide_type": "skip"
    }
   },
   "source": [
    "This gives us an object, `my_array`, which you can display:"
   ]
  },
  {
   "cell_type": "code",
   "execution_count": 4,
   "id": "72e49adb-7dca-4d6f-a9f1-57455cf8deda",
   "metadata": {
    "slideshow": {
     "slide_type": "skip"
    }
   },
   "outputs": [
    {
     "data": {
      "text/plain": [
       "array([1, 2, 3, 4, 5])"
      ]
     },
     "execution_count": 4,
     "metadata": {},
     "output_type": "execute_result"
    }
   ],
   "source": [
    "my_array"
   ]
  },
  {
   "cell_type": "markdown",
   "id": "a030f6a2-2a43-4d08-a80a-f98fbbe3f3e1",
   "metadata": {
    "slideshow": {
     "slide_type": "skip"
    }
   },
   "source": [
    "or"
   ]
  },
  {
   "cell_type": "code",
   "execution_count": 5,
   "id": "579288a7-5f93-45ec-9c45-741a098a2d24",
   "metadata": {
    "slideshow": {
     "slide_type": "skip"
    }
   },
   "outputs": [
    {
     "name": "stdout",
     "output_type": "stream",
     "text": [
      "[1 2 3 4 5]\n"
     ]
    }
   ],
   "source": [
    "print(my_array)"
   ]
  },
  {
   "cell_type": "markdown",
   "id": "96a2987f-cf15-4219-bfd3-32541a78b9eb",
   "metadata": {
    "slideshow": {
     "slide_type": "slide"
    }
   },
   "source": [
    "## Selecting and editing data"
   ]
  },
  {
   "cell_type": "markdown",
   "id": "dbd597c8-5120-4489-8c2b-9d151c64b878",
   "metadata": {
    "slideshow": {
     "slide_type": "skip"
    }
   },
   "source": [
    "You can access the items in an array in much the same way as in a `list`. i.e. to select the first element:"
   ]
  },
  {
   "cell_type": "code",
   "execution_count": 6,
   "id": "1d7ea600-0ce3-4855-ae05-d58c694a14f7",
   "metadata": {
    "slideshow": {
     "slide_type": "skip"
    }
   },
   "outputs": [
    {
     "data": {
      "text/plain": [
       "1"
      ]
     },
     "execution_count": 6,
     "metadata": {},
     "output_type": "execute_result"
    }
   ],
   "source": [
    "my_array[0]"
   ]
  },
  {
   "cell_type": "markdown",
   "id": "508631a8-2d8f-4671-b655-40552ddcf3c0",
   "metadata": {
    "slideshow": {
     "slide_type": "skip"
    }
   },
   "source": [
    "To select the last element:"
   ]
  },
  {
   "cell_type": "code",
   "execution_count": 7,
   "id": "604ae8ae-36a7-4b8c-bfa6-b14f6328b342",
   "metadata": {
    "slideshow": {
     "slide_type": "skip"
    }
   },
   "outputs": [
    {
     "data": {
      "text/plain": [
       "5"
      ]
     },
     "execution_count": 7,
     "metadata": {},
     "output_type": "execute_result"
    }
   ],
   "source": [
    "my_array[-1]"
   ]
  },
  {
   "cell_type": "markdown",
   "id": "b1e0b125-01b7-42ec-b577-d01a10777cfa",
   "metadata": {
    "slideshow": {
     "slide_type": "skip"
    }
   },
   "source": [
    "To select everything from index `2` to the end (using a [slice](https://docs.python.org/3/glossary.html#term-slice)):"
   ]
  },
  {
   "cell_type": "code",
   "execution_count": 8,
   "id": "472a2e65-87d0-465c-8792-130f1fab9f05",
   "metadata": {
    "slideshow": {
     "slide_type": "skip"
    }
   },
   "outputs": [
    {
     "data": {
      "text/plain": [
       "array([3, 4, 5])"
      ]
     },
     "execution_count": 8,
     "metadata": {},
     "output_type": "execute_result"
    }
   ],
   "source": [
    "my_array[2:]"
   ]
  },
  {
   "cell_type": "markdown",
   "id": "71292b82-754e-437d-97b1-880866cd82b3",
   "metadata": {
    "slideshow": {
     "slide_type": "skip"
    }
   },
   "source": [
    "NumPy arrays are mutable so you can edit the values within by indexing it with `[]` on the left-hand side of the `=` and passing a value:"
   ]
  },
  {
   "cell_type": "code",
   "execution_count": 9,
   "id": "deb2f6f6-8f46-4eb1-8eeb-b9fe5b9836e0",
   "metadata": {
    "slideshow": {
     "slide_type": "skip"
    }
   },
   "outputs": [
    {
     "name": "stdout",
     "output_type": "stream",
     "text": [
      "[  1   2   3   4 999]\n"
     ]
    }
   ],
   "source": [
    "my_array[4] = 999\n",
    "print(my_array)"
   ]
  },
  {
   "cell_type": "markdown",
   "id": "30afe5db-053b-443d-a87d-e0c423b3e9bf",
   "metadata": {
    "slideshow": {
     "slide_type": "skip"
    }
   },
   "source": [
    "You can see that the last number has changed from `5` to `999`."
   ]
  },
  {
   "cell_type": "markdown",
   "id": "6cefa832-444e-4e5e-b7e0-c9885f2502db",
   "metadata": {
    "slideshow": {
     "slide_type": "skip"
    },
    "tags": [
     "exercise"
    ]
   },
   "source": [
    "### Exercise 1\n",
    "\n",
    ">1. Extract the first three elements of `my_array` (the answer should give `array([1, 2, 3])`)\n",
    ">2. Set the values of `my_array` back to `[1 2 3 4 5]`."
   ]
  },
  {
   "cell_type": "code",
   "execution_count": 10,
   "id": "43e3c446-492c-4fcf-91f9-c40056365c66",
   "metadata": {
    "slideshow": {
     "slide_type": "skip"
    }
   },
   "outputs": [],
   "source": [
    "# Write your exercise code here\n"
   ]
  },
  {
   "cell_type": "markdown",
   "id": "ee5805be-f741-4cd0-af91-0461d46e37ec",
   "metadata": {
    "slideshow": {
     "slide_type": "skip"
    }
   },
   "source": [
    "[<small>answer</small>](../solutions/arrays_select.ipynb)"
   ]
  },
  {
   "cell_type": "markdown",
   "id": "2f539270-00f7-4bde-9574-81f529319f71",
   "metadata": {
    "slideshow": {
     "slide_type": "slide"
    }
   },
   "source": [
    "## Creating pre-filled arrays\n",
    "\n",
    "It's common to want to create arrays of a cetain size with all the values set to something specific.\n",
    "\n",
    "For example, to create a three-item array filled entirely with `0` NumPy provides a function called [`np.zeros`](https://numpy.org/doc/stable/reference/generated/numpy.zeros.html):"
   ]
  },
  {
   "cell_type": "code",
   "execution_count": 11,
   "id": "b19cb86a-295c-458c-ae21-1ac27992c80e",
   "metadata": {
    "slideshow": {
     "slide_type": "skip"
    }
   },
   "outputs": [
    {
     "data": {
      "text/plain": [
       "array([0., 0., 0.])"
      ]
     },
     "execution_count": 11,
     "metadata": {},
     "output_type": "execute_result"
    }
   ],
   "source": [
    "np.zeros(3)"
   ]
  },
  {
   "cell_type": "markdown",
   "id": "307ac517-b317-4ebd-9c02-cf6331829280",
   "metadata": {
    "slideshow": {
     "slide_type": "skip"
    }
   },
   "source": [
    "Or a four-item array filled with `1` you can use [`np.ones`](https://numpy.org/doc/stable/reference/generated/numpy.ones.html):"
   ]
  },
  {
   "cell_type": "code",
   "execution_count": 12,
   "id": "3bc2f51f-2ed0-40d8-adae-e9f0244ae7e5",
   "metadata": {
    "slideshow": {
     "slide_type": "skip"
    }
   },
   "outputs": [
    {
     "data": {
      "text/plain": [
       "array([1., 1., 1., 1.])"
      ]
     },
     "execution_count": 12,
     "metadata": {},
     "output_type": "execute_result"
    }
   ],
   "source": [
    "np.ones(4)"
   ]
  },
  {
   "cell_type": "markdown",
   "id": "71058a8f-d121-4a32-bd0e-e094d9b2149c",
   "metadata": {
    "slideshow": {
     "slide_type": "skip"
    }
   },
   "source": [
    "You can also create ranges of numbers, much like the built-in Python function `range` by using the NumPy function [`np.arange`](https://numpy.org/doc/stable/reference/generated/numpy.arange.html) which takes the same sorts of arguments (plus some optional extra):"
   ]
  },
  {
   "cell_type": "code",
   "execution_count": 13,
   "id": "3695b964-c875-42f4-8549-e002e6114d0e",
   "metadata": {
    "slideshow": {
     "slide_type": "skip"
    }
   },
   "outputs": [
    {
     "data": {
      "text/plain": [
       "array([0, 1, 2, 3, 4, 5, 6, 7, 8, 9])"
      ]
     },
     "execution_count": 13,
     "metadata": {},
     "output_type": "execute_result"
    }
   ],
   "source": [
    "np.arange(10)"
   ]
  },
  {
   "cell_type": "markdown",
   "id": "2f66b928-e6a5-4f52-b291-1204587df1e5",
   "metadata": {
    "slideshow": {
     "slide_type": "skip"
    }
   },
   "source": [
    "Or, if instead of wanting integers in a range, you want 10 evently-spaced numbers between 3 and 6, you can use [`np.linspace`](https://numpy.org/doc/stable/reference/generated/numpy.linspace.html) (*linearly spaced*):"
   ]
  },
  {
   "cell_type": "code",
   "execution_count": 14,
   "id": "6b82e3ae-a423-41bf-8044-eb23666683ce",
   "metadata": {
    "slideshow": {
     "slide_type": "skip"
    }
   },
   "outputs": [
    {
     "data": {
      "text/plain": [
       "array([3.  , 3.75, 4.5 , 5.25, 6.  ])"
      ]
     },
     "execution_count": 14,
     "metadata": {},
     "output_type": "execute_result"
    }
   ],
   "source": [
    "np.linspace(3, 6, 5)"
   ]
  },
  {
   "cell_type": "markdown",
   "id": "62fd58aa-4894-44f5-8d0d-79bcccf97f67",
   "metadata": {
    "slideshow": {
     "slide_type": "skip"
    },
    "tags": [
     "exercise"
    ]
   },
   "source": [
    "### Exercise 2\n",
    "\n",
    ">Using the functions above, create the following:\n",
    "> - an array which contains `[0. , 0.2, 0.4, 0.6, 0.8, 1. ]`\n",
    "> - an array which contains `[4, 5, 6, 7, 8, 9]`\n",
    "> - an array which contains `[0]`\n"
   ]
  },
  {
   "cell_type": "code",
   "execution_count": 15,
   "id": "473974da-fc9b-4885-a41f-58c9fbeffc88",
   "metadata": {
    "slideshow": {
     "slide_type": "skip"
    }
   },
   "outputs": [],
   "source": [
    "# Write your exercise code here\n"
   ]
  },
  {
   "cell_type": "markdown",
   "id": "b7605bc1-bafb-42d7-80eb-2b42e585677c",
   "metadata": {
    "slideshow": {
     "slide_type": "skip"
    }
   },
   "source": [
    "[<small>answer</small>](../solutions/arrays_prefilled.ipynb)"
   ]
  },
  {
   "cell_type": "markdown",
   "id": "d40c65aa-a95f-4442-b789-ec2da621f439",
   "metadata": {
    "slideshow": {
     "slide_type": "slide"
    }
   },
   "source": [
    "## Restrictions of NumPy arrays\n",
    "\n",
    "There are a number of restictions on how NumPy arrays can be used, each of which serves a purpose in making it more efficient. The first is that unlike Python lists, arrays cannot be resized. Whatever size it is at creation is fixed.\n"
   ]
  },
  {
   "cell_type": "markdown",
   "id": "c73c3c86",
   "metadata": {
    "slideshow": {
     "slide_type": "fragment"
    }
   },
   "source": [
    "With a Python list you can use the `append` method:"
   ]
  },
  {
   "cell_type": "code",
   "execution_count": 16,
   "id": "2d0e2891-6f23-431b-8262-cc223151cdcc",
   "metadata": {
    "slideshow": {
     "slide_type": "skip"
    }
   },
   "outputs": [
    {
     "data": {
      "text/plain": [
       "[5, 7, 3, 703]"
      ]
     },
     "execution_count": 16,
     "metadata": {},
     "output_type": "execute_result"
    }
   ],
   "source": [
    "my_list = [5, 7, 3]\n",
    "my_list.append(703)\n",
    "my_list"
   ]
  },
  {
   "cell_type": "markdown",
   "id": "1309dad2-724d-4eeb-9605-2b4e7925e6ea",
   "metadata": {
    "slideshow": {
     "slide_type": "skip"
    }
   },
   "source": [
    "But NumPy arrays have no such method:"
   ]
  },
  {
   "cell_type": "code",
   "execution_count": 17,
   "id": "5443f58b-345a-485d-9ef5-515d3a0bf954",
   "metadata": {
    "slideshow": {
     "slide_type": "skip"
    },
    "tags": [
     "raises-exception"
    ]
   },
   "outputs": [
    {
     "ename": "AttributeError",
     "evalue": "'numpy.ndarray' object has no attribute 'append'",
     "output_type": "error",
     "traceback": [
      "\u001b[0;31m---------------------------------------------------------------------------\u001b[0m",
      "\u001b[0;31mAttributeError\u001b[0m                            Traceback (most recent call last)",
      "Input \u001b[0;32mIn [17]\u001b[0m, in \u001b[0;36m<cell line: 1>\u001b[0;34m()\u001b[0m\n\u001b[0;32m----> 1\u001b[0m \u001b[43mmy_array\u001b[49m\u001b[38;5;241;43m.\u001b[39;49m\u001b[43mappend\u001b[49m(\u001b[38;5;241m3\u001b[39m)\n",
      "\u001b[0;31mAttributeError\u001b[0m: 'numpy.ndarray' object has no attribute 'append'"
     ]
    }
   ],
   "source": [
    "my_array.append(3)"
   ]
  },
  {
   "cell_type": "markdown",
   "id": "413990e2-4c7d-496f-be26-94380655afa7",
   "metadata": {
    "slideshow": {
     "slide_type": "skip"
    }
   },
   "source": [
    "The reason for this restriction is that arrays are stored very efficiently in memory and adding another number to the end of an array may require the entire array to be moved elsewhere in memory where there is space for that extra number, and copying data in memory is slow.\n",
    "\n",
    "There is, however, an [`np.append`](https://numpy.org/doc/stable/reference/generated/numpy.append.html) function which works similarly, but importantly it returns an entirely new array containing the copied data so the original array is still unchanged."
   ]
  },
  {
   "cell_type": "markdown",
   "id": "4130304c-522d-4ec7-b4f7-e65f194f562e",
   "metadata": {
    "slideshow": {
     "slide_type": "slide"
    }
   },
   "source": [
    "### Data types\n",
    "\n",
    "Another important way in which NumPy arrays differ from Python lists is that each array can only hold one \"type\" of data."
   ]
  },
  {
   "cell_type": "markdown",
   "id": "a595b795",
   "metadata": {
    "slideshow": {
     "slide_type": "skip"
    }
   },
   "source": [
    "The main reason for this is because it's how NumPy is able to perform calculations so quickly. If it knows in advance that all the items in an array are, for example, integers, then it can make some assumptions which make anything you do to it faster.\n",
    "\n",
    "By default it will infer the type from the data you pass in, so in our case because we passed in a list of integers, the data type (or `dtype`) of the array is:"
   ]
  },
  {
   "cell_type": "code",
   "execution_count": 26,
   "id": "0cdb1aeb",
   "metadata": {
    "slideshow": {
     "slide_type": "skip"
    }
   },
   "outputs": [
    {
     "data": {
      "text/plain": [
       "dtype('int64')"
      ]
     },
     "execution_count": 26,
     "metadata": {},
     "output_type": "execute_result"
    }
   ],
   "source": [
    "my_array.dtype"
   ]
  },
  {
   "cell_type": "markdown",
   "id": "286afe1c-99b7-4806-a6c1-587db4ce53c1",
   "metadata": {
    "slideshow": {
     "slide_type": "skip"
    }
   },
   "source": [
    "This is a 64-bit integer. On your computer you might get `int32` instead.\n",
    "\n",
    "When you create the array you can specify the dtype:"
   ]
  },
  {
   "cell_type": "code",
   "execution_count": 19,
   "id": "99ddd509-0f86-4da5-b767-43cb34da6f96",
   "metadata": {
    "slideshow": {
     "slide_type": "skip"
    }
   },
   "outputs": [
    {
     "data": {
      "text/plain": [
       "dtype('int64')"
      ]
     },
     "execution_count": 19,
     "metadata": {},
     "output_type": "execute_result"
    }
   ],
   "source": [
    "my_int_array = np.array([1, 2, 3], dtype=int)\n",
    "my_int_array.dtype"
   ]
  },
  {
   "cell_type": "code",
   "execution_count": 20,
   "id": "a3d55bf8-9e99-48b2-9912-f32c5244bfbd",
   "metadata": {
    "slideshow": {
     "slide_type": "skip"
    }
   },
   "outputs": [
    {
     "data": {
      "text/plain": [
       "dtype('float64')"
      ]
     },
     "execution_count": 20,
     "metadata": {},
     "output_type": "execute_result"
    }
   ],
   "source": [
    "my_float_array = np.array([1, 2, 3], dtype=float)\n",
    "my_float_array.dtype"
   ]
  },
  {
   "cell_type": "markdown",
   "id": "76e20c10-0384-4fa6-b1dc-96a87ef951fb",
   "metadata": {
    "slideshow": {
     "slide_type": "skip"
    }
   },
   "source": [
    "Note that even though you passed in integer values when creating `my_float_array`, when you print the array, it shows them with a decimal point:"
   ]
  },
  {
   "cell_type": "code",
   "execution_count": 21,
   "id": "010cf052-1f58-4233-8123-02092ac3b6fa",
   "metadata": {
    "slideshow": {
     "slide_type": "skip"
    }
   },
   "outputs": [
    {
     "name": "stdout",
     "output_type": "stream",
     "text": [
      "[1. 2. 3.]\n"
     ]
    }
   ],
   "source": [
    "print(my_float_array)"
   ]
  },
  {
   "cell_type": "markdown",
   "id": "288c5599-a2ff-4189-bf60-c0f06d334a95",
   "metadata": {
    "slideshow": {
     "slide_type": "skip"
    }
   },
   "source": [
    "Also note that if you have an array with an integer dtype, then if you try to set a value as a float, it will drop the decimal places:"
   ]
  },
  {
   "cell_type": "code",
   "execution_count": 22,
   "id": "7d001ed0-6abc-469b-8b04-e5f5cd71605e",
   "metadata": {
    "slideshow": {
     "slide_type": "skip"
    }
   },
   "outputs": [
    {
     "name": "stdout",
     "output_type": "stream",
     "text": [
      "[ 1 47  3]\n"
     ]
    }
   ],
   "source": [
    "my_int_array[1] = 47.769\n",
    "print(my_int_array)"
   ]
  },
  {
   "cell_type": "markdown",
   "id": "bb307475-ac39-4fce-a109-16f44dc172c7",
   "metadata": {
    "slideshow": {
     "slide_type": "skip"
    }
   },
   "source": [
    "If you try to mix together data types then it will do its best to accomodate it:"
   ]
  },
  {
   "cell_type": "code",
   "execution_count": 23,
   "id": "31c7c401-cbdd-46e8-b3c9-aa59d331736d",
   "metadata": {
    "slideshow": {
     "slide_type": "skip"
    }
   },
   "outputs": [
    {
     "data": {
      "text/plain": [
       "array(['2', '5', 'cat'], dtype='<U21')"
      ]
     },
     "execution_count": 23,
     "metadata": {},
     "output_type": "execute_result"
    }
   ],
   "source": [
    "np.array([2, 5, \"cat\"])"
   ]
  },
  {
   "cell_type": "markdown",
   "id": "3cbeb2bc-6c8f-4d2e-bf0b-3c2008a1019f",
   "metadata": {
    "slideshow": {
     "slide_type": "skip"
    }
   },
   "source": [
    "so while we input two numbers and a string, the array that is created only contains strings. The `dtype='<U21'` bit is it telling us that this array contains unicode strings with a maximum length of 21 characters."
   ]
  },
  {
   "cell_type": "markdown",
   "id": "00169584-b7dc-4e42-828c-ad7f1c63cd17",
   "metadata": {
    "slideshow": {
     "slide_type": "skip"
    }
   },
   "source": [
    "In a more subtle case, if we mix together integers and floating point numbers, it will convert the integers to floats:"
   ]
  },
  {
   "cell_type": "code",
   "execution_count": 24,
   "id": "b293246d-c45c-4bcb-a0c4-67466c782f11",
   "metadata": {
    "slideshow": {
     "slide_type": "skip"
    }
   },
   "outputs": [
    {
     "data": {
      "text/plain": [
       "array([2. , 5. , 5.4])"
      ]
     },
     "execution_count": 24,
     "metadata": {},
     "output_type": "execute_result"
    }
   ],
   "source": [
    "np.array([2, 5, 5.4])"
   ]
  },
  {
   "cell_type": "markdown",
   "id": "ec3419c7-ebc9-409a-b395-8fdca0c37779",
   "metadata": {
    "slideshow": {
     "slide_type": "slide"
    }
   },
   "source": [
    "## [[Previous: Overview](../week_04_numerical_python.ipynb)] | [[Next: Operations on NumPy arrays](./02-operations.ipynb)]"
   ]
  }
 ],
 "metadata": {
  "celltoolbar": "Slideshow",
  "kernelspec": {
   "display_name": "Python 3 (ipykernel)",
   "language": "python",
   "name": "python3"
  },
  "language_info": {
   "codemirror_mode": {
    "name": "ipython",
    "version": 3
   },
   "file_extension": ".py",
   "mimetype": "text/x-python",
   "name": "python",
   "nbconvert_exporter": "python",
   "pygments_lexer": "ipython3",
   "version": "3.9.12"
  }
 },
 "nbformat": 4,
 "nbformat_minor": 5
}
