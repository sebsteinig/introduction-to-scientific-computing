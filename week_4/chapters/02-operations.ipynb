{
 "cells": [
  {
   "cell_type": "markdown",
   "id": "2c7157a2-e6c3-4d39-b574-169d26a31048",
   "metadata": {
    "slideshow": {
     "slide_type": "slide"
    }
   },
   "source": [
    "# Operations on NumPy arrays\n",
    "\n",
    "One of the most powerful features of NumPy is its ability to manipulate entire arrays of numbers in one go."
   ]
  },
  {
   "cell_type": "markdown",
   "id": "93d98d0a-afee-4b4f-b4c2-d74eeb60cd86",
   "metadata": {
    "slideshow": {
     "slide_type": "subslide"
    }
   },
   "source": [
    "## Numerical operations\n",
    "\n",
    "In Python, you can multiply a single number by another to get a new number:"
   ]
  },
  {
   "cell_type": "code",
   "execution_count": 1,
   "id": "445705e0-a226-480e-99b4-10d6535bccfb",
   "metadata": {
    "slideshow": {
     "slide_type": "fragment"
    }
   },
   "outputs": [
    {
     "data": {
      "text/plain": [
       "6.28"
      ]
     },
     "execution_count": 1,
     "metadata": {},
     "output_type": "execute_result"
    }
   ],
   "source": [
    "single_number = 3.14\n",
    "single_number * 2"
   ]
  },
  {
   "cell_type": "markdown",
   "id": "22c1ff50-c567-43b6-bd72-babbb467baf7",
   "metadata": {
    "slideshow": {
     "slide_type": "skip"
    }
   },
   "source": [
    "However, if you try to multiply a list by a number it will give a perhaps strange result:"
   ]
  },
  {
   "cell_type": "code",
   "execution_count": 2,
   "id": "7744b91a-84d0-4001-ba10-32aae30490fd",
   "metadata": {
    "slideshow": {
     "slide_type": "subslide"
    }
   },
   "outputs": [
    {
     "data": {
      "text/plain": [
       "[3.14, 2.71, 1.18, 3.14, 2.71, 1.18]"
      ]
     },
     "execution_count": 2,
     "metadata": {},
     "output_type": "execute_result"
    }
   ],
   "source": [
    "python_list = [3.14, 2.71, 1.18]\n",
    "python_list * 2"
   ]
  },
  {
   "cell_type": "markdown",
   "id": "266bebaa-ea5a-4a73-93e3-06c82eed3f98",
   "metadata": {
    "slideshow": {
     "slide_type": "skip"
    }
   },
   "source": [
    "This is hapenning because Python's lists are not restricted to only hold numbers, nor must they only hold one consistent type, and so they do not have any special logic to account for the case where they *do* only have numbers in them. The only safe way to interpret `*` that works for all Python lists is \"duplicate the array\".\n",
    "\n",
    "NumPy, however, is designed to deal with numerical data and so interprets the request differently:"
   ]
  },
  {
   "cell_type": "code",
   "execution_count": 3,
   "id": "2a590a4c-882b-443b-b184-da1009c2c710",
   "metadata": {
    "slideshow": {
     "slide_type": "subslide"
    }
   },
   "outputs": [],
   "source": [
    "import numpy as np"
   ]
  },
  {
   "cell_type": "code",
   "execution_count": 4,
   "id": "aaa2191d-9757-42ce-bcdf-a7691d340e92",
   "metadata": {
    "slideshow": {
     "slide_type": "-"
    }
   },
   "outputs": [
    {
     "data": {
      "text/plain": [
       "array([6.28, 5.42, 2.36])"
      ]
     },
     "execution_count": 4,
     "metadata": {},
     "output_type": "execute_result"
    }
   ],
   "source": [
    "numpy_array = np.array([3.14, 2.71, 1.18])\n",
    "numpy_array * 2"
   ]
  },
  {
   "cell_type": "markdown",
   "id": "35752101-6ab4-4de6-82b1-5e1ee5fd6e11",
   "metadata": {
    "slideshow": {
     "slide_type": "fragment"
    }
   },
   "source": [
    "![](../assets/diag_02-1.png) "
   ]
  },
  {
   "cell_type": "markdown",
   "id": "8d68631f-b6c9-43d4-9610-1d5ffc5516f9",
   "metadata": {
    "slideshow": {
     "slide_type": "skip"
    }
   },
   "source": [
    ">Note than in the example diagrams I am showing a NumPy array as going vertically (like a column vector) whereas the print-out displays it horizontally.  I've chosen this layout as when we write code we write it left-to-right and displaying the diagrams like this makes it easier to line up between arrays. In reality, NumPy arrays do not have a physical direction anyway, only that which we attribute to them.</p></aside>"
   ]
  },
  {
   "cell_type": "markdown",
   "id": "927c4f8c-f9d7-4bef-ae72-73926d5eaae9",
   "metadata": {
    "slideshow": {
     "slide_type": "skip"
    }
   },
   "source": [
    "Here, each number has been multiplied by 2 individually.\n",
    "\n",
    "You can perform any standard numerical operations to NumPy arrays, including `*`, `+`, `/`, `-` and `**`. You can also use comparison operations like `==`, `>` and `<=`. If your array contains booleans (`True`/`False`) then you can also use the binary logic operations such as `|` (\"or\") and `&` (\"and\") as well as the unary logical operator `~` (\"not\").\n",
    "\n",
    "In all of these cases, it will apply the operation to each element of the array indivudually and give you back an array of the same size. One big benefit of this is an improvment in speed. NumPy arrays are of a homogeneous type, so there is no time lost in identifying and handling different data types like in lists. In addition, NumPy uses optimized C code for many of the the expensive computations. This means we can still use the intuitive syntax of the high-level Python language, but actually benefit from the speed of the pre-compiled, low-level C language."
   ]
  },
  {
   "cell_type": "markdown",
   "id": "e92d8059-e305-425f-95d3-6a86119780b1",
   "metadata": {
    "slideshow": {
     "slide_type": "skip"
    },
    "tags": [
     "exercise"
    ]
   },
   "source": [
    "### Exercise 3\n",
    "\n",
    "> - Try multiplying the above array with different numbers\n",
    "> - Subtract $3.04$ from each element of the array\n",
    "> - Use a comparison operator to ask if each number is greater than $2.5$."
   ]
  },
  {
   "cell_type": "code",
   "execution_count": 5,
   "id": "0ab8b0d5-512c-4746-a454-3fcb0c0aea98",
   "metadata": {
    "slideshow": {
     "slide_type": "skip"
    }
   },
   "outputs": [],
   "source": [
    "# Write your exercise code here.\n"
   ]
  },
  {
   "cell_type": "markdown",
   "id": "be8417d8-d77f-43b1-a75b-7d16d647e7b0",
   "metadata": {
    "slideshow": {
     "slide_type": "skip"
    }
   },
   "source": [
    "[<small>answer</small>](../solutions/operations_simple.ipynb)"
   ]
  },
  {
   "cell_type": "markdown",
   "id": "9a7f21ac-41c4-466b-953f-af61a91c901d",
   "metadata": {
    "slideshow": {
     "slide_type": "slide"
    }
   },
   "source": [
    "## Functions\n",
    "\n",
    "As well as simple numerical operations, you will often also want to perform more complex operations on your data. For example, the cosine of a number. We can do this in plain Python with the `math` module:"
   ]
  },
  {
   "cell_type": "code",
   "execution_count": 6,
   "id": "2e5d0077-3785-4fb5-b671-5f24a8c8bfe9",
   "metadata": {
    "slideshow": {
     "slide_type": "subslide"
    }
   },
   "outputs": [
    {
     "data": {
      "text/plain": [
       "-0.9999987317275395"
      ]
     },
     "execution_count": 6,
     "metadata": {},
     "output_type": "execute_result"
    }
   ],
   "source": [
    "import math\n",
    "\n",
    "math.cos(single_number)"
   ]
  },
  {
   "cell_type": "markdown",
   "id": "2f448709-11b8-4df7-9756-bd01c913b136",
   "metadata": {
    "slideshow": {
     "slide_type": "skip"
    }
   },
   "source": [
    "This works, but has the same problem as above in that it doesn't work as you want with a Python list:"
   ]
  },
  {
   "cell_type": "code",
   "execution_count": 7,
   "id": "d971f22c-b2b4-4eb9-b86d-1bdd714aaadf",
   "metadata": {
    "slideshow": {
     "slide_type": "subslide"
    },
    "tags": [
     "raises-exception"
    ]
   },
   "outputs": [
    {
     "ename": "TypeError",
     "evalue": "must be real number, not list",
     "output_type": "error",
     "traceback": [
      "\u001b[0;31m---------------------------------------------------------------------------\u001b[0m",
      "\u001b[0;31mTypeError\u001b[0m                                 Traceback (most recent call last)",
      "Input \u001b[0;32mIn [7]\u001b[0m, in \u001b[0;36m<cell line: 1>\u001b[0;34m()\u001b[0m\n\u001b[0;32m----> 1\u001b[0m \u001b[43mmath\u001b[49m\u001b[38;5;241;43m.\u001b[39;49m\u001b[43mcos\u001b[49m\u001b[43m(\u001b[49m\u001b[43mpython_list\u001b[49m\u001b[43m)\u001b[49m\n",
      "\u001b[0;31mTypeError\u001b[0m: must be real number, not list"
     ]
    }
   ],
   "source": [
    "math.cos(python_list)"
   ]
  },
  {
   "cell_type": "markdown",
   "id": "047721b8-ab69-4d6f-a75a-077b1f877435",
   "metadata": {
    "slideshow": {
     "slide_type": "subslide"
    }
   },
   "source": [
    "To help with this, NumPy provides [a large number of operations via the `numpy` namespace](https://numpy.org/doc/stable/reference/routines.math.html). They work the same way as the Python functions for single numbers:"
   ]
  },
  {
   "cell_type": "code",
   "execution_count": 8,
   "id": "093649ef-8f4c-4ddf-83fb-d7d6a21d76f3",
   "metadata": {
    "slideshow": {
     "slide_type": "fragment"
    }
   },
   "outputs": [
    {
     "data": {
      "text/plain": [
       "-0.9999987317275395"
      ]
     },
     "execution_count": 8,
     "metadata": {},
     "output_type": "execute_result"
    }
   ],
   "source": [
    "np.cos(single_number)"
   ]
  },
  {
   "cell_type": "markdown",
   "id": "0454df13-3522-4832-acc4-350632dfff68",
   "metadata": {
    "slideshow": {
     "slide_type": "fragment"
    }
   },
   "source": [
    "But they also work with Python lists:"
   ]
  },
  {
   "cell_type": "code",
   "execution_count": 9,
   "id": "b8bd49b2-b284-47aa-a183-8e6bb9e23bd5",
   "metadata": {},
   "outputs": [
    {
     "data": {
      "text/plain": [
       "array([-0.99999873, -0.90830067,  0.38092482])"
      ]
     },
     "execution_count": 9,
     "metadata": {},
     "output_type": "execute_result"
    }
   ],
   "source": [
    "np.cos(python_list)"
   ]
  },
  {
   "cell_type": "markdown",
   "id": "76cf6228-0dc3-411a-83f7-d4d487e884ab",
   "metadata": {
    "slideshow": {
     "slide_type": "skip"
    }
   },
   "source": [
    "You see here that even though we passed it a Python list, it has returned the result as a NumPy array. We can also pass in a NumPy array directly:"
   ]
  },
  {
   "cell_type": "code",
   "execution_count": 10,
   "id": "a2cbd263-efe9-484b-8fa4-62e535245954",
   "metadata": {
    "slideshow": {
     "slide_type": "subslide"
    }
   },
   "outputs": [
    {
     "data": {
      "text/plain": [
       "array([-0.99999873, -0.90830067,  0.38092482])"
      ]
     },
     "execution_count": 10,
     "metadata": {},
     "output_type": "execute_result"
    }
   ],
   "source": [
    "np.cos(numpy_array)"
   ]
  },
  {
   "cell_type": "markdown",
   "id": "a5b4b390-987e-4a91-823b-869667c2721a",
   "metadata": {},
   "source": [
    "![](../assets/diag_02-2.png)"
   ]
  },
  {
   "cell_type": "markdown",
   "id": "2e60e35a-d15a-4728-94c6-aaf6a0d411c7",
   "metadata": {
    "slideshow": {
     "slide_type": "skip"
    }
   },
   "source": [
    "There is a cost to passing in Python lists compared with using an array directly, as it has to convert it from one to the other. If you can, it's best to keep things as NumPy arrays throughout your computations."
   ]
  },
  {
   "cell_type": "markdown",
   "id": "d6d67262-c2cc-4509-b7cc-2e36a3245352",
   "metadata": {
    "slideshow": {
     "slide_type": "skip"
    },
    "tags": []
   },
   "source": [
    "## Abstractions\n",
    "\n",
    "The ability for NumPy functions to work on plain numbers as well as NumPy arrays allows us to write code which works for both single values, as well as arrays of numbers. This avoids the need for type checks and makes our code more expressive.\n"
   ]
  },
  {
   "cell_type": "markdown",
   "id": "c2e7a52b",
   "metadata": {
    "slideshow": {
     "slide_type": "skip"
    }
   },
   "source": [
    "Imagine we have a function, `poly` as part of our code which does *some maths* to its input, e.g.\n",
    "\n",
    "$$\n",
    "\\mathrm{poly}: a \\mapsto 4a - a^4\n",
    "$$"
   ]
  },
  {
   "cell_type": "code",
   "execution_count": 11,
   "id": "b32294f6-df4b-4afe-86fc-bbe6fb0590f1",
   "metadata": {
    "slideshow": {
     "slide_type": "skip"
    }
   },
   "outputs": [],
   "source": [
    "def poly(a):\n",
    "    return a * 4 - a ** 4"
   ]
  },
  {
   "cell_type": "markdown",
   "id": "75962439-e49a-4373-b164-9be35021221f",
   "metadata": {
    "slideshow": {
     "slide_type": "skip"
    }
   },
   "source": [
    "We can of course call this function with a single number and it give the result:"
   ]
  },
  {
   "cell_type": "code",
   "execution_count": 12,
   "id": "a7fcb25e-edca-4ec0-898e-a5f7d5389dac",
   "metadata": {
    "slideshow": {
     "slide_type": "skip"
    }
   },
   "outputs": [
    {
     "data": {
      "text/plain": [
       "-84.65171216000002"
      ]
     },
     "execution_count": 12,
     "metadata": {},
     "output_type": "execute_result"
    }
   ],
   "source": [
    "poly(single_number)"
   ]
  },
  {
   "cell_type": "markdown",
   "id": "6174fcad-43d0-42f3-a09c-2a883606d289",
   "metadata": {
    "slideshow": {
     "slide_type": "skip"
    }
   },
   "source": [
    "Staying in the world of pure Python, we can try to pass a list, but of course it doesn't work as lists cannot be raised to a power:"
   ]
  },
  {
   "cell_type": "code",
   "execution_count": 13,
   "id": "9b903934-9287-48db-90ba-e580e12a93df",
   "metadata": {
    "slideshow": {
     "slide_type": "skip"
    },
    "tags": [
     "raises-exception"
    ]
   },
   "outputs": [
    {
     "ename": "TypeError",
     "evalue": "unsupported operand type(s) for ** or pow(): 'list' and 'int'",
     "output_type": "error",
     "traceback": [
      "\u001b[0;31m---------------------------------------------------------------------------\u001b[0m",
      "\u001b[0;31mTypeError\u001b[0m                                 Traceback (most recent call last)",
      "Input \u001b[0;32mIn [13]\u001b[0m, in \u001b[0;36m<cell line: 1>\u001b[0;34m()\u001b[0m\n\u001b[0;32m----> 1\u001b[0m \u001b[43mpoly\u001b[49m\u001b[43m(\u001b[49m\u001b[43mpython_list\u001b[49m\u001b[43m)\u001b[49m\n",
      "Input \u001b[0;32mIn [11]\u001b[0m, in \u001b[0;36mpoly\u001b[0;34m(a)\u001b[0m\n\u001b[1;32m      1\u001b[0m \u001b[38;5;28;01mdef\u001b[39;00m \u001b[38;5;21mpoly\u001b[39m(a):\n\u001b[0;32m----> 2\u001b[0m     \u001b[38;5;28;01mreturn\u001b[39;00m a \u001b[38;5;241m*\u001b[39m \u001b[38;5;241m4\u001b[39m \u001b[38;5;241m-\u001b[39m \u001b[43ma\u001b[49m\u001b[43m \u001b[49m\u001b[38;5;241;43m*\u001b[39;49m\u001b[38;5;241;43m*\u001b[39;49m\u001b[43m \u001b[49m\u001b[38;5;241;43m4\u001b[39;49m\n",
      "\u001b[0;31mTypeError\u001b[0m: unsupported operand type(s) for ** or pow(): 'list' and 'int'"
     ]
    }
   ],
   "source": [
    "poly(python_list)"
   ]
  },
  {
   "cell_type": "markdown",
   "id": "2ebc61de-de7a-42c6-bd85-f1c5cce63711",
   "metadata": {
    "slideshow": {
     "slide_type": "skip"
    }
   },
   "source": [
    "If we pass an array it works since NumPy arrays can apply operations to their elements automatically:"
   ]
  },
  {
   "cell_type": "code",
   "execution_count": 14,
   "id": "b3d234f2-45ae-46d8-8c11-3da600848fc8",
   "metadata": {
    "slideshow": {
     "slide_type": "skip"
    }
   },
   "outputs": [
    {
     "data": {
      "text/plain": [
       "array([-84.65171216, -43.09580481,   2.78122224])"
      ]
     },
     "execution_count": 14,
     "metadata": {},
     "output_type": "execute_result"
    }
   ],
   "source": [
    "poly(numpy_array)"
   ]
  },
  {
   "cell_type": "markdown",
   "id": "a53a2e09-ae32-4358-9aa9-ef6554325b9f",
   "metadata": {
    "slideshow": {
     "slide_type": "skip"
    }
   },
   "source": [
    "The key thing here is that one function can work on lots of different types of data. If you write your code to be able to deal with a single number, then NumPy will automatically make it able to do that same calculation to a whole load of numbers.\n",
    "\n",
    "You do need to make sure that the code you write in your functions can work with NumPy arrays through. So you should use the NumPy functions like `np.cos` rather than `math.cos`. So to do:\n",
    "\n",
    "$$\n",
    "\\mathrm{trig} : a \\mapsto \\sin(a) - \\cos(a)\n",
    "$$\n",
    "\n",
    "you should write:"
   ]
  },
  {
   "cell_type": "code",
   "execution_count": 15,
   "id": "1e120f13-572f-4a32-903f-6c499dbbe20f",
   "metadata": {
    "slideshow": {
     "slide_type": "subslide"
    }
   },
   "outputs": [],
   "source": [
    "def trig(a):\n",
    "    return np.sin(a) - np.cos(a)"
   ]
  },
  {
   "cell_type": "markdown",
   "id": "8e626c54-587e-4eb2-bac7-7e2aa9702fbc",
   "metadata": {
    "slideshow": {
     "slide_type": "skip"
    }
   },
   "source": [
    "which works with single numbers:"
   ]
  },
  {
   "cell_type": "code",
   "execution_count": 16,
   "id": "2ff22f5b-48a8-4540-9848-e49b6f3f12af",
   "metadata": {
    "slideshow": {
     "slide_type": "skip"
    }
   },
   "outputs": [
    {
     "data": {
      "text/plain": [
       "1.0015913846440263"
      ]
     },
     "execution_count": 16,
     "metadata": {},
     "output_type": "execute_result"
    }
   ],
   "source": [
    "trig(single_number)"
   ]
  },
  {
   "cell_type": "markdown",
   "id": "150f29b9-ec08-4a46-8594-6ffe33759a74",
   "metadata": {
    "slideshow": {
     "slide_type": "skip"
    }
   },
   "source": [
    "and Python lists:"
   ]
  },
  {
   "cell_type": "code",
   "execution_count": 17,
   "id": "c98c46d8-7fc4-4528-9cbb-e3dd84fca728",
   "metadata": {
    "slideshow": {
     "slide_type": "skip"
    }
   },
   "outputs": [
    {
     "data": {
      "text/plain": [
       "array([1.00159138, 1.32661861, 0.54368119])"
      ]
     },
     "execution_count": 17,
     "metadata": {},
     "output_type": "execute_result"
    }
   ],
   "source": [
    "trig(python_list)"
   ]
  },
  {
   "cell_type": "markdown",
   "id": "9f1ca7e9-c76b-4546-a474-7b6534bd4d6e",
   "metadata": {
    "slideshow": {
     "slide_type": "skip"
    }
   },
   "source": [
    "and, of course, NumPy arrays:"
   ]
  },
  {
   "cell_type": "code",
   "execution_count": 18,
   "id": "f7b7f24d-7d37-4b6c-bf18-af322f1a713d",
   "metadata": {
    "slideshow": {
     "slide_type": "skip"
    }
   },
   "outputs": [
    {
     "data": {
      "text/plain": [
       "array([1.00159138, 1.32661861, 0.54368119])"
      ]
     },
     "execution_count": 18,
     "metadata": {},
     "output_type": "execute_result"
    }
   ],
   "source": [
    "trig(numpy_array)"
   ]
  },
  {
   "cell_type": "markdown",
   "id": "e0f8661b-8ece-4efe-8d5f-ec2fc0a0d57c",
   "metadata": {
    "slideshow": {
     "slide_type": "subslide"
    }
   },
   "source": [
    "## Plotting arrays\n",
    "\n",
    "As our arrays get longer and more complex, it's difficult to see what's going on by just looking at the numbers. Let's see how we can easily plot the data as a line graph. Let's make our data to be plotted:"
   ]
  },
  {
   "cell_type": "code",
   "execution_count": 19,
   "id": "77c8c03a-f617-4997-9d88-664500fc0ccd",
   "metadata": {
    "slideshow": {
     "slide_type": "subslide"
    }
   },
   "outputs": [],
   "source": [
    "# Numbers from 0 to 20. 100 of them.\n",
    "x = np.linspace(0, 20, 100)\n",
    "\n",
    "y = trig(x)"
   ]
  },
  {
   "cell_type": "markdown",
   "id": "4ce6669b-3ea5-4c3a-9bfa-dd8563d7dd66",
   "metadata": {
    "slideshow": {
     "slide_type": "skip"
    }
   },
   "source": [
    "First, we need to import `matplotlib`, the defacto standard plotting tool for Python:"
   ]
  },
  {
   "cell_type": "code",
   "execution_count": 20,
   "id": "8ec58062-e80f-467c-bc0d-5eddf7810225",
   "metadata": {
    "slideshow": {
     "slide_type": "fragment"
    }
   },
   "outputs": [],
   "source": [
    "import matplotlib.pyplot as plt"
   ]
  },
  {
   "cell_type": "markdown",
   "id": "076fd849-91df-4f0b-9b66-18391fcf7ee1",
   "metadata": {
    "slideshow": {
     "slide_type": "skip"
    }
   },
   "source": [
    "Then, we need to make a place for the plotting to happen which we do with the `plt.subplots()` function. This returns two things, a `Figure` (the whole page, which may contain multiple plots) and and `Axes` (the space in which we will plot).\n",
    "\n",
    "We then draw on the axes with `ax.plot` and pass it the $y$ values:"
   ]
  },
  {
   "cell_type": "code",
   "execution_count": 21,
   "id": "268f85da-fe33-4354-a73a-91eacc443741",
   "metadata": {
    "slideshow": {
     "slide_type": "fragment"
    }
   },
   "outputs": [
    {
     "data": {
      "text/plain": [
       "[<matplotlib.lines.Line2D at 0x11a7b3820>]"
      ]
     },
     "execution_count": 21,
     "metadata": {},
     "output_type": "execute_result"
    },
    {
     "data": {
      "image/png": "[encoded data removed]",
      "text/plain": [
       "<Figure size 432x288 with 1 Axes>"
      ]
     },
     "metadata": {
      "needs_background": "light"
     },
     "output_type": "display_data"
    }
   ],
   "source": [
    "fig, ax = plt.subplots()\n",
    "\n",
    "ax.plot(y)"
   ]
  },
  {
   "cell_type": "markdown",
   "id": "85826db1-b0a4-40d4-a4ce-81b3202dd2bc",
   "metadata": {
    "slideshow": {
     "slide_type": "skip"
    }
   },
   "source": [
    "It has done the plot and the the $y$ values are correct, but the $x$ axis has just been taken as the integer indexes of the array. If we want to label the $x$ axis then we can pass two arguments to `plot`:"
   ]
  },
  {
   "cell_type": "code",
   "execution_count": 22,
   "id": "7cdc68d9-bc10-4c5c-962f-434dcc2a1c66",
   "metadata": {
    "slideshow": {
     "slide_type": "subslide"
    }
   },
   "outputs": [
    {
     "data": {
      "text/plain": [
       "[<matplotlib.lines.Line2D at 0x11a8a2dc0>]"
      ]
     },
     "execution_count": 22,
     "metadata": {},
     "output_type": "execute_result"
    },
    {
     "data": {
      "image/png": "[encoded data removed]",
      "text/plain": [
       "<Figure size 432x288 with 1 Axes>"
      ]
     },
     "metadata": {
      "needs_background": "light"
     },
     "output_type": "display_data"
    }
   ],
   "source": [
    "fig, ax = plt.subplots()\n",
    "\n",
    "ax.plot(x, y)"
   ]
  },
  {
   "cell_type": "markdown",
   "id": "62efcc65-f26b-444a-8296-fd3465c396d0",
   "metadata": {
    "slideshow": {
     "slide_type": "slide"
    },
    "tags": [
     "exercise"
    ]
   },
   "source": [
    "### Exercise 4\n",
    "\n",
    "> There is a CSV file in the week_4 directory called \"bristol_rainfall.csv\". The file contains annual rainfall amounts for Bristol since 1853. You can use the [NumPy loadtext function](https://numpy.org/doc/stable/reference/generated/numpy.loadtxt.html) to directly load it into NumPy arrays with:\n",
    ">\n",
    ">```python\n",
    "> years = np.loadtxt('../assets/bristol_rainfall.csv', dtype='int', delimiter=',', usecols=0, skiprows=1)\n",
    "> rainfall = np.loadtxt('../assets/bristol_rainfall.csv', dtype='float', delimiter=',', usecols=1, skiprows=1)\n",
    ">```\n",
    ">\n",
    ">- Load the data and plot it as a line graph\n",
    ">- Have a look at the [matplotlib subplots demo page](https://matplotlib.org/stable/gallery/subplots_axes_and_figures/subplots_demo.html) and use it to add an appropriate title and axes labels\n",
    ">- Find the mean average, $\\mu$, value in the data (have a look at the [list of statistical functions](https://numpy.org/doc/stable/reference/routines.statistics.html) to find an appropriate one)\n",
    ">- Find the standard deviation, $\\sigma$, of the data\n",
    ">- Write a function which returns the ratio between the standard deviation and the mean, $\\dfrac{\\sigma}{\\mu}$\n",
    ">- Check that your function works with both Python lists as well as the `rainfall` array\n"
   ]
  },
  {
   "cell_type": "code",
   "execution_count": 23,
   "id": "47a78f71-7c9a-4ec6-82ad-db953becc4d2",
   "metadata": {
    "slideshow": {
     "slide_type": "skip"
    }
   },
   "outputs": [],
   "source": [
    "# Write your exercise code here."
   ]
  },
  {
   "cell_type": "markdown",
   "id": "23922399-990d-4035-a3f7-ecf7c04bae80",
   "metadata": {
    "slideshow": {
     "slide_type": "skip"
    }
   },
   "source": [
    "[<small>answer</small>](../solutions/operations_weather.ipynb)"
   ]
  },
  {
   "cell_type": "markdown",
   "id": "9a6e5e42-119a-4e10-81e6-f1f9ef436adf",
   "metadata": {
    "slideshow": {
     "slide_type": "slide"
    }
   },
   "source": [
    "## [[Previous: NumPy arrays](./01-numpy_arrays.ipynb)] | [[Next: Multi-dimensional arrays](./03-multi-dimensional_arrays.ipynb)]"
   ]
  }
 ],
 "metadata": {
  "celltoolbar": "Slideshow",
  "kernelspec": {
   "display_name": "Python 3 (ipykernel)",
   "language": "python",
   "name": "python3"
  },
  "language_info": {
   "codemirror_mode": {
    "name": "ipython",
    "version": 3
   },
   "file_extension": ".py",
   "mimetype": "text/x-python",
   "name": "python",
   "nbconvert_exporter": "python",
   "pygments_lexer": "ipython3",
   "version": "3.9.12"
  }
 },
 "nbformat": 4,
 "nbformat_minor": 5
}
