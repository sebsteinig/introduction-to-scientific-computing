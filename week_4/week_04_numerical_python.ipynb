{
 "cells": [
  {
   "cell_type": "markdown",
   "id": "0b7b9a71",
   "metadata": {
    "slideshow": {
     "slide_type": "slide"
    }
   },
   "source": [
    "# Recap of Week 3: Code structuring"
   ]
  },
  {
   "cell_type": "markdown",
   "id": "f32048f7",
   "metadata": {
    "slideshow": {
     "slide_type": "skip"
    }
   },
   "source": [
    "In the last week we continued to learn basic concepts of Python. In particular, we learned how to organise code into smaller components for easier re-use, testing and sharing. We covered the following topics:"
   ]
  },
  {
   "cell_type": "markdown",
   "id": "535d165d-7e65-4886-b4f4-b7c077d9c931",
   "metadata": {},
   "source": [
    "- How to make you life easier with string formatting\n",
    "- Using the Python standard library to find and use useful functions\n",
    "- Ways of bundling up your code into reusable units with functions\n",
    "- Making it possible to share your code with others by moving code into modules\n",
    "- How to produce custom errors\n",
    "- How to compactly generate lists with list comprehensions"
   ]
  },
  {
   "cell_type": "markdown",
   "id": "fe4a11d6-fd3b-48fd-96c1-399c21f2f58c",
   "metadata": {},
   "source": [
    "We covered a wide range of the core concepts of the Python programming language, including data types, slicing, loops, branching, functions, modules and errors, in the last two weeks. Now, we can finally apply all of this to start processing scientific data. We will still learn about new ideas and tools along the way, but you will see that nearly all of these concepts - and the syntax to apply them - will be based upon the fundamental building blocks we learned about over the last two weeks."
   ]
  },
  {
   "cell_type": "markdown",
   "id": "76e240bc-160d-489c-8a12-bd680d09f8f0",
   "metadata": {
    "slideshow": {
     "slide_type": "slide"
    }
   },
   "source": [
    "# Week 4: Numerical Python"
   ]
  },
  {
   "cell_type": "markdown",
   "id": "09afa9b2-cba2-43f6-ad65-7b834319a5b7",
   "metadata": {},
   "source": [
    "This week we will learn how to easily and efficiently work with large collections of numerical data. This could be a timeseries of observations, output from your environmental model or a distributed collection of multi-layer satellite data. The premier tool to work with any of these datasets is called NumPy."
   ]
  },
  {
   "cell_type": "markdown",
   "id": "a1c5f95b-b9d8-4575-9a5f-a059f316fd97",
   "metadata": {},
   "source": [
    "## What is NumPy?\n",
    "\n",
    "[NumPy](https://numpy.org/doc/stable/user/absolute_beginners.html) (short for Numerical Python and pronouced *num-pea* or *num-pie*) is a third-party Python module for numerical programming. Any time you have collections of numbers, either one-, two- or more dimensional, then NumPy is likely to help you out. It provides you with a large suite of tools, algorithms and techniques. It is one of the most commonly used Python packages around and is used in the majority of Python-based scientific software."
   ]
  },
  {
   "cell_type": "markdown",
   "id": "22fc48fb-1652-4c05-88a0-615435c453cf",
   "metadata": {},
   "source": [
    "## Motivation: the speed of NumPy"
   ]
  },
  {
   "cell_type": "markdown",
   "id": "63761458-ef4b-4765-a591-9cc2495ed356",
   "metadata": {},
   "source": [
    "Before we start actually introducing NumPy, let's use an easy example to demonstrate the main reason why NumPy is so popular and widely used in scientific computing: it is extremely fast! \n",
    "\n",
    "Let's consider we want to double all the values in a large list of 1 million values:"
   ]
  },
  {
   "cell_type": "code",
   "execution_count": 60,
   "id": "4aa610bd-ee4e-42b9-a750-d05210ed223e",
   "metadata": {},
   "outputs": [],
   "source": [
    "large_python_list = list(range(1_000_000))\n",
    "\n",
    "import numpy as np\n",
    "large_numpy_array = np.arange(1_000_000)"
   ]
  },
  {
   "cell_type": "markdown",
   "id": "ff4c9296-80bd-4286-96da-8cac1d7c742d",
   "metadata": {},
   "source": [
    "Doing this with plain Python could be done with a list comprehension (Note: `%%timeit` is an [IPython magic command](https://ipython.readthedocs.io/en/stable/interactive/magics.html#magic-timeit) to measure the time it takes to execute a line or a cell of code):"
   ]
  },
  {
   "cell_type": "code",
   "execution_count": 61,
   "id": "97c7adbd-906c-43f8-8956-f3d6f6a45b6f",
   "metadata": {},
   "outputs": [
    {
     "name": "stdout",
     "output_type": "stream",
     "text": [
      "33.7 ms ± 343 µs per loop (mean ± std. dev. of 7 runs, 10 loops each)\n"
     ]
    }
   ],
   "source": [
    "%%timeit\n",
    "\n",
    "[i*2 for i in large_python_list]"
   ]
  },
  {
   "cell_type": "markdown",
   "id": "b7882c76-244f-4cd2-9886-31b1f93b9bce",
   "metadata": {},
   "source": [
    "But NumPy allows us to do:"
   ]
  },
  {
   "cell_type": "code",
   "execution_count": 62,
   "id": "8f35b2a8-d97d-4b4d-a161-3abce1c0ac6c",
   "metadata": {},
   "outputs": [
    {
     "name": "stdout",
     "output_type": "stream",
     "text": [
      "524 µs ± 89.7 µs per loop (mean ± std. dev. of 7 runs, 1,000 loops each)\n"
     ]
    }
   ],
   "source": [
    "%%timeit\n",
    "\n",
    "large_numpy_array * 2"
   ]
  },
  {
   "cell_type": "markdown",
   "id": "c157840d-6b8a-47b2-a432-19464acf23c5",
   "metadata": {
    "slideshow": {
     "slide_type": "skip"
    }
   },
   "source": [
    "You might see different results on your computer but speedups of anything from 10 to 100 times is common on an example like this. There are plenty of operations which might see speedups of 1000 times or more. Obviously, the amounts of data you will deal with when running environmental models or analysing geographical data sets in the future can get very big, very fast. So today, let's learn more about NumPy and how we can use it to unlock completely new ways of working with large, multi-dimensional datasets.\n",
    "\n",
    "You can jump ahead to any chapter with the navigation below:\n"
   ]
  },
  {
   "cell_type": "markdown",
   "id": "a5203ca7-14fa-4e5d-b023-54d379b666f7",
   "metadata": {
    "slideshow": {
     "slide_type": "-"
    }
   },
   "source": [
    "## Table of Contents\n",
    "\n",
    "1. #### [NumPy arrays](./chapters/01-numpy_arrays.ipynb)\n",
    "2. #### [Operations on NumPy arrays](./chapters/02-operations.ipynb)\n",
    "3. #### [Multi-dimensional arrays](./chapters/03-multi-dimensional_arrays.ipynb)\n",
    "4. #### [Filtering data](./chapters/04-filtering_data.ipynb)\n",
    "5. #### [Combining arrays](./chapters/05-combining_arrays.ipynb)\n",
    "6. #### [Final exercise](./chapters/06-final_exercise.ipynb)\n",
    "7. #### [Summary](./chapters/07-summary.ipynb)\n"
   ]
  },
  {
   "cell_type": "markdown",
   "id": "706c2e6b-53ca-4d31-8cac-733389b903b7",
   "metadata": {
    "slideshow": {
     "slide_type": "skip"
    }
   },
   "source": [
    "## [[Next](./chapters/01-numpy_arrays.ipynb)]"
   ]
  }
 ],
 "metadata": {
  "celltoolbar": "Slideshow",
  "kernelspec": {
   "display_name": "Python 3 (ipykernel)",
   "language": "python",
   "name": "python3"
  },
  "language_info": {
   "codemirror_mode": {
    "name": "ipython",
    "version": 3
   },
   "file_extension": ".py",
   "mimetype": "text/x-python",
   "name": "python",
   "nbconvert_exporter": "python",
   "pygments_lexer": "ipython3",
   "version": "3.9.12"
  },
  "toc-autonumbering": false,
  "toc-showcode": false,
  "toc-showmarkdowntxt": false
 },
 "nbformat": 4,
 "nbformat_minor": 5
}
