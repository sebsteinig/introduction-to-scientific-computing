{
 "cells": [
  {
   "cell_type": "code",
   "execution_count": 1,
   "id": "0163417f-8f58-4530-8ca5-41de75d27932",
   "metadata": {},
   "outputs": [],
   "source": [
    "import numpy as np\n",
    "\n",
    "numpy_array = np.array([3.14, 2.71, 1.18])"
   ]
  },
  {
   "cell_type": "markdown",
   "id": "863d4922-832d-4430-98e6-089f42af39cd",
   "metadata": {},
   "source": [
    "## Multiplication"
   ]
  },
  {
   "cell_type": "code",
   "execution_count": 2,
   "id": "58670b4f-ab71-4b62-bd8a-d008103c137c",
   "metadata": {},
   "outputs": [
    {
     "data": {
      "text/plain": [
       "array([31.4, 27.1, 11.8])"
      ]
     },
     "execution_count": 2,
     "metadata": {},
     "output_type": "execute_result"
    }
   ],
   "source": [
    "numpy_array * 10"
   ]
  },
  {
   "cell_type": "code",
   "execution_count": 3,
   "id": "4ea43827-53a0-4342-a93e-f314cf9381a8",
   "metadata": {},
   "outputs": [
    {
     "data": {
      "text/plain": [
       "array([-13.502, -11.653,  -5.074])"
      ]
     },
     "execution_count": 3,
     "metadata": {},
     "output_type": "execute_result"
    }
   ],
   "source": [
    "numpy_array * -4.3"
   ]
  },
  {
   "cell_type": "code",
   "execution_count": 4,
   "id": "212f2db7-ea46-44dd-93ab-1c53efe62589",
   "metadata": {},
   "outputs": [
    {
     "data": {
      "text/plain": [
       "array([0., 0., 0.])"
      ]
     },
     "execution_count": 4,
     "metadata": {},
     "output_type": "execute_result"
    }
   ],
   "source": [
    "numpy_array * 0"
   ]
  },
  {
   "cell_type": "markdown",
   "id": "abbb28af-b583-47d8-8fd7-feeff963a0f3",
   "metadata": {},
   "source": [
    "## Subtraction"
   ]
  },
  {
   "cell_type": "code",
   "execution_count": 5,
   "id": "3cee2ef0-e50b-4d3e-af54-1ea79aff599f",
   "metadata": {},
   "outputs": [
    {
     "data": {
      "text/plain": [
       "array([ 0.1 , -0.33, -1.86])"
      ]
     },
     "execution_count": 5,
     "metadata": {},
     "output_type": "execute_result"
    }
   ],
   "source": [
    "numpy_array - 3.04"
   ]
  },
  {
   "cell_type": "markdown",
   "id": "930f0544-e2b1-47f0-88f1-8e9b9cce6d6a",
   "metadata": {},
   "source": [
    "## Comparison"
   ]
  },
  {
   "cell_type": "code",
   "execution_count": 6,
   "id": "7efc9141-f625-4e77-ad52-b9fa80151b51",
   "metadata": {},
   "outputs": [
    {
     "data": {
      "text/plain": [
       "array([ True,  True, False])"
      ]
     },
     "execution_count": 6,
     "metadata": {},
     "output_type": "execute_result"
    }
   ],
   "source": [
    "numpy_array > 2.5"
   ]
  }
 ],
 "metadata": {
  "kernelspec": {
   "display_name": "Python 3 (ipykernel)",
   "language": "python",
   "name": "python3"
  },
  "language_info": {
   "codemirror_mode": {
    "name": "ipython",
    "version": 3
   },
   "file_extension": ".py",
   "mimetype": "text/x-python",
   "name": "python",
   "nbconvert_exporter": "python",
   "pygments_lexer": "ipython3",
   "version": "3.9.12"
  }
 },
 "nbformat": 4,
 "nbformat_minor": 5
}
