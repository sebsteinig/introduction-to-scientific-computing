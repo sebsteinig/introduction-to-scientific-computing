{
 "cells": [
  {
   "cell_type": "code",
   "execution_count": 1,
   "id": "bf4b00b9-0c4a-4abe-8a5a-fc3c838fc5c9",
   "metadata": {},
   "outputs": [],
   "source": [
    "import numpy as np"
   ]
  },
  {
   "cell_type": "code",
   "execution_count": 2,
   "id": "4e203f4d-25de-4c4c-9626-d020690e7b89",
   "metadata": {},
   "outputs": [],
   "source": [
    "a = np.array([6.0, 2.1, 8.2, 10.3, 5.4, 1.5, 7.6, 3.7, 9.8])"
   ]
  },
  {
   "cell_type": "code",
   "execution_count": 3,
   "id": "f6708262-8a82-45ea-9563-6774ab818124",
   "metadata": {},
   "outputs": [
    {
     "data": {
      "text/plain": [
       "array([6. , 8.2, 5.4, 7.6, 9.8])"
      ]
     },
     "execution_count": 3,
     "metadata": {},
     "output_type": "execute_result"
    }
   ],
   "source": [
    "a[[0, 2, 4, 6, 8]]"
   ]
  },
  {
   "cell_type": "code",
   "execution_count": 4,
   "id": "dd0ee65d-2021-49fe-adeb-530541892723",
   "metadata": {},
   "outputs": [
    {
     "data": {
      "text/plain": [
       "array([ 6. ,  2.1,  8.2, 10.3])"
      ]
     },
     "execution_count": 4,
     "metadata": {},
     "output_type": "execute_result"
    }
   ],
   "source": [
    "a[[0, 1, 2, 3]]"
   ]
  },
  {
   "cell_type": "code",
   "execution_count": 5,
   "id": "7d630d12-a097-4a7a-89f1-71568816d590",
   "metadata": {},
   "outputs": [
    {
     "data": {
      "text/plain": [
       "array([9.8, 1.5, 3.7, 5.4])"
      ]
     },
     "execution_count": 5,
     "metadata": {},
     "output_type": "execute_result"
    }
   ],
   "source": [
    "a[[8, 5, 7, 4]]"
   ]
  }
 ],
 "metadata": {
  "kernelspec": {
   "display_name": "Python 3 (ipykernel)",
   "language": "python",
   "name": "python3"
  },
  "language_info": {
   "codemirror_mode": {
    "name": "ipython",
    "version": 3
   },
   "file_extension": ".py",
   "mimetype": "text/x-python",
   "name": "python",
   "nbconvert_exporter": "python",
   "pygments_lexer": "ipython3",
   "version": "3.9.12"
  }
 },
 "nbformat": 4,
 "nbformat_minor": 5
}
