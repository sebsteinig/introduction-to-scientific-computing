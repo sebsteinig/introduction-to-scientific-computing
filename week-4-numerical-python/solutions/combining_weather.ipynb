{
 "cells": [
  {
   "cell_type": "code",
   "execution_count": 1,
   "id": "492aa499-51b7-4ed1-8460-2b8e586c604a",
   "metadata": {},
   "outputs": [],
   "source": [
    "import numpy as np\n",
    "\n",
    "with np.load(\"../assets/weather_data.npz\") as weather:\n",
    "    temperature = weather[\"temperature\"]\n",
    "    # masks\n",
    "    uk_mask = weather[\"uk\"]\n",
    "    irl_mask = weather[\"ireland\"]\n",
    "    spain_mask = weather[\"spain\"]"
   ]
  },
  {
   "cell_type": "code",
   "execution_count": 2,
   "id": "833cecdf-8802-4ccb-936f-b7ffe9ffdcea",
   "metadata": {},
   "outputs": [],
   "source": [
    "temperature -= 273.15"
   ]
  },
  {
   "cell_type": "code",
   "execution_count": 3,
   "id": "9cc9dbe3-9550-49a5-8108-17542e382568",
   "metadata": {},
   "outputs": [
    {
     "data": {
      "text/plain": [
       "18.221963500976585"
      ]
     },
     "execution_count": 3,
     "metadata": {},
     "output_type": "execute_result"
    }
   ],
   "source": [
    "np.max(temperature)"
   ]
  },
  {
   "cell_type": "code",
   "execution_count": 4,
   "id": "d534d5b0-37ab-48bd-9b1a-092be3d50535",
   "metadata": {},
   "outputs": [
    {
     "data": {
      "text/plain": [
       "(8, 75, 75)"
      ]
     },
     "execution_count": 4,
     "metadata": {},
     "output_type": "execute_result"
    }
   ],
   "source": [
    "temperature.shape"
   ]
  },
  {
   "cell_type": "code",
   "execution_count": 5,
   "id": "6ee9508c-a1b7-4f9a-80c8-d0e4e6978743",
   "metadata": {},
   "outputs": [
    {
     "data": {
      "text/plain": [
       "(75, 75)"
      ]
     },
     "execution_count": 5,
     "metadata": {},
     "output_type": "execute_result"
    }
   ],
   "source": [
    "uk_mask.shape"
   ]
  },
  {
   "cell_type": "markdown",
   "id": "3fecf930-2ff6-4f51-b8dd-84100ff937d8",
   "metadata": {},
   "source": [
    "How do can we mask the whole 3D fields?\n",
    "\n",
    "Let's first try the method from the last exercise:"
   ]
  },
  {
   "cell_type": "code",
   "execution_count": 6,
   "id": "b3d1d74d-98ea-40e5-b00e-b26032c405b1",
   "metadata": {},
   "outputs": [
    {
     "ename": "IndexError",
     "evalue": "boolean index did not match indexed array along dimension 0; dimension is 8 but corresponding boolean dimension is 75",
     "output_type": "error",
     "traceback": [
      "\u001b[0;31m---------------------------------------------------------------------------\u001b[0m",
      "\u001b[0;31mIndexError\u001b[0m                                Traceback (most recent call last)",
      "Input \u001b[0;32mIn [6]\u001b[0m, in \u001b[0;36m<cell line: 1>\u001b[0;34m()\u001b[0m\n\u001b[0;32m----> 1\u001b[0m uk_temp \u001b[38;5;241m=\u001b[39m \u001b[43mtemperature\u001b[49m\u001b[43m[\u001b[49m\u001b[43muk_mask\u001b[49m\u001b[43m]\u001b[49m\n",
      "\u001b[0;31mIndexError\u001b[0m: boolean index did not match indexed array along dimension 0; dimension is 8 but corresponding boolean dimension is 75"
     ]
    }
   ],
   "source": [
    "uk_temp = temperature[uk_mask]"
   ]
  },
  {
   "cell_type": "markdown",
   "id": "337236b7-9f69-466b-93f8-48b8ac8a2526",
   "metadata": {},
   "source": [
    "This doesn't work anymore due to the different shapes of our data and mask arrays. Instead, we can multiply both fields to make use of NumPy's array broadcasting:"
   ]
  },
  {
   "cell_type": "code",
   "execution_count": 7,
   "id": "8df98b76-7d06-4feb-b402-1f98b73a13af",
   "metadata": {},
   "outputs": [
    {
     "data": {
      "text/plain": [
       "(8, 75, 75)"
      ]
     },
     "execution_count": 7,
     "metadata": {},
     "output_type": "execute_result"
    }
   ],
   "source": [
    "uk_temp = temperature * uk_mask\n",
    "\n",
    "uk_temp.shape"
   ]
  },
  {
   "cell_type": "code",
   "execution_count": 8,
   "id": "c18fd3a2-9305-4788-9afe-df84596635e7",
   "metadata": {},
   "outputs": [
    {
     "data": {
      "text/plain": [
       "10.221963500976585"
      ]
     },
     "execution_count": 8,
     "metadata": {},
     "output_type": "execute_result"
    }
   ],
   "source": [
    "np.max(uk_temp)"
   ]
  },
  {
   "cell_type": "code",
   "execution_count": 9,
   "id": "81153113-7b54-4b58-b27d-8c71663fb81e",
   "metadata": {},
   "outputs": [
    {
     "data": {
      "text/plain": [
       "9.503213500976585"
      ]
     },
     "execution_count": 9,
     "metadata": {},
     "output_type": "execute_result"
    }
   ],
   "source": [
    "np.max(temperature * irl_mask)"
   ]
  },
  {
   "cell_type": "code",
   "execution_count": 10,
   "id": "86c7cc19-e159-4d57-a264-50f7d188030d",
   "metadata": {},
   "outputs": [
    {
     "data": {
      "text/plain": [
       "12.846963500976585"
      ]
     },
     "execution_count": 10,
     "metadata": {},
     "output_type": "execute_result"
    }
   ],
   "source": [
    "np.max(temperature * spain_mask)"
   ]
  }
 ],
 "metadata": {
  "kernelspec": {
   "display_name": "Python 3 (ipykernel)",
   "language": "python",
   "name": "python3"
  },
  "language_info": {
   "codemirror_mode": {
    "name": "ipython",
    "version": 3
   },
   "file_extension": ".py",
   "mimetype": "text/x-python",
   "name": "python",
   "nbconvert_exporter": "python",
   "pygments_lexer": "ipython3",
   "version": "3.9.12"
  }
 },
 "nbformat": 4,
 "nbformat_minor": 5
}
