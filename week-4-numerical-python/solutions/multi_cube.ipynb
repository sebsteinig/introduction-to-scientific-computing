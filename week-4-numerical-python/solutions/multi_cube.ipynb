{
 "cells": [
  {
   "cell_type": "code",
   "execution_count": 1,
   "id": "a1b43e07-38f8-4060-9025-fb7eb355b691",
   "metadata": {},
   "outputs": [],
   "source": [
    "import numpy as np"
   ]
  },
  {
   "cell_type": "code",
   "execution_count": 2,
   "id": "137931fd-898e-4711-a983-5750a6488e96",
   "metadata": {},
   "outputs": [
    {
     "name": "stdout",
     "output_type": "stream",
     "text": [
      "[[[1 2]\n",
      "  [3 4]]\n",
      "\n",
      " [[5 6]\n",
      "  [7 8]]]\n"
     ]
    }
   ],
   "source": [
    "cube = np.array([[[1,2], [3, 4]], [[5, 6], [7, 8]]])\n",
    "print(cube)"
   ]
  },
  {
   "cell_type": "code",
   "execution_count": 3,
   "id": "ae914e8f-a73d-4278-bfb8-8ba3dfffb8dd",
   "metadata": {},
   "outputs": [
    {
     "data": {
      "text/plain": [
       "3"
      ]
     },
     "execution_count": 3,
     "metadata": {},
     "output_type": "execute_result"
    }
   ],
   "source": [
    "cube.ndim"
   ]
  },
  {
   "cell_type": "code",
   "execution_count": 4,
   "id": "2c19026d-8c60-489c-bf0e-dbc55ede8aea",
   "metadata": {},
   "outputs": [
    {
     "data": {
      "text/plain": [
       "(2, 2, 2)"
      ]
     },
     "execution_count": 4,
     "metadata": {},
     "output_type": "execute_result"
    }
   ],
   "source": [
    "cube.shape"
   ]
  },
  {
   "cell_type": "code",
   "execution_count": 5,
   "id": "1bf2bbb2-aa57-44af-a2a9-4ea72ecb107a",
   "metadata": {},
   "outputs": [
    {
     "data": {
      "text/plain": [
       "8"
      ]
     },
     "execution_count": 5,
     "metadata": {},
     "output_type": "execute_result"
    }
   ],
   "source": [
    "cube[1, 1, 1]"
   ]
  },
  {
   "cell_type": "code",
   "execution_count": 6,
   "id": "948698ae-78cd-4263-a39c-da1cdada8a12",
   "metadata": {},
   "outputs": [
    {
     "data": {
      "text/plain": [
       "array([1, 2])"
      ]
     },
     "execution_count": 6,
     "metadata": {},
     "output_type": "execute_result"
    }
   ],
   "source": [
    "cube[0, 0]"
   ]
  },
  {
   "cell_type": "markdown",
   "id": "2cb73363-82ea-4acc-9311-7881daa07f31",
   "metadata": {},
   "source": [
    "Or, equivalently (as a trailing `:` is always implied):"
   ]
  },
  {
   "cell_type": "code",
   "execution_count": 7,
   "id": "f2419d34-b090-41a2-874d-468bb13b773c",
   "metadata": {},
   "outputs": [
    {
     "data": {
      "text/plain": [
       "array([1, 2])"
      ]
     },
     "execution_count": 7,
     "metadata": {},
     "output_type": "execute_result"
    }
   ],
   "source": [
    "cube[0, 0, :]"
   ]
  },
  {
   "cell_type": "code",
   "execution_count": 8,
   "id": "f32b0398-aec1-40da-aed1-6d2ee5db6774",
   "metadata": {},
   "outputs": [
    {
     "data": {
      "text/plain": [
       "array([2, 6])"
      ]
     },
     "execution_count": 8,
     "metadata": {},
     "output_type": "execute_result"
    }
   ],
   "source": [
    "cube[:, 0, 1]"
   ]
  },
  {
   "cell_type": "code",
   "execution_count": 9,
   "id": "08a13173-1a9b-4a3f-b26d-40e354adf816",
   "metadata": {},
   "outputs": [
    {
     "data": {
      "text/plain": [
       "array([[3, 4],\n",
       "       [7, 8]])"
      ]
     },
     "execution_count": 9,
     "metadata": {},
     "output_type": "execute_result"
    }
   ],
   "source": [
    "cube[:, 1, :]"
   ]
  }
 ],
 "metadata": {
  "kernelspec": {
   "display_name": "Python 3 (ipykernel)",
   "language": "python",
   "name": "python3"
  },
  "language_info": {
   "codemirror_mode": {
    "name": "ipython",
    "version": 3
   },
   "file_extension": ".py",
   "mimetype": "text/x-python",
   "name": "python",
   "nbconvert_exporter": "python",
   "pygments_lexer": "ipython3",
   "version": "3.9.12"
  }
 },
 "nbformat": 4,
 "nbformat_minor": 5
}
