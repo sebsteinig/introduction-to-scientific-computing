{
 "cells": [
  {
   "cell_type": "markdown",
   "id": "6ab6fe32-c24f-4f3c-b324-d3ee639fccc8",
   "metadata": {},
   "source": [
    "Here's the array as seen in the notes:"
   ]
  },
  {
   "cell_type": "code",
   "execution_count": 1,
   "id": "f91369d0-e241-41c5-9a12-f26c68c02d12",
   "metadata": {},
   "outputs": [],
   "source": [
    "import numpy as np\n",
    "\n",
    "my_array = np.array([1, 2, 3, 4, 5])\n",
    "\n",
    "my_array[4] = 999"
   ]
  },
  {
   "cell_type": "markdown",
   "id": "a5f0c9b9-49b1-4149-9fd0-8d89fcf0a6c8",
   "metadata": {},
   "source": [
    "Get the first three elements:"
   ]
  },
  {
   "cell_type": "code",
   "execution_count": 2,
   "id": "b234b50f-0bbc-4789-9e08-6f6b86e9f053",
   "metadata": {},
   "outputs": [
    {
     "data": {
      "text/plain": [
       "array([1, 2, 3])"
      ]
     },
     "execution_count": 2,
     "metadata": {},
     "output_type": "execute_result"
    }
   ],
   "source": [
    "my_array[:3]"
   ]
  },
  {
   "cell_type": "markdown",
   "id": "17c072e2-64ef-488c-bddf-ea0ea715ebf1",
   "metadata": {},
   "source": [
    "And set it back to how it was:"
   ]
  },
  {
   "cell_type": "code",
   "execution_count": 3,
   "id": "3e671833-c30f-484f-bc2f-2b6143783ea9",
   "metadata": {},
   "outputs": [
    {
     "name": "stdout",
     "output_type": "stream",
     "text": [
      "[1 2 3 4 5]\n"
     ]
    }
   ],
   "source": [
    "my_array[4] = 5\n",
    "print(my_array)"
   ]
  }
 ],
 "metadata": {
  "kernelspec": {
   "display_name": "Python 3 (ipykernel)",
   "language": "python",
   "name": "python3"
  },
  "language_info": {
   "codemirror_mode": {
    "name": "ipython",
    "version": 3
   },
   "file_extension": ".py",
   "mimetype": "text/x-python",
   "name": "python",
   "nbconvert_exporter": "python",
   "pygments_lexer": "ipython3",
   "version": "3.9.12"
  }
 },
 "nbformat": 4,
 "nbformat_minor": 5
}
