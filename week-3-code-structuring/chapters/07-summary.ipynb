{
 "cells": [
  {
   "cell_type": "markdown",
   "metadata": {
    "slideshow": {
     "slide_type": "slide"
    }
   },
   "source": [
    "# Summary\n",
    "\n",
    "That's the end of this week's lecture. By now you should have a better understanding of how you can make your code more easily shared and reusable. This week we have covered:\n",
    "\n",
    "- How to make you life easier with string formatting\n",
    "- Using the Python standard library to find and use useful functions\n",
    "- Ways of bundling up your code into reusable units with functions\n",
    "- Making it possible to share your code with others by moving code into modules\n",
    "- How to produce custom errors\n",
    "- How to compactly generate lists with list comprehensions"
   ]
  },
  {
   "cell_type": "markdown",
   "metadata": {
    "slideshow": {
     "slide_type": "slide"
    }
   },
   "source": [
    "## Worksheet\n",
    "\n",
    "To give you something to take away with you to practise with, there is a [worksheet with questions](99-practice_questions.ipynb). If you get to this point in the session then feel free to start now, otherwise try to finish them until next week."
   ]
  },
  {
   "cell_type": "markdown",
   "metadata": {
    "slideshow": {
     "slide_type": "skip"
    }
   },
   "source": [
    "## Credits\n",
    "\n",
    "This course was written by Matt Williams, based on the original course by Christopher Woods, and and published at https://milliams.com/courses/intermediate_python/. It was modified and adapted by Sebastian Steinig.\n",
    "\n",
    "All text is published under a [Creative Commons Attribution 4.0 International\n",
    "License](https://creativecommons.org/licenses/by/4.0/) with all code snippets licensed as MIT."
   ]
  }
 ],
 "metadata": {
  "celltoolbar": "Slideshow",
  "kernelspec": {
   "display_name": "Python 3 (ipykernel)",
   "language": "python",
   "name": "python3"
  },
  "language_info": {
   "codemirror_mode": {
    "name": "ipython",
    "version": 3
   },
   "file_extension": ".py",
   "mimetype": "text/x-python",
   "name": "python",
   "nbconvert_exporter": "python",
   "pygments_lexer": "ipython3",
   "version": "3.10.6"
  }
 },
 "nbformat": 4,
 "nbformat_minor": 4
}
