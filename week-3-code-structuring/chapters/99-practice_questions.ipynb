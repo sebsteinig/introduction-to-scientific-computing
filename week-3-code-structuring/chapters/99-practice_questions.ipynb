{
 "cells": [
  {
   "cell_type": "markdown",
   "id": "f5c92a2e-1394-448b-a407-04f9d8b18ee2",
   "metadata": {},
   "source": [
    "# Practice questions\n",
    "\n",
    "This page contains a number of questions and exercises to give you a chance to practise what you have learned this week."
   ]
  },
  {
   "cell_type": "markdown",
   "id": "fa03ab24-d215-49ea-b072-945e38e05eb0",
   "metadata": {
    "tags": [
     "exercise"
    ]
   },
   "source": [
    "### Exercise 1\n",
    "\n",
    "The first exercise is to practise searching the documentation. From the list of modules in the standard library, find one that contains a function to give the current date and time.\n",
    "\n",
    "Fill in the `...` in the snippet below.\n",
    "\n",
    "The output should be something like the following, but with today's date and time:\n",
    "\n",
    "```\n",
    "2025-04-01T10:53:15.062603\n",
    "```"
   ]
  },
  {
   "cell_type": "code",
   "execution_count": null,
   "id": "f467b902-2a4d-44d6-994a-975b20c667c8",
   "metadata": {},
   "outputs": [],
   "source": [
    "# Write your exercise code here.\n",
    "\n",
    "import ...\n",
    "\n",
    "time_now = ...\n",
    "\n",
    "print(time_now.isoformat())"
   ]
  },
  {
   "cell_type": "markdown",
   "id": "e498cc5e-6e3b-4e0e-b1f9-c93cd803dce8",
   "metadata": {
    "tags": [
     "exercise"
    ]
   },
   "source": [
    "### Exercise 2\n",
    "\n",
    "Write a function which can accept a string as an argument and return the first word in that string. To start you off, here's skeleton of what the function should look like.\n",
    "\n",
    "```python\n",
    "def first_word(l):\n",
    "    ...\n",
    "    return ...\n",
    "```\n",
    "\n",
    "you should be able to use it like:\n",
    "\n",
    "```python\n",
    "sentence = \"This is a collection of words\"\n",
    "word = first_word(sentence)\n",
    "print(word)\n",
    "```\n",
    "\n",
    "giving the output:\n",
    "\n",
    "```\n",
    "This\n",
    "```"
   ]
  },
  {
   "cell_type": "code",
   "execution_count": 2,
   "id": "6a19ab8d-889d-4090-a425-31705c8b7047",
   "metadata": {},
   "outputs": [],
   "source": [
    "# Write your exercise code here.\n"
   ]
  },
  {
   "cell_type": "markdown",
   "id": "10fa7b13-608f-4bf6-a51a-b3a53d1f13db",
   "metadata": {
    "tags": [
     "exercise"
    ]
   },
   "source": [
    "### Exercise 3\n",
    "\n",
    "Write a function called `count_word_match` which accepts three agruments:\n",
    "\n",
    "1. a string which contains multiple words separated by spaces,\n",
    "2. a string which gives the word that you want to count the occurrences of and\n",
    "3. a boolean (`True` or `False`) which specifies whether the match should be case-sensitive.\n",
    "\n",
    "```python\n",
    "def count_word_match(words, match, case_sensitive):\n",
    "    ...\n",
    "    return ...\n",
    "```\n",
    "\n",
    "you should be able to use it like:\n",
    "\n",
    "```python\n",
    "count1 = count_word_match(\"To be or not to be\", \"to\", True)\n",
    "print(count1)\n",
    "\n",
    "count2 = count_word_match(\"To be or not to be\", \"to\", False)\n",
    "print(count2)\n",
    "```\n",
    "\n",
    "giving the output:\n",
    "\n",
    "```\n",
    "1\n",
    "2\n",
    "``` "
   ]
  },
  {
   "cell_type": "code",
   "execution_count": 3,
   "id": "02a93780-ac8b-4a50-b062-666af1515e42",
   "metadata": {},
   "outputs": [],
   "source": [
    "# Write your exercise code here.\n"
   ]
  },
  {
   "cell_type": "markdown",
   "id": "ad8f6af7-5023-44d9-a0a2-cd60507189c5",
   "metadata": {
    "tags": [
     "exercise"
    ]
   },
   "source": [
    "### Exercise 4\n",
    "\n",
    "For this exercise, you should write a function which can find references, like `[4]`, in some text.\n",
    "\n",
    "If the function is passed a string like:\n",
    "\n",
    "```python\n",
    "\"I recommend this book [1] but the other book [3] is better. Some people think that this website [10] is the best but I prefer this [7] one.\"\n",
    "```\n",
    "\n",
    "it should return a list of integers like:\n",
    "\n",
    "```python\n",
    "[1, 3, 10, 7]\n",
    "```\n",
    "\n",
    "The function should be called `find_references`."
   ]
  },
  {
   "cell_type": "code",
   "execution_count": 4,
   "id": "af9f5566-11b7-4a93-b99b-aa398debdaec",
   "metadata": {},
   "outputs": [],
   "source": [
    "# Write your exercise code here.\n"
   ]
  },
  {
   "cell_type": "markdown",
   "id": "037c8721-ea0b-4719-b4ef-87ed9057e08d",
   "metadata": {
    "tags": [
     "exercise"
    ]
   },
   "source": [
    "### Exercise 5\n",
    "\n",
    "Take the function that you wrote in the last exercise and move it into a module called `refs`. You should then write a test file called `test_refs.py` containing:\n",
    "\n",
    "```python\n",
    "import refs\n",
    "\n",
    "text = \"I recommend this book [1] but the other book [3] is better. Some people think that this website [10] is the best but I prefer this [7] one.\"\n",
    "\n",
    "numbers = refs.find_references(text)\n",
    "\n",
    "expected = [1, 3, 10, 7]\n",
    "if numbers == expected:\n",
    "    print(\"Test passed\")\n",
    "else:\n",
    "    print(\"Test failed:\", numbers, \"is not the same as\", expected)\n",
    "```\n",
    "\n",
    "You should make sure that the test passes when the test script is run with:\n"
   ]
  },
  {
   "cell_type": "code",
   "execution_count": null,
   "id": "e9b12f6f-f4f2-4630-8afd-0d92e04d9b3d",
   "metadata": {},
   "outputs": [],
   "source": [
    "# Write your exercise code here.\n"
   ]
  },
  {
   "cell_type": "markdown",
   "id": "b90743a7-f0e2-4c46-b328-6d4855c5555a",
   "metadata": {},
   "source": [
    "[<big>Answers to all Practice Questions</big>](../solutions/practice_questions.ipynb)"
   ]
  }
 ],
 "metadata": {
  "kernelspec": {
   "display_name": "Python 3 (ipykernel)",
   "language": "python",
   "name": "python3"
  },
  "language_info": {
   "codemirror_mode": {
    "name": "ipython",
    "version": 3
   },
   "file_extension": ".py",
   "mimetype": "text/x-python",
   "name": "python",
   "nbconvert_exporter": "python",
   "pygments_lexer": "ipython3",
   "version": "3.9.12"
  }
 },
 "nbformat": 4,
 "nbformat_minor": 5
}
