{
 "cells": [
  {
   "cell_type": "markdown",
   "id": "0b7b9a71",
   "metadata": {
    "slideshow": {
     "slide_type": "slide"
    }
   },
   "source": [
    "# Recap of Week 2: Python basics"
   ]
  },
  {
   "cell_type": "markdown",
   "id": "f32048f7",
   "metadata": {
    "slideshow": {
     "slide_type": "skip"
    }
   },
   "source": [
    "In the last week we learned the basics of the Python programming language. In particular, we covered the following topics and concepts:"
   ]
  },
  {
   "cell_type": "markdown",
   "id": "535d165d-7e65-4886-b4f4-b7c077d9c931",
   "metadata": {},
   "source": [
    "- JupyterLab\n",
    "- Scripts vs. Notebooks\n",
    "- The `print()` function\n",
    "- Basic data types: strings, floats and integers\n",
    "- Indexing, slicing and appending to lists\n",
    "- Reading Python errors\n",
    "- Branching logic using `if` and `else` statements\n",
    "- Looping over different data structures such as lists, ranges, dictionaries and files\n",
    "- Using `range()` and `enumerate()` to loop in different ways\n",
    "- Creating, modifying and accessing dictionaries\n",
    "- Reading files using `open()` and the `with` keyword"
   ]
  },
  {
   "cell_type": "markdown",
   "id": "ce81db0c-d746-4059-801b-77f545c9ae09",
   "metadata": {
    "slideshow": {
     "slide_type": "slide"
    }
   },
   "source": [
    "### Calculator challenge"
   ]
  },
  {
   "cell_type": "markdown",
   "id": "a7f7e443",
   "metadata": {
    "slideshow": {
     "slide_type": "skip"
    }
   },
   "source": [
    "The final exercise from last week's summary notebook uses a lot of these concepts to build a simple calculator which can read numerical operations from a file and print the answers to the screen. If you haven't done yet, it would be a good idea to try to work at least on the first part of the challange, which reads:"
   ]
  },
  {
   "cell_type": "markdown",
   "id": "2301010b-4f5a-458f-a88a-fea29b4d41bc",
   "metadata": {
    "slideshow": {
     "slide_type": "-"
    }
   },
   "source": [
    "Write a program which reads in that file and performs the mathematical operations listed. It should output something like:\n",
    "  ```\n",
    "  4 * 6 is 24\n",
    "  5 + 6 is 11\n",
    "  457 - 75 is 382\n",
    "  54 / 3 is 18.0\n",
    "  4 + 6 is 10\n",
    "  ```"
   ]
  },
  {
   "cell_type": "code",
   "execution_count": 2,
   "id": "69cd80f3-69a1-459f-9339-b9480564422e",
   "metadata": {
    "slideshow": {
     "slide_type": "slide"
    }
   },
   "outputs": [
    {
     "name": "stdout",
     "output_type": "stream",
     "text": [
      "4 * 6\n",
      "5 + 6\n",
      "457 - 75\n",
      "54 / 3\n",
      "4 + 6\n"
     ]
    }
   ],
   "source": [
    "# start of the calculator exercise to practice basic Python concepts\n",
    "# we will use this to solve the exercise during the lecture together\n",
    "with open(\"assets/calc.txt\") as f:\n",
    "    for line in f:\n",
    "        print(line, end=\"\")"
   ]
  },
  {
   "cell_type": "markdown",
   "id": "f34253b2-9e1c-46b0-ba1a-3195eb5ddc7b",
   "metadata": {
    "slideshow": {
     "slide_type": "skip"
    }
   },
   "source": [
    "You can find all the solutions for this challenge [here](solutions/calculator.ipynb)."
   ]
  },
  {
   "cell_type": "markdown",
   "id": "76e240bc-160d-489c-8a12-bd680d09f8f0",
   "metadata": {
    "slideshow": {
     "slide_type": "slide"
    }
   },
   "source": [
    "# Week 3: Code Structuring"
   ]
  },
  {
   "cell_type": "markdown",
   "id": "6939963b",
   "metadata": {
    "slideshow": {
     "slide_type": "skip"
    }
   },
   "source": [
    "Most of last week's examples required you to write Python code that was executed line-by-line from the top to the bottom. \n",
    "\n",
    "This week we will learn how to divide our code into smaller, independent units. These units can be easily reused and will make it easier to share our code with other people."
   ]
  },
  {
   "cell_type": "markdown",
   "id": "c157840d-6b8a-47b2-a432-19464acf23c5",
   "metadata": {
    "slideshow": {
     "slide_type": "skip"
    }
   },
   "source": [
    "You can jump ahead to any chapter with the navigation below:\n"
   ]
  },
  {
   "cell_type": "markdown",
   "id": "a5203ca7-14fa-4e5d-b023-54d379b666f7",
   "metadata": {
    "slideshow": {
     "slide_type": "-"
    }
   },
   "source": [
    "## Table of Contents\n",
    "\n",
    "1. #### [String formatting](./chapters/01-string_formatting.ipynb)\n",
    "2. #### [Using functions](./chapters/02-using_functions.ipynb)\n",
    "3. #### [Writing functions](./chapters/03-writing_functions.ipynb)\n",
    "4. #### [Modules](./chapters/04-modules.ipynb)\n",
    "5. #### [Errors and Exceptions](./chapters/05-errors_and_exceptions.ipynb)\n",
    "6. #### [List comprehensions](./chapters/06-list_comprehensions.ipynb)\n",
    "7. #### [Summary](./chapters/07-summary.ipynb)\n",
    "\n",
    "#### [Practice Questions](./chapters/99-practice_questions.ipynb)"
   ]
  },
  {
   "cell_type": "markdown",
   "id": "706c2e6b-53ca-4d31-8cac-733389b903b7",
   "metadata": {
    "slideshow": {
     "slide_type": "skip"
    }
   },
   "source": [
    "## [[Next](./chapters/01-string_formatting.ipynb)]"
   ]
  }
 ],
 "metadata": {
  "celltoolbar": "Slideshow",
  "kernelspec": {
   "display_name": "Python 3 (ipykernel)",
   "language": "python",
   "name": "python3"
  },
  "language_info": {
   "codemirror_mode": {
    "name": "ipython",
    "version": 3
   },
   "file_extension": ".py",
   "mimetype": "text/x-python",
   "name": "python",
   "nbconvert_exporter": "python",
   "pygments_lexer": "ipython3",
   "version": "3.10.6"
  },
  "toc-autonumbering": false,
  "toc-showcode": false,
  "toc-showmarkdowntxt": false
 },
 "nbformat": 4,
 "nbformat_minor": 5
}
