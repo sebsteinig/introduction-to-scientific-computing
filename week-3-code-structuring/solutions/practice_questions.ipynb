{
 "cells": [
  {
   "cell_type": "markdown",
   "id": "efbece77-ca48-4a8b-bb2a-e631990e935f",
   "metadata": {},
   "source": [
    "# Worksheet answers"
   ]
  },
  {
   "cell_type": "markdown",
   "id": "3ffae135-7955-4803-8745-34bf9825d3d4",
   "metadata": {},
   "source": [
    " ## Exercise 1\n",
    " \n",
    " The function we can use is [`datetime.datetime.now()`](https://docs.python.org/3/library/datetime.html#datetime.datetime.now). There is an [example in that module as well](https://docs.python.org/3/library/datetime.html#examples-of-usage-datetime)."
   ]
  },
  {
   "cell_type": "code",
   "execution_count": 1,
   "id": "12f66940-8e38-429e-bf4b-e0b9b53a7565",
   "metadata": {},
   "outputs": [
    {
     "name": "stdout",
     "output_type": "stream",
     "text": [
      "2022-10-10T09:45:45.760549\n"
     ]
    }
   ],
   "source": [
    "import datetime\n",
    "\n",
    "time_now = datetime.datetime.now()\n",
    "\n",
    "print(time_now.isoformat())"
   ]
  },
  {
   "cell_type": "markdown",
   "id": "b3f8e782-8968-4b9d-9510-da44d3c4df87",
   "metadata": {},
   "source": [
    " ## Exercise 2"
   ]
  },
  {
   "cell_type": "code",
   "execution_count": 2,
   "id": "fbf45243-a112-47b1-a071-8eafcbfb0294",
   "metadata": {},
   "outputs": [
    {
     "name": "stdout",
     "output_type": "stream",
     "text": [
      "This\n"
     ]
    }
   ],
   "source": [
    "def first_word(l):\n",
    "    words = l.split()\n",
    "    the_first_word = words[0]\n",
    "    return the_first_word\n",
    "\n",
    "sentence = \"This is a collection of words\"\n",
    "word = first_word(sentence)\n",
    "print(word)"
   ]
  },
  {
   "cell_type": "markdown",
   "id": "cb45487d-2308-4634-a808-ad2e65c7ec95",
   "metadata": {},
   "source": [
    " ## Exercise 3"
   ]
  },
  {
   "cell_type": "code",
   "execution_count": 3,
   "id": "f7551b4d-d477-4600-a3c1-201670b85b5b",
   "metadata": {},
   "outputs": [
    {
     "name": "stdout",
     "output_type": "stream",
     "text": [
      "1\n",
      "2\n"
     ]
    }
   ],
   "source": [
    "def count_word_match(words, match, case_sensitive):\n",
    "    if not case_sensitive:\n",
    "        # Make both the words and the match a consistent case\n",
    "        words = words.casefold()\n",
    "        match = match.casefold()\n",
    "    \n",
    "    word_list = words.split()\n",
    "    \n",
    "    count = 0\n",
    "    for word in word_list:\n",
    "        if word == match:\n",
    "            count += 1\n",
    "    \n",
    "    return count\n",
    "\n",
    "count1 = count_word_match(\"To be or not to be\", \"to\", True)\n",
    "print(count1)\n",
    "\n",
    "count2 = count_word_match(\"To be or not to be\", \"to\", False)\n",
    "print(count2)"
   ]
  },
  {
   "cell_type": "markdown",
   "id": "e73ce41f-282a-42bd-a5ba-f74b816b5382",
   "metadata": {},
   "source": [
    " ## Exercise 4\n",
    " \n",
    "This exercise is trickier, but if you make some assumptions about the format of the input, you can make your life easier. For example, you can assume for now that every reference like `[4]` is surrounded by spaces. This allows `str.split()` to pull each one out as a \"word\". You can also assume that every reference is an integer number."
   ]
  },
  {
   "cell_type": "code",
   "execution_count": 4,
   "id": "ddf9b825-ca69-4821-808c-7b849f3ca26a",
   "metadata": {},
   "outputs": [
    {
     "name": "stdout",
     "output_type": "stream",
     "text": [
      "[1, 3, 10, 7]\n"
     ]
    }
   ],
   "source": [
    "def find_references(text):\n",
    "    words = text.split()\n",
    "    \n",
    "    refs = []\n",
    "    # For each word in the text\n",
    "    for word in words:\n",
    "        # if it's surrounded by square brackets\n",
    "        if word[0] == \"[\" and word[-1] == \"]\":\n",
    "            # grab the bit between the square brackets\n",
    "            reference = word[1:-1]\n",
    "            # convert it to a number\n",
    "            reference_number = int(reference)\n",
    "            refs.append(reference_number)\n",
    "    \n",
    "    return refs\n",
    "\n",
    "example_text = \"I recommend this book [1] but the other book [3] is better. Some people think that this website [10] is the best but I prefer this [7] one.\"\n",
    "\n",
    "references = find_references(example_text)\n",
    "\n",
    "print(references)"
   ]
  },
  {
   "cell_type": "markdown",
   "id": "4d496e8f-e5d8-4404-ae8a-7629516f6ee6",
   "metadata": {},
   "source": [
    "### Alternative solution\n",
    "\n",
    "If you are familiar with regular expressions (we haven't covered them in this course, so you might not be) then you can use this pattern matching language to extract the references. This is more reliable as the above method does not work if there is, e.g., no space between the `]` and the next letter: `bad ref [3].`.\n",
    "\n",
    "In this case, the regular expression `\\[(\\d+)\\]` means: find an openning square bracket (`\\[`), followed by one or more (`+`) digits (`\\d`), followed by a closing square bracket (`\\]`). If you find that, then pull out the digit part (`()`). It's a very concise way of describing a pattern."
   ]
  },
  {
   "cell_type": "code",
   "execution_count": 5,
   "id": "0e4d2a8e-ef96-4a9c-aba4-edfa2c657893",
   "metadata": {},
   "outputs": [
    {
     "name": "stdout",
     "output_type": "stream",
     "text": [
      "[1, 3, 10, 7]\n"
     ]
    }
   ],
   "source": [
    "import re\n",
    "\n",
    "def find_references(text):\n",
    "    ref_matches = re.findall(r\"\\[(\\d+)\\]\", text)\n",
    "    \n",
    "    ref_numbers = []\n",
    "    for ref in ref_matches:\n",
    "        ref_numbers.append(int(ref))\n",
    "        \n",
    "    return ref_numbers\n",
    "\n",
    "example_text = \"I recommend this book [1] but the other book [3] is better. Some people think that this website [10] is the best but I prefer this [7] one.\"\n",
    "\n",
    "references = find_references(example_text)\n",
    "\n",
    "print(references)"
   ]
  },
  {
   "cell_type": "markdown",
   "id": "1572323e-0ef7-4cbe-80de-e367d09bbbe1",
   "metadata": {},
   "source": [
    " ## Exercise 5"
   ]
  },
  {
   "cell_type": "markdown",
   "id": "ac5a59af-3c96-4c25-9243-df007dcac9bb",
   "metadata": {},
   "source": [
    "We move one of the solutions to exercise 4 into its own module called refs.py (in the solutions directory)"
   ]
  },
  {
   "cell_type": "code",
   "execution_count": 7,
   "id": "e67a515e-8f95-4ca9-93fa-24793405841d",
   "metadata": {},
   "outputs": [],
   "source": [
    "def find_references(text):\n",
    "    words = text.split()\n",
    "    \n",
    "    refs = []\n",
    "    for word in words:\n",
    "        if word[0] == \"[\" and word[-1] == \"]\":\n",
    "            reference = word[1:-1]\n",
    "            reference_number = int(reference)\n",
    "            refs.append(reference_number)\n",
    "    \n",
    "    return refs"
   ]
  },
  {
   "cell_type": "markdown",
   "id": "8fcc0045-d318-4536-9f26-9bef3b04dff3",
   "metadata": {},
   "source": [
    "and can then import and call it like:"
   ]
  },
  {
   "cell_type": "code",
   "execution_count": 11,
   "id": "39e9f438-d6f5-4d4a-9ad1-98b88d7469a2",
   "metadata": {},
   "outputs": [
    {
     "name": "stdout",
     "output_type": "stream",
     "text": [
      "Test passed\n"
     ]
    }
   ],
   "source": [
    "import refs\n",
    "\n",
    "text = \"I recommend this book [1] but the other book [3] is better. Some people think that this website [10] is the best but I prefer this [7] one.\"\n",
    "\n",
    "numbers = refs.find_references(text)\n",
    "\n",
    "expected = [1, 3, 10, 7]\n",
    "if numbers == expected:\n",
    "    print(\"Test passed\")\n",
    "else:\n",
    "    print(\"Test failed:\", numbers, \"is not the same as\", expected)"
   ]
  }
 ],
 "metadata": {
  "kernelspec": {
   "display_name": "Python 3 (ipykernel)",
   "language": "python",
   "name": "python3"
  },
  "language_info": {
   "codemirror_mode": {
    "name": "ipython",
    "version": 3
   },
   "file_extension": ".py",
   "mimetype": "text/x-python",
   "name": "python",
   "nbconvert_exporter": "python",
   "pygments_lexer": "ipython3",
   "version": "3.9.12"
  }
 },
 "nbformat": 4,
 "nbformat_minor": 5
}
