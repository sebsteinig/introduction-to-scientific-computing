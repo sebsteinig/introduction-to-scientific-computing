{
 "cells": [
  {
   "cell_type": "markdown",
   "id": "c07e3a20-05b4-47c5-b56d-62d3392e491d",
   "metadata": {},
   "source": [
    "To get input from the person running your script, you can use the [`input()`](https://docs.python.org/3/library/functions.html#input) function.\n",
    "\n",
    "If you pass a string argument to it, it will use that as the \"prompt\" when asking for input."
   ]
  },
  {
   "cell_type": "code",
   "execution_count": null,
   "id": "9a671f6e-116a-4cfa-9f13-6b4eb397f537",
   "metadata": {},
   "outputs": [],
   "source": [
    "my_name = input(\"Please tell me your name: \")\n",
    "\n",
    "print(f\"Hello {my_name}!\")"
   ]
  }
 ],
 "metadata": {
  "kernelspec": {
   "display_name": "Python 3 (ipykernel)",
   "language": "python",
   "name": "python3"
  },
  "language_info": {
   "codemirror_mode": {
    "name": "ipython",
    "version": 3
   },
   "file_extension": ".py",
   "mimetype": "text/x-python",
   "name": "python",
   "nbconvert_exporter": "python",
   "pygments_lexer": "ipython3",
   "version": "3.9.12"
  }
 },
 "nbformat": 4,
 "nbformat_minor": 5
}
