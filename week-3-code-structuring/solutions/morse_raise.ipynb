{
 "cells": [
  {
   "cell_type": "markdown",
   "metadata": {},
   "source": [
    "We have added some code to the beginning of `morse.encode` to check, in the case of the passed string being an English string, that it contains no `!`. If it does, we raise a [`ValueError`](https://docs.python.org/3/library/exceptions.html#ValueError).\n",
    "\n",
    "From the docs:\n",
    "\n",
    "> `ValueError`: Raised when an operation or function receives an argument that has the right type but an inappropriate value, and the situation is not described by a more precise exception such as `IndexError`.\n"
   ]
  },
  {
   "cell_type": "code",
   "execution_count": 1,
   "metadata": {
    "tags": [
     "nbval-ignore-output"
    ]
   },
   "outputs": [],
   "source": [
    "letter_to_morse = {\n",
    "    'a':'.-', 'b':'-...', 'c':'-.-.', 'd':'-..', 'e':'.', 'f':'..-.', \n",
    "    'g':'--.', 'h':'....', 'i':'..', 'j':'.---', 'k':'-.-', 'l':'.-..', 'm':'--', \n",
    "    'n':'-.', 'o':'---', 'p':'.--.', 'q':'--.-', 'r':'.-.', 's':'...', 't':'-',\n",
    "    'u':'..-', 'v':'...-', 'w':'.--', 'x':'-..-', 'y':'-.--', 'z':'--..',\n",
    "    '0':'-----', '1':'.----', '2':'..---', '3':'...--', '4':'....-',\n",
    "    '5':'.....', '6':'-....', '7':'--...', '8':'---..', '9':'----.', ' ':'/'\n",
    "}\n",
    "\n",
    "\n",
    "def encode(message):\n",
    "    if \"!\" in message:                                            # ← new code\n",
    "        raise ValueError(f\"'!' is not valid in English strings\")  # ←\n",
    "    \n",
    "    morse = []\n",
    "\n",
    "    for letter in message:\n",
    "        letter = letter.lower()\n",
    "        morse_letter = letter_to_morse[letter]\n",
    "        morse.append(morse_letter)\n",
    "\n",
    "    morse_message = \" \".join(morse)\n",
    "    \n",
    "    return morse_message\n",
    "\n",
    "\n",
    "# We need to invert the dictionary. This will create a dictionary\n",
    "# that can go from the morse back to the letter\n",
    "morse_to_letter = {}\n",
    "for letter in letter_to_morse:\n",
    "    morse = letter_to_morse[letter]\n",
    "    morse_to_letter[morse] = letter\n",
    "\n",
    "\n",
    "def decode(message):\n",
    "    english = []\n",
    "\n",
    "    morse_letters = message.split(\" \")\n",
    "\n",
    "    for letter in morse_letters:\n",
    "        english_letter = morse_to_letter[letter]\n",
    "        english.append(english_letter)\n",
    "\n",
    "    english_message = \"\".join(english)\n",
    "    \n",
    "    return english_message"
   ]
  },
  {
   "cell_type": "markdown",
   "metadata": {},
   "source": [
    "We created the new module `morse_exception` (in the solutions directory) to better separate the solutions for the individual exercises."
   ]
  },
  {
   "cell_type": "code",
   "execution_count": 3,
   "metadata": {},
   "outputs": [
    {
     "ename": "ValueError",
     "evalue": "'!' is not valid in English strings",
     "output_type": "error",
     "traceback": [
      "\u001b[0;31m---------------------------------------------------------------------------\u001b[0m",
      "\u001b[0;31mValueError\u001b[0m                                Traceback (most recent call last)",
      "Input \u001b[0;32mIn [3]\u001b[0m, in \u001b[0;36m<cell line: 5>\u001b[0;34m()\u001b[0m\n\u001b[1;32m      1\u001b[0m \u001b[38;5;28;01mimport\u001b[39;00m \u001b[38;5;21;01mmorse_exception\u001b[39;00m\n\u001b[1;32m      3\u001b[0m message \u001b[38;5;241m=\u001b[39m \u001b[38;5;124m\"\u001b[39m\u001b[38;5;124mHi!\u001b[39m\u001b[38;5;124m\"\u001b[39m\n\u001b[0;32m----> 5\u001b[0m encoded_message \u001b[38;5;241m=\u001b[39m \u001b[43mmorse_exception\u001b[49m\u001b[38;5;241;43m.\u001b[39;49m\u001b[43mencode\u001b[49m\u001b[43m(\u001b[49m\u001b[43mmessage\u001b[49m\u001b[43m)\u001b[49m\n\u001b[1;32m      7\u001b[0m \u001b[38;5;28mprint\u001b[39m(\u001b[38;5;124mf\u001b[39m\u001b[38;5;124m\"\u001b[39m\u001b[38;5;124mIncoming message: \u001b[39m\u001b[38;5;132;01m{\u001b[39;00mmessage\u001b[38;5;132;01m}\u001b[39;00m\u001b[38;5;124m\"\u001b[39m)\n\u001b[1;32m      8\u001b[0m \u001b[38;5;28mprint\u001b[39m(\u001b[38;5;124mf\u001b[39m\u001b[38;5;124m\"\u001b[39m\u001b[38;5;124m   Morse encoded: \u001b[39m\u001b[38;5;132;01m{\u001b[39;00mencoded_message\u001b[38;5;132;01m}\u001b[39;00m\u001b[38;5;124m\"\u001b[39m)\n",
      "File \u001b[0;32m~/Documents/teaching/introduction_to_scientific_computing_lectures/week_3/solutions/morse_exception.py:13\u001b[0m, in \u001b[0;36mencode\u001b[0;34m(message)\u001b[0m\n\u001b[1;32m     11\u001b[0m \u001b[38;5;28;01mdef\u001b[39;00m \u001b[38;5;21mencode\u001b[39m(message):\n\u001b[1;32m     12\u001b[0m     \u001b[38;5;28;01mif\u001b[39;00m \u001b[38;5;124m\"\u001b[39m\u001b[38;5;124m!\u001b[39m\u001b[38;5;124m\"\u001b[39m \u001b[38;5;129;01min\u001b[39;00m message:                                            \u001b[38;5;66;03m# ← new code\u001b[39;00m\n\u001b[0;32m---> 13\u001b[0m         \u001b[38;5;28;01mraise\u001b[39;00m \u001b[38;5;167;01mValueError\u001b[39;00m(\u001b[38;5;124mf\u001b[39m\u001b[38;5;124m\"\u001b[39m\u001b[38;5;124m'\u001b[39m\u001b[38;5;124m!\u001b[39m\u001b[38;5;124m'\u001b[39m\u001b[38;5;124m is not valid in English strings\u001b[39m\u001b[38;5;124m\"\u001b[39m)  \u001b[38;5;66;03m# ←\u001b[39;00m\n\u001b[1;32m     15\u001b[0m     morse \u001b[38;5;241m=\u001b[39m []\n\u001b[1;32m     17\u001b[0m     \u001b[38;5;28;01mfor\u001b[39;00m letter \u001b[38;5;129;01min\u001b[39;00m message:\n",
      "\u001b[0;31mValueError\u001b[0m: '!' is not valid in English strings"
     ]
    }
   ],
   "source": [
    "import morse_exception\n",
    "\n",
    "message = \"Hi!\"\n",
    "\n",
    "encoded_message = morse_exception.encode(message)\n",
    "\n",
    "print(f\"Incoming message: {message}\")\n",
    "print(f\"   Morse encoded: {encoded_message}\")"
   ]
  }
 ],
 "metadata": {
  "celltoolbar": "Tags",
  "kernelspec": {
   "display_name": "Python 3 (ipykernel)",
   "language": "python",
   "name": "python3"
  },
  "language_info": {
   "codemirror_mode": {
    "name": "ipython",
    "version": 3
   },
   "file_extension": ".py",
   "mimetype": "text/x-python",
   "name": "python",
   "nbconvert_exporter": "python",
   "pygments_lexer": "ipython3",
   "version": "3.9.12"
  }
 },
 "nbformat": 4,
 "nbformat_minor": 4
}
