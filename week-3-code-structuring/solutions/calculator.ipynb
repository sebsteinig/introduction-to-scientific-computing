{
 "cells": [
  {
   "cell_type": "markdown",
   "metadata": {},
   "source": [
    "Starting with our data file, `calc.txt`:"
   ]
  },
  {
   "cell_type": "code",
   "execution_count": null,
   "metadata": {
    "tags": [
     "nbval-ignore-output"
    ]
   },
   "outputs": [
    {
     "name": "stdout",
     "output_type": "stream",
     "text": [
      "4 * 6 is 24\n",
      "5 + 6 is 11\n",
      "457 - 75 is 382\n",
      "54 / 3 is 18.0\n",
      "4 + 6 is 10\n"
     ]
    }
   ],
   "source": [
    "with open(\"../assets/calc.txt\") as f:\n",
    "    for line in f:\n",
    "        parts = line.split()\n",
    "        lhs = int(parts[0])\n",
    "        operator = parts[1]\n",
    "        rhs = int(parts[2])\n",
    "        \n",
    "        if operator == \"+\":\n",
    "            print(line.strip(), \"is\", lhs + rhs)\n",
    "        elif operator == \"-\":\n",
    "            print(line.strip(), \"is\", lhs - rhs)\n",
    "        elif operator == \"*\":\n",
    "            print(line.strip(), \"is\", lhs * rhs)\n",
    "        elif operator == \"/\":\n",
    "            print(line.strip(), \"is\", lhs / rhs)"
   ]
  },
  {
   "cell_type": "markdown",
   "metadata": {},
   "source": [
    "We can convert the lhs and rhs to `float` instead of `int`"
   ]
  },
  {
   "cell_type": "code",
   "execution_count": 2,
   "metadata": {},
   "outputs": [
    {
     "name": "stdout",
     "output_type": "stream",
     "text": [
      "4 * 6 is 24.0\n",
      "5 + 6 is 11.0\n",
      "457 - 75 is 382.0\n",
      "54 / 3 is 18.0\n",
      "4 + 6 is 10.0\n"
     ]
    }
   ],
   "source": [
    "with open(\"../assets/calc.txt\") as f:\n",
    "    for line in f:\n",
    "        parts = line.split()\n",
    "        lhs = float(parts[0])\n",
    "        operator = parts[1]\n",
    "        rhs = float(parts[2])\n",
    "        \n",
    "        if operator == \"+\":\n",
    "            print(line.strip(), \"is\", lhs + rhs)\n",
    "        elif operator == \"-\":\n",
    "            print(line.strip(), \"is\", lhs - rhs)\n",
    "        elif operator == \"*\":\n",
    "            print(line.strip(), \"is\", lhs * rhs)\n",
    "        elif operator == \"/\":\n",
    "            print(line.strip(), \"is\", lhs / rhs)"
   ]
  },
  {
   "cell_type": "code",
   "execution_count": 3,
   "metadata": {},
   "outputs": [
    {
     "name": "stdout",
     "output_type": "stream",
     "text": [
      "4 * 6 is 24.0\n",
      "5 + 6 is 11.0\n",
      "457 - 75 is 382.0\n",
      "54 / 3 is 18.0\n",
      "4 + 6 is 10.0\n"
     ]
    }
   ],
   "source": [
    "with open(\"../assets/calc.txt\") as f:\n",
    "    for line in f:\n",
    "        parts = line.split()\n",
    "        \n",
    "        # whitespace before and after operator: logic as before\n",
    "        if len(parts) == 3:\n",
    "            lhs = float(parts[0])\n",
    "            operator = parts[1]\n",
    "            rhs = float(parts[2])\n",
    "            \n",
    "        # otherwise, find operator symbol first\n",
    "        else:\n",
    "            for i in line:\n",
    "                if i in ['+','-','*','/']:\n",
    "                    operator = i    \n",
    "            \n",
    "            # only one side with whitespace\n",
    "            if len(parts) == 2:\n",
    "                # remove operator substring from lhs or rhs\n",
    "                for index,part in enumerate(parts):\n",
    "                    parts[index] = part.replace(operator, \"\")\n",
    "                    \n",
    "            # no whitespace at all\n",
    "            elif len(parts) == 1:\n",
    "                # replace operator substring with whitespace to recreate two number parts\n",
    "                part = parts[0].replace(operator, \" \")\n",
    "                parts = part.split()\n",
    "                \n",
    "            # convert lhs and rhs as before\n",
    "            lhs = float(parts[0])\n",
    "            rhs = float(parts[1])\n",
    "            \n",
    "        if operator == \"+\":\n",
    "            print(line.strip(), \"is\", lhs + rhs)\n",
    "        elif operator == \"-\":\n",
    "            print(line.strip(), \"is\", lhs - rhs)\n",
    "        elif operator == \"*\":\n",
    "            print(line.strip(), \"is\", lhs * rhs)\n",
    "        elif operator == \"/\":\n",
    "            print(line.strip(), \"is\", lhs / rhs)"
   ]
  }
 ],
 "metadata": {
  "kernelspec": {
   "display_name": "Python 3 (ipykernel)",
   "language": "python",
   "name": "python3"
  },
  "language_info": {
   "codemirror_mode": {
    "name": "ipython",
    "version": 3
   },
   "file_extension": ".py",
   "mimetype": "text/x-python",
   "name": "python",
   "nbconvert_exporter": "python",
   "pygments_lexer": "ipython3",
   "version": "3.9.12"
  }
 },
 "nbformat": 4,
 "nbformat_minor": 4
}
