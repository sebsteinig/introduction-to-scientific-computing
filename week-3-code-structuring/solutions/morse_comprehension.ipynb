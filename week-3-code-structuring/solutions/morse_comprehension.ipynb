{
 "cells": [
  {
   "cell_type": "markdown",
   "metadata": {},
   "source": [
    "We created the new module `morse_comprehension` (in the solutions directory) to better separate the solutions for the individual exercises. The list comprehensions look like this:"
   ]
  },
  {
   "cell_type": "code",
   "execution_count": 3,
   "metadata": {
    "tags": [
     "nbval-ignore-output"
    ]
   },
   "outputs": [],
   "source": [
    "letter_to_morse = {\n",
    "    'a':'.-', 'b':'-...', 'c':'-.-.', 'd':'-..', 'e':'.', 'f':'..-.', \n",
    "    'g':'--.', 'h':'....', 'i':'..', 'j':'.---', 'k':'-.-', 'l':'.-..', 'm':'--', \n",
    "    'n':'-.', 'o':'---', 'p':'.--.', 'q':'--.-', 'r':'.-.', 's':'...', 't':'-',\n",
    "    'u':'..-', 'v':'...-', 'w':'.--', 'x':'-..-', 'y':'-.--', 'z':'--..',\n",
    "    '0':'-----', '1':'.----', '2':'..---', '3':'...--', '4':'....-',\n",
    "    '5':'.....', '6':'-....', '7':'--...', '8':'---..', '9':'----.', ' ':'/'\n",
    "}\n",
    "\n",
    "# We need to invert the dictionary. This will create a dictionary\n",
    "# that can go from the morse back to the letter\n",
    "morse_to_letter = {}\n",
    "for letter in letter_to_morse:\n",
    "    morse = letter_to_morse[letter]\n",
    "    morse_to_letter[morse] = letter\n",
    "\n",
    "def encode(message):\n",
    "    if \"!\" in message:\n",
    "        raise ValueError(f\"'!' is not valid in English strings\")\n",
    "\n",
    "    morse = [letter_to_morse[letter] for letter in message.lower()]\n",
    "\n",
    "    morse_message = \" \".join(morse)\n",
    "    \n",
    "    return morse_message\n",
    "    \n",
    "def decode(message):\n",
    "    english = [morse_to_letter[letter] for letter in message.split(\" \")]\n",
    "\n",
    "    english_message = \"\".join(english)\n",
    "    \n",
    "    return english_message"
   ]
  },
  {
   "cell_type": "code",
   "execution_count": 7,
   "metadata": {},
   "outputs": [
    {
     "name": "stdout",
     "output_type": "stream",
     "text": [
      "Incoming message: SOS We have hit an iceberg and need help quickly\n",
      "   Morse encoded: ... --- ... / .-- . / .... .- ...- . / .... .. - / .- -. / .. -.-. . -... . .-. --. / .- -. -.. / -. . . -.. / .... . .-.. .--. / --.- ..- .. -.-. -.- .-.. -.--\n"
     ]
    }
   ],
   "source": [
    "import morse_comprehension\n",
    "\n",
    "message = \"SOS We have hit an iceberg and need help quickly\"\n",
    "\n",
    "encoded_message = morse_comprehension.encode(message)\n",
    "\n",
    "print(f\"Incoming message: {message}\")\n",
    "print(f\"   Morse encoded: {encoded_message}\")"
   ]
  }
 ],
 "metadata": {
  "celltoolbar": "Tags",
  "kernelspec": {
   "display_name": "Python 3 (ipykernel)",
   "language": "python",
   "name": "python3"
  },
  "language_info": {
   "codemirror_mode": {
    "name": "ipython",
    "version": 3
   },
   "file_extension": ".py",
   "mimetype": "text/x-python",
   "name": "python",
   "nbconvert_exporter": "python",
   "pygments_lexer": "ipython3",
   "version": "3.9.12"
  }
 },
 "nbformat": 4,
 "nbformat_minor": 4
}
