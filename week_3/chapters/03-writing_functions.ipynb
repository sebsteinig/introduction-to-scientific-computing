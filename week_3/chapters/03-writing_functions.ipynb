{
 "cells": [
  {
   "cell_type": "markdown",
   "id": "1e8f87e0-5544-424a-87be-226096412f89",
   "metadata": {
    "rise": {
     "autolaunch": true
    },
    "slideshow": {
     "slide_type": "skip"
    }
   },
   "source": [
    "#### [[back to main](../week_02_workbook_python-basics.ipynb)]"
   ]
  },
  {
   "cell_type": "markdown",
   "id": "8ea191d1",
   "metadata": {
    "slideshow": {
     "slide_type": "skip"
    }
   },
   "source": [
    "# Writing functions\n",
    "\n",
    "In the exercise at the end of the last chapter, you edited a script that could encode messages to Morse code. The script is good, but is not very easy to use or reusable. For someone to make use of the script, they will have to edit it and copy and paste your code every time they want to encode a different message.\n",
    "\n",
    "Functions provide a way of packaging code into reusable and easy-to-use components. We saw plenty of examples of functions in the last chapter, e.g. `print()` wraps up all the logic about exactly how to print things, all you need to do is pass in some arguments and it handles the rest. Likewise with `math.sqrt()`, you don't need to understand the algorithm it uses, simply what it needs you to pass it, and what it returns back to you.\n",
    "\n",
    "You can also bundle up your own logic into functions, allowing you to avoid repeating yourself and make your code easier to read. To explain how they work, lets imagine we are writing some code to help us with baking recipes. Often you will need to convert between different units, for example from ounces to grams. Open a new Console session and type the below:"
   ]
  },
  {
   "cell_type": "code",
   "execution_count": 1,
   "id": "01f3eef1-bb00-4b4a-ad23-fad324f4e2b1",
   "metadata": {},
   "outputs": [
    {
     "name": "stdout",
     "output_type": "stream",
     "text": [
      "170.09699999999998\n"
     ]
    }
   ],
   "source": [
    "weight_in_ounces = 6\n",
    "\n",
    "weight_in_grams = weight_in_ounces * 28.3495\n",
    "\n",
    "print(weight_in_grams)"
   ]
  },
  {
   "cell_type": "markdown",
   "id": "c17014b9-29fc-43f7-84cb-c11a9acad042",
   "metadata": {},
   "source": [
    "You can see this script as having three main parts to it:\n",
    "- The **set-up** where we define `weight_in_ounces`\n",
    "- The **data-processing** section where we read our inputs and create an output\n",
    "- The **output** section where we print our result to the screen\n",
    "\n",
    "The data processing section will work regardless of what data is inside the variable `weight_in_ounces` and so we can grab that bit of code and make it usable in other contexts quite easily, using functions."
   ]
  },
  {
   "cell_type": "markdown",
   "id": "59437c6d-9d4e-4bf7-90b7-9124cfa36bb3",
   "metadata": {},
   "source": [
    "## Defining functions\n",
    "\n",
    "We can turn this into a function that can add any two arrays together by using `def`. To do this, type:"
   ]
  },
  {
   "cell_type": "code",
   "execution_count": 2,
   "id": "4b530e5f-6da2-4258-b330-89f260afec59",
   "metadata": {},
   "outputs": [],
   "source": [
    "def ounces_to_grams(weight):\n",
    "    new_weight = weight * 28.3495\n",
    "    return new_weight"
   ]
  },
  {
   "cell_type": "markdown",
   "id": "53a0be2d-7139-4f2e-b1ec-bde5c6efcad2",
   "metadata": {},
   "source": [
    "This has created a new function called `ounces_to_grams` which we can now call. In a similar fashion to other constructs in Python (like `for` loops and `if` statements) it has a rigid structure.\n",
    "\n",
    "First we must use the `def` keyword to start a function definition:\n",
    "\n",
    "<pre>\n",
    " ↓\n",
    "<b style=\"color:darkred\">def</b> ounces_to_grams(weight):\n",
    "    new_weight = weight * 28.3495\n",
    "    return new_weight\n",
    "</pre>\n",
    "\n",
    "Then we specify the name that we want to give the function. Like anything in Python, choose a descriptive name that describes what it does. This is the name which we will use when *calling* the function:\n",
    "\n",
    "<pre>\n",
    "           ↓\n",
    "def <b style=\"color:darkred\">ounces_to_grams</b>(weight):\n",
    "    new_weight = weight * 28.3495\n",
    "    return new_weight\n",
    "</pre>\n",
    "\n",
    "Function definitions must then be followed by a pair of round brackets. This is a similar syntax to that used when *calling* a function and giving it arguments but here we're just defining it:\n",
    "\n",
    "<pre>\n",
    "                   ↓      ↓\n",
    "def ounces_to_grams<b style=\"color:darkred\">(</b>weight<b style=\"color:darkred\">)</b>:\n",
    "    new_weight = weight * 28.3495\n",
    "    return new_weight\n",
    "</pre>\n",
    "\n",
    "Between those brackets go the names of the parameters we want the function to accept. We can define zero or more parameters. Here we are defining one:\n",
    "\n",
    "<pre>\n",
    "                      ↓\n",
    "def ounces_to_grams(<b style=\"color:darkred\">weight</b>):\n",
    "    new_weight = weight * 28.3495\n",
    "    return new_weight\n",
    "</pre>\n",
    "\n",
    "Finally, the line is completed with a colon:\n",
    "\n",
    "<pre>\n",
    "                           ↓\n",
    "def ounces_to_grams(weight)<b style=\"color:darkred\">:</b>\n",
    "    new_weight = weight * 28.3495\n",
    "    return new_weight\n",
    "</pre>\n",
    "\n",
    "Since we've used a colon, we must indent the body of the function as we did with loops and conditional statements:\n",
    "\n",
    "<pre>\n",
    "def ounces_to_grams(weight):\n",
    "    <b style=\"color:darkred\">new_weight = weight * 28.3495</b>  ← body of<b style=\"color:darkred\">\n",
    "    return new_weight</b>              ← function\n",
    "</pre>\n",
    "\n",
    "Most functions will also want to return data back to the code that called it. You can choose what data is returned using the `return` keyword followed by the data you want to return:\n",
    "\n",
    "<pre>\n",
    "def ounces_to_grams(weight):\n",
    "    new_weight = weight * 28.3495\n",
    "    <b style=\"color:darkred\">return</b> new_weight\n",
    "      ↑\n",
    "</pre>\n",
    "\n",
    "The body of the function has been copied from our script above with the only change being that the variables have different names.\n",
    "\n",
    "## Calling functions\n",
    "\n",
    "You can now call the function using:"
   ]
  },
  {
   "cell_type": "code",
   "execution_count": 3,
   "id": "fc397353-1875-4571-955e-66aa2097f840",
   "metadata": {},
   "outputs": [
    {
     "name": "stdout",
     "output_type": "stream",
     "text": [
      "170.09699999999998\n"
     ]
    }
   ],
   "source": [
    "weight_in_ounces = 6\n",
    "\n",
    "weight_in_grams = ounces_to_grams(weight_in_ounces)\n",
    "\n",
    "print(weight_in_grams)"
   ]
  },
  {
   "cell_type": "markdown",
   "id": "2168adcd-4f0a-4422-9176-7a4bb06b120a",
   "metadata": {},
   "source": [
    "In this case you have called the function `ounces_to_grams` and passed in the argument `weight_in_ounces`.\n",
    "\n",
    "In the fuction, `weight_in_ounces` is copied to its internal variable, `weight`. The function `ounces_to_grams` then acts on `weight`, creating the new varaible `new_weight`.\n",
    "\n",
    "It then returns `new_weight`, which is assigned to `weight_in_grams`.\n",
    "\n",
    "You can use your new `ounces_to_grams` function to convert any numbers. Try typing:"
   ]
  },
  {
   "cell_type": "code",
   "execution_count": 4,
   "id": "4845b52c-8f8c-409a-a8f4-0afdc5595145",
   "metadata": {},
   "outputs": [
    {
     "name": "stdout",
     "output_type": "stream",
     "text": [
      "28321.1505\n"
     ]
    }
   ],
   "source": [
    "weight_in_ounces = 999\n",
    "\n",
    "weight_in_grams = ounces_to_grams(weight_in_ounces)\n",
    "\n",
    "print(weight_in_grams)"
   ]
  },
  {
   "cell_type": "markdown",
   "id": "7a6f94fb-2ffb-4a0f-8fb8-57b815c4303e",
   "metadata": {},
   "source": [
    "Note that we can pass the values to the function directly, e.g. type:"
   ]
  },
  {
   "cell_type": "code",
   "execution_count": 5,
   "id": "a3fc1869-03cb-45b1-8a0e-eacd4655051d",
   "metadata": {},
   "outputs": [
    {
     "name": "stdout",
     "output_type": "stream",
     "text": [
      "28321.1505\n"
     ]
    }
   ],
   "source": [
    "weight_in_grams = ounces_to_grams(999)\n",
    "\n",
    "print(weight_in_grams)"
   ]
  },
  {
   "cell_type": "markdown",
   "id": "2973c776-4635-480b-82d9-566ecfe3c67f",
   "metadata": {},
   "source": [
    "Or even:"
   ]
  },
  {
   "cell_type": "code",
   "execution_count": 6,
   "id": "e6f2044b-334e-420d-b02f-4336e49b4db1",
   "metadata": {},
   "outputs": [
    {
     "name": "stdout",
     "output_type": "stream",
     "text": [
      "28321.1505\n"
     ]
    }
   ],
   "source": [
    "print(ounces_to_grams(999))"
   ]
  },
  {
   "cell_type": "markdown",
   "id": "87b16969-e81f-466f-8516-1e4fc63276d9",
   "metadata": {
    "tags": []
   },
   "source": [
    "### Exercise 5\n",
    "        \n",
    "> Take the following code:\n",
    ">\n",
    ">```python\n",
    ">my_list = [5, 7, 34, 5, 3, 545]\n",
    ">\n",
    ">big_numbers = []\n",
    ">for num in my_list:\n",
    ">    if num > 10:\n",
    ">        big_numbers.append(num)\n",
    ">\n",
    ">print(big_numbers)\n",
    ">```\n",
    ">\n",
    "><br>and convert the data-processing parts to a function called `big` which can be called like:\n",
    ">\n",
    ">```python\n",
    ">my_list = [5, 7, 34, 5, 3, 545]\n",
    ">\n",
    ">large_numbers = big(my_list)\n",
    ">\n",
    ">print(large_numbers)\n",
    ">```\n",
    ">\n",
    "><br>giving\n",
    ">\n",
    ">```\n",
    ">[34, 545]\n",
    ">```\n",
    ">\n",
    "><br>Be careful to pay attention to the indentation, ensuring that it is consistent with the original code. Particularly, note that the `return` statement will cause the function to exit, so make sure that it doesn't run until after the loop has finished."
   ]
  },
  {
   "cell_type": "code",
   "execution_count": 7,
   "id": "7b8b5bde-5d43-49be-8667-d957cb465bfc",
   "metadata": {},
   "outputs": [],
   "source": [
    "# Write your exercise code here.\n"
   ]
  },
  {
   "cell_type": "markdown",
   "id": "ce3c607a-7fb9-4b1b-9714-5388f57521f5",
   "metadata": {},
   "source": [
    "[<small>answer</small>](../solutions/function_big_numbers.ipynb)"
   ]
  },
  {
   "cell_type": "markdown",
   "id": "24caee8f-6500-4a3a-9a4b-17cff01db167",
   "metadata": {},
   "source": [
    "### How many arguments?\n",
    "\n",
    "Note that you must pass in the right number of arguments to a function. `ounces_to_grams` expects one arguments, so if you pass more or less, then that is an error. Try this now:"
   ]
  },
  {
   "cell_type": "code",
   "execution_count": 8,
   "id": "10108a5f-ec54-4761-b376-73de313caa64",
   "metadata": {},
   "outputs": [
    {
     "ename": "TypeError",
     "evalue": "ounces_to_grams() missing 1 required positional argument: 'weight'",
     "output_type": "error",
     "traceback": [
      "\u001b[0;31m---------------------------------------------------------------------------\u001b[0m",
      "\u001b[0;31mTypeError\u001b[0m                                 Traceback (most recent call last)",
      "Input \u001b[0;32mIn [8]\u001b[0m, in \u001b[0;36m<cell line: 1>\u001b[0;34m()\u001b[0m\n\u001b[0;32m----> 1\u001b[0m r \u001b[38;5;241m=\u001b[39m \u001b[43mounces_to_grams\u001b[49m\u001b[43m(\u001b[49m\u001b[43m)\u001b[49m\n",
      "\u001b[0;31mTypeError\u001b[0m: ounces_to_grams() missing 1 required positional argument: 'weight'"
     ]
    }
   ],
   "source": [
    "r = ounces_to_grams()"
   ]
  },
  {
   "cell_type": "markdown",
   "id": "f9607066-1f3d-4ba8-90f5-756cc4d38bba",
   "metadata": {},
   "source": [
    "so as you can see, it tells you that you've given it the wrong number of arguments. It expects 1 (`weight`). Likewise, if you give too many arguments you get a similar error:"
   ]
  },
  {
   "cell_type": "code",
   "execution_count": 9,
   "id": "5600540e-b6e8-4898-a956-7ef99f7d80a5",
   "metadata": {},
   "outputs": [
    {
     "ename": "TypeError",
     "evalue": "ounces_to_grams() takes 1 positional argument but 2 were given",
     "output_type": "error",
     "traceback": [
      "\u001b[0;31m---------------------------------------------------------------------------\u001b[0m",
      "\u001b[0;31mTypeError\u001b[0m                                 Traceback (most recent call last)",
      "Input \u001b[0;32mIn [9]\u001b[0m, in \u001b[0;36m<cell line: 1>\u001b[0;34m()\u001b[0m\n\u001b[0;32m----> 1\u001b[0m r \u001b[38;5;241m=\u001b[39m \u001b[43mounces_to_grams\u001b[49m\u001b[43m(\u001b[49m\u001b[38;5;241;43m2\u001b[39;49m\u001b[43m,\u001b[49m\u001b[43m \u001b[49m\u001b[38;5;241;43m6\u001b[39;49m\u001b[43m)\u001b[49m\n",
      "\u001b[0;31mTypeError\u001b[0m: ounces_to_grams() takes 1 positional argument but 2 were given"
     ]
    }
   ],
   "source": [
    "r = ounces_to_grams(2, 6)"
   ]
  },
  {
   "cell_type": "markdown",
   "id": "1d32f0bf-cd4c-4ffc-89d5-54b8d81b1fc1",
   "metadata": {},
   "source": [
    "It is also possible to define functions that take no arguments:"
   ]
  },
  {
   "cell_type": "code",
   "execution_count": 10,
   "id": "6f3775f5-6f83-444c-9e2a-f9ca395b1766",
   "metadata": {},
   "outputs": [
    {
     "data": {
      "text/plain": [
       "3.14159"
      ]
     },
     "execution_count": 10,
     "metadata": {},
     "output_type": "execute_result"
    }
   ],
   "source": [
    "def pi():\n",
    "    return 3.14159\n",
    "\n",
    "pi()"
   ]
  },
  {
   "cell_type": "markdown",
   "id": "655cb762-df5a-42fd-b16c-d0bbc36e6e71",
   "metadata": {},
   "source": [
    "or lots of arguments:"
   ]
  },
  {
   "cell_type": "code",
   "execution_count": 11,
   "id": "978e5050-c2c1-4141-bc71-f840c4d47424",
   "metadata": {},
   "outputs": [
    {
     "data": {
      "text/plain": [
       "{'a': 1, 'b': 2, 'c': 3, 'd': 4, 'e': 5}"
      ]
     },
     "execution_count": 11,
     "metadata": {},
     "output_type": "execute_result"
    }
   ],
   "source": [
    "def lots_of_args(a, b, c, d, e):\n",
    "    return {\"a\": a, \"b\": b, \"c\": c, \"d\": d, \"e\": e}\n",
    "\n",
    "lots_of_args(1, 2, 3, 4, 5)"
   ]
  },
  {
   "cell_type": "markdown",
   "id": "669f2884-40a3-467d-ba4c-a8b753ce7727",
   "metadata": {
    "tags": []
   },
   "source": [
    "### Exercise 6\n",
    "        \n",
    "> Take the Morse Code programme from the previous chapter and edit it so that the part that does the conversion (everything from `morse = []` to `\" \".join(morse)`) is moved into a function called `encode`. The function should take one argument and return the encoded morse string.\n",
    ">\n",
    ">To be more explicit, replace the following lines of code:\n",
    ">\n",
    ">```python\n",
    ">morse = []\n",
    ">\n",
    ">for letter in message:\n",
    ">    letter = letter.lower()\n",
    ">    morse_letter = letter_to_morse[letter]\n",
    ">    morse.append(morse_letter)\n",
    ">\n",
    ">morse_message = \" \".join(morse)\n",
    ">```\n",
    "><br>\n",
    ">and replace them with:\n",
    "><br>\n",
    ">\n",
    ">```python\n",
    ">def encode(message):\n",
    ">    ...\n",
    ">    \n",
    ">    return ...\n",
    ">\n",
    ">morse_message = encode(message)\n",
    ">```\n",
    "><br>\n",
    ">where the `...` should be replaced with the code to do the conversion and the variable to be returned."
   ]
  },
  {
   "cell_type": "code",
   "execution_count": null,
   "id": "8c1f2317-e6dd-4975-8d8f-e279494e70e1",
   "metadata": {},
   "outputs": [],
   "source": [
    "# Write your exercise code here.\n"
   ]
  },
  {
   "cell_type": "markdown",
   "id": "6c19ede8-d0d1-4a27-bb7c-d83ae7d9fbfc",
   "metadata": {},
   "source": [
    "[<small>answer</small>](../solutions/morse_encode_function.ipynb)"
   ]
  },
  {
   "cell_type": "markdown",
   "id": "247956ba-bf20-4dcb-99ce-b1ef37deb61c",
   "metadata": {},
   "source": [
    "### Exercise 3\n",
    "        \n",
    "> Have a look at the documentation page for the [functions that you can call on strings](https://docs.python.org/3/library/stdtypes.html#string-methods).\n",
    ">\n",
    "> Experiment with one or two and see if you can understand the documentation. Start by trying to answer the following:\n",
    ">\n",
    "> 1. Given a string like `s = \"what is your name\"`, find a function which can split `s` into a list like `[\"what\", \"is\", \"your\", \"name\"]`\n",
    "> 2. Given a list like `[\"a\", \"b\", \"c\"]`, find a function which can join it together into a string like `\"a-b-c\"`"
   ]
  },
  {
   "cell_type": "code",
   "execution_count": null,
   "id": "a078f2e6-521e-43a0-bff2-170378470486",
   "metadata": {},
   "outputs": [],
   "source": [
    "# Write your exercise code here.\n",
    "\n"
   ]
  },
  {
   "cell_type": "markdown",
   "id": "5b95ee13-583e-4497-9f3b-18ed21497fd0",
   "metadata": {},
   "source": [
    "[<small>answer</small>](../solutions/string_methods.ipynb)"
   ]
  },
  {
   "cell_type": "markdown",
   "id": "b82c8065-84c9-4f3d-9e65-bfb0e31f7b17",
   "metadata": {
    "slideshow": {
     "slide_type": "slide"
    },
    "tags": []
   },
   "source": [
    "## [[Previous: Using functions](./02-using_functions.ipynb)] | [[Next: Modules](./04-modules.ipynb)]"
   ]
  }
 ],
 "metadata": {
  "celltoolbar": "Slideshow",
  "kernelspec": {
   "display_name": "Python 3 (ipykernel)",
   "language": "python",
   "name": "python3"
  },
  "language_info": {
   "codemirror_mode": {
    "name": "ipython",
    "version": 3
   },
   "file_extension": ".py",
   "mimetype": "text/x-python",
   "name": "python",
   "nbconvert_exporter": "python",
   "pygments_lexer": "ipython3",
   "version": "3.9.12"
  }
 },
 "nbformat": 4,
 "nbformat_minor": 5
}
