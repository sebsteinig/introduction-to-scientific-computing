{
 "cells": [
  {
   "cell_type": "markdown",
   "id": "1e8f87e0-5544-424a-87be-226096412f89",
   "metadata": {
    "rise": {
     "autolaunch": true
    },
    "slideshow": {
     "slide_type": "skip"
    }
   },
   "source": [
    "#### [[back to main](../week_02_workbook_python-basics.ipynb)]"
   ]
  },
  {
   "cell_type": "markdown",
   "id": "8ea191d1",
   "metadata": {
    "slideshow": {
     "slide_type": "skip"
    }
   },
   "source": [
    "# List comprehensions\n",
    "\n",
    "The last thing we will cover in this lecture is a little different to the other parts of this session. Rather than being a technique for making your code more easily sharable, reliable or user-friendly, it's instead a language feature which can make your life easier. Even if you might not need it initially, it is very helpful to understand the concept as you might encounter it in other people's code.\n",
    "\n",
    "There's a common pattern that you will see come up a lot in programming in general and and Python in particular and that is \"loop-append\". We've done it already in the morse code exercises. Let's look at a section of `encode` first:\n",
    "\n",
    "```python\n",
    "morse = []\n",
    "\n",
    "for letter in message:\n",
    "    letter = letter.lower()\n",
    "    morse_letter = letter_to_morse[letter]\n",
    "    morse.append(morse_letter)\n",
    "\n",
    "morse_message = \" \".join(morse)\n",
    "```\n",
    "\n",
    "The code inside the function is doing a few different things. First it creates an empty list, knowing full-well that it's about to be filled up. The next three lines then loop over some input container (`message`) and use some result of that to iteratively append to the end of `morse`.\n",
    "\n",
    "`for` loops are useful when you want to *do something* for each item in a list but what we're doing here is taking one container and *transforming* it into something new. The purpose of this code is to *create* the new container, not to *use* the old one."
   ]
  },
  {
   "cell_type": "markdown",
   "id": "ce4e27e8-4908-4a22-920f-282cfa1c6fe5",
   "metadata": {},
   "source": [
    "This is such a common pattern that Python has special built-in syntax for doing this loop-append in one go called *list comprehension*. Taking a simpler example for now of an input of a `range` function and the output being the square of the inputs:"
   ]
  },
  {
   "cell_type": "code",
   "execution_count": 1,
   "id": "14a6ffd5-e6ee-430b-a5d7-e3b6a8e5d4b1",
   "metadata": {},
   "outputs": [
    {
     "data": {
      "text/plain": [
       "[0, 1, 4, 9]"
      ]
     },
     "execution_count": 1,
     "metadata": {},
     "output_type": "execute_result"
    }
   ],
   "source": [
    "s = []\n",
    "for i in range(4):\n",
    "    s.append(i*i)\n",
    "s"
   ]
  },
  {
   "cell_type": "markdown",
   "id": "bd979d30-8493-4c74-a99f-4a69d1461ae1",
   "metadata": {},
   "source": [
    "We end up outputting $0^2$, $1^2$, $2^2$ and $3^2$. The equivalent with a list comprehension would be:"
   ]
  },
  {
   "cell_type": "code",
   "execution_count": 2,
   "id": "819eb086-59f5-4f2e-ab8b-5624ed8e7cbb",
   "metadata": {},
   "outputs": [
    {
     "data": {
      "text/plain": [
       "[0, 1, 4, 9]"
      ]
     },
     "execution_count": 2,
     "metadata": {},
     "output_type": "execute_result"
    }
   ],
   "source": [
    "[i*i for i in range(4)]"
   ]
  },
  {
   "cell_type": "markdown",
   "id": "433caf73-e689-493f-8c04-ad8b504b9d84",
   "metadata": {},
   "source": [
    "You can see that it has output exactly the same answer but with one line of code instead of four. You might recognise some familiar features in there but they're not in the usual order. Let's break it apart, step-by-step:\n",
    "\n",
    "We start with the outer square brackets. They're doing a similar thing here to when you create a normal list like `[1, 2, 3]` but in this situation, due to what's inside they work a little differently but the result is still a normal Python list:\n",
    "\n",
    "<pre>\n",
    "↓                     ↓\n",
    "<b style=\"color:darkred\">[</b>i*i for i in range(4)<b style=\"color:darkred\">]</b>\n",
    "</pre>\n",
    "\n",
    "The next part is the input for the comprehension. This syntax is taken from the normal `for` loop syntax and works in the same way. We're saying that we want to loop over `range(4)` and each time round the loop, we will use the variable `i` to refer to the current value:\n",
    "\n",
    "<pre>\n",
    "              ↓\n",
    "[i*i <b style=\"color:darkred\">for i in range(4)</b>]\n",
    "</pre>\n",
    "\n",
    "The last part is where it differs. Rather than the body of the loop going on a new line after a colon, the body goes before the `for` keyword. You can only have a single expression here, not multiple lines of code. Also, there's no need for an explicit `append` call. Whatever is written in that place will be added into the list as it is created:\n",
    "\n",
    "<pre>\n",
    "  ↓\n",
    "[<b style=\"color:darkred\">i*i</b> for i in range(4)]\n",
    "</pre>"
   ]
  },
  {
   "cell_type": "markdown",
   "id": "51e061e6-9358-4f91-8228-dc22f27e068f",
   "metadata": {},
   "source": [
    "List comprehensions are powerful because they allow you to do a lot in a single line. But this can also become an issue if you try squeeze too much in this single line and it becomes very noisy. I would suggest that you try to keep your list comprehensions not much more complicated than the example we saw above.\n"
   ]
  },
  {
   "cell_type": "markdown",
   "id": "6b96d7f4-291f-40cb-955c-1b2663a594f9",
   "metadata": {},
   "source": [
    "### Exercise 11\n",
    "> Adapt `encode` and `decode` in your `morse` module to use list comprehensions for doing the conversion. \n"
   ]
  },
  {
   "cell_type": "markdown",
   "id": "9acad85c-c667-4427-8a07-66b4151c162d",
   "metadata": {},
   "source": [
    "[<small>answer</small>](../solutions/morse_comprehension.ipynb)"
   ]
  },
  {
   "cell_type": "markdown",
   "id": "b82c8065-84c9-4f3d-9e65-bfb0e31f7b17",
   "metadata": {
    "slideshow": {
     "slide_type": "slide"
    },
    "tags": []
   },
   "source": [
    "## [[Previous: Errors and exceptions](./05-errors_and_exceptions.ipynb)] | [[Next: Summary]](./07-summary.ipynb)"
   ]
  }
 ],
 "metadata": {
  "celltoolbar": "Slideshow",
  "kernelspec": {
   "display_name": "Python 3 (ipykernel)",
   "language": "python",
   "name": "python3"
  },
  "language_info": {
   "codemirror_mode": {
    "name": "ipython",
    "version": 3
   },
   "file_extension": ".py",
   "mimetype": "text/x-python",
   "name": "python",
   "nbconvert_exporter": "python",
   "pygments_lexer": "ipython3",
   "version": "3.9.12"
  }
 },
 "nbformat": 4,
 "nbformat_minor": 5
}
