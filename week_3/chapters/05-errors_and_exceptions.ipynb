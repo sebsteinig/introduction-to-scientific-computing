{
 "cells": [
  {
   "cell_type": "markdown",
   "id": "1e8f87e0-5544-424a-87be-226096412f89",
   "metadata": {
    "rise": {
     "autolaunch": true
    },
    "slideshow": {
     "slide_type": "skip"
    }
   },
   "source": [
    "#### [[back to main](../week_03_workbook_code_structuring.ipynb)]"
   ]
  },
  {
   "cell_type": "markdown",
   "id": "8ea191d1",
   "metadata": {
    "slideshow": {
     "slide_type": "slide"
    }
   },
   "source": [
    "# Errors and Exceptions\n"
   ]
  },
  {
   "cell_type": "markdown",
   "id": "f90d2bc7",
   "metadata": {
    "slideshow": {
     "slide_type": "skip"
    }
   },
   "source": [
    "*Exceptions* are Python's error-handling system. You've probably come across exceptions as that's how Python lets you know when you've done something wrong! They're not just there to tell you off, a good error message is to tell you that the computer has got into a situation where it doesn't know what to do and is asking you, the programmer, to help it by giving more information.\n",
    "\n",
    "Let's start by considering our function from before which converts data from ounces to grams:"
   ]
  },
  {
   "cell_type": "code",
   "execution_count": 1,
   "id": "15eb269b-da7d-48af-be35-ddb097d0133b",
   "metadata": {
    "slideshow": {
     "slide_type": "slide"
    }
   },
   "outputs": [],
   "source": [
    "def ounces_to_grams(value):\n",
    "    new_value = value * 28.3495\n",
    "    return new_value"
   ]
  },
  {
   "cell_type": "code",
   "execution_count": null,
   "id": "dd10cf89-0f8f-4988-843a-aa6fe91fb80b",
   "metadata": {
    "slideshow": {
     "slide_type": "fragment"
    }
   },
   "outputs": [],
   "source": [
    "ounces_to_grams(10)"
   ]
  },
  {
   "cell_type": "markdown",
   "id": "27e0b605-1acd-403b-833f-da5a1a8d91d4",
   "metadata": {
    "slideshow": {
     "slide_type": "skip"
    }
   },
   "source": [
    "Everything is looking good in this case, so let's have a look in some more detail."
   ]
  },
  {
   "cell_type": "markdown",
   "id": "719166fa-780f-4bff-83ea-7ca3d3b51fb5",
   "metadata": {
    "slideshow": {
     "slide_type": "skip"
    }
   },
   "source": [
    "## Checking the value of data\n",
    "\n",
    "When you create a function you are creating a sort of promise. In this case, you're promising that if you call the function `ounces_to_grams` that it will \"take whatever value you passed as an argument, interpret it as a mass in ounces and return the corresponding mass in grams\". It might seem silly to write that out in full like that but it's a useful exercise to help make decisions about what the function should do in potentially unexpected situations.\n",
    "\n",
    "For example, what should happen if you passed the string `\"banana\"`? How exactly should the function \"interpret it as a mass in grams\"? You're writing the function so you get to decide the answer to that question. You could decide that it's reasonable to go and lookup the average mass of a banana in some database and return the value in ounces. It's your choice.\n",
    "\n",
    "I would suggest, however, that most users of your function would not expect that and it's more likely that it's a mistake that they've made. Good functions are easily explained and predictable and avoid guessing what the user meant. How though, can we let the person who called our function know that there is a problem?\n",
    "\n",
    "Let's look at a simpler example to demonstrate how we can write some code in our funciton to help the person calling it understand if they make a mistake. Our function converts masses and since there's no such thing as a negative mass we need to decide what will happen if someone passes in a negative value. At the moment it will just return a negative mass:"
   ]
  },
  {
   "cell_type": "code",
   "execution_count": null,
   "id": "3f3d8c36-30cc-4821-b6a0-386bf4acaafc",
   "metadata": {
    "slideshow": {
     "slide_type": "slide"
    }
   },
   "outputs": [],
   "source": [
    "ounces_to_grams(-30)"
   ]
  },
  {
   "cell_type": "markdown",
   "id": "9f80ac8b-5916-413c-b724-0251a3563747",
   "metadata": {
    "slideshow": {
     "slide_type": "skip"
    }
   },
   "source": [
    "Since we're the ones writing the function, we get to decide what happens. For the purpose of this section, we want a negative mass to be impossible so we need to add in some code to check for it.\n",
    "\n",
    "The easiest place to start is by adding an `if` statement and printing out an informative message:"
   ]
  },
  {
   "cell_type": "code",
   "execution_count": 4,
   "id": "34f27c84-a9bd-403a-88d1-6637e3a7be3c",
   "metadata": {
    "slideshow": {
     "slide_type": "skip"
    }
   },
   "outputs": [],
   "source": [
    "def ounces_to_grams(value):\n",
    "    if value < 0:\n",
    "        raise ValueError(\"Cannot convert negative mass\")\n",
    "    \n",
    "    new_value = value * 28.3495\n",
    "    return new_value"
   ]
  },
  {
   "cell_type": "code",
   "execution_count": null,
   "id": "5511f2df-68af-46ca-96ef-138bb6b61441",
   "metadata": {
    "slideshow": {
     "slide_type": "skip"
    }
   },
   "outputs": [],
   "source": [
    "ounces_to_grams(-30)"
   ]
  },
  {
   "cell_type": "markdown",
   "id": "e8d07753-98aa-45ed-9b75-0f735ef49851",
   "metadata": {
    "slideshow": {
     "slide_type": "skip"
    }
   },
   "source": [
    "We see the message printed out, but the function has gone ahead and still returned the negative mass. What we want is a way to have the function display the message and stop running:\n",
    "\n",
    "```python\n",
    "def ounces_to_grams(value):\n",
    "    if value < 0:\n",
    "        print(\"Cannot convert negative mass\")\n",
    "        # ... at this point we want to stop running the function\n",
    "    \n",
    "    new_value = value * 28.3495\n",
    "    return new_value\n",
    "```\n",
    "\n",
    "We could \"stop running the function\" at that point by `return`ing something, but _what_? If we return something like `0` or `-1` to designate the failure mode, then the person calling the function could quite easily carry on without noticing, assuming that it's a valid mass."
   ]
  },
  {
   "cell_type": "markdown",
   "id": "971baeb8-f51e-47d1-b9b5-c191488693ea",
   "metadata": {
    "slideshow": {
     "slide_type": "skip"
    }
   },
   "source": [
    "## Raising exceptions\n",
    "\n",
    "Python solves this by allowing us to raise *exceptions*. An exception is an error message which the person calling the code *cannot* ignore which is useful as it helps prevent them write incorrect code.\n",
    "\n",
    "We can replace our `print` function call with the `raise` statement which we follow with the type of error we are notifying the user about.\n",
    "\n",
    "A list of all Python exception types is [here](http://docs.python.org/library/exceptions.html). It is important to choose the correct exception type for the error you're reporting. In our case, there is a problem with the value that the user is passing into our function, so I have chosen [`ValueError`](https://docs.python.org/3/library/exceptions.html#ValueError):"
   ]
  },
  {
   "cell_type": "code",
   "execution_count": 6,
   "id": "50254177-2090-4699-b0c7-befc1af57af4",
   "metadata": {
    "slideshow": {
     "slide_type": "skip"
    }
   },
   "outputs": [],
   "source": [
    "def ounces_to_grams(value):\n",
    "    if value < 0:\n",
    "        raise ValueError(\"Cannot convert negative mass\")\n",
    "    \n",
    "    new_value = value * 28.3495\n",
    "    return new_value"
   ]
  },
  {
   "cell_type": "markdown",
   "id": "b0512000-02f9-4b72-be24-a513b60290dc",
   "metadata": {
    "slideshow": {
     "slide_type": "skip"
    }
   },
   "source": [
    "Now when we run our code, it will display the error:"
   ]
  },
  {
   "cell_type": "code",
   "execution_count": 7,
   "id": "d3758114-c3ad-416f-b837-9526e410f7f7",
   "metadata": {
    "slideshow": {
     "slide_type": "skip"
    }
   },
   "outputs": [
    {
     "ename": "ValueError",
     "evalue": "Cannot convert negative mass",
     "output_type": "error",
     "traceback": [
      "\u001b[0;31m---------------------------------------------------------------------------\u001b[0m",
      "\u001b[0;31mValueError\u001b[0m                                Traceback (most recent call last)",
      "Input \u001b[0;32mIn [7]\u001b[0m, in \u001b[0;36m<cell line: 1>\u001b[0;34m()\u001b[0m\n\u001b[0;32m----> 1\u001b[0m \u001b[43mounces_to_grams\u001b[49m\u001b[43m(\u001b[49m\u001b[38;5;241;43m-\u001b[39;49m\u001b[38;5;241;43m30\u001b[39;49m\u001b[43m)\u001b[49m\n",
      "Input \u001b[0;32mIn [6]\u001b[0m, in \u001b[0;36mounces_to_grams\u001b[0;34m(value)\u001b[0m\n\u001b[1;32m      1\u001b[0m \u001b[38;5;28;01mdef\u001b[39;00m \u001b[38;5;21mounces_to_grams\u001b[39m(value):\n\u001b[1;32m      2\u001b[0m     \u001b[38;5;28;01mif\u001b[39;00m value \u001b[38;5;241m<\u001b[39m \u001b[38;5;241m0\u001b[39m:\n\u001b[0;32m----> 3\u001b[0m         \u001b[38;5;28;01mraise\u001b[39;00m \u001b[38;5;167;01mValueError\u001b[39;00m(\u001b[38;5;124m\"\u001b[39m\u001b[38;5;124mCannot convert negative mass\u001b[39m\u001b[38;5;124m\"\u001b[39m)\n\u001b[1;32m      5\u001b[0m     new_value \u001b[38;5;241m=\u001b[39m value \u001b[38;5;241m*\u001b[39m \u001b[38;5;241m28.3495\u001b[39m\n\u001b[1;32m      6\u001b[0m     \u001b[38;5;28;01mreturn\u001b[39;00m new_value\n",
      "\u001b[0;31mValueError\u001b[0m: Cannot convert negative mass"
     ]
    }
   ],
   "source": [
    "ounces_to_grams(-30)"
   ]
  },
  {
   "cell_type": "markdown",
   "id": "70b312b7-5d31-4227-abc6-7b673f3cbac7",
   "metadata": {
    "slideshow": {
     "slide_type": "skip"
    }
   },
   "source": [
    "Notice that the result of the function has not been displayed. This is because Python will stop running the code in the cell or script once an exception is raised. To prove this, see what happens if you print something after the function:"
   ]
  },
  {
   "cell_type": "code",
   "execution_count": 8,
   "id": "830cbff9-d6b1-48ab-a4ce-84033e705c9d",
   "metadata": {
    "slideshow": {
     "slide_type": "skip"
    }
   },
   "outputs": [
    {
     "ename": "ValueError",
     "evalue": "Cannot convert negative mass",
     "output_type": "error",
     "traceback": [
      "\u001b[0;31m---------------------------------------------------------------------------\u001b[0m",
      "\u001b[0;31mValueError\u001b[0m                                Traceback (most recent call last)",
      "Input \u001b[0;32mIn [8]\u001b[0m, in \u001b[0;36m<cell line: 1>\u001b[0;34m()\u001b[0m\n\u001b[0;32m----> 1\u001b[0m mass_g \u001b[38;5;241m=\u001b[39m \u001b[43mounces_to_grams\u001b[49m\u001b[43m(\u001b[49m\u001b[38;5;241;43m-\u001b[39;49m\u001b[38;5;241;43m30\u001b[39;49m\u001b[43m)\u001b[49m\n\u001b[1;32m      2\u001b[0m \u001b[38;5;28mprint\u001b[39m(\u001b[38;5;124mf\u001b[39m\u001b[38;5;124m\"\u001b[39m\u001b[38;5;124mthis will never be printed\u001b[39m\u001b[38;5;124m\"\u001b[39m)\n\u001b[1;32m      3\u001b[0m \u001b[38;5;28mprint\u001b[39m(mass_g)\n",
      "Input \u001b[0;32mIn [6]\u001b[0m, in \u001b[0;36mounces_to_grams\u001b[0;34m(value)\u001b[0m\n\u001b[1;32m      1\u001b[0m \u001b[38;5;28;01mdef\u001b[39;00m \u001b[38;5;21mounces_to_grams\u001b[39m(value):\n\u001b[1;32m      2\u001b[0m     \u001b[38;5;28;01mif\u001b[39;00m value \u001b[38;5;241m<\u001b[39m \u001b[38;5;241m0\u001b[39m:\n\u001b[0;32m----> 3\u001b[0m         \u001b[38;5;28;01mraise\u001b[39;00m \u001b[38;5;167;01mValueError\u001b[39;00m(\u001b[38;5;124m\"\u001b[39m\u001b[38;5;124mCannot convert negative mass\u001b[39m\u001b[38;5;124m\"\u001b[39m)\n\u001b[1;32m      5\u001b[0m     new_value \u001b[38;5;241m=\u001b[39m value \u001b[38;5;241m*\u001b[39m \u001b[38;5;241m28.3495\u001b[39m\n\u001b[1;32m      6\u001b[0m     \u001b[38;5;28;01mreturn\u001b[39;00m new_value\n",
      "\u001b[0;31mValueError\u001b[0m: Cannot convert negative mass"
     ]
    }
   ],
   "source": [
    "mass_g = ounces_to_grams(-30)\n",
    "print(f\"this will never be printed\")\n",
    "print(mass_g)"
   ]
  },
  {
   "cell_type": "markdown",
   "id": "1d47d919-6509-4554-bc6e-57b093c54ea5",
   "metadata": {
    "slideshow": {
     "slide_type": "skip"
    }
   },
   "source": [
    "This means that we cannot accidentally ignore the error and use the erroneous value.\n",
    "\n",
    "You've almost certainly seen error message like this crop up when writing your own code. Hopefully, now that you know how to create them yourself, they've become a little less scary!"
   ]
  },
  {
   "cell_type": "markdown",
   "id": "5bec5728-ea21-41f3-889b-1979c5a4a646",
   "metadata": {
    "slideshow": {
     "slide_type": "slide"
    }
   },
   "source": [
    "### Exercise 10\n",
    "> If we give our Morse code functions a string that contains characters which can't be converted, e.g. `\"hi!\"`, `\"m'aidez\"` or `\"😀🐍\"` then we expect it to result in an error.\n",
    ">\n",
    "> Add a check to the start of your `encode` function in your `morse` module to raise an exception if the passed `message` is not valid. At this point, don't worry about writing a check that's perfect, just think of *one thing* that you would check for and raise an exception if you see that. Start with some code that looks something like:\n",
    ">\n",
    ">```python\n",
    ">if ... message ...:\n",
    ">    raise ...\n",
    ">```\n",
    "><br>\n",
    "> You'll also need to choose an appropriate exception type to raise. Take a look at the \n",
    ">\n",
    "> [documentation](https://docs.python.org/3/library/exceptions.html) and find the exception which makes sense if an incorrect value is passed in.\n"
   ]
  },
  {
   "cell_type": "markdown",
   "id": "168edd42-d109-4a33-8bc6-27e7e5bd31d3",
   "metadata": {
    "slideshow": {
     "slide_type": "skip"
    }
   },
   "source": [
    "[<small>answer</small>](../solutions/morse_raise.ipynb)"
   ]
  },
  {
   "cell_type": "markdown",
   "id": "b82c8065-84c9-4f3d-9e65-bfb0e31f7b17",
   "metadata": {
    "slideshow": {
     "slide_type": "slide"
    },
    "tags": []
   },
   "source": [
    "## [[Previous: Modules](./04-modules.ipynb)] | [[Next: List comprehensions](./06-list_comprehensions.ipynb)]"
   ]
  }
 ],
 "metadata": {
  "celltoolbar": "Slideshow",
  "kernelspec": {
   "display_name": "Python 3 (ipykernel)",
   "language": "python",
   "name": "python3"
  },
  "language_info": {
   "codemirror_mode": {
    "name": "ipython",
    "version": 3
   },
   "file_extension": ".py",
   "mimetype": "text/x-python",
   "name": "python",
   "nbconvert_exporter": "python",
   "pygments_lexer": "ipython3",
   "version": "3.9.12"
  }
 },
 "nbformat": 4,
 "nbformat_minor": 5
}
