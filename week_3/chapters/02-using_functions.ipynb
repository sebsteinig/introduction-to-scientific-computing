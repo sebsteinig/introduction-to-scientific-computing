{
 "cells": [
  {
   "cell_type": "markdown",
   "id": "1e8f87e0-5544-424a-87be-226096412f89",
   "metadata": {
    "rise": {
     "autolaunch": true
    },
    "slideshow": {
     "slide_type": "skip"
    }
   },
   "source": [
    "#### [[back to main](../week_02_workbook_python-basics.ipynb)]"
   ]
  },
  {
   "cell_type": "markdown",
   "id": "8ea191d1",
   "metadata": {
    "slideshow": {
     "slide_type": "skip"
    }
   },
   "source": [
    "# Using functions"
   ]
  },
  {
   "cell_type": "markdown",
   "id": "0548d75b-9581-4d58-837d-f189d94a8d0d",
   "metadata": {},
   "source": [
    "You're likely already comfortable with calling functions in Python. One of the first things we actually did with Python was learning how to `print()` something. Since then, you've come across a larger number of other ways of calling functions which are similar, but work slightly differently.\n",
    "\n",
    "In this section we're going to explore how Python works in these situations and how you can understand what's going on."
   ]
  },
  {
   "cell_type": "markdown",
   "id": "664e2524-2aad-4513-90e9-2673276024a4",
   "metadata": {},
   "source": [
    "In terms of *calling* functions, you have seen:\n",
    "\n",
    "- free functions like `print()` and `range()`\n",
    "- functions on objects (also called \"methods\") like `my_list.append()` and `my_str.split()`\n",
    "\n",
    "but you will also have written things like the following in your code:\n",
    "\n",
    "- data *literals* like `10`, `\"hello\"` and `[1, 2]`\n",
    "- *syntax* like `for house in town:` and `if height > 10:`"
   ]
  },
  {
   "cell_type": "markdown",
   "id": "cfc40a4b-4978-4da8-87c4-f8aa96573b52",
   "metadata": {
    "tags": []
   },
   "source": [
    "## Using the documentation\n",
    "So far you have learned these topics by following instructions or working through the provided exercises. And you might have wondered how you can learn about all the possibilities that Python has to offer and find even more helpful functions on your own. There is a central, official place where all the details of how these things work is written down so let's have an explore.\n",
    "\n",
    "Go to https://docs.python.org\n",
    "\n",
    "There are a lot of different sections linked from that page, but the two most important links for us are:\n",
    "1. The \"Language Reference\" (https://docs.python.org/3/reference/) which details all the in-built features of the language. It's quite technical and not the place you'd normally go to learn as a beginner. This covers our \"literals\" and \"syntax\" from above.\n",
    "2. The \"Library Reference\" (https://docs.python.org/3/library/) which covers all of the extra functions, classes and modules that Python provides. This is where we find all the cool stuff."
   ]
  },
  {
   "cell_type": "markdown",
   "id": "f3abcac2-9cb6-41fa-a41e-34a076fa629a",
   "metadata": {},
   "source": [
    "## Built-in functions\n",
    "\n",
    "Python comes with a bunch of functionality that you can use without having to explicitly enable anything. This includes things like integers, strings, lists, `print()`ing, file `open()`ing etc.\n",
    "\n",
    "First, lets have a peek at the \"built-in functions\". There is a page describing these under the \"Library Reference\" in a page called [Built-in Functions](https://docs.python.org/3/library/functions.html).\n",
    "\n",
    "Here we find the documentation for many of the functions we've already been using, for example [`print()`](https://docs.python.org/3/library/functions.html#print) and [`int()`](https://docs.python.org/3/library/functions.html#int).\n",
    "\n",
    "It is worth, over time, becoming familiar with the various functions that are available here. Some are quite useful for everyday work and some are more niche."
   ]
  },
  {
   "cell_type": "markdown",
   "id": "87b16969-e81f-466f-8516-1e4fc63276d9",
   "metadata": {},
   "source": [
    "### Exercise 2\n",
    "        \n",
    "> Replace the `...` in the code cell below with a call to a built-in function which will read input from the person running the script. Search through the [built-in functions page](https://docs.python.org/3/library/functions.html) to find an appropriate function.\n",
    ">The script should, when run with Shift+Enter, then print out:\n",
    ">\n",
    ">```\n",
    ">Please tell me your name: \n",
    ">```\n",
    ">\n",
    "><br>and wait for you to type your name like:\n",
    ">\n",
    ">```\n",
    ">Please tell me your name: Matt\n",
    ">```\n",
    ">\n",
    "><br>After pressing enter, it should then print out:\n",
    ">\n",
    ">```\n",
    ">Please tell me your name: Matt\n",
    ">Hello Matt!\n",
    ">```\n",
    "        "
   ]
  },
  {
   "cell_type": "code",
   "execution_count": 5,
   "id": "7b8b5bde-5d43-49be-8667-d957cb465bfc",
   "metadata": {},
   "outputs": [
    {
     "name": "stdout",
     "output_type": "stream",
     "text": [
      "Hello ...!\n"
     ]
    }
   ],
   "source": [
    "# Write your exercise code here.\n",
    "my_name = \"...\"\n",
    "\n",
    "print(f\"Hello {my_name}!\")"
   ]
  },
  {
   "cell_type": "markdown",
   "id": "ce3c607a-7fb9-4b1b-9714-5388f57521f5",
   "metadata": {},
   "source": [
    "[<small>answer</small>](../solutions/hello_name.ipynb)"
   ]
  },
  {
   "cell_type": "markdown",
   "id": "2f3c3418-15d4-421c-a46f-18740e4e9b68",
   "metadata": {},
   "source": [
    "## Built-in types\n",
    "\n",
    "As well as the free-standing built-in functions, Python has a bunch of built-in *data types*. This includes the data types you've already been using like integers, strings and lists. The details of them all are under the \"Library Reference\" on a page called [Built-in Types](https://docs.python.org/3/library/stdtypes.html).\n",
    "\n",
    "These types being built-in means that you don't need to explicitly enable their use and most have core-language syntax to create them.\n",
    "\n",
    "For example, the code"
   ]
  },
  {
   "cell_type": "code",
   "execution_count": 6,
   "id": "4d15bbe4-76de-4b30-a4ca-c8be22827bc0",
   "metadata": {},
   "outputs": [],
   "source": [
    "animal = \"horse\""
   ]
  },
  {
   "cell_type": "markdown",
   "id": "c8127381-dce4-4d44-aaf8-a9afa35715d3",
   "metadata": {},
   "source": [
    "creates a variable called `animal` from the string literal `\"horse\"` which is of the type `str`. This data type is built into the language and so the functionality that it has is documented on the [built-in types page under `str`](https://docs.python.org/3/library/stdtypes.html#text-sequence-type-str).\n",
    "\n",
    "This means that when we do:"
   ]
  },
  {
   "cell_type": "code",
   "execution_count": 7,
   "id": "e0e5997b-0ae9-4f4b-8100-d57884656fd1",
   "metadata": {},
   "outputs": [
    {
     "data": {
      "text/plain": [
       "'Horse'"
      ]
     },
     "execution_count": 7,
     "metadata": {},
     "output_type": "execute_result"
    }
   ],
   "source": [
    "animal.capitalize()"
   ]
  },
  {
   "cell_type": "markdown",
   "id": "e40f26cf-f5c2-412f-aeb6-00ab72c1dca3",
   "metadata": {},
   "source": [
    "it is looking at the data type of the variable `animal`, seeing that it is a `str` and then using the `capitalize` function that's available for that type to do the work."
   ]
  },
  {
   "cell_type": "markdown",
   "id": "a03455e4-cf26-40dc-bcbe-4ebfeb28213c",
   "metadata": {},
   "source": [
    "The documentation for all the built-in types is all on that page so it's the place to go to check what you can do with a `str`, an `int`, a `list` or a `dict`. There's also a few other built-in types you might want to look into in the future such as `complex`, `set` and `tuple`."
   ]
  },
  {
   "cell_type": "markdown",
   "id": "247956ba-bf20-4dcb-99ce-b1ef37deb61c",
   "metadata": {},
   "source": [
    "### Exercise 3\n",
    "        \n",
    "> Have a look at the documentation page for the [functions that you can call on strings](https://docs.python.org/3/library/stdtypes.html#string-methods).\n",
    ">\n",
    "> Experiment with one or two and see if you can understand the documentation. Start by trying to answer the following:\n",
    ">\n",
    "> 1. Given a string like `s = \"what is your name\"`, find a function which can split `s` into a list like `[\"what\", \"is\", \"your\", \"name\"]`\n",
    "> 2. Given a list like `[\"a\", \"b\", \"c\"]`, find a function which can join it together into a string like `\"a-b-c\"`"
   ]
  },
  {
   "cell_type": "code",
   "execution_count": 9,
   "id": "a078f2e6-521e-43a0-bff2-170378470486",
   "metadata": {},
   "outputs": [],
   "source": [
    "# Write your exercise code here.\n",
    "\n"
   ]
  },
  {
   "cell_type": "markdown",
   "id": "5b95ee13-583e-4497-9f3b-18ed21497fd0",
   "metadata": {},
   "source": [
    "[<small>answer</small>](../solutions/string_methods.ipynb)"
   ]
  },
  {
   "cell_type": "markdown",
   "id": "99289c96-3fd4-4eeb-a1e6-131f6742e392",
   "metadata": {},
   "source": [
    "## Importing functions from modules\n",
    "\n",
    "While there are a good number of built-in functions and types, and you can go a long way without needing anything more, they are ultimately limited. Luckily, Python has a \"batteries included\" philosophy and provides a lot of additional functionality in its \"standard library\".\n",
    "\n",
    "The functionality provided by the standard library is provided in a series of *modules*, each of which serves a particular purpose. The things in the standard library are always installed in any version of Python you have and you can rely on them being there.\n",
    "\n",
    "Note that even though they are always accessible, they do not count as \"built-in\" as in Python terms, that means something which you can use without having to access any extra modules."
   ]
  },
  {
   "cell_type": "markdown",
   "id": "10eb9555-061c-41ae-8eb9-210a6a56ae9e",
   "metadata": {},
   "source": [
    "### The `math` module\n",
    "\n",
    "Let's starimport matht by looking at one of the modules. On the [Standard Library](https://docs.python.org/3/library/) page, if you scroll past the \"built-in\" sections you'll find a set of groups of modules. There are about 200 modules in total, some very useful and some very niche.\n",
    "\n",
    "If you carry on down the page you'll see, \"[`math` — Mathematical functions](https://docs.python.org/3/library/math.html)\" which is where we are going to look first.\n",
    "\n",
    "This module provides a bunch of mathematical tools such as averages, trigonometry etc.\n",
    "\n",
    "You can get access to the module by *importing* it by name:"
   ]
  },
  {
   "cell_type": "code",
   "execution_count": 11,
   "id": "2ce14582-d14d-476c-8fd1-7eb713d445bd",
   "metadata": {},
   "outputs": [],
   "source": [
    "import math"
   ]
  },
  {
   "cell_type": "markdown",
   "id": "16dcb25d-e622-4d64-be02-47382a912e73",
   "metadata": {},
   "source": [
    "Once it is imported, you can use any of the functions inside it by typing the name of the module, followed by a dot, followed by the name of the function. So to call the [square root function](https://docs.python.org/3/library/math.html#math.sqrt) you would do:"
   ]
  },
  {
   "cell_type": "code",
   "execution_count": 12,
   "id": "76e0dcb3-9a65-4c77-8042-a08b404ad8f7",
   "metadata": {},
   "outputs": [
    {
     "data": {
      "text/plain": [
       "5.0"
      ]
     },
     "execution_count": 12,
     "metadata": {},
     "output_type": "execute_result"
    }
   ],
   "source": [
    "math.sqrt(25)"
   ]
  },
  {
   "cell_type": "markdown",
   "id": "2356f712-61ad-41d2-9776-1926e5c043c3",
   "metadata": {},
   "source": [
    "You can think of this as saying \"from the `math` module that I've just imported, get the `sqrt` function inside it and call it\"."
   ]
  },
  {
   "cell_type": "markdown",
   "id": "2240bdad-7ca6-460c-ad0c-24608c57923f",
   "metadata": {},
   "source": [
    "If you want to grab a specific function out of a module so that you can call it without specifying the module name, you can do:"
   ]
  },
  {
   "cell_type": "code",
   "execution_count": 14,
   "id": "ce13c8a8-4a24-4a9d-b143-dcb7f7bf5b52",
   "metadata": {},
   "outputs": [
    {
     "data": {
      "text/plain": [
       "5.0"
      ]
     },
     "execution_count": 14,
     "metadata": {},
     "output_type": "execute_result"
    }
   ],
   "source": [
    "from math import sqrt\n",
    "\n",
    "sqrt(25)"
   ]
  },
  {
   "cell_type": "markdown",
   "id": "9565d295-9344-4aa6-8567-33687bdbef1e",
   "metadata": {},
   "source": [
    "We've seen two examples of places where dot `.` is used when calling functions in Python:\n",
    "\n",
    "1. calling a method on a variable like with `my_list.append()` or `my_string.split()`,\n",
    "2. calling a function from an imported module like `math.sqrt()`.\n",
    "\n",
    "In both these cases the dot is doing a very similar job. It's saying \"look inside the thing on the left of the dot for a thing called ...\". In some cases, it's looking inside a data type, and in other it's looking inside a module."
   ]
  },
  {
   "cell_type": "markdown",
   "id": "e50f70c0-5123-4874-9a2f-c50af3f16cfb",
   "metadata": {},
   "source": [
    "### Exercise 4\n",
    "        \n",
    "> For a lot of the exercises this week, we are going to be working on some Python code which converts to and from [Morse Code](https://simple.wikipedia.org/wiki/Morse_code). In each section we will add or change the code so make sure that you don't skip any exercises.\n",
    ">1. Copy the following code into the exercise cell below and make sure that it is working\n",
    ">\n",
    ">  ```python\n",
    ">  letter_to_morse = {\n",
    ">      'a':'.-', 'b':'-...', 'c':'-.-.', 'd':'-..', 'e':'.', 'f':'..-.', \n",
    ">      'g':'--.', 'h':'....', 'i':'..', 'j':'.---', 'k':'-.-', 'l':'.-..', 'm':'--', \n",
    ">      'n':'-.', 'o':'---', 'p':'.--.', 'q':'--.-', 'r':'.-.', 's':'...', 't':'-',\n",
    ">      'u':'..-', 'v':'...-', 'w':'.--', 'x':'-..-', 'y':'-.--', 'z':'--..',\n",
    ">      '0':'-----', '1':'.----', '2':'..---', '3':'...--', '4':'....-',\n",
    ">      '5':'.....', '6':'-....', '7':'--...', '8':'---..', '9':'----.', ' ':'/'\n",
    ">  }\n",
    ">\n",
    ">  message = \"please help\"\n",
    ">\n",
    ">  # `morse` is a list which will eventually contain the \n",
    ">  # strings for each morse code letter in the message.\n",
    ">  morse = []\n",
    ">\n",
    ">  for letter in message:\n",
    ">      morse_letter = letter_to_morse[letter]\n",
    ">      morse.append(morse_letter)\n",
    ">\n",
    ">  # We need to join together Morse code letters with spaces\n",
    ">  morse_message = \" \".join(morse)\n",
    ">  \n",
    ">  print(f\"Incoming message: {message}\")\n",
    ">  print(f\"   Morse encoded: {morse_message}\")\n",
    ">  ```\n",
    "> 2. Change the message string to use both upper and lower case letters, e.g.:\n",
    ">\n",
    ">  ```python\n",
    ">  message = \"SOS We have hit an iceberg and need help quickly\"\n",
    ">  ```\n",
    ">\n",
    "> 3. When you now run the code you will find that it gives you a `KeyError`. This is because it is looking for an upper case \"S\" in the dictionary `letter_to_morse` and not finding one (dictionary keys are case-sensitive).\n",
    "> 4. Read through the documentation for the [string methods](https://docs.python.org/3/library/stdtypes.html#string-methods) to find one that might help convert the letter you have into one that matches the keys in the dictionary. You should be able to add a single line of code in the loop straight after `for letter in message:`."
   ]
  },
  {
   "cell_type": "code",
   "execution_count": 21,
   "id": "9860e7a8-5355-4272-9e29-8f11960cc800",
   "metadata": {},
   "outputs": [],
   "source": [
    "# Write your exercise code here.\n"
   ]
  },
  {
   "cell_type": "markdown",
   "id": "f16fafbe-ec2c-47ec-a217-843ab6599d8d",
   "metadata": {},
   "source": [
    "[<small>answer</small>](../solutions/morse_case.ipynb)"
   ]
  },
  {
   "cell_type": "markdown",
   "id": "b82c8065-84c9-4f3d-9e65-bfb0e31f7b17",
   "metadata": {
    "slideshow": {
     "slide_type": "slide"
    },
    "tags": []
   },
   "source": [
    "## [[Previous: String Formatting](./01-string_formatting.ipynb)] | [[Next: Writing functions](./03-writing_functions.ipynb)]"
   ]
  },
  {
   "cell_type": "code",
   "execution_count": null,
   "id": "84f8b70d-178f-45c5-944e-56b94f68a3c8",
   "metadata": {},
   "outputs": [],
   "source": []
  }
 ],
 "metadata": {
  "celltoolbar": "Slideshow",
  "kernelspec": {
   "display_name": "Python 3 (ipykernel)",
   "language": "python",
   "name": "python3"
  },
  "language_info": {
   "codemirror_mode": {
    "name": "ipython",
    "version": 3
   },
   "file_extension": ".py",
   "mimetype": "text/x-python",
   "name": "python",
   "nbconvert_exporter": "python",
   "pygments_lexer": "ipython3",
   "version": "3.9.12"
  }
 },
 "nbformat": 4,
 "nbformat_minor": 5
}
