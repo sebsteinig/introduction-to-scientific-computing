{
 "cells": [
  {
   "cell_type": "markdown",
   "id": "1e8f87e0-5544-424a-87be-226096412f89",
   "metadata": {
    "rise": {
     "autolaunch": true
    },
    "slideshow": {
     "slide_type": "skip"
    }
   },
   "source": [
    "#### [[back to main](../week_02_workbook_python-basics.ipynb)]"
   ]
  },
  {
   "cell_type": "markdown",
   "id": "8ea191d1",
   "metadata": {
    "slideshow": {
     "slide_type": "skip"
    }
   },
   "source": [
    "# Modules\n",
    "\n",
    "In the last chapter we saw how we can take sections of code and make them reusable in different contexts without having to copy and paste the code. By using functions we give the code block a name and define what it needs in order to do its job.\n",
    "\n",
    "Functions are a step in the right direction but they still have the problem that to use functions from one script in another you'll have to copy and paste them over. The answer to this is to move the functions to a common location which both scripts can access. The Python solution for this is *modules*. Just like we used modules from the Python standard library earlier, we can create our own modules too.\n",
    "\n",
    "Taking the example of the `ounces_to_grams` function from the last chapter, let's move that function into a module of its own. I created a file called `convert.py` and put the `ounces_to_grams` function into it:"
   ]
  },
  {
   "cell_type": "code",
   "execution_count": 1,
   "id": "15eb269b-da7d-48af-be35-ddb097d0133b",
   "metadata": {},
   "outputs": [],
   "source": [
    "def ounces_to_grams(weight):\n",
    "    new_weight = weight * 28.3495\n",
    "    return new_weight"
   ]
  },
  {
   "cell_type": "markdown",
   "id": "aab581d6-2c5a-459a-bc5e-e6be4ff81767",
   "metadata": {},
   "source": [
    "We can then use this module with:"
   ]
  },
  {
   "cell_type": "code",
   "execution_count": 1,
   "id": "e5526e52-fb81-4397-9bfc-41849064ad93",
   "metadata": {},
   "outputs": [
    {
     "data": {
      "text/plain": [
       "283.495"
      ]
     },
     "execution_count": 1,
     "metadata": {},
     "output_type": "execute_result"
    }
   ],
   "source": [
    "import convert\n",
    "\n",
    "convert.ounces_to_grams(10)"
   ]
  },
  {
   "cell_type": "markdown",
   "id": "ed2b9782-fca8-40ff-bcc7-460ef6917f61",
   "metadata": {},
   "source": [
    "Here we have done a few things. First, on the first line we have *imported* our module. This is Python's way of getting access to code which is inside other modules. You write the keyword `import` followed by a space and then the name of the module you want to import. You'll notice that the way we do this is identical to when we were importing `math` etc. earlier.\n",
    "\n",
    "The name of a module is the same as the name of the file but without the `.py` extension. So, since we saved our *file* above as `convert.py`, the name of the *module* is `convert`.\n",
    "\n",
    "<small>Note: The Python Notebook remembers the contents of a module the first time you import it so if you make any changes after that, even if you save the file and run `import` again, they won't show up. To make the changes available, you will need to restart the Notebook Kernel. You can do this by using the menu bar under \"Kernel -> Restart Kernel...\".</small>\n",
    "\n",
    "A module in Python is just a text file with Python code in it. All scripts *can* be imported as modules but it makes sense to logically separate in your mind between \"library\" modules and \"script\" modules. Library modules are those which you import to get access to the code inside them. Script modules are those which you run at the terminal using `python script.py`."
   ]
  },
  {
   "cell_type": "code",
   "execution_count": null,
   "id": "b4be4099-8ed0-40fd-9db9-b3ffba43cfb1",
   "metadata": {},
   "outputs": [],
   "source": []
  },
  {
   "cell_type": "code",
   "execution_count": null,
   "id": "e51cc82a-9077-450b-8a40-627c94208ae5",
   "metadata": {},
   "outputs": [],
   "source": []
  },
  {
   "cell_type": "code",
   "execution_count": null,
   "id": "050f9789-e566-429c-942a-cdff1d9faadc",
   "metadata": {},
   "outputs": [],
   "source": []
  },
  {
   "cell_type": "code",
   "execution_count": null,
   "id": "f6173264-41e9-45f8-9a5b-0272ca2771ed",
   "metadata": {},
   "outputs": [],
   "source": []
  },
  {
   "cell_type": "code",
   "execution_count": null,
   "id": "3f5b797b-8de3-452b-bd77-b4fe6b394d05",
   "metadata": {},
   "outputs": [],
   "source": []
  },
  {
   "cell_type": "code",
   "execution_count": null,
   "id": "327378d0-c087-48e1-870a-7a0839eb60e0",
   "metadata": {},
   "outputs": [],
   "source": []
  },
  {
   "cell_type": "code",
   "execution_count": null,
   "id": "a96d64a0-4eee-44d0-98cb-5456436a0e79",
   "metadata": {},
   "outputs": [],
   "source": []
  },
  {
   "cell_type": "code",
   "execution_count": null,
   "id": "60b8edc1-79d4-45c3-a959-2764fa2e8dff",
   "metadata": {},
   "outputs": [],
   "source": []
  },
  {
   "cell_type": "markdown",
   "id": "b82c8065-84c9-4f3d-9e65-bfb0e31f7b17",
   "metadata": {
    "slideshow": {
     "slide_type": "slide"
    },
    "tags": []
   },
   "source": [
    "## [[Previous: Using functions](./02-using_functions.ipynb)] | [[Next: Modules](./04-modules.ipynb)]"
   ]
  }
 ],
 "metadata": {
  "celltoolbar": "Slideshow",
  "kernelspec": {
   "display_name": "Python 3 (ipykernel)",
   "language": "python",
   "name": "python3"
  },
  "language_info": {
   "codemirror_mode": {
    "name": "ipython",
    "version": 3
   },
   "file_extension": ".py",
   "mimetype": "text/x-python",
   "name": "python",
   "nbconvert_exporter": "python",
   "pygments_lexer": "ipython3",
   "version": "3.9.12"
  }
 },
 "nbformat": 4,
 "nbformat_minor": 5
}
