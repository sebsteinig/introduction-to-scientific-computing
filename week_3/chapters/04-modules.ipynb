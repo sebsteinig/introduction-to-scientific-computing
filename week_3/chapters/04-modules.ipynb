{
 "cells": [
  {
   "cell_type": "markdown",
   "id": "1e8f87e0-5544-424a-87be-226096412f89",
   "metadata": {
    "rise": {
     "autolaunch": true
    },
    "slideshow": {
     "slide_type": "skip"
    }
   },
   "source": [
    "#### [[back to main](../week_03_workbook_code_structuring.ipynb)]"
   ]
  },
  {
   "cell_type": "markdown",
   "id": "8ea191d1",
   "metadata": {
    "slideshow": {
     "slide_type": "slide"
    }
   },
   "source": [
    "# Modules\n"
   ]
  },
  {
   "cell_type": "markdown",
   "id": "1fd54991",
   "metadata": {
    "slideshow": {
     "slide_type": "fragment"
    }
   },
   "source": [
    "In the last chapter we saw how we can take sections of code and make them reusable in different contexts without having to copy and paste the code. By using functions we give the code block a name and define what it needs in order to do its job."
   ]
  },
  {
   "cell_type": "markdown",
   "id": "90f795ee",
   "metadata": {
    "slideshow": {
     "slide_type": "fragment"
    }
   },
   "source": [
    "Functions are a step in the right direction but they still have the problem that to use functions from one script in another you'll have to copy and paste them over. The answer to this is to move the functions to a common location which both scripts can access. The Python solution for this is *modules*. Just like we used modules from the Python standard library earlier, we can create our own modules| too."
   ]
  },
  {
   "cell_type": "markdown",
   "id": "3f064e70",
   "metadata": {
    "slideshow": {
     "slide_type": "slide"
    }
   },
   "source": [
    "Taking the example of the `ounces_to_grams` function from the last chapter, let's move that function into a module of its own. We create a file called `convert.py` and put the `ounces_to_grams` function into it:"
   ]
  },
  {
   "cell_type": "code",
   "execution_count": 1,
   "id": "15eb269b-da7d-48af-be35-ddb097d0133b",
   "metadata": {
    "slideshow": {
     "slide_type": "fragment"
    }
   },
   "outputs": [],
   "source": [
    "def ounces_to_grams(weight):\n",
    "    new_weight = weight * 28.3495\n",
    "    return new_weight"
   ]
  },
  {
   "cell_type": "markdown",
   "id": "aab581d6-2c5a-459a-bc5e-e6be4ff81767",
   "metadata": {
    "slideshow": {
     "slide_type": "skip"
    }
   },
   "source": [
    "We can then use this module with:"
   ]
  },
  {
   "cell_type": "code",
   "execution_count": null,
   "id": "e5526e52-fb81-4397-9bfc-41849064ad93",
   "metadata": {
    "slideshow": {
     "slide_type": "fragment"
    }
   },
   "outputs": [],
   "source": [
    "import convert\n",
    "\n",
    "convert.ounces_to_grams(10)"
   ]
  },
  {
   "cell_type": "markdown",
   "id": "ed2b9782-fca8-40ff-bcc7-460ef6917f61",
   "metadata": {
    "slideshow": {
     "slide_type": "skip"
    }
   },
   "source": [
    "Here we have done a few things. First, on the first line we have *imported* our module. This is Python's way of getting access to code which is inside other modules. You write the keyword `import` followed by a space and then the name of the module you want to import. You'll notice that the way we do this is identical to when we were importing `math` etc. earlier.\n",
    "\n",
    "The name of a module is the same as the name of the file but without the `.py` extension. So, since we saved our *file* above as `convert.py`, the name of the *module* is `convert`.\n",
    "\n",
    "<small>Note: The Python Notebook remembers the contents of a module the first time you import it so if you make any changes after that, even if you save the file and run `import` again, they won't show up. To make the changes available, you will need to restart the Notebook Kernel. You can do this by using the menu bar under \"Kernel -> Restart Kernel...\".</small>\n",
    "\n",
    "A module in Python is just a text file with Python code in it. All scripts *can* be imported as modules but it makes sense to logically separate in your mind between \"library\" modules and \"script\" modules. Library modules are those which you import to get access to the code inside them. Script modules are those which you run at the terminal using `python script.py`."
   ]
  },
  {
   "cell_type": "markdown",
   "id": "fdef053c-65f4-4173-98b8-89abbfaaa51a",
   "metadata": {
    "slideshow": {
     "slide_type": "slide"
    }
   },
   "source": [
    "### Exercise 7\n",
    "> - Create a module, `morse` (so the file name must be `morse.py`), and move the `encode` function from exercise 6 into it. \n",
    "    - *Note: Make sure that you create the module in the same directory as this notebook.*\n",
    "> - Also move the definition of the dictionary `letter_to_morse` into `morse.py`.\n",
    "> - Edit your solution to exercise 6 so that it imports the new module and calls the function from the new module."
   ]
  },
  {
   "cell_type": "code",
   "execution_count": null,
   "id": "e51cc82a-9077-450b-8a40-627c94208ae5",
   "metadata": {
    "slideshow": {
     "slide_type": "skip"
    }
   },
   "outputs": [],
   "source": [
    "# Write your exercise code below.\n"
   ]
  },
  {
   "cell_type": "markdown",
   "id": "2450e4cd-129c-4f68-ab7f-5dd78e514320",
   "metadata": {
    "slideshow": {
     "slide_type": "skip"
    }
   },
   "source": [
    "[<small>answer</small>](../solutions/morse_module_encode.ipynb)"
   ]
  },
  {
   "cell_type": "markdown",
   "id": "516284f3-3313-4dea-8d23-53c5d5218c97",
   "metadata": {
    "slideshow": {
     "slide_type": "skip"
    }
   },
   "source": [
    "### Exercise 8\n",
    "> Let's add into `morse.py` a function to convert the following Morse code back to English: \n",
    "> \n",
    "> secret_message = \"- .... . .-. . / .- .-. . / ..-. .-. . . / -.-. --- --- -.- .. . ... / -.. ..- .-. .. -. --. / -- -.-- / --- ..-. ..-. .. -.-. . / .... --- ..- .-. ... /\"\n",
    ">\n",
    "> Challenge: Can you write the code to decode Morse code on your own?\n",
    "> - *Hint: You will need to invert the key-value pairs in the `letter_to_morse` dictionary and split the morse string by spaces*.\n",
    "> - This is a quite difficult task for your third week of Python, so feel free to take a look at the [solution](../solutions/morse.py) if you get stuck somewhere.\n",
    ">\n",
    "> Now write some code that imports `morse`, calls the `decode` function and decodes the secret message from the top."
   ]
  },
  {
   "cell_type": "code",
   "execution_count": null,
   "id": "3f5b797b-8de3-452b-bd77-b4fe6b394d05",
   "metadata": {
    "slideshow": {
     "slide_type": "skip"
    }
   },
   "outputs": [],
   "source": [
    "# Write your exercise code below.\n"
   ]
  },
  {
   "cell_type": "markdown",
   "id": "d5375a9b-a30d-4672-b250-315f15f51ec5",
   "metadata": {
    "slideshow": {
     "slide_type": "skip"
    }
   },
   "source": [
    "[<small>answer</small>](../solutions/morse_module_decode.ipynb)"
   ]
  },
  {
   "cell_type": "markdown",
   "id": "a141d9ab-12d5-4da2-932a-b055f81b5feb",
   "metadata": {
    "slideshow": {
     "slide_type": "skip"
    }
   },
   "source": [
    "## Testing\n",
    "\n",
    "So far we've been writing code and running it, but have you actually checked that the code is doing the right thing? Testing code is a very important part of the software development process because if you want other people to trust your work, you need to show that you've checked that your code does what you claim.\n",
    "\n",
    "There are more formal methods for software testing but we'll start with a common technique used with encoders/decoders and that is the *round-trip*. If we take a message, convert it to morse code and then convert it back, we should end up with the message we started with."
   ]
  },
  {
   "cell_type": "markdown",
   "id": "ad05e4db-ffb5-4195-a9d2-ed1339c5ceee",
   "metadata": {
    "slideshow": {
     "slide_type": "skip"
    }
   },
   "source": [
    "### Exercise 9\n",
    "> Write a short test that imports your `morse` module, encodes and then decodes a messsage and then prints to the screen whether the original and processed message are the same."
   ]
  },
  {
   "cell_type": "code",
   "execution_count": null,
   "id": "4ba12b1e-b06b-48d7-8f5b-7a0a653c8550",
   "metadata": {
    "slideshow": {
     "slide_type": "skip"
    }
   },
   "outputs": [],
   "source": [
    "# Write your exercise code below.\n"
   ]
  },
  {
   "cell_type": "markdown",
   "id": "ab75b7f9-581c-4c5e-8e9d-1bbd2f64c517",
   "metadata": {
    "slideshow": {
     "slide_type": "skip"
    }
   },
   "source": [
    "[<small>answer</small>](../solutions/morse_module_test.ipynb)"
   ]
  },
  {
   "cell_type": "markdown",
   "id": "b82c8065-84c9-4f3d-9e65-bfb0e31f7b17",
   "metadata": {
    "slideshow": {
     "slide_type": "slide"
    },
    "tags": []
   },
   "source": [
    "## [[Previous: Writing functions](./03-writing_functions.ipynb)] | [[Next: Errors and Exceptions](./05-errors_and_exceptions.ipynb)]"
   ]
  }
 ],
 "metadata": {
  "celltoolbar": "Slideshow",
  "kernelspec": {
   "display_name": "Python 3 (ipykernel)",
   "language": "python",
   "name": "python3"
  },
  "language_info": {
   "codemirror_mode": {
    "name": "ipython",
    "version": 3
   },
   "file_extension": ".py",
   "mimetype": "text/x-python",
   "name": "python",
   "nbconvert_exporter": "python",
   "pygments_lexer": "ipython3",
   "version": "3.9.12"
  }
 },
 "nbformat": 4,
 "nbformat_minor": 5
}
