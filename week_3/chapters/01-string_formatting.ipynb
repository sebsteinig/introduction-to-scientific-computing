{
 "cells": [
  {
   "cell_type": "markdown",
   "id": "1e8f87e0-5544-424a-87be-226096412f89",
   "metadata": {
    "rise": {
     "autolaunch": true
    },
    "slideshow": {
     "slide_type": "skip"
    }
   },
   "source": [
    "#### [[back to main](../week_02_workbook_python-basics.ipynb)]"
   ]
  },
  {
   "cell_type": "markdown",
   "id": "8ea191d1",
   "metadata": {
    "slideshow": {
     "slide_type": "skip"
    }
   },
   "source": [
    "# String formatting\n",
    "\n",
    "There is just one more thing that we need to introduce before we can start structuring our code."
   ]
  },
  {
   "cell_type": "markdown",
   "id": "b730c5a0-3f2b-4852-af32-54ede23c4dc3",
   "metadata": {},
   "source": [
    "Being able to print things to the screen is a fundamental part of interacting with a programming language. So far, we've kept it simple by passing the data we want to print directly to the `print` function:"
   ]
  },
  {
   "cell_type": "code",
   "execution_count": 1,
   "id": "a249b874-fa30-41d6-a222-a73e8be50b77",
   "metadata": {},
   "outputs": [
    {
     "name": "stdout",
     "output_type": "stream",
     "text": [
      "42\n"
     ]
    }
   ],
   "source": [
    "my_num = 42\n",
    "\n",
    "print(my_num)"
   ]
  },
  {
   "cell_type": "markdown",
   "id": "216e229a-7c26-4e79-ada0-c39711a1032c",
   "metadata": {},
   "source": [
    "We made things a bit nicer by using the fact that if you pass multiple arguments to `print` then it will print each of them, separated by spaces, allowing us to combine our data with a message:"
   ]
  },
  {
   "cell_type": "code",
   "execution_count": 3,
   "id": "a9cf49eb-363e-48fe-a386-96c0e2098ce3",
   "metadata": {},
   "outputs": [
    {
     "name": "stdout",
     "output_type": "stream",
     "text": [
      "My num is 42\n"
     ]
    }
   ],
   "source": [
    "my_num = 42\n",
    "\n",
    "print(\"My num is\", my_num)"
   ]
  },
  {
   "cell_type": "markdown",
   "id": "6937ab2b-9df4-4e0c-89c4-35049bce745a",
   "metadata": {},
   "source": [
    "This works perfectly well but firstly you're using the implicit space that's added by `print` as part of your sentence and secondly you're passing in two separate pieces of information where they are logically one.\n",
    "\n",
    "What we can do instead is create a single string which contains the message we want to print and put special placeholders inside it where we want our data to appear. There's a few different ways to do this in Python (an older but still valid method you may see uses `%` and another uses a `format()` function) but for this course we will use the method called *f-strings* which was introduced in Python 3.6 (released December 2016).\n",
    "\n",
    "If you put a single `f` directly in front of the string that you are creating, it will enable a special string mode which lets you place `{}` inside the string with a variable name between the `{` and the `}`:"
   ]
  },
  {
   "cell_type": "code",
   "execution_count": 4,
   "id": "f3576e5d-9055-41e7-a57b-546e6313d7ed",
   "metadata": {},
   "outputs": [
    {
     "name": "stdout",
     "output_type": "stream",
     "text": [
      "My num is 42\n"
     ]
    }
   ],
   "source": [
    "my_num = 42\n",
    "\n",
    "print(f\"My num is {my_num}\")"
   ]
  },
  {
   "cell_type": "markdown",
   "id": "af14cca9-edc7-4d4f-a74b-691db22300a2",
   "metadata": {},
   "source": [
    "You can have as many interpolations as you like:"
   ]
  },
  {
   "cell_type": "code",
   "execution_count": 5,
   "id": "e13b28e8-250c-4f38-b38a-8a1e7425d5b9",
   "metadata": {},
   "outputs": [
    {
     "name": "stdout",
     "output_type": "stream",
     "text": [
      "The answer is 42 and pi is 3.14159\n"
     ]
    }
   ],
   "source": [
    "answer = 42\n",
    "pi = 3.14159\n",
    "\n",
    "print(f\"The answer is {answer} and pi is {pi}\")"
   ]
  },
  {
   "cell_type": "markdown",
   "id": "f11b278a-7c24-458b-86fb-cf9fc997543f",
   "metadata": {},
   "source": [
    "As our variables to output get more and more complex, *f-strings* provide a much more elegant and readable way to design our print statements. We will some examples of this in the next sections."
   ]
  },
  {
   "cell_type": "markdown",
   "id": "87b16969-e81f-466f-8516-1e4fc63276d9",
   "metadata": {},
   "source": [
    "### Exercise 1\n",
    "        \n",
    "> - Copy the solution to last week's calculator challenge in the code box below and make sure it is working. You can either use your own code or copy one of the provided solutions.\n",
    "> - Change all the print statements that output the results to use *f-strings* instead of simply separating multiple arguments via commas. The output on the display should be identical for both methods.\n",
    "        "
   ]
  },
  {
   "cell_type": "markdown",
   "id": "ce3c607a-7fb9-4b1b-9714-5388f57521f5",
   "metadata": {},
   "source": [
    "[<small>answer</small>](../solutions/calculator-f-strings.ipynb)"
   ]
  },
  {
   "cell_type": "markdown",
   "id": "b82c8065-84c9-4f3d-9e65-bfb0e31f7b17",
   "metadata": {
    "slideshow": {
     "slide_type": "slide"
    },
    "tags": []
   },
   "source": [
    "## [[Previous: Overview](../week_03_workbook_code_structuring.ipynb)] | [[Next: Using functions](./02-using_functions.ipynb)]"
   ]
  }
 ],
 "metadata": {
  "celltoolbar": "Slideshow",
  "kernelspec": {
   "display_name": "Python 3 (ipykernel)",
   "language": "python",
   "name": "python3"
  },
  "language_info": {
   "codemirror_mode": {
    "name": "ipython",
    "version": 3
   },
   "file_extension": ".py",
   "mimetype": "text/x-python",
   "name": "python",
   "nbconvert_exporter": "python",
   "pygments_lexer": "ipython3",
   "version": "3.9.12"
  }
 },
 "nbformat": 4,
 "nbformat_minor": 5
}
