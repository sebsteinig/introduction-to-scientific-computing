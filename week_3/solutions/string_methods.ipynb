{
 "cells": [
  {
   "cell_type": "markdown",
   "id": "64ac897b-b541-4a5f-af65-fdb67b42383e",
   "metadata": {},
   "source": [
    "## Split a string\n",
    "\n",
    "You can split any string using the [`str.split`](https://docs.python.org/3/library/stdtypes.html#str.split) function. By default it splits on spaces:"
   ]
  },
  {
   "cell_type": "code",
   "execution_count": 1,
   "id": "9f004f2d-c141-403f-bab6-da2334473f68",
   "metadata": {},
   "outputs": [
    {
     "data": {
      "text/plain": [
       "['what', 'is', 'your', 'name']"
      ]
     },
     "execution_count": 1,
     "metadata": {},
     "output_type": "execute_result"
    }
   ],
   "source": [
    "s = \"what is your name\"\n",
    "s.split()"
   ]
  },
  {
   "cell_type": "markdown",
   "id": "5ccb5827-7581-4278-a68c-e8f684984321",
   "metadata": {},
   "source": [
    "## Join a list\n",
    "\n",
    "You can join a list together by using the [`str.join`](https://docs.python.org/3/library/stdtypes.html#str.join) function. Note that in front of the dot you put the string that you want to join *with*, and you pass the list you want to join *together* as an argument."
   ]
  },
  {
   "cell_type": "code",
   "execution_count": 2,
   "id": "cd02eab2-c660-42a3-812a-511e708ec36d",
   "metadata": {},
   "outputs": [
    {
     "data": {
      "text/plain": [
       "'a-b-c'"
      ]
     },
     "execution_count": 2,
     "metadata": {},
     "output_type": "execute_result"
    }
   ],
   "source": [
    "l = [\"a\", \"b\", \"c\"]\n",
    "\"-\".join(l)"
   ]
  },
  {
   "cell_type": "code",
   "execution_count": 3,
   "id": "08d81017-79c2-46b0-acb8-110355618c62",
   "metadata": {},
   "outputs": [
    {
     "data": {
      "text/plain": [
       "'a:b:c'"
      ]
     },
     "execution_count": 3,
     "metadata": {},
     "output_type": "execute_result"
    }
   ],
   "source": [
    "l = [\"a\", \"b\", \"c\"]\n",
    "\":\".join(l)"
   ]
  },
  {
   "cell_type": "code",
   "execution_count": 4,
   "id": "c97caf50-d11b-4dc8-8a1c-1f7ab1e54fb0",
   "metadata": {},
   "outputs": [
    {
     "data": {
      "text/plain": [
       "'a b c'"
      ]
     },
     "execution_count": 4,
     "metadata": {},
     "output_type": "execute_result"
    }
   ],
   "source": [
    "l = [\"a\", \"b\", \"c\"]\n",
    "\" \".join(l)"
   ]
  }
 ],
 "metadata": {
  "kernelspec": {
   "display_name": "Python 3 (ipykernel)",
   "language": "python",
   "name": "python3"
  },
  "language_info": {
   "codemirror_mode": {
    "name": "ipython",
    "version": 3
   },
   "file_extension": ".py",
   "mimetype": "text/x-python",
   "name": "python",
   "nbconvert_exporter": "python",
   "pygments_lexer": "ipython3",
   "version": "3.9.12"
  }
 },
 "nbformat": 4,
 "nbformat_minor": 5
}
