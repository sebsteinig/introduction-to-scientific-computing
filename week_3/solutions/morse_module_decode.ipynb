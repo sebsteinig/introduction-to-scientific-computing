{
 "cells": [
  {
   "cell_type": "markdown",
   "metadata": {},
   "source": [
    "We added the following decoding code to the `morse` module:"
   ]
  },
  {
   "cell_type": "markdown",
   "metadata": {
    "tags": [
     "nbval-ignore-output"
    ]
   },
   "source": [
    "```python\n",
    "# We need to invert the dictionary. This will create a dictionary\n",
    "# that can go from the morse back to the letter\n",
    "morse_to_letter = {}\n",
    "for letter in letter_to_morse:\n",
    "    morse = letter_to_morse[letter]\n",
    "    morse_to_letter[morse] = letter\n",
    "\n",
    "\n",
    "def decode(message):\n",
    "    english = []\n",
    "\n",
    "    # Now we cannot read by letter. We know that morse letters are\n",
    "    # separated by a space, so we split the morse string by spaces\n",
    "    morse_letters = message.split(\" \")\n",
    "\n",
    "    for letter in morse_letters:\n",
    "        english_letter = morse_to_letter[letter]\n",
    "        english.append(english_letter)\n",
    "\n",
    "    # Rejoin, but now we don't need to add any spaces\n",
    "    english_message = \"\".join(english)\n",
    "    \n",
    "    return english_message\n",
    "```"
   ]
  },
  {
   "cell_type": "code",
   "execution_count": null,
   "metadata": {
    "tags": [
     "nbval-ignore-output"
    ]
   },
   "outputs": [],
   "source": [
    "import morse\n",
    "\n",
    "secret_message = \"- .... . .-. . / .- .-. . / ..-. .-. . . / -.-. --- --- -.- .. . ... / -.. ..- .-. .. -. --. / -- -.-- / --- ..-. ..-. .. -.-. . / .... --- ..- .-. ... /\"\n",
    "\n",
    "decoded_message = morse.decode(secret_message)\n",
    "\n",
    "print(decoded_message)"
   ]
  }
 ],
 "metadata": {
  "celltoolbar": "Tags",
  "kernelspec": {
   "display_name": "Python 3 (ipykernel)",
   "language": "python",
   "name": "python3"
  },
  "language_info": {
   "codemirror_mode": {
    "name": "ipython",
    "version": 3
   },
   "file_extension": ".py",
   "mimetype": "text/x-python",
   "name": "python",
   "nbconvert_exporter": "python",
   "pygments_lexer": "ipython3",
   "version": "3.9.12"
  }
 },
 "nbformat": 4,
 "nbformat_minor": 4
}
