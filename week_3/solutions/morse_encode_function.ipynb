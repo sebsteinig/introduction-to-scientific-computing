{
 "cells": [
  {
   "cell_type": "markdown",
   "metadata": {},
   "source": [
    "We add a new function called `encode` which takes the exact code as before but with three changes:\n",
    "1. `def encode(message):` added to the beginning\n",
    "2. The code is indented by four spaces\n",
    "3. `return morse_message` added to the end\n",
    "\n",
    "We then call our function with `morse_message = encode(message)`"
   ]
  },
  {
   "cell_type": "code",
   "execution_count": 3,
   "metadata": {
    "tags": [
     "nbval-ignore-output"
    ]
   },
   "outputs": [
    {
     "name": "stdout",
     "output_type": "stream",
     "text": [
      "Incoming message: SOS We have hit an iceberg and need help quickly\n",
      "   Morse encoded: ... --- ... / .-- . / .... .- ...- . / .... .. - / .- -. / .. -.-. . -... . .-. --. / .- -. -.. / -. . . -.. / .... . .-.. .--. / --.- ..- .. -.-. -.- .-.. -.--\n"
     ]
    }
   ],
   "source": [
    "letter_to_morse = {'a':'.-', 'b':'-...', 'c':'-.-.', 'd':'-..', 'e':'.', 'f':'..-.', \n",
    "                   'g':'--.', 'h':'....', 'i':'..', 'j':'.---', 'k':'-.-', 'l':'.-..', 'm':'--', \n",
    "                   'n':'-.', 'o':'---', 'p':'.--.', 'q':'--.-', 'r':'.-.', 's':'...', 't':'-',\n",
    "                   'u':'..-', 'v':'...-', 'w':'.--', 'x':'-..-', 'y':'-.--', 'z':'--..',\n",
    "                   '0':'-----', '1':'.----', '2':'..---', '3':'...--', '4':'....-',\n",
    "                   '5':'.....', '6':'-....', '7':'--...', '8':'---..', '9':'----.',\n",
    "                   ' ':'/'}\n",
    "\n",
    "message = \"SOS We have hit an iceberg and need help quickly\"\n",
    "\n",
    "\n",
    "def encode(message):\n",
    "    morse = []\n",
    "\n",
    "    for letter in message:\n",
    "        letter = letter.lower()\n",
    "        morse_letter = letter_to_morse[letter]\n",
    "        morse.append(morse_letter)\n",
    "\n",
    "    morse_message = \" \".join(morse)\n",
    "    \n",
    "    return morse_message\n",
    "\n",
    "\n",
    "morse_message = encode(message)\n",
    "\n",
    "print(f\"Incoming message: {message}\")\n",
    "print(f\"   Morse encoded: {morse_message}\")"
   ]
  }
 ],
 "metadata": {
  "celltoolbar": "Tags",
  "kernelspec": {
   "display_name": "Python 3 (ipykernel)",
   "language": "python",
   "name": "python3"
  },
  "language_info": {
   "codemirror_mode": {
    "name": "ipython",
    "version": 3
   },
   "file_extension": ".py",
   "mimetype": "text/x-python",
   "name": "python",
   "nbconvert_exporter": "python",
   "pygments_lexer": "ipython3",
   "version": "3.9.12"
  }
 },
 "nbformat": 4,
 "nbformat_minor": 4
}
