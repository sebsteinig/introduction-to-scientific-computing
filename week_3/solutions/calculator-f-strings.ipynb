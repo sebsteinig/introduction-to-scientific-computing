{
 "cells": [
  {
   "cell_type": "markdown",
   "metadata": {},
   "source": [
    "Let's start with one of our previous solutions"
   ]
  },
  {
   "cell_type": "code",
   "execution_count": 1,
   "metadata": {
    "tags": [
     "nbval-ignore-output"
    ]
   },
   "outputs": [
    {
     "name": "stdout",
     "output_type": "stream",
     "text": [
      "4 * 6 is 24\n",
      "5 + 6 is 11\n",
      "457 - 75 is 382\n",
      "54 / 3 is 18.0\n",
      "4 + 6 is 10\n"
     ]
    }
   ],
   "source": [
    "with open(\"../assets/calc.txt\") as f:\n",
    "    for line in f:\n",
    "        parts = line.split()\n",
    "        lhs = int(parts[0])\n",
    "        operator = parts[1]\n",
    "        rhs = int(parts[2])\n",
    "        \n",
    "        if operator == \"+\":\n",
    "            print(line.strip(), \"is\", lhs + rhs)\n",
    "        elif operator == \"-\":\n",
    "            print(line.strip(), \"is\", lhs - rhs)\n",
    "        elif operator == \"*\":\n",
    "            print(line.strip(), \"is\", lhs * rhs)\n",
    "        elif operator == \"/\":\n",
    "            print(line.strip(), \"is\", lhs / rhs)"
   ]
  },
  {
   "cell_type": "markdown",
   "metadata": {},
   "source": [
    "We can use *f-strings* like this:"
   ]
  },
  {
   "cell_type": "code",
   "execution_count": 5,
   "metadata": {},
   "outputs": [
    {
     "name": "stdout",
     "output_type": "stream",
     "text": [
      "4 * 6 is 24\n",
      "5 + 6 is 11\n",
      "457 - 75 is 382\n",
      "54 / 3 is 18.0\n",
      "4 + 6 is 10\n"
     ]
    }
   ],
   "source": [
    "with open(\"../assets/calc.txt\") as f:\n",
    "    for line in f:\n",
    "        parts = line.split()\n",
    "        lhs = int(parts[0])\n",
    "        operator = parts[1]\n",
    "        rhs = int(parts[2])\n",
    "        \n",
    "        if operator == \"+\":\n",
    "            print(f\"{line.strip()} is {lhs + rhs}\")\n",
    "        elif operator == \"-\":\n",
    "            print(f\"{line.strip()} is {lhs - rhs}\")\n",
    "        elif operator == \"*\":\n",
    "            print(f\"{line.strip()} is {lhs * rhs}\")\n",
    "        elif operator == \"/\":\n",
    "            print(f\"{line.strip()} is {lhs / rhs}\")"
   ]
  },
  {
   "cell_type": "markdown",
   "metadata": {},
   "source": [
    "The results of both code cells should be identical."
   ]
  }
 ],
 "metadata": {
  "kernelspec": {
   "display_name": "Python 3 (ipykernel)",
   "language": "python",
   "name": "python3"
  },
  "language_info": {
   "codemirror_mode": {
    "name": "ipython",
    "version": 3
   },
   "file_extension": ".py",
   "mimetype": "text/x-python",
   "name": "python",
   "nbconvert_exporter": "python",
   "pygments_lexer": "ipython3",
   "version": "3.9.12"
  }
 },
 "nbformat": 4,
 "nbformat_minor": 4
}
