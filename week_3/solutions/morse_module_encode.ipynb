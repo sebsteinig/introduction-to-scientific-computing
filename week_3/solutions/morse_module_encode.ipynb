{
 "cells": [
  {
   "cell_type": "markdown",
   "metadata": {
    "tags": [
     "nbval-ignore-output"
    ]
   },
   "source": [
    "We created the mew `morse` module that contains the `encode` function and the `letter_to_morse` dictionary:\n",
    "\n",
    "```python\n",
    "letter_to_morse = {\n",
    "    'a':'.-', 'b':'-...', 'c':'-.-.', 'd':'-..', 'e':'.', 'f':'..-.', \n",
    "    'g':'--.', 'h':'....', 'i':'..', 'j':'.---', 'k':'-.-', 'l':'.-..', 'm':'--', \n",
    "    'n':'-.', 'o':'---', 'p':'.--.', 'q':'--.-', 'r':'.-.', 's':'...', 't':'-',\n",
    "    'u':'..-', 'v':'...-', 'w':'.--', 'x':'-..-', 'y':'-.--', 'z':'--..',\n",
    "    '0':'-----', '1':'.----', '2':'..---', '3':'...--', '4':'....-',\n",
    "    '5':'.....', '6':'-....', '7':'--...', '8':'---..', '9':'----.', ' ':'/'\n",
    "}\n",
    "\n",
    "\n",
    "def encode(message):\n",
    "    morse = []\n",
    "\n",
    "    for letter in message:\n",
    "        letter = letter.lower()\n",
    "        morse_letter = letter_to_morse[letter]\n",
    "        morse.append(morse_letter)\n",
    "\n",
    "    morse_message = \" \".join(morse)\n",
    "    \n",
    "    return morse_message\n",
    "```"
   ]
  },
  {
   "cell_type": "markdown",
   "metadata": {},
   "source": [
    "We import and use the new `morse` module like this:"
   ]
  },
  {
   "cell_type": "code",
   "execution_count": 3,
   "metadata": {
    "tags": [
     "nbval-ignore-output"
    ]
   },
   "outputs": [
    {
     "name": "stdout",
     "output_type": "stream",
     "text": [
      "Incoming message: SOS We have hit an iceberg and need help quickly\n",
      "   Morse encoded: ... --- ... / .-- . / .... .- ...- . / .... .. - / .- -. / .. -.-. . -... . .-. --. / .- -. -.. / -. . . -.. / .... . .-.. .--. / --.- ..- .. -.-. -.- .-.. -.--\n"
     ]
    }
   ],
   "source": [
    "import morse\n",
    "\n",
    "message = \"SOS We have hit an iceberg and need help quickly\"\n",
    "\n",
    "encoded_message = morse.encode(message)\n",
    "\n",
    "print(f\"Incoming message: {message}\")\n",
    "print(f\"   Morse encoded: {encoded_message}\")"
   ]
  }
 ],
 "metadata": {
  "celltoolbar": "Tags",
  "kernelspec": {
   "display_name": "Python 3 (ipykernel)",
   "language": "python",
   "name": "python3"
  },
  "language_info": {
   "codemirror_mode": {
    "name": "ipython",
    "version": 3
   },
   "file_extension": ".py",
   "mimetype": "text/x-python",
   "name": "python",
   "nbconvert_exporter": "python",
   "pygments_lexer": "ipython3",
   "version": "3.9.12"
  }
 },
 "nbformat": 4,
 "nbformat_minor": 4
}
