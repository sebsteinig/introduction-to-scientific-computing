{
 "cells": [
  {
   "cell_type": "markdown",
   "id": "1cfbb17e-218e-44b0-abb4-570df4b5237d",
   "metadata": {},
   "source": [
    "Starting from the initial code:"
   ]
  },
  {
   "cell_type": "code",
   "execution_count": 1,
   "id": "cdf78efb-3399-46cf-b724-fe740d816ebc",
   "metadata": {},
   "outputs": [
    {
     "name": "stdout",
     "output_type": "stream",
     "text": [
      "[34, 545]\n"
     ]
    }
   ],
   "source": [
    "my_list = [5, 7, 34, 5, 3, 545]\n",
    "\n",
    "big_numbers = []\n",
    "for num in my_list:\n",
    "    if num > 10:\n",
    "        big_numbers.append(num)\n",
    "\n",
    "print(big_numbers)"
   ]
  },
  {
   "cell_type": "markdown",
   "id": "e18a387d-8463-4b50-ba02-639554a62d9b",
   "metadata": {},
   "source": [
    "We pull out the middle four lines, indent them, put `def big(numbers):` in front and add `return big_numbers` to the end, paying careful attention to the indentation of the `return` statement. Finally, we update the variable name used in the function to match the argument name `numbers`:"
   ]
  },
  {
   "cell_type": "code",
   "execution_count": 2,
   "id": "3c01f617-f323-4d01-8553-1efff66372ed",
   "metadata": {},
   "outputs": [],
   "source": [
    "def big(numbers):\n",
    "    big_numbers = []\n",
    "    for num in numbers:\n",
    "        if num > 10:\n",
    "            big_numbers.append(num)\n",
    "    return big_numbers"
   ]
  },
  {
   "cell_type": "code",
   "execution_count": 3,
   "id": "b38331c6-dd30-474b-bfa9-d99999676c27",
   "metadata": {},
   "outputs": [
    {
     "name": "stdout",
     "output_type": "stream",
     "text": [
      "[34, 545]\n"
     ]
    }
   ],
   "source": [
    "my_list = [5, 7, 34, 5, 3, 545]\n",
    "\n",
    "large_numbers = big(my_list)\n",
    "\n",
    "print(large_numbers)"
   ]
  }
 ],
 "metadata": {
  "kernelspec": {
   "display_name": "Python 3 (ipykernel)",
   "language": "python",
   "name": "python3"
  },
  "language_info": {
   "codemirror_mode": {
    "name": "ipython",
    "version": 3
   },
   "file_extension": ".py",
   "mimetype": "text/x-python",
   "name": "python",
   "nbconvert_exporter": "python",
   "pygments_lexer": "ipython3",
   "version": "3.9.12"
  }
 },
 "nbformat": 4,
 "nbformat_minor": 5
}
