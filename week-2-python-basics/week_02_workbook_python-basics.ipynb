{
 "cells": [
  {
   "cell_type": "markdown",
   "id": "0b7b9a71",
   "metadata": {
    "slideshow": {
     "slide_type": "slide"
    }
   },
   "source": [
    "# Week 2: Introduction to Python\n",
    "Python is a programming language which allows us to give **instructions to the computer**. \n",
    "\n",
    "These instructions can be as simple as \"*add together these two numbers*\" or as complex as \"*give me the projected future surface warming for different anthropogenic emission scenarios*\". "
   ]
  },
  {
   "cell_type": "markdown",
   "id": "59d56063-bc9d-4b2c-876d-f6f906f4eefe",
   "metadata": {
    "slideshow": {
     "slide_type": "skip"
    }
   },
   "source": [
    "For the former we will be able to complete the task using only a single instruction but for the latter, we may have to write a larger program containing hundreds or thousands of instructions analysing multiple observational and simulated data sets."
   ]
  },
  {
   "cell_type": "markdown",
   "id": "1582be9a",
   "metadata": {
    "slideshow": {
     "slide_type": "skip"
    }
   },
   "source": [
    "Python is a well-established language, with the current version (version 3) released in 2008 and it is installed by default on nearly all modern Linux systems. Python is also available for OS X and Windows."
   ]
  },
  {
   "cell_type": "markdown",
   "id": "248a2c55",
   "metadata": {
    "slideshow": {
     "slide_type": "subslide"
    }
   },
   "source": [
    "This course is going to start from the beginning, showing you how to talk to the computer to perform simple tasks and as you become more confident and follow the later lectures, you will find that you are able to write much more complex programmes. "
   ]
  },
  {
   "cell_type": "markdown",
   "id": "f1376034",
   "metadata": {
    "slideshow": {
     "slide_type": "subslide"
    }
   },
   "source": [
    "Even though we focus on the Python language in this course, most of the concepts and strategies that you will learn here are also very similar and directly applicable to other common programming languages. The **vocabulary and grammar rules** from this course will help you to read and write other programming languages much more easily in the future and develop generic scientific computing and geographic data science strategies."
   ]
  },
  {
   "cell_type": "markdown",
   "id": "6939963b",
   "metadata": {
    "slideshow": {
     "slide_type": "skip"
    }
   },
   "source": [
    "This first lecture will introduce you to the basics of the Python programming language. \n",
    "\n",
    "You can jump ahead to any chapter with the navigation below:\n"
   ]
  },
  {
   "cell_type": "markdown",
   "id": "a5203ca7-14fa-4e5d-b023-54d379b666f7",
   "metadata": {
    "slideshow": {
     "slide_type": "subslide"
    }
   },
   "source": [
    "## Table of Contents\n",
    "\n",
    "1. #### [Installing Python](./chapters/01-installing_python.ipynb)\n",
    "2. #### [Running Python](./chapters/02-running_python.ipynb)\n",
    "3. #### [Data types](./chapters/03-data_types.ipynb)\n",
    "4. #### [Lists](./chapters/04-lists.ipynb)\n",
    "5. #### [Loops](./chapters/05-loops.ipynb)\n",
    "6. #### [Conditionals](./chapters/06-conditionals.ipynb)\n",
    "7. #### [Dictionaries](./chapters/07-dictionaries.ipynb)\n",
    "8. #### [Files](./chapters/08-files.ipynb)\n",
    "9. #### [Summary](./chapters/09-summary.ipynb)\n",
    "\n",
    "#### [Practice Questions](./chapters/99-practice_questions.ipynb)"
   ]
  },
  {
   "cell_type": "markdown",
   "id": "706c2e6b-53ca-4d31-8cac-733389b903b7",
   "metadata": {
    "slideshow": {
     "slide_type": "skip"
    }
   },
   "source": [
    "## [[Next](./chapters/01-installing_python.ipynb)]"
   ]
  }
 ],
 "metadata": {
  "celltoolbar": "Slideshow",
  "kernelspec": {
   "display_name": "Python 3 (ipykernel)",
   "language": "python",
   "name": "python3"
  },
  "language_info": {
   "codemirror_mode": {
    "name": "ipython",
    "version": 3
   },
   "file_extension": ".py",
   "mimetype": "text/x-python",
   "name": "python",
   "nbconvert_exporter": "python",
   "pygments_lexer": "ipython3",
   "version": "3.10.6"
  },
  "toc-autonumbering": false,
  "toc-showcode": false,
  "toc-showmarkdowntxt": false
 },
 "nbformat": 4,
 "nbformat_minor": 5
}
