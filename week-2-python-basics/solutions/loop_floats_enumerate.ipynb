{
 "cells": [
  {
   "cell_type": "code",
   "execution_count": 1,
   "metadata": {
    "tags": [
     "nbval-ignore-output"
    ]
   },
   "outputs": [
    {
     "name": "stdout",
     "output_type": "stream",
     "text": [
      "0 : 4.5\n",
      "1 : 3.7\n",
      "2 : 8.9\n",
      "3 : 2.3\n",
      "4 : 3.14159\n",
      "5 : 4.0\n"
     ]
    }
   ],
   "source": [
    "my_numbers = [4.5, 3.7, 8.9, 2.3, 3.14159, 4.0]\n",
    "\n",
    "for index, value in enumerate(my_numbers):\n",
    "    print(index, \":\", value)"
   ]
  },
  {
   "cell_type": "markdown",
   "metadata": {},
   "source": [
    "we can define a new variable `cumulative_sum` that is zero initially and keeps track of the cumulative sum"
   ]
  },
  {
   "cell_type": "code",
   "execution_count": 6,
   "metadata": {},
   "outputs": [
    {
     "name": "stdout",
     "output_type": "stream",
     "text": [
      "4.5\n",
      "8.2\n",
      "17.1\n",
      "19.400000000000002\n",
      "22.541590000000003\n",
      "26.541590000000003\n"
     ]
    }
   ],
   "source": [
    "my_numbers = [4.5, 3.7, 8.9, 2.3, 3.14159, 4.0]\n",
    "\n",
    "cumulative_sum = 0\n",
    "\n",
    "for index, value in enumerate(my_numbers):\n",
    "    cumulative_sum = cumulative_sum + value\n",
    "    print(cumulative_sum)"
   ]
  },
  {
   "cell_type": "markdown",
   "metadata": {},
   "source": [
    "the stride (or step) is an optional third slicing argument"
   ]
  },
  {
   "cell_type": "code",
   "execution_count": 7,
   "metadata": {},
   "outputs": [
    {
     "name": "stdout",
     "output_type": "stream",
     "text": [
      "4.5\n",
      "13.4\n",
      "16.54159\n"
     ]
    }
   ],
   "source": [
    "my_numbers = [4.5, 3.7, 8.9, 2.3, 3.14159, 4.0]\n",
    "\n",
    "cumulative_sum = 0\n",
    "\n",
    "for index, value in enumerate(my_numbers[::2]):\n",
    "    cumulative_sum = cumulative_sum + value\n",
    "    print(cumulative_sum)"
   ]
  }
 ],
 "metadata": {
  "celltoolbar": "Tags",
  "kernelspec": {
   "display_name": "Python 3 (ipykernel)",
   "language": "python",
   "name": "python3"
  },
  "language_info": {
   "codemirror_mode": {
    "name": "ipython",
    "version": 3
   },
   "file_extension": ".py",
   "mimetype": "text/x-python",
   "name": "python",
   "nbconvert_exporter": "python",
   "pygments_lexer": "ipython3",
   "version": "3.9.12"
  }
 },
 "nbformat": 4,
 "nbformat_minor": 4
}
