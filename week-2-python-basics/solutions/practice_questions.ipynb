{
 "cells": [
  {
   "cell_type": "markdown",
   "id": "91000bdc-b861-4e83-8502-31419d2ce54c",
   "metadata": {},
   "source": [
    "# Answers for the practice questions"
   ]
  },
  {
   "cell_type": "markdown",
   "id": "7430e762-5e86-41aa-9639-f17efe8aabe6",
   "metadata": {},
   "source": [
    "## Exercise 1"
   ]
  },
  {
   "cell_type": "code",
   "execution_count": 1,
   "id": "664c22a5-b20a-434a-b9f1-10d0f2679afe",
   "metadata": {},
   "outputs": [
    {
     "name": "stdout",
     "output_type": "stream",
     "text": [
      "['cat', 'dog', 'elephant', 'minnow', 'beaver']\n"
     ]
    }
   ],
   "source": [
    "animal_list = [\"cat\", \"dog\", \"elephant\", \"minnow\", \"beaver\"]\n",
    "\n",
    "print(animal_list)"
   ]
  },
  {
   "cell_type": "markdown",
   "id": "7fc43020-6c20-4224-88bd-662841ecfd40",
   "metadata": {},
   "source": [
    "## Exercise 2\n",
    "\n",
    "We can pass multiple argumets to `print()`:"
   ]
  },
  {
   "cell_type": "code",
   "execution_count": 2,
   "id": "1631eb0b-3814-4794-941c-e7f2ff0f1052",
   "metadata": {
    "tags": []
   },
   "outputs": [
    {
     "name": "stdout",
     "output_type": "stream",
     "text": [
      "Species: cat\n",
      "Species: dog\n",
      "Species: elephant\n",
      "Species: minnow\n",
      "Species: beaver\n"
     ]
    }
   ],
   "source": [
    "animal_list = [\"cat\", \"dog\", \"elephant\", \"minnow\", \"beaver\"]\n",
    "\n",
    "for animal in animal_list:\n",
    "    print(\"Species:\", animal)"
   ]
  },
  {
   "cell_type": "markdown",
   "id": "0ff750d5-54ec-408a-874a-e0e314b0474e",
   "metadata": {},
   "source": [
    "## Exercise 3"
   ]
  },
  {
   "cell_type": "code",
   "execution_count": 3,
   "id": "f21c776b-019e-41ea-968a-3d93980db391",
   "metadata": {},
   "outputs": [
    {
     "name": "stdout",
     "output_type": "stream",
     "text": [
      "65\n",
      "54\n",
      "78\n",
      "66\n",
      "80\n",
      "79\n",
      "95\n"
     ]
    }
   ],
   "source": [
    "my_numbers = [65, 54, 17, 78, 66, 24, 32, 80, 79, 95]\n",
    "\n",
    "for num in my_numbers:\n",
    "    if num > 50:\n",
    "        print(num)"
   ]
  },
  {
   "cell_type": "markdown",
   "id": "4b53df85-fb16-4973-ad1e-71790a4c6229",
   "metadata": {},
   "source": [
    "## Exercise 4\n",
    "\n",
    "When creating a chain of `if`/`elif`/`else`, you should put the most specific checks first, otherwise they will be swamped by the more general checks."
   ]
  },
  {
   "cell_type": "code",
   "execution_count": 4,
   "id": "03d462c8-8157-41a0-b3a5-3abdd219144d",
   "metadata": {},
   "outputs": [
    {
     "name": "stdout",
     "output_type": "stream",
     "text": [
      "1\n",
      "2\n",
      "ook\n",
      "4\n",
      "5\n",
      "ook\n",
      "7\n",
      "8\n",
      "ook\n",
      "10\n",
      "11\n",
      "ook\n",
      "13\n",
      "14\n",
      "foo\n",
      "16\n",
      "17\n",
      "ook\n",
      "19\n",
      "20\n"
     ]
    }
   ],
   "source": [
    "for i in range(1, 21):\n",
    "    if i % 3 == 0 and i % 5 == 0:\n",
    "        print(\"foo\")\n",
    "    elif i % 3 == 0:\n",
    "        print(\"ook\")\n",
    "    else:\n",
    "        print(i)"
   ]
  },
  {
   "cell_type": "markdown",
   "id": "b5459652-a54a-4fee-bcdf-0a7d7fd84f71",
   "metadata": {},
   "source": [
    "## Exercise 5\n",
    "\n",
    "We can check multiple things in a single `if` statement by chaining them with `or` or `and`:"
   ]
  },
  {
   "cell_type": "code",
   "execution_count": 5,
   "id": "74f6e391-c526-4902-b584-852506e9c8b0",
   "metadata": {},
   "outputs": [
    {
     "name": "stdout",
     "output_type": "stream",
     "text": [
      "Sunflowers by van Gogh\n",
      "The Starry Night by van Gogh\n",
      "The Night Watch by Rembrandt\n",
      "The Two Fridas by Kahlo\n",
      "Devolved Parliament by Banksy\n"
     ]
    }
   ],
   "source": [
    "artworks = {\n",
    "    \"Sunflowers\": \"van Gogh\",\n",
    "    \"The Starry Night\": \"van Gogh\",\n",
    "    \"The Night Watch\": \"Rembrandt\",\n",
    "    \"The Two Fridas\": \"Kahlo\",\n",
    "    \"Balloon Girl\": \"Banksy\",\n",
    "    \"Devolved Parliament\": \"Banksy\",\n",
    "    \"Going to Work\": \"Lowry\",\n",
    "}\n",
    "\n",
    "for artwork, artist in artworks.items():\n",
    "    if \"h\" in artist or len(artwork) > 13:\n",
    "        print(artwork, \"by\", artist)"
   ]
  },
  {
   "cell_type": "markdown",
   "id": "e3011444-ea32-4662-af31-18e8ad107a1a",
   "metadata": {},
   "source": [
    "## Exercise 6\n",
    "\n",
    "You cannot have repeated keys in a dictionary so we need some way of relating the same key with multiple values. This is best done with a list as the value.\n",
    "\n",
    "Even if an artist has only one painting, we still use a list. This is becasue it allows any code which reads the values to *know* that it will always get a list, rather than sometimes a list, sometimes a string."
   ]
  },
  {
   "cell_type": "code",
   "execution_count": 6,
   "id": "416f2b30-3f14-4c84-9072-093af1e493ec",
   "metadata": {},
   "outputs": [
    {
     "name": "stdout",
     "output_type": "stream",
     "text": [
      "The Starry Night by van Gogh\n",
      "Balloon Girl by Banksy\n",
      "Devolved Parliament by Banksy\n"
     ]
    }
   ],
   "source": [
    "gallery = {\n",
    "    \"van Gogh\": [\"Sunflowers\", \"The Starry Night\"],\n",
    "    \"Rembrandt\": [\"The Night Watch\"],\n",
    "    \"Kahlo\": [\"The Two Fridas\"],\n",
    "    \"Banksy\": [\"Balloon Girl\", \"Devolved Parliament\"],\n",
    "    \"Lowry\": [\"Going to Work\"],\n",
    "}\n",
    "\n",
    "for artist, paintings in gallery.items():\n",
    "    if len(paintings) > 1:\n",
    "        for painting in paintings:\n",
    "            if len(painting.split()) > 1:\n",
    "                print(painting, \"by\", artist)"
   ]
  },
  {
   "cell_type": "markdown",
   "id": "2843ca6e-3ed8-4391-ae0b-242e75751918",
   "metadata": {},
   "source": [
    "## Exercise 7"
   ]
  },
  {
   "cell_type": "code",
   "execution_count": 7,
   "id": "ec557148-fb90-45e8-998d-0572e296e8fe",
   "metadata": {},
   "outputs": [
    {
     "name": "stdout",
     "output_type": "stream",
     "text": [
      "{'to': 2, 'be': 2, 'or': 1, 'not': 1}\n"
     ]
    }
   ],
   "source": [
    "word_list = [\"to\", \"be\", \"or\", \"not\", \"to\", \"be\"]\n",
    "\n",
    "word_counts = {}\n",
    "\n",
    "for word in word_list:\n",
    "    if word in word_counts:\n",
    "        word_counts[word] += 1\n",
    "    else:\n",
    "        word_counts[word] = 1\n",
    "\n",
    "print(word_counts)"
   ]
  },
  {
   "cell_type": "markdown",
   "id": "3327900f-2c35-46f2-bd46-bb50e6cf47b4",
   "metadata": {},
   "source": [
    "## Exercise 8\n",
    "\n",
    "Put the following into `words.txt`:"
   ]
  },
  {
   "cell_type": "code",
   "execution_count": 7,
   "id": "d7fcc9af-c135-4179-b0f8-2100f9468f17",
   "metadata": {},
   "outputs": [
    {
     "name": "stdout",
     "output_type": "stream",
     "text": [
      "be\n",
      "to\n",
      "be\n",
      "or\n",
      "not\n",
      "to\n",
      "{'to': 2, 'be': 2, 'or': 1, 'not': 1}\n"
     ]
    }
   ],
   "source": [
    "word_counts = {}\n",
    "\n",
    "with open(\"../assets/words.txt\") as words_file:\n",
    "    for line in words_file:\n",
    "        word = line.strip()\n",
    "        if word in word_counts:\n",
    "            word_counts[word] += 1\n",
    "        else:\n",
    "            word_counts[word] = 1\n",
    "\n",
    "print(word_counts)"
   ]
  },
  {
   "cell_type": "code",
   "execution_count": null,
   "id": "32cc4e06",
   "metadata": {},
   "outputs": [],
   "source": []
  }
 ],
 "metadata": {
  "kernelspec": {
   "display_name": "Python 3 (ipykernel)",
   "language": "python",
   "name": "python3"
  },
  "language_info": {
   "codemirror_mode": {
    "name": "ipython",
    "version": 3
   },
   "file_extension": ".py",
   "mimetype": "text/x-python",
   "name": "python",
   "nbconvert_exporter": "python",
   "pygments_lexer": "ipython3",
   "version": "3.9.12"
  }
 },
 "nbformat": 4,
 "nbformat_minor": 5
}
