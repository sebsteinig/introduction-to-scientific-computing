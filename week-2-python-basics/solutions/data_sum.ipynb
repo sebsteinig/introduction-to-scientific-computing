{
 "cells": [
  {
   "cell_type": "markdown",
   "metadata": {},
   "source": [
    "We start by defining an integer, `total` to be zero before the loop. Inside the loop we add the line of code `total += number` which increases the variable `total` by the value in the variable `number`.\n",
    "\n",
    "Finally we print the total:"
   ]
  },
  {
   "cell_type": "code",
   "execution_count": 2,
   "metadata": {
    "tags": [
     "nbval-ignore-output"
    ]
   },
   "outputs": [
    {
     "name": "stdout",
     "output_type": "stream",
     "text": [
      "Sum of all values is: 460\n"
     ]
    }
   ],
   "source": [
    "total = 0\n",
    "\n",
    "with open(\"../assets/data.txt\") as f:\n",
    "    for line in f:\n",
    "        number = int(line)\n",
    "        total += number\n",
    "\n",
    "print(\"Sum of all values is:\", total)"
   ]
  },
  {
   "cell_type": "code",
   "execution_count": null,
   "metadata": {},
   "outputs": [],
   "source": []
  }
 ],
 "metadata": {
  "celltoolbar": "Tags",
  "kernelspec": {
   "display_name": "Python 3 (ipykernel)",
   "language": "python",
   "name": "python3"
  },
  "language_info": {
   "codemirror_mode": {
    "name": "ipython",
    "version": 3
   },
   "file_extension": ".py",
   "mimetype": "text/x-python",
   "name": "python",
   "nbconvert_exporter": "python",
   "pygments_lexer": "ipython3",
   "version": "3.9.12"
  }
 },
 "nbformat": 4,
 "nbformat_minor": 4
}
