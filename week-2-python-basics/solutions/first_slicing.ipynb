{
 "cells": [
  {
   "cell_type": "markdown",
   "metadata": {},
   "source": [
    "We make a list and then select a few slices of it:"
   ]
  },
  {
   "cell_type": "code",
   "execution_count": 7,
   "metadata": {},
   "outputs": [
    {
     "name": "stdout",
     "output_type": "stream",
     "text": [
      "['green', 5.3]\n",
      "[5.3, 'house']\n",
      "[3]\n",
      "[5.3, 'house', 100]\n",
      "[3, 'green', 'house', 1]\n",
      "['green', 5.3, 'house', 100, 1]\n",
      "[3, 5]\n"
     ]
    }
   ],
   "source": [
    "my_list = [3, 5, \"green\", 5.3, \"house\", 100, 1]\n",
    "\n",
    "\n",
    "print(my_list[3:-2])\n",
    "print(my_list[0:1])\n",
    "print(my_list[-4:-1])\n",
    "print(my_list[::2])\n",
    "print(my_list[2:])\n",
    "print(my_list[:2])"
   ]
  },
  {
   "cell_type": "markdown",
   "metadata": {},
   "source": [
    "This selects everything from the number 2 index up to, but not including the number 4 index, i.e. the 2 and 3 indexes:\n",
    "\n",
    "```python\n",
    "[2:4]\n",
    "```\n",
    "\n",
    "This starts at index 3 and goe as far as index -2 (which is the same as index 5 in this list):\n",
    "\n",
    "```python\n",
    "[3:-2]\n",
    "```\n",
    "\n",
    "This starts at the beginning of the list and stops before index 1, giving us a list with just one item:\n",
    "\n",
    "```python\n",
    "[0:1]\n",
    "```\n",
    "\n",
    "This starts at index -4 (i.e. index 3) and goes until index -1 (i.e. index 6):\n",
    "\n",
    "```python\n",
    "[-4:-1]\n",
    "```\n",
    "\n",
    "This starts at index 0 but onlys selects every other element:\n",
    "\n",
    "```python\n",
    "[::2]\n",
    "```\n",
    "\n",
    "\n",
    "This starts at index 2 and goes until the end:\n",
    "\n",
    "```python\n",
    "[2:]\n",
    "```\n",
    "\n",
    "This starts at index 0 and goes up to, but not including the number 2 index:\n",
    "\n",
    "```python\n",
    "[:2]\n",
    "```"
   ]
  },
  {
   "cell_type": "code",
   "execution_count": null,
   "metadata": {},
   "outputs": [],
   "source": []
  }
 ],
 "metadata": {
  "kernelspec": {
   "display_name": "Python 3 (ipykernel)",
   "language": "python",
   "name": "python3"
  },
  "language_info": {
   "codemirror_mode": {
    "name": "ipython",
    "version": 3
   },
   "file_extension": ".py",
   "mimetype": "text/x-python",
   "name": "python",
   "nbconvert_exporter": "python",
   "pygments_lexer": "ipython3",
   "version": "3.9.12"
  }
 },
 "nbformat": 4,
 "nbformat_minor": 4
}
