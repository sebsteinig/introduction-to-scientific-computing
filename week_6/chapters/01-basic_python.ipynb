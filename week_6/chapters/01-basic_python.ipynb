{
 "cells": [
  {
   "cell_type": "markdown",
   "id": "e057e088-de06-4266-9959-eb42894dbbb4",
   "metadata": {
    "slideshow": {
     "slide_type": "skip"
    }
   },
   "source": [
    "#### [[back to main](../week_02_workbook_python-basics.ipynb)]"
   ]
  },
  {
   "cell_type": "markdown",
   "id": "f7fbdd2a",
   "metadata": {
    "slideshow": {
     "slide_type": "slide"
    }
   },
   "source": [
    "# weeks 2-3: Python basics\n",
    "\n",
    "Python is a high-level programming language which allows us to give **instructions to the computer**. We spent the first two weeks learning the \"vocabulary\" and \"grammer\" rules of Python to pass these instructions to the computer.\n",
    "\n",
    "## Running Python\n",
    "You can run Python code in many different ways, each with their own advantages and disadvantages. In this course we learn about and use the two most common ways:\n",
    "\n",
    "1. Write a dedicated script file (\\*.py) and run it on the command line\n",
    "2. Work in interactive Jupyter Notebooks \n"
   ]
  },
  {
   "cell_type": "markdown",
   "id": "0c41e376-38f3-4a19-8974-83c471581490",
   "metadata": {},
   "source": [
    "## Data types"
   ]
  },
  {
   "cell_type": "markdown",
   "id": "f0bbab18-e905-4f4c-9433-4692d7e3bddd",
   "metadata": {},
   "source": [
    "Every variable in our code is assigned to a specific data type. Python can identify the data type of our variable automatically (implict declaration). There are many more data. types than what we covered in this course, but the most important ones are:\n",
    "\n",
    "- Text type: `str`\n",
    "- Numeric types: `int`, `float`\n",
    "- Sequencce types: `list`, `range`, `tuple`\n",
    "- Mapping type: `dict`\n",
    "- Boolean type: `bool`\n",
    "\n",
    "You can find more data types and explanation in the [official documentation](https://docs.python.org/3/library/stdtypes.html#). "
   ]
  },
  {
   "cell_type": "markdown",
   "id": "48cad5b8-e4f7-4140-9722-0210be920fb8",
   "metadata": {},
   "source": [
    "## Code Structuring"
   ]
  },
  {
   "cell_type": "markdown",
   "id": "63a03132-d3fe-4cb8-ae82-f6026e1ffbe0",
   "metadata": {},
   "source": [
    "### Control flow\n",
    "By default, a Python programme will be executed line-by-line from the top to the bottom. We learned several techniques to change the [control flow](https://docs.python.org/3/tutorial/controlflow.html) (i.e. the order in which the code executes), most importantly:\n"
   ]
  },
  {
   "cell_type": "markdown",
   "id": "77ee5e48-8d79-4dfa-a23d-46e331b19d44",
   "metadata": {},
   "source": [
    "#### Branches\n",
    "You can use `if` statements to flag parts of your code that will only be executed if a certain condition holds. The basic syntax looks like this:\n",
    "```python\n",
    "if expression:\n",
    "    statements\n",
    "elif expression:\n",
    "    statements\n",
    "...\n",
    "else:\n",
    "    statements\n",
    "```"
   ]
  },
  {
   "cell_type": "markdown",
   "id": "f4af709e-b8d6-436c-9935-273edd5ed9ca",
   "metadata": {},
   "source": [
    "#### Loops"
   ]
  },
  {
   "cell_type": "markdown",
   "id": "3bdfc819-26f1-405e-b327-d965ba63a26d",
   "metadata": {},
   "source": [
    "You can repeat certain parts of your code with a `for` loop over an `iterable` with:\n",
    "```python\n",
    "for element in iterable:\n",
    "    statement \n",
    "```"
   ]
  },
  {
   "cell_type": "markdown",
   "id": "3ce9ab24-af69-4601-855e-59d9fdacc6f7",
   "metadata": {},
   "source": [
    "We can use various different iterables for our loops, e.g.:\n",
    "\n",
    "- `list`: the items in the list\n",
    "- `str`: the characters in the string\n",
    "- `enumerate()`: a pair of the index of the item and the item itself\n",
    "- `dict`: the keys of the dictionary\n",
    "- `dict.keys()`: the keys from the dictionary\n",
    "- `dict.values()`: the values from the dictionary\n",
    "- `dict.items()`: the key-value pairs from the dictionary\n",
    "- `numpy` arrays"
   ]
  },
  {
   "cell_type": "markdown",
   "id": "6b29954a-9408-4af6-baf2-ec2fc6cd31f8",
   "metadata": {
    "tags": []
   },
   "source": [
    "### Code modularisation\n",
    "Our code can get long and complicated very quickly. Modularisation is a technique to divide our code into smaller, independent units. These units can be easily reused, maintained and will make it easier to share our code with other people. Some concepts that can help us with this goal are:"
   ]
  },
  {
   "cell_type": "markdown",
   "id": "f1196327-ea44-4ec7-9cc1-7efdbd4cb202",
   "metadata": {},
   "source": [
    "#### Functions\n",
    "A specific block of code that will only be executed once it is called. This helps to make code reusable within scripts. We can pass multiple arguments as information into a function. Variables that are created within a function are not available outside of it but must be explicitly returned. It is good practice to start a function with a docstring (in triple quotes) to briefly explain what the function does. The basic syntax looks like this:\n",
    "\n",
    "```python\n",
    "def myFunction(arg1, arg2, ...):\n",
    "    \"\"\"docstring\"\"\"\n",
    "    statement\n",
    "    return result\n",
    "```"
   ]
  },
  {
   "cell_type": "markdown",
   "id": "0148ac64-3490-4b31-91e0-d73e162140d0",
   "metadata": {},
   "source": [
    "#### Modules\n",
    "Functions are a step in the right direction but they still have the problem that to use functions from one script in another you'll have to copy and paste them over. The answer to this is to move the functions to a common location which both scripts can access. The Python solution for this are *modules*. In this way we can use modules from the Python standard library, or we can create our own modules and share them with others. Some example usage looks like:\n",
    "```python\n",
    "# use built-in \"math\" module\n",
    "from math import sqrt\n",
    "sqrt(25)\n",
    "\n",
    "# load all functions from \"myFunctions.py\" in same directory\n",
    "import myModule\n",
    "\n",
    "# and use them with\n",
    "myModule.myFunction()\n",
    "```"
   ]
  },
  {
   "cell_type": "markdown",
   "id": "9f66a6ee-6fd2-4ead-a2b2-c3d0209422af",
   "metadata": {},
   "source": [
    "#### Exceptions\n",
    "*Exceptions* are Python's error-handling system. They're not just there to tell you off, a good error message is to tell you that the computer has got into a situation where it doesn't know what to do and is asking you, the programmer, to help it by giving more information. We can raise different [types of exceptions](http://docs.python.org/library/exceptions.html) within our code and functions to produce error message which the person calling the code *cannot* ignore. This is very useful as it helps prevent writing incorrect code and becomes especially important when we share our code with others."
   ]
  },
  {
   "cell_type": "markdown",
   "id": "85c78787-3491-407e-8992-9ec251edc4d4",
   "metadata": {
    "slideshow": {
     "slide_type": "skip"
    }
   },
   "source": [
    "## [[Previous](../week_06_recap_and_assessment_1.ipynb)] | [[Next](./02-numpy.ipynb)]"
   ]
  }
 ],
 "metadata": {
  "celltoolbar": "Slideshow",
  "kernelspec": {
   "display_name": "Python 3 (ipykernel)",
   "language": "python",
   "name": "python3"
  },
  "language_info": {
   "codemirror_mode": {
    "name": "ipython",
    "version": 3
   },
   "file_extension": ".py",
   "mimetype": "text/x-python",
   "name": "python",
   "nbconvert_exporter": "python",
   "pygments_lexer": "ipython3",
   "version": "3.10.6"
  }
 },
 "nbformat": 4,
 "nbformat_minor": 5
}
