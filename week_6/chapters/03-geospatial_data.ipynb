{
 "cells": [
  {
   "cell_type": "markdown",
   "id": "e057e088-de06-4266-9959-eb42894dbbb4",
   "metadata": {
    "slideshow": {
     "slide_type": "skip"
    }
   },
   "source": [
    "#### [[back to main](../week_06_recap_and_assessment_1.ipynb)]"
   ]
  },
  {
   "cell_type": "markdown",
   "id": "f7fbdd2a",
   "metadata": {
    "slideshow": {
     "slide_type": "slide"
    }
   },
   "source": [
    "# week 5: Analysing geospatial datasets \n",
    "\n",
    "We started to expand the basic Python functionality of the previous two weeks with popular third-party modules that specifically address our need to generate or analyse large amounts of numeric data. [NumPy](https://numpy.org/doc/stable/user/absolute_beginners.html) (short for Numerical Python and pronouced *num-pea* or *num-pie*) is a fundamental Python package for numerical programming. Any time you have collections of numbers, either one-, two- or more dimensional, then NumPy is likely to help you out. It provides you with a large suite of tools, algorithms and techniques. "
   ]
  },
  {
   "cell_type": "markdown",
   "id": "b0ccafb8-954e-4a11-ad6a-d6351d15e48b",
   "metadata": {},
   "source": [
    "![](../assets/vector-raster.png) "
   ]
  },
  {
   "cell_type": "markdown",
   "id": "dadf53a7-f51f-41a0-a0ce-844f322e279b",
   "metadata": {},
   "source": [
    "## vector data"
   ]
  },
  {
   "cell_type": "code",
   "execution_count": null,
   "id": "2fc77751-d299-43cd-8750-b147650e4667",
   "metadata": {},
   "outputs": [],
   "source": []
  },
  {
   "cell_type": "code",
   "execution_count": null,
   "id": "ca78fe52-00b0-4876-bfeb-a9f191e40c47",
   "metadata": {},
   "outputs": [],
   "source": []
  },
  {
   "cell_type": "code",
   "execution_count": null,
   "id": "b02c132e-bbc3-4aea-91f1-c228e1010f1e",
   "metadata": {},
   "outputs": [],
   "source": []
  },
  {
   "cell_type": "markdown",
   "id": "810b1d27-3ba5-48a0-8897-39d1f1994c17",
   "metadata": {},
   "source": [
    "## raster data"
   ]
  },
  {
   "cell_type": "code",
   "execution_count": null,
   "id": "6e022f53-fd6a-4906-aaa3-fa048c57e7fc",
   "metadata": {},
   "outputs": [],
   "source": []
  },
  {
   "cell_type": "code",
   "execution_count": null,
   "id": "5b886960-a8de-4c12-a1ba-9e2c6060b26f",
   "metadata": {},
   "outputs": [],
   "source": []
  },
  {
   "cell_type": "markdown",
   "id": "85c78787-3491-407e-8992-9ec251edc4d4",
   "metadata": {
    "slideshow": {
     "slide_type": "skip"
    }
   },
   "source": [
    "## [[Previous: NumPy](./02-NumPy.ipynb)] | [[Next: Xarray exercise](./04-xarray_exercise.ipynb)]"
   ]
  }
 ],
 "metadata": {
  "celltoolbar": "Slideshow",
  "kernelspec": {
   "display_name": "Python 3 (ipykernel)",
   "language": "python",
   "name": "python3"
  },
  "language_info": {
   "codemirror_mode": {
    "name": "ipython",
    "version": 3
   },
   "file_extension": ".py",
   "mimetype": "text/x-python",
   "name": "python",
   "nbconvert_exporter": "python",
   "pygments_lexer": "ipython3",
   "version": "3.10.6"
  }
 },
 "nbformat": 4,
 "nbformat_minor": 5
}
