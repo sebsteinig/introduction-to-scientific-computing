{
 "cells": [
  {
   "cell_type": "markdown",
   "id": "e057e088-de06-4266-9959-eb42894dbbb4",
   "metadata": {
    "slideshow": {
     "slide_type": "skip"
    }
   },
   "source": [
    "#### [[back to main](../week_02_workbook_python-basics.ipynb)]"
   ]
  },
  {
   "cell_type": "markdown",
   "id": "f7fbdd2a",
   "metadata": {
    "slideshow": {
     "slide_type": "slide"
    }
   },
   "source": [
    "# weeks 4: Numerical Python\n",
    "\n",
    "Python is a high-level programming language which allows us to give **instructions to the computer**. We spent the first two weeks learning the \"vocabulary\" and \"grammer\" rules of Python to pass these instructions to the computer.\n",
    "\n",
    "## Running Python\n",
    "You can run Python code in many different ways, each with their own advantages and disadvantages. In this course we learn about and use the two most common ways:\n",
    "\n",
    "1. Write a dedicated script file (\\*.py) and run it on the command line\n",
    "2. Work in interactive Jupyter Notebooks \n"
   ]
  },
  {
   "cell_type": "markdown",
   "id": "85c78787-3491-407e-8992-9ec251edc4d4",
   "metadata": {
    "slideshow": {
     "slide_type": "skip"
    }
   },
   "source": [
    "## [[Previous](../week_06_recap_and_assessment_1.ipynb)] | [[Next](./02-numpy.ipynb)]"
   ]
  }
 ],
 "metadata": {
  "celltoolbar": "Slideshow",
  "kernelspec": {
   "display_name": "Python 3 (ipykernel)",
   "language": "python",
   "name": "python3"
  },
  "language_info": {
   "codemirror_mode": {
    "name": "ipython",
    "version": 3
   },
   "file_extension": ".py",
   "mimetype": "text/x-python",
   "name": "python",
   "nbconvert_exporter": "python",
   "pygments_lexer": "ipython3",
   "version": "3.10.6"
  }
 },
 "nbformat": 4,
 "nbformat_minor": 5
}
