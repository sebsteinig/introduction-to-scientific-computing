{
 "cells": [
  {
   "cell_type": "markdown",
   "id": "76e240bc-160d-489c-8a12-bd680d09f8f0",
   "metadata": {
    "slideshow": {
     "slide_type": "slide"
    }
   },
   "source": [
    "# Week 6: Unit review and intro to assessment 1\n",
    "Rather than introducing more new content, we will take some time today to consolidate the concepts we discussed so far in the first half of the unit. Particular focus will be on working through the solutions to the xarray homework exercise from last week. We will finally introduce the formalities and motiviation around the first assessment, where you will apply these basic Python programming and data analysis concepts to quantify recent heat records in the UK and worldwide."
   ]
  },
  {
   "cell_type": "markdown",
   "id": "a5203ca7-14fa-4e5d-b023-54d379b666f7",
   "metadata": {
    "slideshow": {
     "slide_type": "slide"
    }
   },
   "source": [
    "## Table of Contents\n",
    "\n",
    "1. #### [Basic Python](./chapters/01-basic_python.ipynb)\n",
    "2. #### [NumPy](./chapters/02-numpy.ipynb)\n",
    "3. #### [Geospatial data](./chapters/03-geospatial_data.ipynb)\n",
    "4. #### [Xarray exercise](./chapters/04-xarray_exercise.ipynb)\n",
    "5. #### [Cartopy maps](./chapters/05-cartopy.ipynb)\n",
    "6. #### [Introduction to assessment 1](./chapters/06-intro_assessment.ipynb)"
   ]
  },
  {
   "cell_type": "markdown",
   "id": "706c2e6b-53ca-4d31-8cac-733389b903b7",
   "metadata": {
    "slideshow": {
     "slide_type": "skip"
    }
   },
   "source": [
    "## [[Next: Basic Python](./chapters/01-basic_python.ipynb)]"
   ]
  }
 ],
 "metadata": {
  "celltoolbar": "Slideshow",
  "kernelspec": {
   "display_name": "Python 3 (ipykernel)",
   "language": "python",
   "name": "python3"
  },
  "language_info": {
   "codemirror_mode": {
    "name": "ipython",
    "version": 3
   },
   "file_extension": ".py",
   "mimetype": "text/x-python",
   "name": "python",
   "nbconvert_exporter": "python",
   "pygments_lexer": "ipython3",
   "version": "3.10.6"
  },
  "toc-autonumbering": false,
  "toc-showcode": false,
  "toc-showmarkdowntxt": false
 },
 "nbformat": 4,
 "nbformat_minor": 5
}
