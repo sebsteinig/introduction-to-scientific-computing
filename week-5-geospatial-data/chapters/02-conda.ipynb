{
 "cells": [
  {
   "cell_type": "markdown",
   "id": "01eb97db-d589-4add-b580-3cad0856bcc1",
   "metadata": {},
   "source": [
    "# Conda environments"
   ]
  },
  {
   "cell_type": "markdown",
   "id": "7d5e87ec-ec37-486a-b08c-3315cddb3261",
   "metadata": {},
   "source": [
    "In the very first lecture, we installed the [Anaconda](https://www.anaconda.com/) software to easily start working with Python on nearly any operating system. Since then, we mainly used basic python functionality or widely used third-party packages like NumPy that were automatically installed by Anaconda.\n",
    "\n",
    "This week, we want to make use of some great Python packages that were specifically developed for our needs to handle and visualise geographical data sets. Some of them are not part of the standard (or base) environment that Anaconda created during the installation process. Luckily, Anaconda (or more specifically conda) itself provides a very convenient way of installing additional Python packages on our computer by managing additional packages and creating new [conda environments](https://conda.io/projects/conda/en/latest/user-guide/tasks/manage-environments.html#activating-an-environment)."
   ]
  },
  {
   "cell_type": "markdown",
   "id": "473183df-614d-4dce-9242-802633c86436",
   "metadata": {},
   "source": [
    "## The base environment\n",
    "A conda environment is a specific set of Python packages that we can easily create, load and switch between depending on our needs and preferences for any given task. When we installed Anaconda, it automatically created an environment called 'base' with a recent Python version and relatively large collection of the most popular third-party packages like JupyterLab, NumPy, or matplotlib. This is the environment that we used so far. \n",
    "\n",
    "You can see what kind of environments you have installed and what packages they contain in the Anaconda Navigator when you click on `Environments` on the left side below `Home`. You can select the base environment and will see a list of all installed packages on the right. When you change the dropdown menu from `Installed` to `Not installed` you will get an even longer list of packages that you that you could add to your `base` environment. But Sometimes, adding new packages might also update or change existing packages due to certain requirements of dependencies that conda has to meet in order to add new packages. This might lead to some unexpected behaviour and and  won't work at all on any UoB terminal computer. To avoid these problems, we are going to create a completely new environment specifically for this course. "
   ]
  },
  {
   "cell_type": "markdown",
   "id": "34e50343-215c-4fd4-b717-c8afa7346781",
   "metadata": {},
   "source": [
    "![](../assets/base_packages.jpg) "
   ]
  },
  {
   "cell_type": "markdown",
   "id": "f9072e18-d742-4886-a428-b47fdf25ccad",
   "metadata": {},
   "source": [
    "## Creating a new environment\n",
    "\n",
    "### Option 1: within the GUI\n",
    "You can create a new environment directly within the Anaconda Navigator environments tab by clicking on 'Create' at the bottom of your environment list. Give it a reasonable name, make sure to select the Python package (the suggested version should be fine) and click 'Create':"
   ]
  },
  {
   "cell_type": "markdown",
   "id": "4734cfb3-3e7a-4aea-9536-fa045f6a28fc",
   "metadata": {},
   "source": [
    "![](../assets/new_environment.jpg) "
   ]
  },
  {
   "cell_type": "markdown",
   "id": "05a97b9a-3508-4d40-a31e-3f979cd75ed8",
   "metadata": {},
   "source": [
    "After a couple of seconds, this should give you a bare minimum python environment. From there you could manually start to add your required packages (JupyterLab, NumPy, matplotlib, ...). Try this for a couple of packages and you will see that this is a quitee tedious process."
   ]
  },
  {
   "cell_type": "markdown",
   "id": "4e43db80-397f-4823-bb90-d5b7cc6baa2b",
   "metadata": {},
   "source": [
    "### Option 2: using the PowerShell/Terminal\n",
    "A quicker way is to create the environment directly from the command line. On Windows, open the 'PowerShell Prompt' application from the Anaconda Navigator 'Home' area. On Mac/Linux you can use the standard terminal window. All you need to do is to copy and paste the following command into your command line interface:\n",
    "\n",
    "```bash\n",
    "conda create --name myenv\n",
    "```\n",
    "\n",
    "You can choose any name you like in place of `myenv`. This will create the same minimum python environment as before (you might have to confirm some changes by typing 'y'). But the advantage is that we can extend this simple command and directly specify the packages we want to use in our new environemnt.\n",
    "\n",
    "For example, the following command:\n",
    "\n",
    "```bash\n",
    "conda create --name myenv jupyterlab numpy matplotlib \n",
    "```\n",
    "\n",
    "will also install JupterLab, NumPy and matplotlib (including theid dependencies) into the new environment. This would already be enough to follow all the exercises in this course so far."
   ]
  },
  {
   "cell_type": "markdown",
   "id": "81003d3b-5d6c-436e-929d-3b9c33e6cc2a",
   "metadata": {},
   "source": [
    "## Activating an environment\n",
    "If we want to use a specific environment for our analysis, we need to activate it. Again, we can do this both via the Anaconda Navigator or the PowerShell/Terminal.\n",
    "\n",
    "In the Navigator, go to the 'Environments' tab, click on the green and white play button and select 'Open with Jupyter Notebook'. Rememebr, you can switch between the Notebook and Lab environment by simply changing the URL from 'tree' to 'lab'."
   ]
  },
  {
   "cell_type": "markdown",
   "id": "1e1b6eab-498d-41a7-b6f8-6e7d4c06b9be",
   "metadata": {},
   "source": [
    "![](../assets/activate_environment.jpg) "
   ]
  },
  {
   "cell_type": "markdown",
   "id": "6fc8b3eb-99e2-4d06-b347-56e5125bcc48",
   "metadata": {},
   "source": [
    "or you can use the PowerShell/Terminal again to type:\n",
    "    \n",
    "```bash\n",
    "conda activate myenv\n",
    "jupyter lab\n",
    "```"
   ]
  },
  {
   "cell_type": "markdown",
   "id": "070d231d-6035-43cf-b517-6cab402574e7",
   "metadata": {},
   "source": [
    "## Adding packages to an environment"
   ]
  },
  {
   "cell_type": "markdown",
   "id": "33329fa9-116d-4f68-bcb4-814160637eeb",
   "metadata": {},
   "source": [
    "Assume you created a new environment with a list of your favourite packages. During your analysis you notice that you need an additional package to run a specific function. The easiest way to install this is to open the Anaconda Navigator, click the green and white button next to your environment and seletc 'Open Terminal'. On the command line, you can then type:\n",
    "\n",
    "```bash\n",
    "conda create --name myenv -c conda-forge jupyterlab numpy matplotlib \n",
    "```\n",
    "\n",
    "You don't need to restart Jupyter Lab and can immediatley import the package to your notebook."
   ]
  },
  {
   "cell_type": "markdown",
   "id": "078129d5-79fb-4410-a6a1-817f1b4f5090",
   "metadata": {},
   "source": [
    "## conda channels\n",
    "Channels are online servers that contain the recipes on how to install individual packages on different operating systems. If you can't find a package in the standard conda channel, a good place to look for them is in the community-managed conda-forge channel. It is also a good idea to try to install all packages in an environment from the same channel to avoid [library errors](https://conda-forge.org/docs/user/tipsandtricks.html) when importing the package into python.\n",
    "\n",
    "You can explicitly install via a specific channel with the `-c conda-forge` argument, for example:\n",
    "\n",
    "```bash\n",
    "conda create --name myenv -c conda-forge jupyterlab numpy matplotlib \n",
    "```\n",
    "\n",
    "```bash\n",
    "conda install -c conda-forge package-name\n",
    "```\n"
   ]
  },
  {
   "cell_type": "markdown",
   "id": "3d20b3c2-6224-4678-9ed4-945de276678b",
   "metadata": {},
   "source": [
    "## Export/create environments from environment.yml"
   ]
  },
  {
   "cell_type": "markdown",
   "id": "3750a097-88d8-4de5-9dde-87d9a33d50ed",
   "metadata": {},
   "source": [
    "It is good practice to share information about the Python packages you used alongside your code so that others can run your programme and reproduce your results. One way to achive this is to export your dependencies into a text file that others (or yourself in the future) can use to create a conda enviroment that can run a specific piece of code. In the PowerShell/Terminal you can do this from your activated environemnt via:\n",
    "\n",
    "```bash\n",
    "conda env export --from-history > environment.yml\n",
    "```\n",
    "\n",
    "This will create the `environment.yml` file that could look similar to this:"
   ]
  },
  {
   "cell_type": "markdown",
   "id": "6cde8872-bcf4-4ba0-b36c-0d73d07bee22",
   "metadata": {},
   "source": [
    "```\n",
    "name: myenv\n",
    "channels:\n",
    "  - conda-forge\n",
    "  - defaults\n",
    "dependencies:\n",
    "  - matplotlib\n",
    "  - geopandas\n",
    "  - cartopy\n",
    "  - rasterio\n",
    "  - xarray\n",
    "  - netCDF4\n",
    "  - jupyterlab\n",
    "  - pooch\n",
    "prefix: /Users/wb19586/opt/anaconda3/envs/myenv\n",
    "```"
   ]
  },
  {
   "cell_type": "markdown",
   "id": "0fd58a0a-9b9f-44a3-8751-f3ef85de1f4b",
   "metadata": {},
   "source": [
    "The exact packages listed depend on your specific environment. You (or somebody else) can then use your `environment.yml` file to create a new conda environment with the specified packages via:\n",
    "\n",
    "```\n",
    "conda env create --name myenv -f environment.yml\n",
    "```"
   ]
  },
  {
   "cell_type": "markdown",
   "id": "2263cdad-c429-4d20-adb7-8ccbe48e085b",
   "metadata": {},
   "source": [
    "This was only a very brief introduction to conda enviroments. For more information or to look up specific command, please have a look at the [official user guide](https://conda.io/projects/conda/en/latest/user-guide/tasks/manage-environments.html#creating-an-environment-from-an-environment-yml-file)."
   ]
  },
  {
   "cell_type": "markdown",
   "id": "7e5732d5-b790-45ea-a822-43ed066e65f7",
   "metadata": {},
   "source": [
    "### Exercise 1\n",
    "> 1. Open a PowerShell or Terminal window and create a new conda environment with the following packages:\n",
    "> - jupyterlab\n",
    "> - matplotlib\n",
    "> - cartopy\n",
    "> - xarray\n",
    "> - netCDF4\n",
    "> - rasterio\n",
    "> - contextily\n",
    "> - pooch\n",
    ">\n",
    "> Use the 'conda-forge' channel for all packages to create this environment and see the 'Troubleshooting' below if you encounter any problems. \n",
    ">\n",
    "> 2. Activate the environemnt and open the Jupyter Lab interface\n",
    "> 3. Try to import NumPy into a new notebook. Does this work?\n",
    "> 4. Can you import the geopandas package?\n",
    "> 5. If not, open a terminal window in your new environment and install the [geopandas](https://geopandas.org/en/stable/getting_started/install.html) package with the command:\n",
    "> ```\n",
    "> conda install -c conda-forge geopandas\n",
    "> ```"
   ]
  },
  {
   "cell_type": "markdown",
   "id": "fac528c0-7ba7-40d4-9eaa-0b15f9c1984b",
   "metadata": {},
   "source": [
    "## Troubleshooting\n",
    "conda is a great way to handle the installation of packages and their dependencies on different operating systems. You might have noticed the long list of packages that were installed during the creation of a relatively easy environment. You really don't want to deal with those dependencies manually. Nevertheless, conda is not perfect and you might encounter some strange error messages once you start installing your own packages. What kind of problems you encounter heavily depends on your own operating system and local conda settings, so some things that work on one computer might not necessarily work exactly the same on another computer. Below are some problems I encountered on the University of Bristol Windows terminals. Please let me know if you run into any other problems and we can add them to the list:\n",
    "- In part 1 of exercise 1 you can cat the following error message if you don't specify the conda-forge channel:\n",
    "\n",
    "    <font color='red'>PackagesNotFoundError: The following packages are not available from current channels:</font>\n",
    "    \n",
    "    <font color='red'>- contextily</font>\n",
    "    \n",
    "  Try to create the environment with the `-c conda-forge` argument to fix this problem.\n",
    "    \n",
    "- Whenever you create a new environment on the Windows terminals, you will get a 'User Account Control' dialog poppinng up asking whether you want to allow 'python.exe' to make changes to your device. Simply select 'No', this does not cause any problems.\n",
    "- On the Windows terminals, conda creates any new ennvironment in the user's home directory. This allows us to use conda even with restricted user rights. But it will also mean that any environment we install will only be available on the specific computer that we installed it on. So if you want to use an environment that you created in a previous lecture, make sure to login to exactly the same terminal as before. It might also be that the files in your home directory get deleted at some point without notice, so it is best to not rely on them!"
   ]
  },
  {
   "cell_type": "markdown",
   "id": "648af12a-1b69-4067-b963-22e7a708de97",
   "metadata": {},
   "source": [
    "## [[Previous: Darts homework](./01-darts_homework.ipynb)] | [[Next: Vector data in geopandas¶](./03-vectors.ipynb)]"
   ]
  }
 ],
 "metadata": {
  "kernelspec": {
   "display_name": "Python 3 (ipykernel)",
   "language": "python",
   "name": "python3"
  },
  "language_info": {
   "codemirror_mode": {
    "name": "ipython",
    "version": 3
   },
   "file_extension": ".py",
   "mimetype": "text/x-python",
   "name": "python",
   "nbconvert_exporter": "python",
   "pygments_lexer": "ipython3",
   "version": "3.10.6"
  }
 },
 "nbformat": 4,
 "nbformat_minor": 5
}
