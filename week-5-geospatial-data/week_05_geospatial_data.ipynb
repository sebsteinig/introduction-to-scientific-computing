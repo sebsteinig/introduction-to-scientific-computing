{
 "cells": [
  {
   "cell_type": "markdown",
   "id": "0b7b9a71",
   "metadata": {
    "slideshow": {
     "slide_type": "slide"
    }
   },
   "source": [
    "# Recap of Week 4: Numerical Python"
   ]
  },
  {
   "cell_type": "markdown",
   "id": "535d165d-7e65-4886-b4f4-b7c077d9c931",
   "metadata": {},
   "source": [
    "In the last week we have covered:\n",
    "\n",
    "- NumPy arrays and how to select and manipulate them\n",
    "- Creating NumPy arrays with built-in functions\n",
    "- Performing mathematical and logical operations on NumPy arrays\n",
    "- Dealing with multiple dimensions\n",
    "- Combining arrays when they are not exactly the same shape\n",
    "- Plotting data from NumPy arrays in one and two dimensions"
   ]
  },
  {
   "cell_type": "markdown",
   "id": "fe4a11d6-fd3b-48fd-96c1-399c21f2f58c",
   "metadata": {
    "slideshow": {
     "slide_type": "skip"
    }
   },
   "source": [
    "We already started using multi-dimensional NumPy arrays for some basic analysis and plotting of gridded weather data. This week, we will take a look at some high-level geographical Python packages that all make use of NumPy under the hood, but will allow use to work with geospatial data sets on a whole new level."
   ]
  },
  {
   "cell_type": "markdown",
   "id": "76e240bc-160d-489c-8a12-bd680d09f8f0",
   "metadata": {
    "slideshow": {
     "slide_type": "slide"
    }
   },
   "source": [
    "# Week 5: Analysing geospatial datasets"
   ]
  },
  {
   "cell_type": "markdown",
   "id": "a5203ca7-14fa-4e5d-b023-54d379b666f7",
   "metadata": {
    "slideshow": {
     "slide_type": "slide"
    }
   },
   "source": [
    "## Table of Contents\n",
    "\n",
    "1. #### [Review of 'Estimating $\\pi$' homework exercise](./chapters/01-darts_homework.ipynb)\n",
    "2. #### [Conda environments](./chapters/02-conda.ipynb)\n",
    "3. #### [Vector data in geopandas](./chapters/03-vectors.ipynb)\n",
    "4. #### [Raster data in xarray](./chapters/04-rasters.ipynb)\n",
    "5. #### [Xarray exercise](./chapters/05-xarray_exercise.ipynb)\n",
    "6. #### [Cartopy maps](./chapters/06-cartopy.ipynb)"
   ]
  },
  {
   "cell_type": "markdown",
   "id": "706c2e6b-53ca-4d31-8cac-733389b903b7",
   "metadata": {
    "slideshow": {
     "slide_type": "skip"
    }
   },
   "source": [
    "## [[Next](./chapters/01-darts_homework.ipynb)]"
   ]
  }
 ],
 "metadata": {
  "celltoolbar": "Slideshow",
  "kernelspec": {
   "display_name": "Python 3 (ipykernel)",
   "language": "python",
   "name": "python3"
  },
  "language_info": {
   "codemirror_mode": {
    "name": "ipython",
    "version": 3
   },
   "file_extension": ".py",
   "mimetype": "text/x-python",
   "name": "python",
   "nbconvert_exporter": "python",
   "pygments_lexer": "ipython3",
   "version": "3.10.6"
  },
  "toc-autonumbering": false,
  "toc-showcode": false,
  "toc-showmarkdowntxt": false
 },
 "nbformat": 4,
 "nbformat_minor": 5
}
